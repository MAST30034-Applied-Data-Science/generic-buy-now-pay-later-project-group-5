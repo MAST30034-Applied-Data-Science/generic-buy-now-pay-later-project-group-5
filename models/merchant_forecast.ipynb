{
 "cells": [
  {
   "cell_type": "markdown",
   "metadata": {},
   "source": [
    "# MAST30034 Applied Data Science Project 2\n",
    "## Merchant Forecast Notebook\n",
    "\n",
    "This notebook forecasts future performances of each merchant, as features to feed into the final ranking model\n",
    "\n",
    "**Key Performance Indicators:**\n",
    "1. Average Take Amount (Take Rate * Dollar Value)\n",
    "2. Transaction Volume\n",
    "3. Average Transaction Amount"
   ]
  },
  {
   "cell_type": "code",
   "execution_count": null,
   "metadata": {},
   "outputs": [],
   "source": [
    "# Import Libraries\n",
    "# !pip3 install tqdm\n",
    "# !pip3 install pyramid-arima\n",
    "\n",
    "from pyspark.sql import SparkSession, functions as F, DataFrame\n",
    "import matplotlib.pyplot as plt\n",
    "import pandas as pd\n",
    "import numpy as np\n",
    "\n",
    "from tqdm import tqdm\n",
    "import warnings\n",
    "\n",
    "import statsmodels.api as sm\n",
    "from statsmodels.tools.sm_exceptions import ConvergenceWarning\n",
    "import pmdarima as pm\n",
    "\n",
    "# Filter out some warnings\n",
    "warnings.simplefilter('ignore', ConvergenceWarning)\n",
    "warnings.simplefilter('ignore', UserWarning)\n",
    "warnings.simplefilter('ignore', RuntimeWarning)\n",
    "\n",
    "# Create spark session\n",
    "spark = (\n",
    "    SparkSession.builder.appName(\"Merchant Foreast\")\n",
    "    .config(\"spark.sql.repl.eagerEval.enabled\", True) \n",
    "    .config(\"spark.sql.parquet.cacheMetadata\", \"true\")\n",
    "    .config(\"spark.sql.session.timeZone\", \"Etc/UTC\")\n",
    "    .config(\"spark.executor.memory\", \"2g\")\n",
    "    .config(\"spark.driver.memory\", \"4g\")\n",
    "    .getOrCreate()\n",
    ")"
   ]
  },
  {
   "cell_type": "code",
   "execution_count": 2,
   "metadata": {},
   "outputs": [
    {
     "name": "stderr",
     "output_type": "stream",
     "text": [
      "                                                                                \r"
     ]
    }
   ],
   "source": [
    "# Read in preprocessed data\n",
    "cleaned_data = spark.read.parquet('../data/curated/cleaned_data.parquet/')\n",
    "cleaned_data = cleaned_data.withColumn(\"take_amt\", F.col(\"take rate\")*F.col(\"dollar_value\"))\n",
    "\n",
    "# Group Data and transform into time series data\n",
    "ts = cleaned_data.groupBy(['merchant_abn', 'order_datetime']).agg(\n",
    "    F.mean(\"take_amt\").alias(\"mean_take_amt\"),\n",
    "    F.count(\"*\").alias(\"transaction_count\"),\n",
    "    F.avg(\"dollar_value\").alias(\"avg_transaction_amt\")\n",
    ")\n",
    "ts_pd = ts.toPandas()\n",
    "ts_pd = ts_pd.sort_values(by=['order_datetime','merchant_abn'])\n",
    "ts_pd['order_datetime'] = pd.to_datetime(ts_pd['order_datetime'])\n",
    "\n",
    "# Get the ABN's of all merchants in a set\n",
    "merchants = sorted(set(ts_pd['merchant_abn']))"
   ]
  },
  {
   "cell_type": "markdown",
   "metadata": {},
   "source": [
    "### **1. Determine Model for Forecasting**\n",
    "\n",
    "As we have time series data in hand, we will use SARIMAX (Seasonal Auto-Regressive Integrated Moving Average), an autoregressive model that uses past data to forecast future data, using lagged values $(p)$, moving average $(q)$, differencing $(d)$, and seasonality $(P,D,Q,s)$.\n",
    "\n",
    "The `SARIMAX` model takes a few hyperparameters $SARIMA(p,d,q)x(P,D,Q,s)$:\n",
    "- We set $s=7$, since the granularity of the data is daily, and the closest period is a week (7 days)\n",
    "- We use a stepwise algorithm (using AIC as selection criterion) to figure out the rest\n",
    "\n",
    "Code adapted from: https://www.machinelearningplus.com/time-series/arima-model-time-series-forecasting-python/\n"
   ]
  },
  {
   "cell_type": "code",
   "execution_count": null,
   "metadata": {},
   "outputs": [],
   "source": [
    "# Use one merchant as an example to determine model\n",
    "test_data = ts_pd.loc[ts_pd['merchant_abn']==10142254217]\n",
    "test_data = test_data.set_index('order_datetime')"
   ]
  },
  {
   "cell_type": "markdown",
   "metadata": {},
   "source": [
    "#### 1.1 Average Take Amount (take rate * dollar value)\n",
    "\n",
    "From the output, `SARIMA(1,0,0)x(2,1,0,7)` is the best model, hence we use it in our final forecasting model"
   ]
  },
  {
   "cell_type": "code",
   "execution_count": 5,
   "metadata": {},
   "outputs": [
    {
     "data": {
      "text/html": [
       "<table class=\"simpletable\">\n",
       "<caption>SARIMAX Results</caption>\n",
       "<tr>\n",
       "  <th>Dep. Variable:</th>                 <td>y</td>               <th>  No. Observations:  </th>    <td>597</td>   \n",
       "</tr>\n",
       "<tr>\n",
       "  <th>Model:</th>           <td>SARIMAX(1, 0, 0)x(2, 1, 0, 7)</td> <th>  Log Likelihood     </th> <td>-3510.170</td>\n",
       "</tr>\n",
       "<tr>\n",
       "  <th>Date:</th>                  <td>Thu, 22 Sep 2022</td>        <th>  AIC                </th> <td>7028.341</td> \n",
       "</tr>\n",
       "<tr>\n",
       "  <th>Time:</th>                      <td>19:40:08</td>            <th>  BIC                </th> <td>7045.861</td> \n",
       "</tr>\n",
       "<tr>\n",
       "  <th>Sample:</th>                        <td>0</td>               <th>  HQIC               </th> <td>7035.166</td> \n",
       "</tr>\n",
       "<tr>\n",
       "  <th></th>                            <td> - 597</td>             <th>                     </th>     <td> </td>    \n",
       "</tr>\n",
       "<tr>\n",
       "  <th>Covariance Type:</th>              <td>opg</td>              <th>                     </th>     <td> </td>    \n",
       "</tr>\n",
       "</table>\n",
       "<table class=\"simpletable\">\n",
       "<tr>\n",
       "      <td></td>        <th>coef</th>     <th>std err</th>      <th>z</th>      <th>P>|z|</th>  <th>[0.025</th>    <th>0.975]</th>  \n",
       "</tr>\n",
       "<tr>\n",
       "  <th>ar.L1</th>    <td>   -0.0867</td> <td>    0.047</td> <td>   -1.857</td> <td> 0.063</td> <td>   -0.178</td> <td>    0.005</td>\n",
       "</tr>\n",
       "<tr>\n",
       "  <th>ar.S.L7</th>  <td>   -0.6994</td> <td>    0.032</td> <td>  -22.026</td> <td> 0.000</td> <td>   -0.762</td> <td>   -0.637</td>\n",
       "</tr>\n",
       "<tr>\n",
       "  <th>ar.S.L14</th> <td>   -0.3866</td> <td>    0.033</td> <td>  -11.792</td> <td> 0.000</td> <td>   -0.451</td> <td>   -0.322</td>\n",
       "</tr>\n",
       "<tr>\n",
       "  <th>sigma2</th>   <td> 8550.4787</td> <td>  405.070</td> <td>   21.109</td> <td> 0.000</td> <td> 7756.556</td> <td> 9344.402</td>\n",
       "</tr>\n",
       "</table>\n",
       "<table class=\"simpletable\">\n",
       "<tr>\n",
       "  <th>Ljung-Box (L1) (Q):</th>     <td>0.00</td> <th>  Jarque-Bera (JB):  </th> <td>53.14</td>\n",
       "</tr>\n",
       "<tr>\n",
       "  <th>Prob(Q):</th>                <td>1.00</td> <th>  Prob(JB):          </th> <td>0.00</td> \n",
       "</tr>\n",
       "<tr>\n",
       "  <th>Heteroskedasticity (H):</th> <td>0.76</td> <th>  Skew:              </th> <td>0.49</td> \n",
       "</tr>\n",
       "<tr>\n",
       "  <th>Prob(H) (two-sided):</th>    <td>0.06</td> <th>  Kurtosis:          </th> <td>4.09</td> \n",
       "</tr>\n",
       "</table><br/><br/>Warnings:<br/>[1] Covariance matrix calculated using the outer product of gradients (complex-step)."
      ],
      "text/plain": [
       "<class 'statsmodels.iolib.summary.Summary'>\n",
       "\"\"\"\n",
       "                                     SARIMAX Results                                     \n",
       "=========================================================================================\n",
       "Dep. Variable:                                 y   No. Observations:                  597\n",
       "Model:             SARIMAX(1, 0, 0)x(2, 1, 0, 7)   Log Likelihood               -3510.170\n",
       "Date:                           Thu, 22 Sep 2022   AIC                           7028.341\n",
       "Time:                                   19:40:08   BIC                           7045.861\n",
       "Sample:                                        0   HQIC                          7035.166\n",
       "                                           - 597                                         \n",
       "Covariance Type:                             opg                                         \n",
       "==============================================================================\n",
       "                 coef    std err          z      P>|z|      [0.025      0.975]\n",
       "------------------------------------------------------------------------------\n",
       "ar.L1         -0.0867      0.047     -1.857      0.063      -0.178       0.005\n",
       "ar.S.L7       -0.6994      0.032    -22.026      0.000      -0.762      -0.637\n",
       "ar.S.L14      -0.3866      0.033    -11.792      0.000      -0.451      -0.322\n",
       "sigma2      8550.4787    405.070     21.109      0.000    7756.556    9344.402\n",
       "===================================================================================\n",
       "Ljung-Box (L1) (Q):                   0.00   Jarque-Bera (JB):                53.14\n",
       "Prob(Q):                              1.00   Prob(JB):                         0.00\n",
       "Heteroskedasticity (H):               0.76   Skew:                             0.49\n",
       "Prob(H) (two-sided):                  0.06   Kurtosis:                         4.09\n",
       "===================================================================================\n",
       "\n",
       "Warnings:\n",
       "[1] Covariance matrix calculated using the outer product of gradients (complex-step).\n",
       "\"\"\""
      ]
     },
     "execution_count": 5,
     "metadata": {},
     "output_type": "execute_result"
    }
   ],
   "source": [
    "# Seasonal - fit stepwise auto-ARIMA\n",
    "smodel_take_amt = pm.auto_arima(test_data['mean_take_amt'], start_p=1, start_q=1,\n",
    "                         test='adf',\n",
    "                         max_p=3, max_q=3, m=7,\n",
    "                         start_P=0, seasonal=True,\n",
    "                         d=None, D=1,\n",
    "                         error_action='ignore',  \n",
    "                         suppress_warnings=True, \n",
    "                         stepwise=True)\n",
    "\n",
    "smodel_take_amt.summary()"
   ]
  },
  {
   "cell_type": "markdown",
   "metadata": {},
   "source": [
    "#### 1.2 Transaction Volume \n",
    "\n",
    "From the output, `SARIMA(1,0,1)x(2,1,0,7)` is the best model, hence we use it in our final forecasting model"
   ]
  },
  {
   "cell_type": "code",
   "execution_count": 7,
   "metadata": {},
   "outputs": [
    {
     "data": {
      "text/html": [
       "<table class=\"simpletable\">\n",
       "<caption>SARIMAX Results</caption>\n",
       "<tr>\n",
       "  <th>Dep. Variable:</th>                  <td>y</td>               <th>  No. Observations:  </th>    <td>597</td>   \n",
       "</tr>\n",
       "<tr>\n",
       "  <th>Model:</th>           <td>SARIMAX(1, 0, 1)x(2, 1, [], 7)</td> <th>  Log Likelihood     </th> <td>-1560.367</td>\n",
       "</tr>\n",
       "<tr>\n",
       "  <th>Date:</th>                   <td>Thu, 22 Sep 2022</td>        <th>  AIC                </th> <td>3130.734</td> \n",
       "</tr>\n",
       "<tr>\n",
       "  <th>Time:</th>                       <td>19:41:01</td>            <th>  BIC                </th> <td>3152.635</td> \n",
       "</tr>\n",
       "<tr>\n",
       "  <th>Sample:</th>                         <td>0</td>               <th>  HQIC               </th> <td>3139.266</td> \n",
       "</tr>\n",
       "<tr>\n",
       "  <th></th>                             <td> - 597</td>             <th>                     </th>     <td> </td>    \n",
       "</tr>\n",
       "<tr>\n",
       "  <th>Covariance Type:</th>               <td>opg</td>              <th>                     </th>     <td> </td>    \n",
       "</tr>\n",
       "</table>\n",
       "<table class=\"simpletable\">\n",
       "<tr>\n",
       "      <td></td>        <th>coef</th>     <th>std err</th>      <th>z</th>      <th>P>|z|</th>  <th>[0.025</th>    <th>0.975]</th>  \n",
       "</tr>\n",
       "<tr>\n",
       "  <th>ar.L1</th>    <td>    0.7162</td> <td>    0.137</td> <td>    5.234</td> <td> 0.000</td> <td>    0.448</td> <td>    0.984</td>\n",
       "</tr>\n",
       "<tr>\n",
       "  <th>ma.L1</th>    <td>   -0.5923</td> <td>    0.154</td> <td>   -3.839</td> <td> 0.000</td> <td>   -0.895</td> <td>   -0.290</td>\n",
       "</tr>\n",
       "<tr>\n",
       "  <th>ar.S.L7</th>  <td>   -0.6458</td> <td>    0.038</td> <td>  -17.046</td> <td> 0.000</td> <td>   -0.720</td> <td>   -0.572</td>\n",
       "</tr>\n",
       "<tr>\n",
       "  <th>ar.S.L14</th> <td>   -0.3111</td> <td>    0.036</td> <td>   -8.746</td> <td> 0.000</td> <td>   -0.381</td> <td>   -0.241</td>\n",
       "</tr>\n",
       "<tr>\n",
       "  <th>sigma2</th>   <td>   11.5409</td> <td>    0.570</td> <td>   20.240</td> <td> 0.000</td> <td>   10.423</td> <td>   12.658</td>\n",
       "</tr>\n",
       "</table>\n",
       "<table class=\"simpletable\">\n",
       "<tr>\n",
       "  <th>Ljung-Box (L1) (Q):</th>     <td>0.14</td> <th>  Jarque-Bera (JB):  </th> <td>41.78</td>\n",
       "</tr>\n",
       "<tr>\n",
       "  <th>Prob(Q):</th>                <td>0.71</td> <th>  Prob(JB):          </th> <td>0.00</td> \n",
       "</tr>\n",
       "<tr>\n",
       "  <th>Heteroskedasticity (H):</th> <td>1.23</td> <th>  Skew:              </th> <td>0.51</td> \n",
       "</tr>\n",
       "<tr>\n",
       "  <th>Prob(H) (two-sided):</th>    <td>0.15</td> <th>  Kurtosis:          </th> <td>3.80</td> \n",
       "</tr>\n",
       "</table><br/><br/>Warnings:<br/>[1] Covariance matrix calculated using the outer product of gradients (complex-step)."
      ],
      "text/plain": [
       "<class 'statsmodels.iolib.summary.Summary'>\n",
       "\"\"\"\n",
       "                                     SARIMAX Results                                      \n",
       "==========================================================================================\n",
       "Dep. Variable:                                  y   No. Observations:                  597\n",
       "Model:             SARIMAX(1, 0, 1)x(2, 1, [], 7)   Log Likelihood               -1560.367\n",
       "Date:                            Thu, 22 Sep 2022   AIC                           3130.734\n",
       "Time:                                    19:41:01   BIC                           3152.635\n",
       "Sample:                                         0   HQIC                          3139.266\n",
       "                                            - 597                                         \n",
       "Covariance Type:                              opg                                         \n",
       "==============================================================================\n",
       "                 coef    std err          z      P>|z|      [0.025      0.975]\n",
       "------------------------------------------------------------------------------\n",
       "ar.L1          0.7162      0.137      5.234      0.000       0.448       0.984\n",
       "ma.L1         -0.5923      0.154     -3.839      0.000      -0.895      -0.290\n",
       "ar.S.L7       -0.6458      0.038    -17.046      0.000      -0.720      -0.572\n",
       "ar.S.L14      -0.3111      0.036     -8.746      0.000      -0.381      -0.241\n",
       "sigma2        11.5409      0.570     20.240      0.000      10.423      12.658\n",
       "===================================================================================\n",
       "Ljung-Box (L1) (Q):                   0.14   Jarque-Bera (JB):                41.78\n",
       "Prob(Q):                              0.71   Prob(JB):                         0.00\n",
       "Heteroskedasticity (H):               1.23   Skew:                             0.51\n",
       "Prob(H) (two-sided):                  0.15   Kurtosis:                         3.80\n",
       "===================================================================================\n",
       "\n",
       "Warnings:\n",
       "[1] Covariance matrix calculated using the outer product of gradients (complex-step).\n",
       "\"\"\""
      ]
     },
     "execution_count": 7,
     "metadata": {},
     "output_type": "execute_result"
    }
   ],
   "source": [
    "# Seasonal - fit stepwise auto-ARIMA\n",
    "smodel_transaction_count = pm.auto_arima(test_data['transaction_count'], start_p=1, start_q=1,\n",
    "                         test='adf',\n",
    "                         max_p=3, max_q=3, m=7,\n",
    "                         start_P=0, seasonal=True,\n",
    "                         d=None, D=1,\n",
    "                         error_action='ignore',  \n",
    "                         suppress_warnings=True, \n",
    "                         stepwise=True)\n",
    "\n",
    "smodel_transaction_count.summary()"
   ]
  },
  {
   "cell_type": "markdown",
   "metadata": {},
   "source": [
    "#### 1.3 Average Transaction Amount \n",
    "\n",
    "From the output, `SARIMA(1,0,0)x(2,1,0,7)` is the best model, hence we use it in our final forecasting model"
   ]
  },
  {
   "cell_type": "code",
   "execution_count": 9,
   "metadata": {},
   "outputs": [
    {
     "data": {
      "text/html": [
       "<table class=\"simpletable\">\n",
       "<caption>SARIMAX Results</caption>\n",
       "<tr>\n",
       "  <th>Dep. Variable:</th>                 <td>y</td>               <th>  No. Observations:  </th>    <td>597</td>   \n",
       "</tr>\n",
       "<tr>\n",
       "  <th>Model:</th>           <td>SARIMAX(1, 0, 0)x(2, 1, 0, 7)</td> <th>  Log Likelihood     </th> <td>-2660.671</td>\n",
       "</tr>\n",
       "<tr>\n",
       "  <th>Date:</th>                  <td>Thu, 22 Sep 2022</td>        <th>  AIC                </th> <td>5329.343</td> \n",
       "</tr>\n",
       "<tr>\n",
       "  <th>Time:</th>                      <td>19:41:32</td>            <th>  BIC                </th> <td>5346.863</td> \n",
       "</tr>\n",
       "<tr>\n",
       "  <th>Sample:</th>                        <td>0</td>               <th>  HQIC               </th> <td>5336.168</td> \n",
       "</tr>\n",
       "<tr>\n",
       "  <th></th>                            <td> - 597</td>             <th>                     </th>     <td> </td>    \n",
       "</tr>\n",
       "<tr>\n",
       "  <th>Covariance Type:</th>              <td>opg</td>              <th>                     </th>     <td> </td>    \n",
       "</tr>\n",
       "</table>\n",
       "<table class=\"simpletable\">\n",
       "<tr>\n",
       "      <td></td>        <th>coef</th>     <th>std err</th>      <th>z</th>      <th>P>|z|</th>  <th>[0.025</th>    <th>0.975]</th>  \n",
       "</tr>\n",
       "<tr>\n",
       "  <th>ar.L1</th>    <td>   -0.0868</td> <td>    0.047</td> <td>   -1.858</td> <td> 0.063</td> <td>   -0.178</td> <td>    0.005</td>\n",
       "</tr>\n",
       "<tr>\n",
       "  <th>ar.S.L7</th>  <td>   -0.6994</td> <td>    0.032</td> <td>  -22.029</td> <td> 0.000</td> <td>   -0.762</td> <td>   -0.637</td>\n",
       "</tr>\n",
       "<tr>\n",
       "  <th>ar.S.L14</th> <td>   -0.3865</td> <td>    0.033</td> <td>  -11.792</td> <td> 0.000</td> <td>   -0.451</td> <td>   -0.322</td>\n",
       "</tr>\n",
       "<tr>\n",
       "  <th>sigma2</th>   <td>  480.1014</td> <td>   22.742</td> <td>   21.110</td> <td> 0.000</td> <td>  435.527</td> <td>  524.676</td>\n",
       "</tr>\n",
       "</table>\n",
       "<table class=\"simpletable\">\n",
       "<tr>\n",
       "  <th>Ljung-Box (L1) (Q):</th>     <td>0.00</td> <th>  Jarque-Bera (JB):  </th> <td>53.14</td>\n",
       "</tr>\n",
       "<tr>\n",
       "  <th>Prob(Q):</th>                <td>1.00</td> <th>  Prob(JB):          </th> <td>0.00</td> \n",
       "</tr>\n",
       "<tr>\n",
       "  <th>Heteroskedasticity (H):</th> <td>0.76</td> <th>  Skew:              </th> <td>0.49</td> \n",
       "</tr>\n",
       "<tr>\n",
       "  <th>Prob(H) (two-sided):</th>    <td>0.06</td> <th>  Kurtosis:          </th> <td>4.09</td> \n",
       "</tr>\n",
       "</table><br/><br/>Warnings:<br/>[1] Covariance matrix calculated using the outer product of gradients (complex-step)."
      ],
      "text/plain": [
       "<class 'statsmodels.iolib.summary.Summary'>\n",
       "\"\"\"\n",
       "                                     SARIMAX Results                                     \n",
       "=========================================================================================\n",
       "Dep. Variable:                                 y   No. Observations:                  597\n",
       "Model:             SARIMAX(1, 0, 0)x(2, 1, 0, 7)   Log Likelihood               -2660.671\n",
       "Date:                           Thu, 22 Sep 2022   AIC                           5329.343\n",
       "Time:                                   19:41:32   BIC                           5346.863\n",
       "Sample:                                        0   HQIC                          5336.168\n",
       "                                           - 597                                         \n",
       "Covariance Type:                             opg                                         \n",
       "==============================================================================\n",
       "                 coef    std err          z      P>|z|      [0.025      0.975]\n",
       "------------------------------------------------------------------------------\n",
       "ar.L1         -0.0868      0.047     -1.858      0.063      -0.178       0.005\n",
       "ar.S.L7       -0.6994      0.032    -22.029      0.000      -0.762      -0.637\n",
       "ar.S.L14      -0.3865      0.033    -11.792      0.000      -0.451      -0.322\n",
       "sigma2       480.1014     22.742     21.110      0.000     435.527     524.676\n",
       "===================================================================================\n",
       "Ljung-Box (L1) (Q):                   0.00   Jarque-Bera (JB):                53.14\n",
       "Prob(Q):                              1.00   Prob(JB):                         0.00\n",
       "Heteroskedasticity (H):               0.76   Skew:                             0.49\n",
       "Prob(H) (two-sided):                  0.06   Kurtosis:                         4.09\n",
       "===================================================================================\n",
       "\n",
       "Warnings:\n",
       "[1] Covariance matrix calculated using the outer product of gradients (complex-step).\n",
       "\"\"\""
      ]
     },
     "execution_count": 9,
     "metadata": {},
     "output_type": "execute_result"
    }
   ],
   "source": [
    "# Seasonal - fit stepwise auto-ARIMA\n",
    "smodel_avg_transaction_amt = pm.auto_arima(test_data['avg_transaction_amt'], start_p=1, start_q=1,\n",
    "                         test='adf',\n",
    "                         max_p=3, max_q=3, m=7,\n",
    "                         start_P=0, seasonal=True,\n",
    "                         d=None, D=1,\n",
    "                         error_action='ignore',  \n",
    "                         suppress_warnings=True, \n",
    "                         stepwise=True)\n",
    "\n",
    "smodel_avg_transaction_amt.summary()"
   ]
  },
  {
   "cell_type": "markdown",
   "metadata": {},
   "source": [
    "### **2. Deploy Model for Forecasting**\n",
    "\n",
    "- For merchants with insufficient amount of data, a time series model cannot be built, hence we take the average of their data as our forecast\n",
    "- For the rest, we build 3 `SARIMA` models for each merchant on 3 key performance indicators\n",
    "    - We generate forecast for the next year (365 days, since we have about $\\leq$ 2 years of data) and average it"
   ]
  },
  {
   "cell_type": "code",
   "execution_count": 34,
   "metadata": {},
   "outputs": [
    {
     "name": "stderr",
     "output_type": "stream",
     "text": [
      "100%|██████████| 4422/4422 [00:27<00:00, 162.39it/s]\n"
     ]
    }
   ],
   "source": [
    "static_merchant = []\n",
    "for merchant in tqdm(merchants):\n",
    "    \n",
    "    merchant_data = ts_pd.loc[ts_pd['merchant_abn']==merchant]\n",
    "    merchant_data = merchant_data.set_index('order_datetime')\n",
    "    merchant_data = merchant_data.asfreq('D').fillna(0)\n",
    "\n",
    "    if(len(set(merchant_data['mean_take_amt'])) == 1 or len(set(merchant_data['transaction_count'])) == 1 or len(set(merchant_data['avg_transaction_amt'])) <= 4 ):\n",
    "        static_merchant.append(merchant)"
   ]
  },
  {
   "cell_type": "code",
   "execution_count": 39,
   "metadata": {},
   "outputs": [
    {
     "name": "stderr",
     "output_type": "stream",
     "text": [
      "100%|██████████| 4422/4422 [10:01:53<00:00,  8.17s/it]    \n"
     ]
    }
   ],
   "source": [
    "forecast = []\n",
    "\n",
    "for merchant in tqdm(merchants):\n",
    "\n",
    "    merchant_data = ts_pd.loc[ts_pd['merchant_abn']==merchant]\n",
    "    merchant_data = merchant_data.set_index('order_datetime')\n",
    "    merchant_data = merchant_data.asfreq('D').fillna(0)\n",
    "\n",
    "    if(len(merchant_data) == 1):\n",
    "        forecast.append([merchant, merchant_data['mean_take_amt'][0]/365, \n",
    "                                    merchant_data['transaction_count'][0]/365, \n",
    "                                    merchant_data['avg_transaction_amt'][0]/365])\n",
    "        continue\n",
    "    \n",
    "    if(merchant in static_merchant):\n",
    "        forecast.append([merchant, np.mean(merchant_data['mean_take_amt']), \n",
    "                                    np.mean(merchant_data['transaction_count']), \n",
    "                                    np.mean(merchant_data['avg_transaction_amt'])])\n",
    "        continue\n",
    "\n",
    "    take_amt = sm.tsa.ARIMA(merchant_data['mean_take_amt'],order=(1,0,0) , seasonal_order=(2, 1, 0, 7))\n",
    "    take_amt_fit = take_amt.fit()\n",
    "\n",
    "    transaction_count = sm.tsa.ARIMA(merchant_data['transaction_count'],order=(1,0,1) , seasonal_order=(2, 1, 0, 7))\n",
    "    transaction_count_fit = transaction_count.fit()\n",
    "\n",
    "    transaction_amt = sm.tsa.ARIMA(merchant_data['avg_transaction_amt'],order=(1,0,0) , seasonal_order=(2, 1, 0, 7))\n",
    "    transaction_amt_fit = transaction_amt.fit()\n",
    "\n",
    "    take_amt_forecast = np.mean(take_amt_fit.get_forecast(steps = 365).predicted_mean)\n",
    "    transaction_count_forecast = np.mean(transaction_count_fit.get_forecast(steps = 365).predicted_mean)\n",
    "    transaction_amt_forecast = np.mean(transaction_amt_fit.get_forecast(steps = 365).predicted_mean)\n",
    "\n",
    "    forecast.append([merchant, take_amt_forecast, transaction_count_forecast, transaction_amt_forecast])"
   ]
  },
  {
   "cell_type": "markdown",
   "metadata": {},
   "source": [
    "### **3. Output Forecast Results**"
   ]
  },
  {
   "cell_type": "code",
   "execution_count": 40,
   "metadata": {},
   "outputs": [],
   "source": [
    "pd.DataFrame(forecast, columns = ['merchant_abn', 'mean_take_amt', 'transaction_count', 'avg_transaction_amt']).to_csv('../data/curated/future_predictions.csv')"
   ]
  }
 ],
 "metadata": {
  "kernelspec": {
   "display_name": "Python 3.8.2 64-bit",
   "language": "python",
   "name": "python3"
  },
  "language_info": {
   "codemirror_mode": {
    "name": "ipython",
    "version": 3
   },
   "file_extension": ".py",
   "mimetype": "text/x-python",
   "name": "python",
   "nbconvert_exporter": "python",
   "pygments_lexer": "ipython3",
   "version": "3.8.2"
  },
  "orig_nbformat": 4,
  "vscode": {
   "interpreter": {
    "hash": "31f2aee4e71d21fbe5cf8b01ff0e069b9275f58929596ceb00d14d90e3e16cd6"
   }
  }
 },
 "nbformat": 4,
 "nbformat_minor": 2
}
