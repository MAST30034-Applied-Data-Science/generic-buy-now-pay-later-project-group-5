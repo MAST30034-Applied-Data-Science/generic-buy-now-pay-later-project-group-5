{
 "cells": [
  {
   "cell_type": "markdown",
   "metadata": {},
   "source": [
    "<h1>Creating Table for Ranking<h1>"
   ]
  },
  {
   "cell_type": "code",
   "execution_count": 2,
   "metadata": {},
   "outputs": [
    {
     "name": "stdout",
     "output_type": "stream",
     "text": [
      "22/09/25 21:09:23 WARN SparkSession: Using an existing Spark session; only runtime SQL configurations will take effect.\n"
     ]
    }
   ],
   "source": [
    "from pyspark.sql import SparkSession, functions as F\n",
    "\n",
    "spark = (\n",
    "    SparkSession.builder.appName(\"Ranking Features\")\n",
    "    .config(\"spark.sql.repl.eagerEval.enabled\", True) \n",
    "    .config(\"spark.sql.parquet.cacheMetadata\", \"true\")\n",
    "    .config(\"spark.sql.session.timeZone\", \"Etc/UTC\")\n",
    "    .config(\"spark.executor.memory\", \"2g\")\n",
    "    .config(\"spark.driver.memory\", \"4g\")\n",
    "    .getOrCreate()\n",
    ")"
   ]
  },
  {
   "cell_type": "code",
   "execution_count": 28,
   "metadata": {},
   "outputs": [],
   "source": [
    "transaction_data = spark.read.parquet('../data/curated/cleaned_data.parquet')\n",
    "merchant_fraud_rates = spark.read.csv('../data/curated/merchant_fraud_rate.csv', header=True)\n",
    "consumer_fraud_rates = spark.read.csv('../data/curated/consumer_fraud_rate.csv', header=True)\n",
    "future_profit = spark.read.csv('../data/curated/future_predictions.csv', header=True)"
   ]
  },
  {
   "cell_type": "code",
   "execution_count": 29,
   "metadata": {},
   "outputs": [],
   "source": [
    "transaction_data = transaction_data.join(consumer_fraud_rates, ['user_id'])"
   ]
  },
  {
   "cell_type": "code",
   "execution_count": 30,
   "metadata": {},
   "outputs": [],
   "source": [
    "merchant_properties = transaction_data.groupBy(\"merchant_abn\").agg(\\\n",
    "    F.avg('Median_age_persons').alias(\"avg_expected_customer_age\"),\\\n",
    "    F.avg('fraud_rate').alias(\"avg_customer_fraud_rate\")\\\n",
    ")\n",
    "#comment"
   ]
  },
  {
   "cell_type": "code",
   "execution_count": 31,
   "metadata": {},
   "outputs": [],
   "source": [
    "future_profit = future_profit.drop(\"_c0\")"
   ]
  },
  {
   "cell_type": "code",
   "execution_count": 32,
   "metadata": {},
   "outputs": [],
   "source": [
    "merchant_ranking_properties = merchant_properties.join(future_profit, ['merchant_abn']).join(merchant_fraud_rates, ['merchant_abn'])"
   ]
  },
  {
   "cell_type": "code",
   "execution_count": 35,
   "metadata": {},
   "outputs": [
    {
     "name": "stderr",
     "output_type": "stream",
     "text": [
      "                                                                                \r"
     ]
    },
    {
     "name": "stdout",
     "output_type": "stream",
     "text": [
      "22/09/26 07:00:54 WARN HeartbeatReceiver: Removing executor driver with no recent heartbeats: 7206560 ms exceeds timeout 120000 ms\n",
      "22/09/26 07:00:54 WARN SparkContext: Killing executors is not supported by current scheduler.\n"
     ]
    }
   ],
   "source": [
    "merchant_ranking_properties.write.mode('overwrite').option('header', True).csv('../data/curated/merchant_ranking_properties.csv')"
   ]
  }
 ],
 "metadata": {
  "kernelspec": {
   "display_name": "Python 3.10.6 64-bit",
   "language": "python",
   "name": "python3"
  },
  "language_info": {
   "codemirror_mode": {
    "name": "ipython",
    "version": 3
   },
   "file_extension": ".py",
   "mimetype": "text/x-python",
   "name": "python",
   "nbconvert_exporter": "python",
   "pygments_lexer": "ipython3",
   "version": "3.10.6"
  },
  "orig_nbformat": 4,
  "vscode": {
   "interpreter": {
    "hash": "b0fa6594d8f4cbf19f97940f81e996739fb7646882a419484c72d19e05852a7e"
   }
  }
 },
 "nbformat": 4,
 "nbformat_minor": 2
}
