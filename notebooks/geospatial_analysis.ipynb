{
 "cells": [
  {
   "cell_type": "markdown",
   "metadata": {},
   "source": [
    "# MAST30034 Applied Data Science Project 2"
   ]
  },
  {
   "cell_type": "markdown",
   "metadata": {},
   "source": [
    "## Geospatial Analysis"
   ]
  },
  {
   "cell_type": "code",
   "execution_count": 1,
   "metadata": {},
   "outputs": [],
   "source": [
    "from pyspark.sql import SparkSession, functions as F, DataFrame\n",
    "from pyspark.sql.functions import col\n",
    "import geopandas as gpd\n",
    "import folium\n",
    "import pandas as pd"
   ]
  },
  {
   "cell_type": "code",
   "execution_count": 2,
   "metadata": {},
   "outputs": [
    {
     "name": "stdout",
     "output_type": "stream",
     "text": [
      "22/09/12 10:40:13 WARN Utils: Your hostname, Yis-MacBook-Air.local resolves to a loopback address: 127.0.0.1; using 172.16.32.216 instead (on interface en0)\n",
      "22/09/12 10:40:13 WARN Utils: Set SPARK_LOCAL_IP if you need to bind to another address\n"
     ]
    },
    {
     "name": "stderr",
     "output_type": "stream",
     "text": [
      "Setting default log level to \"WARN\".\n",
      "To adjust logging level use sc.setLogLevel(newLevel). For SparkR, use setLogLevel(newLevel).\n"
     ]
    },
    {
     "name": "stdout",
     "output_type": "stream",
     "text": [
      "22/09/12 10:40:14 WARN NativeCodeLoader: Unable to load native-hadoop library for your platform... using builtin-java classes where applicable\n",
      "22/09/12 10:40:17 WARN Utils: Service 'SparkUI' could not bind on port 4040. Attempting port 4041.\n",
      "22/09/12 10:40:17 WARN Utils: Service 'SparkUI' could not bind on port 4041. Attempting port 4042.\n",
      "22/09/12 10:40:17 WARN Utils: Service 'SparkUI' could not bind on port 4042. Attempting port 4043.\n",
      "22/09/12 10:40:17 WARN Utils: Service 'SparkUI' could not bind on port 4043. Attempting port 4044.\n"
     ]
    }
   ],
   "source": [
    "spark = (\n",
    "    SparkSession.builder.appName(\"Geospatial_Analysis\")\n",
    "    .config(\"spark.sql.repl.eagerEval.enabled\", True) \n",
    "    .config(\"spark.sql.parquet.cacheMetadata\", \"true\")\n",
    "    .config(\"spark.sql.session.timeZone\", \"Etc/UTC\")\n",
    "    .config(\"spark.executor.memory\", \"2g\")\n",
    "    .config(\"spark.driver.memory\", \"4g\")\n",
    "    .getOrCreate()\n",
    ")"
   ]
  },
  {
   "cell_type": "code",
   "execution_count": 3,
   "metadata": {},
   "outputs": [
    {
     "name": "stderr",
     "output_type": "stream",
     "text": [
      "                                                                                \r"
     ]
    }
   ],
   "source": [
    "data = spark.read.parquet('../data/curated/outlier_data.parquet')\n",
    "sf = gpd.read_file(\"../data/external/shapefile/SA2_2021_AUST_GDA2020.shp\")"
   ]
  },
  {
   "cell_type": "code",
   "execution_count": 5,
   "metadata": {},
   "outputs": [
    {
     "name": "stderr",
     "output_type": "stream",
     "text": [
      "                                                                                \r"
     ]
    },
    {
     "data": {
      "text/html": [
       "<table border='1'>\n",
       "<tr><th>SA2_CODE_2021</th><th>postcode</th><th>consumer_id</th><th>user_id</th><th>merchant_abn</th><th>dollar_value</th><th>order_id</th><th>order_datetime</th><th>name</th><th>tags</th><th>take rate</th><th>revenue level</th><th>consumer_name</th><th>address</th><th>gender</th><th>SA2_NAME_2021</th><th>Median_tot_prsnl_inc_weekly</th><th>Median_rent_weekly</th><th>Median_mortgage_repay_monthly</th><th>Median_age_persons</th><th>Median_tot_hhd_inc_weekly</th><th>Average_household_size</th><th>Completed_Year_12</th><th>Did_Not_Attend_School</th><th>TOT_P_P</th><th>Age_0_4_yr_P</th><th>Age_5_14_yr_P</th><th>Age_15_19_yr_P</th><th>Age_20_24_yr_P</th><th>Age_25_34_yr_P</th><th>Age_35_44_yr_P</th><th>Age_45_54_yr_P</th><th>Age_55_64_yr_P</th><th>Age_65_74_yr_P</th><th>Age_75_84_yr_P</th><th>Age_85ov_P</th><th>state</th></tr>\n",
       "<tr><td>null</td><td>6915</td><td>3067</td><td>7470</td><td>47086412084</td><td>8.195033092624405</td><td>3b7b90dd-68a6-4f6...</td><td>2021-08-21</td><td>Eros Limited</td><td>[digital goods: b...</td><td>2.52</td><td>c</td><td>Kenneth Tran</td><td>480 Blanchard Land</td><td>Male</td><td>Western Austraia</td><td>836.8382313624497</td><td>235.6218149377005</td><td>1437.341332794222</td><td>42.58467505548575</td><td>1530.1537458327882</td><td>2.439455031966128</td><td>2478.7919578594638</td><td>28.059934734053822</td><td>6548.471659656898</td><td>null</td><td>813.4840358738074</td><td>335.69086501383237</td><td>332.347258834665</td><td>855.0453756447644</td><td>877.1825413814199</td><td>884.6771463039821</td><td>897.2375582660876</td><td>717.5282143742763</td><td>350.91326275555485</td><td>110.15571530693009</td><td>WA</td></tr>\n",
       "<tr><td>null</td><td>6915</td><td>3067</td><td>7470</td><td>52065114842</td><td>106.91043190212513</td><td>49d4d2de-6783-435...</td><td>2021-08-14</td><td>Gravida Non PC</td><td>[digital goods: b...</td><td>3.98</td><td>b</td><td>Kenneth Tran</td><td>480 Blanchard Land</td><td>Male</td><td>Western Austraia</td><td>836.8382313624497</td><td>235.6218149377005</td><td>1437.341332794222</td><td>42.58467505548575</td><td>1530.1537458327882</td><td>2.439455031966128</td><td>2478.7919578594638</td><td>28.059934734053822</td><td>6548.471659656898</td><td>null</td><td>813.4840358738074</td><td>335.69086501383237</td><td>332.347258834665</td><td>855.0453756447644</td><td>877.1825413814199</td><td>884.6771463039821</td><td>897.2375582660876</td><td>717.5282143742763</td><td>350.91326275555485</td><td>110.15571530693009</td><td>WA</td></tr>\n",
       "<tr><td>null</td><td>6915</td><td>3067</td><td>7470</td><td>13118172970</td><td>65.98639083026582</td><td>267b6bc3-3977-49d...</td><td>2021-08-15</td><td>Placerat Cras Inc...</td><td>[gift,  card,  no...</td><td>4.57</td><td>b</td><td>Kenneth Tran</td><td>480 Blanchard Land</td><td>Male</td><td>Western Austraia</td><td>836.8382313624497</td><td>235.6218149377005</td><td>1437.341332794222</td><td>42.58467505548575</td><td>1530.1537458327882</td><td>2.439455031966128</td><td>2478.7919578594638</td><td>28.059934734053822</td><td>6548.471659656898</td><td>null</td><td>813.4840358738074</td><td>335.69086501383237</td><td>332.347258834665</td><td>855.0453756447644</td><td>877.1825413814199</td><td>884.6771463039821</td><td>897.2375582660876</td><td>717.5282143742763</td><td>350.91326275555485</td><td>110.15571530693009</td><td>WA</td></tr>\n",
       "<tr><td>null</td><td>6915</td><td>3067</td><td>7470</td><td>35223308778</td><td>96.84997524124665</td><td>2f92ee68-38a7-4f1...</td><td>2021-07-15</td><td>Euismod In Corp.</td><td>[books,  periodic...</td><td>4.19</td><td>b</td><td>Kenneth Tran</td><td>480 Blanchard Land</td><td>Male</td><td>Western Austraia</td><td>836.8382313624497</td><td>235.6218149377005</td><td>1437.341332794222</td><td>42.58467505548575</td><td>1530.1537458327882</td><td>2.439455031966128</td><td>2478.7919578594638</td><td>28.059934734053822</td><td>6548.471659656898</td><td>null</td><td>813.4840358738074</td><td>335.69086501383237</td><td>332.347258834665</td><td>855.0453756447644</td><td>877.1825413814199</td><td>884.6771463039821</td><td>897.2375582660876</td><td>717.5282143742763</td><td>350.91326275555485</td><td>110.15571530693009</td><td>WA</td></tr>\n",
       "<tr><td>null</td><td>6915</td><td>3067</td><td>7470</td><td>58392414752</td><td>30.000483014621604</td><td>f82dac78-e0ec-4da...</td><td>2021-08-27</td><td>Mattis Ornare Lec...</td><td>[florists supplie...</td><td>1.47</td><td>c</td><td>Kenneth Tran</td><td>480 Blanchard Land</td><td>Male</td><td>Western Austraia</td><td>836.8382313624497</td><td>235.6218149377005</td><td>1437.341332794222</td><td>42.58467505548575</td><td>1530.1537458327882</td><td>2.439455031966128</td><td>2478.7919578594638</td><td>28.059934734053822</td><td>6548.471659656898</td><td>null</td><td>813.4840358738074</td><td>335.69086501383237</td><td>332.347258834665</td><td>855.0453756447644</td><td>877.1825413814199</td><td>884.6771463039821</td><td>897.2375582660876</td><td>717.5282143742763</td><td>350.91326275555485</td><td>110.15571530693009</td><td>WA</td></tr>\n",
       "</table>\n"
      ],
      "text/plain": [
       "+-------------+--------+-----------+-------+------------+------------------+--------------------+--------------+--------------------+--------------------+---------+-------------+-------------+------------------+------+----------------+---------------------------+------------------+-----------------------------+------------------+-------------------------+----------------------+------------------+---------------------+-----------------+------------+-----------------+------------------+----------------+-----------------+-----------------+-----------------+-----------------+-----------------+------------------+------------------+-----+\n",
       "|SA2_CODE_2021|postcode|consumer_id|user_id|merchant_abn|      dollar_value|            order_id|order_datetime|                name|                tags|take rate|revenue level|consumer_name|           address|gender|   SA2_NAME_2021|Median_tot_prsnl_inc_weekly|Median_rent_weekly|Median_mortgage_repay_monthly|Median_age_persons|Median_tot_hhd_inc_weekly|Average_household_size| Completed_Year_12|Did_Not_Attend_School|          TOT_P_P|Age_0_4_yr_P|    Age_5_14_yr_P|    Age_15_19_yr_P|  Age_20_24_yr_P|   Age_25_34_yr_P|   Age_35_44_yr_P|   Age_45_54_yr_P|   Age_55_64_yr_P|   Age_65_74_yr_P|    Age_75_84_yr_P|        Age_85ov_P|state|\n",
       "+-------------+--------+-----------+-------+------------+------------------+--------------------+--------------+--------------------+--------------------+---------+-------------+-------------+------------------+------+----------------+---------------------------+------------------+-----------------------------+------------------+-------------------------+----------------------+------------------+---------------------+-----------------+------------+-----------------+------------------+----------------+-----------------+-----------------+-----------------+-----------------+-----------------+------------------+------------------+-----+\n",
       "|         null|    6915|       3067|   7470| 47086412084| 8.195033092624405|3b7b90dd-68a6-4f6...|    2021-08-21|        Eros Limited|[digital goods: b...|     2.52|            c| Kenneth Tran|480 Blanchard Land|  Male|Western Austraia|          836.8382313624497| 235.6218149377005|            1437.341332794222| 42.58467505548575|       1530.1537458327882|     2.439455031966128|2478.7919578594638|   28.059934734053822|6548.471659656898|        null|813.4840358738074|335.69086501383237|332.347258834665|855.0453756447644|877.1825413814199|884.6771463039821|897.2375582660876|717.5282143742763|350.91326275555485|110.15571530693009|   WA|\n",
       "|         null|    6915|       3067|   7470| 52065114842|106.91043190212513|49d4d2de-6783-435...|    2021-08-14|      Gravida Non PC|[digital goods: b...|     3.98|            b| Kenneth Tran|480 Blanchard Land|  Male|Western Austraia|          836.8382313624497| 235.6218149377005|            1437.341332794222| 42.58467505548575|       1530.1537458327882|     2.439455031966128|2478.7919578594638|   28.059934734053822|6548.471659656898|        null|813.4840358738074|335.69086501383237|332.347258834665|855.0453756447644|877.1825413814199|884.6771463039821|897.2375582660876|717.5282143742763|350.91326275555485|110.15571530693009|   WA|\n",
       "|         null|    6915|       3067|   7470| 13118172970| 65.98639083026582|267b6bc3-3977-49d...|    2021-08-15|Placerat Cras Inc...|[gift,  card,  no...|     4.57|            b| Kenneth Tran|480 Blanchard Land|  Male|Western Austraia|          836.8382313624497| 235.6218149377005|            1437.341332794222| 42.58467505548575|       1530.1537458327882|     2.439455031966128|2478.7919578594638|   28.059934734053822|6548.471659656898|        null|813.4840358738074|335.69086501383237|332.347258834665|855.0453756447644|877.1825413814199|884.6771463039821|897.2375582660876|717.5282143742763|350.91326275555485|110.15571530693009|   WA|\n",
       "|         null|    6915|       3067|   7470| 35223308778| 96.84997524124665|2f92ee68-38a7-4f1...|    2021-07-15|    Euismod In Corp.|[books,  periodic...|     4.19|            b| Kenneth Tran|480 Blanchard Land|  Male|Western Austraia|          836.8382313624497| 235.6218149377005|            1437.341332794222| 42.58467505548575|       1530.1537458327882|     2.439455031966128|2478.7919578594638|   28.059934734053822|6548.471659656898|        null|813.4840358738074|335.69086501383237|332.347258834665|855.0453756447644|877.1825413814199|884.6771463039821|897.2375582660876|717.5282143742763|350.91326275555485|110.15571530693009|   WA|\n",
       "|         null|    6915|       3067|   7470| 58392414752|30.000483014621604|f82dac78-e0ec-4da...|    2021-08-27|Mattis Ornare Lec...|[florists supplie...|     1.47|            c| Kenneth Tran|480 Blanchard Land|  Male|Western Austraia|          836.8382313624497| 235.6218149377005|            1437.341332794222| 42.58467505548575|       1530.1537458327882|     2.439455031966128|2478.7919578594638|   28.059934734053822|6548.471659656898|        null|813.4840358738074|335.69086501383237|332.347258834665|855.0453756447644|877.1825413814199|884.6771463039821|897.2375582660876|717.5282143742763|350.91326275555485|110.15571530693009|   WA|\n",
       "+-------------+--------+-----------+-------+------------+------------------+--------------------+--------------+--------------------+--------------------+---------+-------------+-------------+------------------+------+----------------+---------------------------+------------------+-----------------------------+------------------+-------------------------+----------------------+------------------+---------------------+-----------------+------------+-----------------+------------------+----------------+-----------------+-----------------+-----------------+-----------------+-----------------+------------------+------------------+-----+"
      ]
     },
     "execution_count": 5,
     "metadata": {},
     "output_type": "execute_result"
    }
   ],
   "source": [
    "data.limit(5)"
   ]
  },
  {
   "cell_type": "code",
   "execution_count": 7,
   "metadata": {},
   "outputs": [],
   "source": [
    "data=data.withColumn(\"take_rate*dollar_value\", F.col(\"take rate\")*F.col(\"dollar_value\"))"
   ]
  },
  {
   "cell_type": "code",
   "execution_count": 8,
   "metadata": {},
   "outputs": [
    {
     "name": "stderr",
     "output_type": "stream",
     "text": [
      "                                                                                \r"
     ]
    }
   ],
   "source": [
    "SA2_data = data \\\n",
    "            .groupBy(\"SA2_CODE_2021\") \\\n",
    "            .agg(\n",
    "                F.mean(\"dollar_value\").alias(\"mean_amount\"),\n",
    "                F.sum(\"dollar_value\").alias(\"total_amount\"),\n",
    "                F.count(\"order_id\").alias(\"order_volume\"),\n",
    "                F.mean(\"Median_tot_hhd_inc_weekly\").alias(\"household_income\"),\n",
    "                F.mean(\"take_rate*dollar_value\").alias(\"mean_take_rate*dollar_value\"),\n",
    "            ) \\\n",
    "            .orderBy(\"SA2_CODE_2021\") \\\n",
    "            .toPandas()"
   ]
  },
  {
   "cell_type": "code",
   "execution_count": 46,
   "metadata": {},
   "outputs": [
    {
     "data": {
      "text/html": [
       "<div>\n",
       "<style scoped>\n",
       "    .dataframe tbody tr th:only-of-type {\n",
       "        vertical-align: middle;\n",
       "    }\n",
       "\n",
       "    .dataframe tbody tr th {\n",
       "        vertical-align: top;\n",
       "    }\n",
       "\n",
       "    .dataframe thead th {\n",
       "        text-align: right;\n",
       "    }\n",
       "</style>\n",
       "<table border=\"1\" class=\"dataframe\">\n",
       "  <thead>\n",
       "    <tr style=\"text-align: right;\">\n",
       "      <th></th>\n",
       "      <th>SA2_CODE21</th>\n",
       "      <th>geometry</th>\n",
       "    </tr>\n",
       "  </thead>\n",
       "  <tbody>\n",
       "    <tr>\n",
       "      <th>0</th>\n",
       "      <td>101021007</td>\n",
       "      <td>POLYGON ((149.58424 -35.44426, 149.58444 -35.4...</td>\n",
       "    </tr>\n",
       "    <tr>\n",
       "      <th>1</th>\n",
       "      <td>101021008</td>\n",
       "      <td>POLYGON ((149.21899 -35.36738, 149.21800 -35.3...</td>\n",
       "    </tr>\n",
       "    <tr>\n",
       "      <th>2</th>\n",
       "      <td>101021009</td>\n",
       "      <td>POLYGON ((149.21326 -35.34325, 149.21619 -35.3...</td>\n",
       "    </tr>\n",
       "    <tr>\n",
       "      <th>3</th>\n",
       "      <td>101021010</td>\n",
       "      <td>POLYGON ((149.24034 -35.34781, 149.24024 -35.3...</td>\n",
       "    </tr>\n",
       "    <tr>\n",
       "      <th>4</th>\n",
       "      <td>101021012</td>\n",
       "      <td>POLYGON ((149.19572 -35.36126, 149.19970 -35.3...</td>\n",
       "    </tr>\n",
       "    <tr>\n",
       "      <th>...</th>\n",
       "      <td>...</td>\n",
       "      <td>...</td>\n",
       "    </tr>\n",
       "    <tr>\n",
       "      <th>2468</th>\n",
       "      <td>901031003</td>\n",
       "      <td>MULTIPOLYGON (((150.69567 -35.18295, 150.69556...</td>\n",
       "    </tr>\n",
       "    <tr>\n",
       "      <th>2469</th>\n",
       "      <td>901041004</td>\n",
       "      <td>MULTIPOLYGON (((167.96325 -29.07212, 167.96326...</td>\n",
       "    </tr>\n",
       "    <tr>\n",
       "      <th>2470</th>\n",
       "      <td>997979799</td>\n",
       "      <td>None</td>\n",
       "    </tr>\n",
       "    <tr>\n",
       "      <th>2471</th>\n",
       "      <td>999999499</td>\n",
       "      <td>None</td>\n",
       "    </tr>\n",
       "    <tr>\n",
       "      <th>2472</th>\n",
       "      <td>ZZZZZZZZZ</td>\n",
       "      <td>None</td>\n",
       "    </tr>\n",
       "  </tbody>\n",
       "</table>\n",
       "<p>2473 rows × 2 columns</p>\n",
       "</div>"
      ],
      "text/plain": [
       "     SA2_CODE21                                           geometry\n",
       "0     101021007  POLYGON ((149.58424 -35.44426, 149.58444 -35.4...\n",
       "1     101021008  POLYGON ((149.21899 -35.36738, 149.21800 -35.3...\n",
       "2     101021009  POLYGON ((149.21326 -35.34325, 149.21619 -35.3...\n",
       "3     101021010  POLYGON ((149.24034 -35.34781, 149.24024 -35.3...\n",
       "4     101021012  POLYGON ((149.19572 -35.36126, 149.19970 -35.3...\n",
       "...         ...                                                ...\n",
       "2468  901031003  MULTIPOLYGON (((150.69567 -35.18295, 150.69556...\n",
       "2469  901041004  MULTIPOLYGON (((167.96325 -29.07212, 167.96326...\n",
       "2470  997979799                                               None\n",
       "2471  999999499                                               None\n",
       "2472  ZZZZZZZZZ                                               None\n",
       "\n",
       "[2473 rows x 2 columns]"
      ]
     },
     "execution_count": 46,
     "metadata": {},
     "output_type": "execute_result"
    }
   ],
   "source": [
    "sf"
   ]
  },
  {
   "cell_type": "code",
   "execution_count": 47,
   "metadata": {},
   "outputs": [],
   "source": [
    "# Code from MAST30034 Applied Data Science Tutorial 2\n",
    "# Convert the geometry shape to to latitude and longitude\n",
    "sf = sf[['SA2_CODE21','geometry']]\n",
    "sf['geometry'] = sf['geometry'] \\\n",
    "                    .to_crs(\"+proj=longlat +ellps=WGS84 +datum=WGS84 +no_defs\")\n",
    "gdf = gpd.GeoDataFrame(sf)\n",
    "geoJSON = gdf[['SA2_CODE21', 'geometry']].to_json()"
   ]
  },
  {
   "cell_type": "code",
   "execution_count": 49,
   "metadata": {},
   "outputs": [
    {
     "data": {
      "text/plain": [
       "781493"
      ]
     },
     "execution_count": 49,
     "metadata": {},
     "output_type": "execute_result"
    }
   ],
   "source": [
    "SA2_data['order_volume'].max()"
   ]
  },
  {
   "cell_type": "code",
   "execution_count": 50,
   "metadata": {},
   "outputs": [],
   "source": [
    "m1 = folium.Map(location=[-33.8, 151.2],\n",
    "                  tiles=\"cartodbpositron\", zoom_start=4)\n",
    "\n",
    "c1 = folium.Choropleth(\n",
    "    geo_data=geoJSON,\n",
    "    name='Income By SA2',\n",
    "    data=SA2_data.reset_index(),\n",
    "    columns=['SA2_CODE_2021', 'household_income'],\n",
    "    key_on='properties.SA2_CODE21',\n",
    "    fill_color='YlOrRd',\n",
    "    nan_fill_color='black',\n",
    "    legend_name='Income By SA2'\n",
    ")\n",
    "\n",
    "c1.add_to(m1)\n",
    "\n",
    "m1.save(\"../plots/income.html\")"
   ]
  },
  {
   "cell_type": "code",
   "execution_count": 51,
   "metadata": {},
   "outputs": [],
   "source": [
    "m2 = folium.Map(location=[-33.8, 151.2],\n",
    "                  tiles=\"cartodbpositron\", zoom_start=4)\n",
    "\n",
    "c2 = folium.Choropleth(\n",
    "    geo_data=geoJSON,\n",
    "    name='Transaction Volume By SA2',\n",
    "    data=SA2_data.reset_index(),\n",
    "    columns=['SA2_CODE_2021', 'order_volume'],\n",
    "    key_on='properties.SA2_CODE21',\n",
    "    fill_color='YlOrRd',\n",
    "    nan_fill_color='black',\n",
    "    legend_name='Transaction Volume By SA2'\n",
    ")\n",
    "\n",
    "c2.add_to(m2)\n",
    "\n",
    "m2.save(\"../plots/volume.html\")"
   ]
  },
  {
   "cell_type": "code",
   "execution_count": 52,
   "metadata": {},
   "outputs": [],
   "source": [
    "m3 = folium.Map(location=[-33.8, 151.2],\n",
    "                  tiles=\"cartodbpositron\", zoom_start=4)\n",
    "\n",
    "c3 = folium.Choropleth(\n",
    "    geo_data=geoJSON,\n",
    "    name='Average Transaction Amount By SA2',\n",
    "    data=SA2_data.reset_index(),\n",
    "    columns=['SA2_CODE_2021', 'mean_amount'],\n",
    "    key_on='properties.SA2_CODE21',\n",
    "    fill_color='YlOrRd',\n",
    "    nan_fill_color='black',\n",
    "    legend_name='Average Transaction Amount By SA2'\n",
    ")\n",
    "\n",
    "c3.add_to(m3)\n",
    "\n",
    "m3.save(\"../plots/avg_amount.html\")"
   ]
  },
  {
   "cell_type": "code",
   "execution_count": 53,
   "metadata": {},
   "outputs": [],
   "source": [
    "m4 = folium.Map(location=[-33.8, 151.2],\n",
    "                  tiles=\"cartodbpositron\", zoom_start=4)\n",
    "\n",
    "c4 = folium.Choropleth(\n",
    "    geo_data=geoJSON,\n",
    "    name='Average Take Rate * Dollar Value By SA2',\n",
    "    data=SA2_data.reset_index(),\n",
    "    columns=['SA2_CODE_2021', 'mean_amount'],\n",
    "    key_on='properties.SA2_CODE21',\n",
    "    fill_color='YlOrRd',\n",
    "    nan_fill_color='black',\n",
    "    legend_name='Average Take Rate * Dollar Value By SA2'\n",
    ")\n",
    "\n",
    "c4.add_to(m4)\n",
    "\n",
    "m4.save(\"../plots/avg_take_rate_dollar_val.html\")"
   ]
  }
 ],
 "metadata": {
  "kernelspec": {
   "display_name": "Python 3.8.2 64-bit",
   "language": "python",
   "name": "python3"
  },
  "language_info": {
   "codemirror_mode": {
    "name": "ipython",
    "version": 3
   },
   "file_extension": ".py",
   "mimetype": "text/x-python",
   "name": "python",
   "nbconvert_exporter": "python",
   "pygments_lexer": "ipython3",
   "version": "3.8.2"
  },
  "orig_nbformat": 4,
  "vscode": {
   "interpreter": {
    "hash": "31f2aee4e71d21fbe5cf8b01ff0e069b9275f58929596ceb00d14d90e3e16cd6"
   }
  }
 },
 "nbformat": 4,
 "nbformat_minor": 2
}
