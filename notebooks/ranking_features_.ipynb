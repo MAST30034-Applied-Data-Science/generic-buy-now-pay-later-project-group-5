{
 "cells": [
  {
   "cell_type": "markdown",
   "id": "db047a16",
   "metadata": {},
   "source": [
    "<h1>Creating Table for Ranking<h1>"
   ]
  },
  {
   "cell_type": "code",
   "execution_count": null,
   "id": "954abd96",
   "metadata": {},
   "outputs": [],
   "source": [
    "from pyspark.sql import SparkSession, functions as F\n",
    "\n",
    "spark = (\n",
    "    SparkSession.builder.appName(\"Ranking Features\")\n",
    "    .config(\"spark.sql.repl.eagerEval.enabled\", True) \n",
    "    .config(\"spark.sql.parquet.cacheMetadata\", \"true\")\n",
    "    .config(\"spark.sql.session.timeZone\", \"Etc/UTC\")\n",
    "    .config(\"spark.executor.memory\", \"2g\")\n",
    "    .config(\"spark.driver.memory\", \"4g\")\n",
    "    .getOrCreate()\n",
    ")"
   ]
  },
  {
   "cell_type": "code",
   "execution_count": null,
   "id": "59fd1a5d",
   "metadata": {},
   "outputs": [],
   "source": [
    "transaction_data = spark.read.parquet('../data/curated/cleaned_data.parquet')\n",
    "merchant_fraud_rates = spark.read.csv('../data/curated/merchant_fraud_rate.csv', header=True)\n",
    "consumer_fraud_rates = spark.read.csv('../data/curated/consumer_fraud_rate.csv', header=True)\n",
    "future_profit = spark.read.csv('../data/curated/future_predictions.csv', header=True)"
   ]
  },
  {
   "cell_type": "code",
   "execution_count": null,
   "id": "80e59d98",
   "metadata": {},
   "outputs": [],
   "source": [
    "transaction_data = transaction_data.join(consumer_fraud_rates, ['user_id'])"
   ]
  },
  {
   "cell_type": "code",
   "execution_count": null,
   "id": "8f29ff0c",
   "metadata": {},
   "outputs": [],
   "source": [
    "merchant_properties = transaction_data.groupBy(\"merchant_abn\").agg(\\\n",
    "    F.avg('Median_age_persons').alias(\"avg_expected_customer_age\"),\\\n",
    "    F.avg('fraud_rate').alias(\"avg_customer_fraud_rate\")\\\n",
    ")"
   ]
  },
  {
   "cell_type": "code",
   "execution_count": null,
   "id": "af1188c0",
   "metadata": {},
   "outputs": [],
   "source": [
    "future_profit = future_profit.drop(\"_c0\")"
   ]
  },
  {
   "cell_type": "code",
   "execution_count": null,
   "id": "4b7f72ba",
   "metadata": {},
   "outputs": [],
   "source": [
    "merchant_ranking_properties = merchant_properties.join(future_profit, ['merchant_abn']).join(merchant_fraud_rates, ['merchant_abn'])"
   ]
  },
  {
   "cell_type": "code",
   "execution_count": null,
   "id": "bc469cf1",
   "metadata": {},
   "outputs": [],
   "source": [
    "merchant_ranking_properties.write.mode('overwrite').option('header', True).csv('../data/curated/merchant_ranking_properties.csv')"
   ]
  }
 ],
 "metadata": {
  "kernelspec": {
   "display_name": "Python 3 (ipykernel)",
   "language": "python",
   "name": "python3"
  },
  "language_info": {
   "codemirror_mode": {
    "name": "ipython",
    "version": 3
   },
   "file_extension": ".py",
   "mimetype": "text/x-python",
   "name": "python",
   "nbconvert_exporter": "python",
   "pygments_lexer": "ipython3",
   "version": "3.10.6"
  }
 },
 "nbformat": 4,
 "nbformat_minor": 5
}
