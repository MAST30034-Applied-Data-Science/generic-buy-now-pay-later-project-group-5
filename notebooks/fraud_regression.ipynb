{
 "cells": [
  {
   "cell_type": "code",
   "execution_count": 1,
   "id": "a99fefcd",
   "metadata": {},
   "outputs": [
    {
     "name": "stdout",
     "output_type": "stream",
     "text": [
      "22/09/23 14:21:28 WARN Utils: Your hostname, DESKTOP-EMCMOU9 resolves to a loopback address: 127.0.1.1; using 172.20.189.237 instead (on interface eth0)\n",
      "22/09/23 14:21:28 WARN Utils: Set SPARK_LOCAL_IP if you need to bind to another address\n"
     ]
    },
    {
     "name": "stderr",
     "output_type": "stream",
     "text": [
      "Setting default log level to \"WARN\".\n",
      "To adjust logging level use sc.setLogLevel(newLevel). For SparkR, use setLogLevel(newLevel).\n"
     ]
    },
    {
     "name": "stdout",
     "output_type": "stream",
     "text": [
      "22/09/23 14:21:30 WARN NativeCodeLoader: Unable to load native-hadoop library for your platform... using builtin-java classes where applicable\n"
     ]
    }
   ],
   "source": [
    "from pyspark.sql import SparkSession, functions as F\n",
    "\n",
    "spark = (\n",
    "    SparkSession.builder.appName(\"Regression\")\n",
    "    .config(\"spark.sql.repl.eagerEval.enabled\", True) \n",
    "    .config(\"spark.sql.parquet.cacheMetadata\", \"true\")\n",
    "    .config(\"spark.sql.session.timeZone\", \"Etc/UTC\")\n",
    "    .config(\"spark.executor.memory\", \"2g\")\n",
    "    .config(\"spark.driver.memory\", \"4g\")\n",
    "    .getOrCreate()\n",
    ")"
   ]
  },
  {
   "cell_type": "code",
   "execution_count": null,
   "id": "106928fe",
   "metadata": {},
   "outputs": [],
   "source": [
    "import numpy as np\n",
    "import pandas as pd\n",
    "from sklearn.linear_model import LogisticRegression\n",
    "from sklearn.model_selection import cross_val_score\n",
    "from sklearn.utils import resample"
   ]
  },
  {
   "cell_type": "code",
   "execution_count": 2,
   "id": "b2b0ba1e",
   "metadata": {},
   "outputs": [
    {
     "name": "stderr",
     "output_type": "stream",
     "text": [
      "                                                                                \r"
     ]
    }
   ],
   "source": [
    "# read in datasets\n",
    "merchant_fraud = spark.read.parquet('../data/curated/merchant_fraud.parquet')\n",
    "consumer_fraud = spark.read.parquet('../data/curated/consumer_fraud.parquet')"
   ]
  },
  {
   "cell_type": "code",
   "execution_count": 3,
   "id": "ae53333e",
   "metadata": {},
   "outputs": [
    {
     "name": "stderr",
     "output_type": "stream",
     "text": [
      "                                                                                \r"
     ]
    },
    {
     "data": {
      "text/html": [
       "<table border='1'>\n",
       "<tr><th>merchant_abn</th><th>order_datetime</th><th>transaction_count</th><th>avg_transaction_amt</th><th>is_fraud</th><th>fraud_probability</th></tr>\n",
       "<tr><td>38700038932</td><td>2021-08-20</td><td>14</td><td>1524.9292206627556</td><td>false</td><td>0.01</td></tr>\n",
       "<tr><td>89502033586</td><td>2021-08-20</td><td>40</td><td>65.44754598876243</td><td>false</td><td>0.01</td></tr>\n",
       "<tr><td>70610974780</td><td>2021-08-20</td><td>27</td><td>43.48907978704201</td><td>false</td><td>0.01</td></tr>\n",
       "<tr><td>29550468444</td><td>2021-08-20</td><td>4</td><td>157.0</td><td>false</td><td>0.01</td></tr>\n",
       "<tr><td>92075595936</td><td>2021-08-20</td><td>12</td><td>95.50018824235849</td><td>false</td><td>0.01</td></tr>\n",
       "<tr><td>62422038748</td><td>2021-08-20</td><td>1</td><td>2442.1698743679544</td><td>false</td><td>0.01</td></tr>\n",
       "<tr><td>32894483068</td><td>2021-08-20</td><td>1</td><td>228.6561829721828</td><td>false</td><td>0.01</td></tr>\n",
       "<tr><td>55958301764</td><td>2021-08-20</td><td>6</td><td>281.354343839723</td><td>false</td><td>0.01</td></tr>\n",
       "<tr><td>12543580354</td><td>2021-08-20</td><td>12</td><td>262.53675367314503</td><td>false</td><td>0.01</td></tr>\n",
       "<tr><td>26008308191</td><td>2021-08-20</td><td>6</td><td>241.04606090655918</td><td>false</td><td>0.01</td></tr>\n",
       "</table>\n"
      ],
      "text/plain": [
       "+------------+--------------+-----------------+-------------------+--------+-----------------+\n",
       "|merchant_abn|order_datetime|transaction_count|avg_transaction_amt|is_fraud|fraud_probability|\n",
       "+------------+--------------+-----------------+-------------------+--------+-----------------+\n",
       "| 38700038932|    2021-08-20|               14| 1524.9292206627556|   false|             0.01|\n",
       "| 89502033586|    2021-08-20|               40|  65.44754598876243|   false|             0.01|\n",
       "| 70610974780|    2021-08-20|               27|  43.48907978704201|   false|             0.01|\n",
       "| 29550468444|    2021-08-20|                4|              157.0|   false|             0.01|\n",
       "| 92075595936|    2021-08-20|               12|  95.50018824235849|   false|             0.01|\n",
       "| 62422038748|    2021-08-20|                1| 2442.1698743679544|   false|             0.01|\n",
       "| 32894483068|    2021-08-20|                1|  228.6561829721828|   false|             0.01|\n",
       "| 55958301764|    2021-08-20|                6|   281.354343839723|   false|             0.01|\n",
       "| 12543580354|    2021-08-20|               12| 262.53675367314503|   false|             0.01|\n",
       "| 26008308191|    2021-08-20|                6| 241.04606090655918|   false|             0.01|\n",
       "+------------+--------------+-----------------+-------------------+--------+-----------------+"
      ]
     },
     "execution_count": 3,
     "metadata": {},
     "output_type": "execute_result"
    }
   ],
   "source": [
    "merchant_fraud.limit(10)"
   ]
  },
  {
   "cell_type": "code",
   "execution_count": 4,
   "id": "3cece57b",
   "metadata": {},
   "outputs": [
    {
     "name": "stderr",
     "output_type": "stream",
     "text": [
      "                                                                                \r"
     ]
    },
    {
     "data": {
      "text/plain": [
       "4033545"
      ]
     },
     "execution_count": 4,
     "metadata": {},
     "output_type": "execute_result"
    }
   ],
   "source": [
    "merchant_fraud.count()"
   ]
  },
  {
   "cell_type": "code",
   "execution_count": 5,
   "id": "f6aacf04",
   "metadata": {
    "scrolled": true
   },
   "outputs": [
    {
     "name": "stderr",
     "output_type": "stream",
     "text": [
      "                                                                                \r"
     ]
    },
    {
     "data": {
      "text/plain": [
       "342"
      ]
     },
     "execution_count": 5,
     "metadata": {},
     "output_type": "execute_result"
    }
   ],
   "source": [
    "merchant_fraud.where(F.col('fraud_probability') != 0.01).count()"
   ]
  },
  {
   "cell_type": "markdown",
   "id": "6ff5864a",
   "metadata": {},
   "source": [
    "About 0.008% of the merchant daily transactions is fraudulent."
   ]
  },
  {
   "cell_type": "code",
   "execution_count": 6,
   "id": "45ac1192",
   "metadata": {},
   "outputs": [
    {
     "name": "stderr",
     "output_type": "stream",
     "text": [
      "                                                                                \r"
     ]
    },
    {
     "data": {
      "text/html": [
       "<table border='1'>\n",
       "<tr><th>user_id</th><th>order_datetime</th><th>transaction_count</th><th>avg_transaction_amt</th><th>is_fraud</th><th>fraud_probability</th></tr>\n",
       "<tr><td>18487</td><td>2021-08-20</td><td>2</td><td>73.0925761125627</td><td>false</td><td>0.01</td></tr>\n",
       "<tr><td>18552</td><td>2021-08-20</td><td>2</td><td>174.42985218811984</td><td>false</td><td>0.01</td></tr>\n",
       "<tr><td>215</td><td>2021-08-20</td><td>2</td><td>48.880342827706</td><td>false</td><td>0.01</td></tr>\n",
       "<tr><td>18770</td><td>2021-08-20</td><td>1</td><td>273.2147324712209</td><td>false</td><td>0.01</td></tr>\n",
       "<tr><td>18837</td><td>2021-08-20</td><td>1</td><td>23.800263170555642</td><td>false</td><td>0.01</td></tr>\n",
       "<tr><td>18849</td><td>2021-08-20</td><td>3</td><td>56.899667578706065</td><td>false</td><td>0.01</td></tr>\n",
       "<tr><td>435</td><td>2021-08-20</td><td>2</td><td>21.310166954483677</td><td>false</td><td>0.01</td></tr>\n",
       "<tr><td>788</td><td>2021-08-20</td><td>2</td><td>38.272827709859286</td><td>false</td><td>0.01</td></tr>\n",
       "<tr><td>19550</td><td>2021-08-20</td><td>2</td><td>17.85711450212551</td><td>false</td><td>0.01</td></tr>\n",
       "<tr><td>1117</td><td>2021-08-20</td><td>3</td><td>57.4104700047829</td><td>false</td><td>0.01</td></tr>\n",
       "</table>\n"
      ],
      "text/plain": [
       "+-------+--------------+-----------------+-------------------+--------+-----------------+\n",
       "|user_id|order_datetime|transaction_count|avg_transaction_amt|is_fraud|fraud_probability|\n",
       "+-------+--------------+-----------------+-------------------+--------+-----------------+\n",
       "|  18487|    2021-08-20|                2|   73.0925761125627|   false|             0.01|\n",
       "|  18552|    2021-08-20|                2| 174.42985218811984|   false|             0.01|\n",
       "|    215|    2021-08-20|                2|    48.880342827706|   false|             0.01|\n",
       "|  18770|    2021-08-20|                1|  273.2147324712209|   false|             0.01|\n",
       "|  18837|    2021-08-20|                1| 23.800263170555642|   false|             0.01|\n",
       "|  18849|    2021-08-20|                3| 56.899667578706065|   false|             0.01|\n",
       "|    435|    2021-08-20|                2| 21.310166954483677|   false|             0.01|\n",
       "|    788|    2021-08-20|                2| 38.272827709859286|   false|             0.01|\n",
       "|  19550|    2021-08-20|                2|  17.85711450212551|   false|             0.01|\n",
       "|   1117|    2021-08-20|                3|   57.4104700047829|   false|             0.01|\n",
       "+-------+--------------+-----------------+-------------------+--------+-----------------+"
      ]
     },
     "execution_count": 6,
     "metadata": {},
     "output_type": "execute_result"
    }
   ],
   "source": [
    "consumer_fraud.limit(10)"
   ]
  },
  {
   "cell_type": "code",
   "execution_count": 7,
   "id": "52033b17",
   "metadata": {},
   "outputs": [
    {
     "name": "stderr",
     "output_type": "stream",
     "text": [
      "                                                                                \r"
     ]
    },
    {
     "data": {
      "text/plain": [
       "17954112"
      ]
     },
     "execution_count": 7,
     "metadata": {},
     "output_type": "execute_result"
    }
   ],
   "source": [
    "consumer_fraud.count()"
   ]
  },
  {
   "cell_type": "code",
   "execution_count": 8,
   "id": "9c60e34b",
   "metadata": {
    "scrolled": true
   },
   "outputs": [
    {
     "name": "stderr",
     "output_type": "stream",
     "text": [
      "                                                                                \r"
     ]
    },
    {
     "data": {
      "text/plain": [
       "69728"
      ]
     },
     "execution_count": 8,
     "metadata": {},
     "output_type": "execute_result"
    }
   ],
   "source": [
    "consumer_fraud.where(F.col('fraud_probability') != 0.01).count()"
   ]
  },
  {
   "cell_type": "markdown",
   "id": "841811ad",
   "metadata": {},
   "source": [
    "About 0.4% of the consumer daily transactions is fraudulent."
   ]
  },
  {
   "cell_type": "markdown",
   "id": "7da21c9f",
   "metadata": {},
   "source": [
    "Since the proportion of non-fraud to fraud data in both merchant and consumer fraud datasets is highly imbalanced, resampling is performed on both datasets before fitting a model.\n",
    "\n",
    "For both training datasets, the proportion used is 550 samples of non-fraud data and 450 samples of fraud data. The proportion of non-fraud data is slightly higher since it represents the majority of the data."
   ]
  },
  {
   "cell_type": "code",
   "execution_count": 32,
   "id": "e4f215c2",
   "metadata": {},
   "outputs": [],
   "source": [
    "def resampling(majority, minority):\n",
    "    \"\"\"\n",
    "    Performs undersampling on the majority class (spark dataframe)\n",
    "    and oversampling on the minority class (pandas dataframe) from an imbalanced dataset. \n",
    "    Outputs resampled dataset as a pandas dataframe.\n",
    "    \"\"\"\n",
    "    \n",
    "    # define number of samples needed from each class\n",
    "    N_MAJOR = 550\n",
    "    N_MINOR = 450\n",
    "    FRAC_MAJOR = N_MAJOR / majority.count()\n",
    "    \n",
    "    # repeated sampling from the minority class\n",
    "    n_more_samples = N_MINOR - minority.shape[0] # needs to be less than no. of samples in minority\n",
    "    if n_more_samples > 0:\n",
    "        sampled_minority = pd.concat([minority, resample(minority, replace=True, n_samples=n_more_samples, random_state=0)], axis=0)\n",
    "    else:\n",
    "        sampled_minority = minority\n",
    "    \n",
    "    # undersampling from the majority class\n",
    "    sampled_majority = majority.sample(FRAC_MAJOR, seed=0).toPandas()\n",
    "    \n",
    "    # join the sampled datasets\n",
    "    resampled = pd.concat([sampled_majority, sampled_minority], axis=0)\n",
    "    \n",
    "    return resampled"
   ]
  },
  {
   "cell_type": "markdown",
   "id": "1a7c99f1",
   "metadata": {},
   "source": [
    "## Merchant fraud data"
   ]
  },
  {
   "cell_type": "markdown",
   "id": "d86a14cb",
   "metadata": {},
   "source": [
    "### Resampling data"
   ]
  },
  {
   "cell_type": "code",
   "execution_count": 10,
   "id": "e2fa04da",
   "metadata": {},
   "outputs": [
    {
     "name": "stderr",
     "output_type": "stream",
     "text": [
      "                                                                                \r"
     ]
    }
   ],
   "source": [
    "# split merchant fraud data by class\n",
    "merchant_majority = merchant_fraud.where(F.col('fraud_probability') == 0.01)\n",
    "merchant_minority = merchant_fraud.where(F.col('fraud_probability') != 0.01).toPandas()"
   ]
  },
  {
   "cell_type": "code",
   "execution_count": 42,
   "id": "0e73152a",
   "metadata": {},
   "outputs": [
    {
     "name": "stderr",
     "output_type": "stream",
     "text": [
      "                                                                                \r"
     ]
    }
   ],
   "source": [
    "# obtain resampled dataset for modelling\n",
    "merchant_resampled = resampling(merchant_majority, merchant_minority)"
   ]
  },
  {
   "cell_type": "code",
   "execution_count": 43,
   "id": "4165812f",
   "metadata": {},
   "outputs": [
    {
     "data": {
      "text/html": [
       "<div>\n",
       "<style scoped>\n",
       "    .dataframe tbody tr th:only-of-type {\n",
       "        vertical-align: middle;\n",
       "    }\n",
       "\n",
       "    .dataframe tbody tr th {\n",
       "        vertical-align: top;\n",
       "    }\n",
       "\n",
       "    .dataframe thead th {\n",
       "        text-align: right;\n",
       "    }\n",
       "</style>\n",
       "<table border=\"1\" class=\"dataframe\">\n",
       "  <thead>\n",
       "    <tr style=\"text-align: right;\">\n",
       "      <th></th>\n",
       "      <th>merchant_abn</th>\n",
       "      <th>order_datetime</th>\n",
       "      <th>transaction_count</th>\n",
       "      <th>avg_transaction_amt</th>\n",
       "      <th>is_fraud</th>\n",
       "      <th>fraud_probability</th>\n",
       "    </tr>\n",
       "  </thead>\n",
       "  <tbody>\n",
       "    <tr>\n",
       "      <th>0</th>\n",
       "      <td>15269431008</td>\n",
       "      <td>2021-06-25</td>\n",
       "      <td>16</td>\n",
       "      <td>94.062315</td>\n",
       "      <td>False</td>\n",
       "      <td>0.01</td>\n",
       "    </tr>\n",
       "    <tr>\n",
       "      <th>1</th>\n",
       "      <td>26603390734</td>\n",
       "      <td>2021-08-13</td>\n",
       "      <td>2</td>\n",
       "      <td>654.763018</td>\n",
       "      <td>False</td>\n",
       "      <td>0.01</td>\n",
       "    </tr>\n",
       "    <tr>\n",
       "      <th>2</th>\n",
       "      <td>66917621463</td>\n",
       "      <td>2021-05-16</td>\n",
       "      <td>4</td>\n",
       "      <td>331.084177</td>\n",
       "      <td>False</td>\n",
       "      <td>0.01</td>\n",
       "    </tr>\n",
       "    <tr>\n",
       "      <th>3</th>\n",
       "      <td>92681936901</td>\n",
       "      <td>2021-07-21</td>\n",
       "      <td>6</td>\n",
       "      <td>259.949417</td>\n",
       "      <td>False</td>\n",
       "      <td>0.01</td>\n",
       "    </tr>\n",
       "    <tr>\n",
       "      <th>4</th>\n",
       "      <td>89022505272</td>\n",
       "      <td>2021-07-20</td>\n",
       "      <td>5</td>\n",
       "      <td>131.199399</td>\n",
       "      <td>False</td>\n",
       "      <td>0.01</td>\n",
       "    </tr>\n",
       "  </tbody>\n",
       "</table>\n",
       "</div>"
      ],
      "text/plain": [
       "   merchant_abn order_datetime  transaction_count  avg_transaction_amt  \\\n",
       "0   15269431008     2021-06-25                 16            94.062315   \n",
       "1   26603390734     2021-08-13                  2           654.763018   \n",
       "2   66917621463     2021-05-16                  4           331.084177   \n",
       "3   92681936901     2021-07-21                  6           259.949417   \n",
       "4   89022505272     2021-07-20                  5           131.199399   \n",
       "\n",
       "   is_fraud fraud_probability  \n",
       "0     False              0.01  \n",
       "1     False              0.01  \n",
       "2     False              0.01  \n",
       "3     False              0.01  \n",
       "4     False              0.01  "
      ]
     },
     "execution_count": 43,
     "metadata": {},
     "output_type": "execute_result"
    }
   ],
   "source": [
    "merchant_resampled.head()"
   ]
  },
  {
   "cell_type": "markdown",
   "id": "bc4558ae",
   "metadata": {},
   "source": [
    "### Feature engineering "
   ]
  },
  {
   "cell_type": "code",
   "execution_count": 44,
   "id": "8ae9e122",
   "metadata": {},
   "outputs": [],
   "source": [
    "# parse order datetime column to pandas' datetime\n",
    "merchant_resampled['order_datetime'] = pd.to_datetime(merchant_resampled['order_datetime'])"
   ]
  },
  {
   "cell_type": "code",
   "execution_count": 45,
   "id": "b148f1d1",
   "metadata": {},
   "outputs": [],
   "source": [
    "# create order day of week column - Monday = 0, Sunday = 6\n",
    "merchant_resampled['order_dayofweek'] = merchant_resampled['order_datetime'].dt.day_of_week"
   ]
  },
  {
   "cell_type": "code",
   "execution_count": 46,
   "id": "6da85a50",
   "metadata": {},
   "outputs": [
    {
     "data": {
      "text/html": [
       "<div>\n",
       "<style scoped>\n",
       "    .dataframe tbody tr th:only-of-type {\n",
       "        vertical-align: middle;\n",
       "    }\n",
       "\n",
       "    .dataframe tbody tr th {\n",
       "        vertical-align: top;\n",
       "    }\n",
       "\n",
       "    .dataframe thead th {\n",
       "        text-align: right;\n",
       "    }\n",
       "</style>\n",
       "<table border=\"1\" class=\"dataframe\">\n",
       "  <thead>\n",
       "    <tr style=\"text-align: right;\">\n",
       "      <th></th>\n",
       "      <th>merchant_abn</th>\n",
       "      <th>order_datetime</th>\n",
       "      <th>transaction_count</th>\n",
       "      <th>avg_transaction_amt</th>\n",
       "      <th>is_fraud</th>\n",
       "      <th>fraud_probability</th>\n",
       "      <th>dow_0</th>\n",
       "      <th>dow_1</th>\n",
       "      <th>dow_2</th>\n",
       "      <th>dow_3</th>\n",
       "      <th>dow_4</th>\n",
       "      <th>dow_5</th>\n",
       "      <th>dow_6</th>\n",
       "    </tr>\n",
       "  </thead>\n",
       "  <tbody>\n",
       "    <tr>\n",
       "      <th>0</th>\n",
       "      <td>15269431008</td>\n",
       "      <td>2021-06-25</td>\n",
       "      <td>16</td>\n",
       "      <td>94.062315</td>\n",
       "      <td>False</td>\n",
       "      <td>0.01</td>\n",
       "      <td>0</td>\n",
       "      <td>0</td>\n",
       "      <td>0</td>\n",
       "      <td>0</td>\n",
       "      <td>1</td>\n",
       "      <td>0</td>\n",
       "      <td>0</td>\n",
       "    </tr>\n",
       "    <tr>\n",
       "      <th>1</th>\n",
       "      <td>26603390734</td>\n",
       "      <td>2021-08-13</td>\n",
       "      <td>2</td>\n",
       "      <td>654.763018</td>\n",
       "      <td>False</td>\n",
       "      <td>0.01</td>\n",
       "      <td>0</td>\n",
       "      <td>0</td>\n",
       "      <td>0</td>\n",
       "      <td>0</td>\n",
       "      <td>1</td>\n",
       "      <td>0</td>\n",
       "      <td>0</td>\n",
       "    </tr>\n",
       "    <tr>\n",
       "      <th>2</th>\n",
       "      <td>66917621463</td>\n",
       "      <td>2021-05-16</td>\n",
       "      <td>4</td>\n",
       "      <td>331.084177</td>\n",
       "      <td>False</td>\n",
       "      <td>0.01</td>\n",
       "      <td>0</td>\n",
       "      <td>0</td>\n",
       "      <td>0</td>\n",
       "      <td>0</td>\n",
       "      <td>0</td>\n",
       "      <td>0</td>\n",
       "      <td>1</td>\n",
       "    </tr>\n",
       "    <tr>\n",
       "      <th>3</th>\n",
       "      <td>92681936901</td>\n",
       "      <td>2021-07-21</td>\n",
       "      <td>6</td>\n",
       "      <td>259.949417</td>\n",
       "      <td>False</td>\n",
       "      <td>0.01</td>\n",
       "      <td>0</td>\n",
       "      <td>0</td>\n",
       "      <td>1</td>\n",
       "      <td>0</td>\n",
       "      <td>0</td>\n",
       "      <td>0</td>\n",
       "      <td>0</td>\n",
       "    </tr>\n",
       "    <tr>\n",
       "      <th>4</th>\n",
       "      <td>89022505272</td>\n",
       "      <td>2021-07-20</td>\n",
       "      <td>5</td>\n",
       "      <td>131.199399</td>\n",
       "      <td>False</td>\n",
       "      <td>0.01</td>\n",
       "      <td>0</td>\n",
       "      <td>1</td>\n",
       "      <td>0</td>\n",
       "      <td>0</td>\n",
       "      <td>0</td>\n",
       "      <td>0</td>\n",
       "      <td>0</td>\n",
       "    </tr>\n",
       "  </tbody>\n",
       "</table>\n",
       "</div>"
      ],
      "text/plain": [
       "   merchant_abn order_datetime  transaction_count  avg_transaction_amt  \\\n",
       "0   15269431008     2021-06-25                 16            94.062315   \n",
       "1   26603390734     2021-08-13                  2           654.763018   \n",
       "2   66917621463     2021-05-16                  4           331.084177   \n",
       "3   92681936901     2021-07-21                  6           259.949417   \n",
       "4   89022505272     2021-07-20                  5           131.199399   \n",
       "\n",
       "   is_fraud fraud_probability  dow_0  dow_1  dow_2  dow_3  dow_4  dow_5  dow_6  \n",
       "0     False              0.01      0      0      0      0      1      0      0  \n",
       "1     False              0.01      0      0      0      0      1      0      0  \n",
       "2     False              0.01      0      0      0      0      0      0      1  \n",
       "3     False              0.01      0      0      1      0      0      0      0  \n",
       "4     False              0.01      0      1      0      0      0      0      0  "
      ]
     },
     "execution_count": 46,
     "metadata": {},
     "output_type": "execute_result"
    }
   ],
   "source": [
    "# one-hot encoding on order day of week column\n",
    "merchant_resampled = pd.get_dummies(data=merchant_resampled, prefix='dow', columns=['order_dayofweek'])\n",
    "\n",
    "merchant_resampled.head()"
   ]
  },
  {
   "cell_type": "code",
   "execution_count": 47,
   "id": "d02d1cc3",
   "metadata": {},
   "outputs": [],
   "source": [
    "# split dataset into predictors and target variables\n",
    "X = pd.concat([merchant_resampled.iloc[:,2:4], merchant_resampled.iloc[:,6:]], axis=1)\n",
    "y = merchant_resampled.iloc[:,4]"
   ]
  },
  {
   "cell_type": "code",
   "execution_count": 48,
   "id": "fab0a8c4",
   "metadata": {},
   "outputs": [
    {
     "data": {
      "text/html": [
       "<div>\n",
       "<style scoped>\n",
       "    .dataframe tbody tr th:only-of-type {\n",
       "        vertical-align: middle;\n",
       "    }\n",
       "\n",
       "    .dataframe tbody tr th {\n",
       "        vertical-align: top;\n",
       "    }\n",
       "\n",
       "    .dataframe thead th {\n",
       "        text-align: right;\n",
       "    }\n",
       "</style>\n",
       "<table border=\"1\" class=\"dataframe\">\n",
       "  <thead>\n",
       "    <tr style=\"text-align: right;\">\n",
       "      <th></th>\n",
       "      <th>transaction_count</th>\n",
       "      <th>avg_transaction_amt</th>\n",
       "      <th>dow_0</th>\n",
       "      <th>dow_1</th>\n",
       "      <th>dow_2</th>\n",
       "      <th>dow_3</th>\n",
       "      <th>dow_4</th>\n",
       "      <th>dow_5</th>\n",
       "      <th>dow_6</th>\n",
       "    </tr>\n",
       "  </thead>\n",
       "  <tbody>\n",
       "    <tr>\n",
       "      <th>0</th>\n",
       "      <td>16</td>\n",
       "      <td>94.062315</td>\n",
       "      <td>0</td>\n",
       "      <td>0</td>\n",
       "      <td>0</td>\n",
       "      <td>0</td>\n",
       "      <td>1</td>\n",
       "      <td>0</td>\n",
       "      <td>0</td>\n",
       "    </tr>\n",
       "    <tr>\n",
       "      <th>1</th>\n",
       "      <td>2</td>\n",
       "      <td>654.763018</td>\n",
       "      <td>0</td>\n",
       "      <td>0</td>\n",
       "      <td>0</td>\n",
       "      <td>0</td>\n",
       "      <td>1</td>\n",
       "      <td>0</td>\n",
       "      <td>0</td>\n",
       "    </tr>\n",
       "    <tr>\n",
       "      <th>2</th>\n",
       "      <td>4</td>\n",
       "      <td>331.084177</td>\n",
       "      <td>0</td>\n",
       "      <td>0</td>\n",
       "      <td>0</td>\n",
       "      <td>0</td>\n",
       "      <td>0</td>\n",
       "      <td>0</td>\n",
       "      <td>1</td>\n",
       "    </tr>\n",
       "    <tr>\n",
       "      <th>3</th>\n",
       "      <td>6</td>\n",
       "      <td>259.949417</td>\n",
       "      <td>0</td>\n",
       "      <td>0</td>\n",
       "      <td>1</td>\n",
       "      <td>0</td>\n",
       "      <td>0</td>\n",
       "      <td>0</td>\n",
       "      <td>0</td>\n",
       "    </tr>\n",
       "    <tr>\n",
       "      <th>4</th>\n",
       "      <td>5</td>\n",
       "      <td>131.199399</td>\n",
       "      <td>0</td>\n",
       "      <td>1</td>\n",
       "      <td>0</td>\n",
       "      <td>0</td>\n",
       "      <td>0</td>\n",
       "      <td>0</td>\n",
       "      <td>0</td>\n",
       "    </tr>\n",
       "  </tbody>\n",
       "</table>\n",
       "</div>"
      ],
      "text/plain": [
       "   transaction_count  avg_transaction_amt  dow_0  dow_1  dow_2  dow_3  dow_4  \\\n",
       "0                 16            94.062315      0      0      0      0      1   \n",
       "1                  2           654.763018      0      0      0      0      1   \n",
       "2                  4           331.084177      0      0      0      0      0   \n",
       "3                  6           259.949417      0      0      1      0      0   \n",
       "4                  5           131.199399      0      1      0      0      0   \n",
       "\n",
       "   dow_5  dow_6  \n",
       "0      0      0  \n",
       "1      0      0  \n",
       "2      0      1  \n",
       "3      0      0  \n",
       "4      0      0  "
      ]
     },
     "execution_count": 48,
     "metadata": {},
     "output_type": "execute_result"
    }
   ],
   "source": [
    "X.head()"
   ]
  },
  {
   "cell_type": "code",
   "execution_count": 49,
   "id": "ce39a6cd",
   "metadata": {},
   "outputs": [],
   "source": [
    "# convert target variable from boolean to integers\n",
    "y = y.replace({True: 1, False: 0})"
   ]
  },
  {
   "cell_type": "markdown",
   "id": "ea21cb03",
   "metadata": {},
   "source": [
    "### Model fitting"
   ]
  },
  {
   "cell_type": "code",
   "execution_count": 52,
   "id": "5037d4d7",
   "metadata": {},
   "outputs": [
    {
     "name": "stdout",
     "output_type": "stream",
     "text": [
      "[0.9        0.93617021 0.94528875]\n",
      "Average cross-validation score:  0.9271529888551164\n"
     ]
    },
    {
     "name": "stderr",
     "output_type": "stream",
     "text": [
      "/home/seenyanl/.local/lib/python3.8/site-packages/sklearn/linear_model/_logistic.py:444: ConvergenceWarning: lbfgs failed to converge (status=1):\n",
      "STOP: TOTAL NO. of ITERATIONS REACHED LIMIT.\n",
      "\n",
      "Increase the number of iterations (max_iter) or scale the data as shown in:\n",
      "    https://scikit-learn.org/stable/modules/preprocessing.html\n",
      "Please also refer to the documentation for alternative solver options:\n",
      "    https://scikit-learn.org/stable/modules/linear_model.html#logistic-regression\n",
      "  n_iter_i = _check_optimize_result(\n"
     ]
    }
   ],
   "source": [
    "# cross validation\n",
    "lgr_merchant = LogisticRegression(max_iter=250)\n",
    "cv_scores = cross_val_score(lgr_merchant, X, y, cv=3)\n",
    "print(cv_scores)\n",
    "print('Average cross-validation score: ', np.mean(cv_scores))"
   ]
  },
  {
   "cell_type": "markdown",
   "id": "b6d7253f",
   "metadata": {},
   "source": [
    "## Consumer fraud data"
   ]
  },
  {
   "cell_type": "markdown",
   "id": "382cb066",
   "metadata": {},
   "source": [
    "Apply the same pipeline to consumer fraud dataset."
   ]
  },
  {
   "cell_type": "markdown",
   "id": "47daac7d",
   "metadata": {},
   "source": [
    "### Resampling data"
   ]
  },
  {
   "cell_type": "code",
   "execution_count": 22,
   "id": "e251f03f",
   "metadata": {},
   "outputs": [
    {
     "name": "stderr",
     "output_type": "stream",
     "text": [
      "                                                                                \r"
     ]
    }
   ],
   "source": [
    "# split consumer fraud data by class\n",
    "consumer_majority = consumer_fraud.where(F.col('fraud_probability') == 0.01)\n",
    "consumer_minority = consumer_fraud.where(F.col('fraud_probability') != 0.01).toPandas()"
   ]
  },
  {
   "cell_type": "code",
   "execution_count": 33,
   "id": "ffc3b952",
   "metadata": {},
   "outputs": [
    {
     "name": "stderr",
     "output_type": "stream",
     "text": [
      "[Stage 39:>                                                         (0 + 8) / 9]\r"
     ]
    },
    {
     "name": "stdout",
     "output_type": "stream",
     "text": [
      "22/09/23 14:48:16 WARN NettyRpcEnv: Ignored failure: java.util.concurrent.TimeoutException: Cannot receive any reply from 172.20.189.237:33067 in 10000 milliseconds\n"
     ]
    },
    {
     "name": "stderr",
     "output_type": "stream",
     "text": [
      "                                                                                \r"
     ]
    }
   ],
   "source": [
    "# obtain resampled dataset for modelling\n",
    "consumer_resampled = resampling(consumer_majority, consumer_minority)"
   ]
  },
  {
   "cell_type": "code",
   "execution_count": 34,
   "id": "41b01560",
   "metadata": {},
   "outputs": [
    {
     "data": {
      "text/html": [
       "<div>\n",
       "<style scoped>\n",
       "    .dataframe tbody tr th:only-of-type {\n",
       "        vertical-align: middle;\n",
       "    }\n",
       "\n",
       "    .dataframe tbody tr th {\n",
       "        vertical-align: top;\n",
       "    }\n",
       "\n",
       "    .dataframe thead th {\n",
       "        text-align: right;\n",
       "    }\n",
       "</style>\n",
       "<table border=\"1\" class=\"dataframe\">\n",
       "  <thead>\n",
       "    <tr style=\"text-align: right;\">\n",
       "      <th></th>\n",
       "      <th>user_id</th>\n",
       "      <th>order_datetime</th>\n",
       "      <th>transaction_count</th>\n",
       "      <th>avg_transaction_amt</th>\n",
       "      <th>is_fraud</th>\n",
       "      <th>fraud_probability</th>\n",
       "    </tr>\n",
       "  </thead>\n",
       "  <tbody>\n",
       "    <tr>\n",
       "      <th>0</th>\n",
       "      <td>15788</td>\n",
       "      <td>2021-08-15</td>\n",
       "      <td>1</td>\n",
       "      <td>201.365642</td>\n",
       "      <td>False</td>\n",
       "      <td>0.01</td>\n",
       "    </tr>\n",
       "    <tr>\n",
       "      <th>1</th>\n",
       "      <td>21853</td>\n",
       "      <td>2021-08-27</td>\n",
       "      <td>1</td>\n",
       "      <td>16.136864</td>\n",
       "      <td>False</td>\n",
       "      <td>0.01</td>\n",
       "    </tr>\n",
       "    <tr>\n",
       "      <th>2</th>\n",
       "      <td>11998</td>\n",
       "      <td>2021-08-18</td>\n",
       "      <td>1</td>\n",
       "      <td>399.775259</td>\n",
       "      <td>False</td>\n",
       "      <td>0.01</td>\n",
       "    </tr>\n",
       "    <tr>\n",
       "      <th>3</th>\n",
       "      <td>12029</td>\n",
       "      <td>2021-06-18</td>\n",
       "      <td>2</td>\n",
       "      <td>28.930171</td>\n",
       "      <td>False</td>\n",
       "      <td>0.01</td>\n",
       "    </tr>\n",
       "    <tr>\n",
       "      <th>4</th>\n",
       "      <td>960</td>\n",
       "      <td>2021-08-03</td>\n",
       "      <td>2</td>\n",
       "      <td>47.653247</td>\n",
       "      <td>False</td>\n",
       "      <td>0.01</td>\n",
       "    </tr>\n",
       "  </tbody>\n",
       "</table>\n",
       "</div>"
      ],
      "text/plain": [
       "   user_id order_datetime  transaction_count  avg_transaction_amt  is_fraud  \\\n",
       "0    15788     2021-08-15                  1           201.365642     False   \n",
       "1    21853     2021-08-27                  1            16.136864     False   \n",
       "2    11998     2021-08-18                  1           399.775259     False   \n",
       "3    12029     2021-06-18                  2            28.930171     False   \n",
       "4      960     2021-08-03                  2            47.653247     False   \n",
       "\n",
       "  fraud_probability  \n",
       "0              0.01  \n",
       "1              0.01  \n",
       "2              0.01  \n",
       "3              0.01  \n",
       "4              0.01  "
      ]
     },
     "execution_count": 34,
     "metadata": {},
     "output_type": "execute_result"
    }
   ],
   "source": [
    "consumer_resampled.head()"
   ]
  },
  {
   "cell_type": "markdown",
   "id": "6af5f6f0",
   "metadata": {},
   "source": [
    "### Feature engineering"
   ]
  },
  {
   "cell_type": "code",
   "execution_count": 35,
   "id": "d133fff6",
   "metadata": {},
   "outputs": [],
   "source": [
    "# parse order datetime column to pandas' datetime\n",
    "consumer_resampled['order_datetime'] = pd.to_datetime(consumer_resampled['order_datetime'])"
   ]
  },
  {
   "cell_type": "code",
   "execution_count": 36,
   "id": "69c422e5",
   "metadata": {},
   "outputs": [],
   "source": [
    "# create order day of week column - Monday = 0, Sunday = 6\n",
    "consumer_resampled['order_dayofweek'] = consumer_resampled['order_datetime'].dt.day_of_week"
   ]
  },
  {
   "cell_type": "code",
   "execution_count": 37,
   "id": "d0c7d142",
   "metadata": {},
   "outputs": [
    {
     "data": {
      "text/html": [
       "<div>\n",
       "<style scoped>\n",
       "    .dataframe tbody tr th:only-of-type {\n",
       "        vertical-align: middle;\n",
       "    }\n",
       "\n",
       "    .dataframe tbody tr th {\n",
       "        vertical-align: top;\n",
       "    }\n",
       "\n",
       "    .dataframe thead th {\n",
       "        text-align: right;\n",
       "    }\n",
       "</style>\n",
       "<table border=\"1\" class=\"dataframe\">\n",
       "  <thead>\n",
       "    <tr style=\"text-align: right;\">\n",
       "      <th></th>\n",
       "      <th>user_id</th>\n",
       "      <th>order_datetime</th>\n",
       "      <th>transaction_count</th>\n",
       "      <th>avg_transaction_amt</th>\n",
       "      <th>is_fraud</th>\n",
       "      <th>fraud_probability</th>\n",
       "      <th>dow_0</th>\n",
       "      <th>dow_1</th>\n",
       "      <th>dow_2</th>\n",
       "      <th>dow_3</th>\n",
       "      <th>dow_4</th>\n",
       "      <th>dow_5</th>\n",
       "      <th>dow_6</th>\n",
       "    </tr>\n",
       "  </thead>\n",
       "  <tbody>\n",
       "    <tr>\n",
       "      <th>0</th>\n",
       "      <td>15788</td>\n",
       "      <td>2021-08-15</td>\n",
       "      <td>1</td>\n",
       "      <td>201.365642</td>\n",
       "      <td>False</td>\n",
       "      <td>0.01</td>\n",
       "      <td>0</td>\n",
       "      <td>0</td>\n",
       "      <td>0</td>\n",
       "      <td>0</td>\n",
       "      <td>0</td>\n",
       "      <td>0</td>\n",
       "      <td>1</td>\n",
       "    </tr>\n",
       "    <tr>\n",
       "      <th>1</th>\n",
       "      <td>21853</td>\n",
       "      <td>2021-08-27</td>\n",
       "      <td>1</td>\n",
       "      <td>16.136864</td>\n",
       "      <td>False</td>\n",
       "      <td>0.01</td>\n",
       "      <td>0</td>\n",
       "      <td>0</td>\n",
       "      <td>0</td>\n",
       "      <td>0</td>\n",
       "      <td>1</td>\n",
       "      <td>0</td>\n",
       "      <td>0</td>\n",
       "    </tr>\n",
       "    <tr>\n",
       "      <th>2</th>\n",
       "      <td>11998</td>\n",
       "      <td>2021-08-18</td>\n",
       "      <td>1</td>\n",
       "      <td>399.775259</td>\n",
       "      <td>False</td>\n",
       "      <td>0.01</td>\n",
       "      <td>0</td>\n",
       "      <td>0</td>\n",
       "      <td>1</td>\n",
       "      <td>0</td>\n",
       "      <td>0</td>\n",
       "      <td>0</td>\n",
       "      <td>0</td>\n",
       "    </tr>\n",
       "    <tr>\n",
       "      <th>3</th>\n",
       "      <td>12029</td>\n",
       "      <td>2021-06-18</td>\n",
       "      <td>2</td>\n",
       "      <td>28.930171</td>\n",
       "      <td>False</td>\n",
       "      <td>0.01</td>\n",
       "      <td>0</td>\n",
       "      <td>0</td>\n",
       "      <td>0</td>\n",
       "      <td>0</td>\n",
       "      <td>1</td>\n",
       "      <td>0</td>\n",
       "      <td>0</td>\n",
       "    </tr>\n",
       "    <tr>\n",
       "      <th>4</th>\n",
       "      <td>960</td>\n",
       "      <td>2021-08-03</td>\n",
       "      <td>2</td>\n",
       "      <td>47.653247</td>\n",
       "      <td>False</td>\n",
       "      <td>0.01</td>\n",
       "      <td>0</td>\n",
       "      <td>1</td>\n",
       "      <td>0</td>\n",
       "      <td>0</td>\n",
       "      <td>0</td>\n",
       "      <td>0</td>\n",
       "      <td>0</td>\n",
       "    </tr>\n",
       "  </tbody>\n",
       "</table>\n",
       "</div>"
      ],
      "text/plain": [
       "   user_id order_datetime  transaction_count  avg_transaction_amt  is_fraud  \\\n",
       "0    15788     2021-08-15                  1           201.365642     False   \n",
       "1    21853     2021-08-27                  1            16.136864     False   \n",
       "2    11998     2021-08-18                  1           399.775259     False   \n",
       "3    12029     2021-06-18                  2            28.930171     False   \n",
       "4      960     2021-08-03                  2            47.653247     False   \n",
       "\n",
       "  fraud_probability  dow_0  dow_1  dow_2  dow_3  dow_4  dow_5  dow_6  \n",
       "0              0.01      0      0      0      0      0      0      1  \n",
       "1              0.01      0      0      0      0      1      0      0  \n",
       "2              0.01      0      0      1      0      0      0      0  \n",
       "3              0.01      0      0      0      0      1      0      0  \n",
       "4              0.01      0      1      0      0      0      0      0  "
      ]
     },
     "execution_count": 37,
     "metadata": {},
     "output_type": "execute_result"
    }
   ],
   "source": [
    "# one-hot encoding on order day of week column\n",
    "consumer_resampled = pd.get_dummies(data=consumer_resampled, prefix='dow', columns=['order_dayofweek'])\n",
    "\n",
    "consumer_resampled.head()"
   ]
  },
  {
   "cell_type": "code",
   "execution_count": 38,
   "id": "3828a86b",
   "metadata": {},
   "outputs": [],
   "source": [
    "# split dataset into predictors and target variables\n",
    "X = pd.concat([consumer_resampled.iloc[:,2:4], consumer_resampled.iloc[:,6:]], axis=1)\n",
    "y = consumer_resampled.iloc[:,4]"
   ]
  },
  {
   "cell_type": "code",
   "execution_count": 39,
   "id": "27374f81",
   "metadata": {},
   "outputs": [
    {
     "data": {
      "text/html": [
       "<div>\n",
       "<style scoped>\n",
       "    .dataframe tbody tr th:only-of-type {\n",
       "        vertical-align: middle;\n",
       "    }\n",
       "\n",
       "    .dataframe tbody tr th {\n",
       "        vertical-align: top;\n",
       "    }\n",
       "\n",
       "    .dataframe thead th {\n",
       "        text-align: right;\n",
       "    }\n",
       "</style>\n",
       "<table border=\"1\" class=\"dataframe\">\n",
       "  <thead>\n",
       "    <tr style=\"text-align: right;\">\n",
       "      <th></th>\n",
       "      <th>transaction_count</th>\n",
       "      <th>avg_transaction_amt</th>\n",
       "      <th>dow_0</th>\n",
       "      <th>dow_1</th>\n",
       "      <th>dow_2</th>\n",
       "      <th>dow_3</th>\n",
       "      <th>dow_4</th>\n",
       "      <th>dow_5</th>\n",
       "      <th>dow_6</th>\n",
       "    </tr>\n",
       "  </thead>\n",
       "  <tbody>\n",
       "    <tr>\n",
       "      <th>0</th>\n",
       "      <td>1</td>\n",
       "      <td>201.365642</td>\n",
       "      <td>0</td>\n",
       "      <td>0</td>\n",
       "      <td>0</td>\n",
       "      <td>0</td>\n",
       "      <td>0</td>\n",
       "      <td>0</td>\n",
       "      <td>1</td>\n",
       "    </tr>\n",
       "    <tr>\n",
       "      <th>1</th>\n",
       "      <td>1</td>\n",
       "      <td>16.136864</td>\n",
       "      <td>0</td>\n",
       "      <td>0</td>\n",
       "      <td>0</td>\n",
       "      <td>0</td>\n",
       "      <td>1</td>\n",
       "      <td>0</td>\n",
       "      <td>0</td>\n",
       "    </tr>\n",
       "    <tr>\n",
       "      <th>2</th>\n",
       "      <td>1</td>\n",
       "      <td>399.775259</td>\n",
       "      <td>0</td>\n",
       "      <td>0</td>\n",
       "      <td>1</td>\n",
       "      <td>0</td>\n",
       "      <td>0</td>\n",
       "      <td>0</td>\n",
       "      <td>0</td>\n",
       "    </tr>\n",
       "    <tr>\n",
       "      <th>3</th>\n",
       "      <td>2</td>\n",
       "      <td>28.930171</td>\n",
       "      <td>0</td>\n",
       "      <td>0</td>\n",
       "      <td>0</td>\n",
       "      <td>0</td>\n",
       "      <td>1</td>\n",
       "      <td>0</td>\n",
       "      <td>0</td>\n",
       "    </tr>\n",
       "    <tr>\n",
       "      <th>4</th>\n",
       "      <td>2</td>\n",
       "      <td>47.653247</td>\n",
       "      <td>0</td>\n",
       "      <td>1</td>\n",
       "      <td>0</td>\n",
       "      <td>0</td>\n",
       "      <td>0</td>\n",
       "      <td>0</td>\n",
       "      <td>0</td>\n",
       "    </tr>\n",
       "  </tbody>\n",
       "</table>\n",
       "</div>"
      ],
      "text/plain": [
       "   transaction_count  avg_transaction_amt  dow_0  dow_1  dow_2  dow_3  dow_4  \\\n",
       "0                  1           201.365642      0      0      0      0      0   \n",
       "1                  1            16.136864      0      0      0      0      1   \n",
       "2                  1           399.775259      0      0      1      0      0   \n",
       "3                  2            28.930171      0      0      0      0      1   \n",
       "4                  2            47.653247      0      1      0      0      0   \n",
       "\n",
       "   dow_5  dow_6  \n",
       "0      0      1  \n",
       "1      0      0  \n",
       "2      0      0  \n",
       "3      0      0  \n",
       "4      0      0  "
      ]
     },
     "execution_count": 39,
     "metadata": {},
     "output_type": "execute_result"
    }
   ],
   "source": [
    "X.head()"
   ]
  },
  {
   "cell_type": "code",
   "execution_count": 40,
   "id": "7267c2ef",
   "metadata": {},
   "outputs": [],
   "source": [
    "# convert target variable from boolean to integers\n",
    "y = y.replace({True: 1, False: 0})"
   ]
  },
  {
   "cell_type": "code",
   "execution_count": 41,
   "id": "2882455e",
   "metadata": {},
   "outputs": [
    {
     "name": "stdout",
     "output_type": "stream",
     "text": [
      "[0.99953044 0.999317   0.9996158 ]\n",
      "Average cross-validation score:  0.9994877431884102\n"
     ]
    }
   ],
   "source": [
    "lgr_consumer = LogisticRegression(max_iter=250)\n",
    "cv_scores = cross_val_score(lgr_consumer, X, y, cv=3)\n",
    "print(cv_scores)\n",
    "print('Average cross-validation score: ', np.mean(cv_scores))"
   ]
  },
  {
   "cell_type": "markdown",
   "id": "da3fe24d",
   "metadata": {},
   "source": [
    "## Generating predictions for full datasets"
   ]
  },
  {
   "cell_type": "code",
   "execution_count": null,
   "id": "bc587d18",
   "metadata": {
    "scrolled": true
   },
   "outputs": [],
   "source": [
    "df_merchant = pd.read_parquet('../data/curated/merchant_fraud.parquet')\n",
    "df_consumer = pd.read_parquet('../data/curated/consumer_fraud.parquet')"
   ]
  },
  {
   "cell_type": "code",
   "execution_count": null,
   "id": "ceab03e3",
   "metadata": {
    "scrolled": false
   },
   "outputs": [],
   "source": [
    "# df_merchant = merchant_fraud.toPandas()\n",
    "# df_consumer = consumer_fraud.toPandas()"
   ]
  },
  {
   "cell_type": "markdown",
   "id": "5ba71220",
   "metadata": {},
   "source": [
    "Predictions for merchant."
   ]
  },
  {
   "cell_type": "code",
   "execution_count": null,
   "id": "561ab855",
   "metadata": {},
   "outputs": [],
   "source": [
    "# order day of week feature engineering\n",
    "df_merchant['order_datetime'] = pd.to_datetime(df_merchant['order_datetime'])\n",
    "df_merchant['order_dayofweek'] = df_merchant['order_datetime'].dt.day_of_week\n",
    "df_merchant = pd.get_dummies(data=df_merchant, prefix='dow', columns=['order_dayofweek'])\n",
    "\n",
    "df_merchant.head()"
   ]
  },
  {
   "cell_type": "code",
   "execution_count": null,
   "id": "1aa90f5a",
   "metadata": {},
   "outputs": [],
   "source": [
    "# get predictor and target variables\n",
    "X_merchant = pd.concat([df_merchant.iloc[:,2:4], df_merchant.iloc[:,6:]], axis=1)\n",
    "y_merchant = df_merchant.iloc[:,4]\n",
    "y_merchant = y_merchant.replace({True: 1, False: 0})"
   ]
  },
  {
   "cell_type": "code",
   "execution_count": null,
   "id": "5ab66cf1",
   "metadata": {},
   "outputs": [],
   "source": [
    "# get predictions\n",
    "y_merchant_pred = lgr_merchant.predict(X_merchant)\n",
    "print(lgr_merchant.score(y_merchant, y_merchant_pred))"
   ]
  },
  {
   "cell_type": "markdown",
   "id": "16abea48",
   "metadata": {},
   "source": [
    "Predictions for consumer."
   ]
  },
  {
   "cell_type": "code",
   "execution_count": null,
   "id": "0513dd38",
   "metadata": {},
   "outputs": [],
   "source": [
    "# order day of week feature engineering\n",
    "df_consumer['order_datetime'] = pd.to_datetime(df_consumer['order_datetime'])\n",
    "df_consumer['order_dayofweek'] = df_consumer['order_datetime'].dt.day_of_week\n",
    "df_consumer = pd.get_dummies(data=df_consumer, prefix='dow', columns=['order_dayofweek'])\n",
    "\n",
    "df_consumer.head()"
   ]
  },
  {
   "cell_type": "code",
   "execution_count": null,
   "id": "e77d06d2",
   "metadata": {},
   "outputs": [],
   "source": [
    "# get predictor and target variables\n",
    "X_consumer = pd.concat([df_consumer.iloc[:,2:4], df_consumer.iloc[:,6:]], axis=1)\n",
    "y_consumer = df_consumer.iloc[:,4]\n",
    "y_consumer = y_consumer.replace({True: 1, False: 0})"
   ]
  },
  {
   "cell_type": "code",
   "execution_count": null,
   "id": "b9840bd1",
   "metadata": {},
   "outputs": [],
   "source": [
    "# get predictions\n",
    "y_consumer_pred = lgr_consumer.predict(X_consumer)\n",
    "print(lgr_consumer.score(y_consumer, y_consumer_pred))"
   ]
  }
 ],
 "metadata": {
  "kernelspec": {
   "display_name": "Python 3 (ipykernel)",
   "language": "python",
   "name": "python3"
  },
  "language_info": {
   "codemirror_mode": {
    "name": "ipython",
    "version": 3
   },
   "file_extension": ".py",
   "mimetype": "text/x-python",
   "name": "python",
   "nbconvert_exporter": "python",
   "pygments_lexer": "ipython3",
   "version": "3.8.10"
  }
 },
 "nbformat": 4,
 "nbformat_minor": 5
}
