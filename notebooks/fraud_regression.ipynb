{
 "cells": [
  {
   "cell_type": "code",
   "execution_count": 1,
   "id": "a99fefcd",
   "metadata": {},
   "outputs": [
    {
     "name": "stdout",
     "output_type": "stream",
     "text": [
      "22/09/26 16:22:16 WARN Utils: Your hostname, RPro.local resolves to a loopback address: 127.0.0.1; using 10.32.178.129 instead (on interface en0)\n",
      "22/09/26 16:22:16 WARN Utils: Set SPARK_LOCAL_IP if you need to bind to another address\n"
     ]
    },
    {
     "name": "stderr",
     "output_type": "stream",
     "text": [
      "Setting default log level to \"WARN\".\n",
      "To adjust logging level use sc.setLogLevel(newLevel). For SparkR, use setLogLevel(newLevel).\n"
     ]
    },
    {
     "name": "stdout",
     "output_type": "stream",
     "text": [
      "22/09/26 16:22:16 WARN NativeCodeLoader: Unable to load native-hadoop library for your platform... using builtin-java classes where applicable\n"
     ]
    }
   ],
   "source": [
    "from pyspark.sql import SparkSession, functions as F\n",
    "\n",
    "spark = (\n",
    "    SparkSession.builder.appName(\"Regression\")\n",
    "    .config(\"spark.sql.repl.eagerEval.enabled\", True) \n",
    "    .config(\"spark.sql.parquet.cacheMetadata\", \"true\")\n",
    "    .config(\"spark.sql.session.timeZone\", \"Etc/UTC\")\n",
    "    .config(\"spark.executor.memory\", \"2g\")\n",
    "    .config(\"spark.driver.memory\", \"4g\")\n",
    "    .getOrCreate()\n",
    ")"
   ]
  },
  {
   "cell_type": "code",
   "execution_count": 6,
   "id": "106928fe",
   "metadata": {},
   "outputs": [],
   "source": [
    "import numpy as np\n",
    "import pandas as pd\n",
    "from sklearn.linear_model import LogisticRegression\n",
    "from sklearn.model_selection import cross_val_score\n",
    "from sklearn.utils import resample"
   ]
  },
  {
   "cell_type": "code",
   "execution_count": 72,
   "id": "b2b0ba1e",
   "metadata": {},
   "outputs": [],
   "source": [
    "# read in datasets\n",
    "merchant_fraud = spark.read.parquet('../data/curated/merchant_fraud.parquet')\n",
    "consumer_fraud = spark.read.parquet('../data/curated/consumer_fraud.parquet')"
   ]
  },
  {
   "cell_type": "code",
   "execution_count": 73,
   "id": "ae53333e",
   "metadata": {},
   "outputs": [
    {
     "data": {
      "text/html": [
       "<table border='1'>\n",
       "<tr><th>merchant_abn</th><th>order_datetime</th><th>transaction_count</th><th>avg_transaction_amt</th><th>is_fraud</th><th>fraud_probability</th></tr>\n",
       "<tr><td>38700038932</td><td>2021-08-20</td><td>14</td><td>1524.9292206627556</td><td>false</td><td>0.01</td></tr>\n",
       "<tr><td>89502033586</td><td>2021-08-20</td><td>40</td><td>65.44754598876243</td><td>false</td><td>0.01</td></tr>\n",
       "<tr><td>70610974780</td><td>2021-08-20</td><td>27</td><td>43.48907978704201</td><td>false</td><td>0.01</td></tr>\n",
       "<tr><td>29550468444</td><td>2021-08-20</td><td>4</td><td>157.0</td><td>false</td><td>0.01</td></tr>\n",
       "<tr><td>92075595936</td><td>2021-08-20</td><td>12</td><td>95.50018824235849</td><td>false</td><td>0.01</td></tr>\n",
       "<tr><td>62422038748</td><td>2021-08-20</td><td>1</td><td>2442.1698743679544</td><td>false</td><td>0.01</td></tr>\n",
       "<tr><td>32894483068</td><td>2021-08-20</td><td>1</td><td>228.6561829721828</td><td>false</td><td>0.01</td></tr>\n",
       "<tr><td>55958301764</td><td>2021-08-20</td><td>6</td><td>281.354343839723</td><td>false</td><td>0.01</td></tr>\n",
       "<tr><td>12543580354</td><td>2021-08-20</td><td>12</td><td>262.53675367314503</td><td>false</td><td>0.01</td></tr>\n",
       "<tr><td>26008308191</td><td>2021-08-20</td><td>6</td><td>241.04606090655918</td><td>false</td><td>0.01</td></tr>\n",
       "</table>\n"
      ],
      "text/plain": [
       "+------------+--------------+-----------------+-------------------+--------+-----------------+\n",
       "|merchant_abn|order_datetime|transaction_count|avg_transaction_amt|is_fraud|fraud_probability|\n",
       "+------------+--------------+-----------------+-------------------+--------+-----------------+\n",
       "| 38700038932|    2021-08-20|               14| 1524.9292206627556|   false|             0.01|\n",
       "| 89502033586|    2021-08-20|               40|  65.44754598876243|   false|             0.01|\n",
       "| 70610974780|    2021-08-20|               27|  43.48907978704201|   false|             0.01|\n",
       "| 29550468444|    2021-08-20|                4|              157.0|   false|             0.01|\n",
       "| 92075595936|    2021-08-20|               12|  95.50018824235849|   false|             0.01|\n",
       "| 62422038748|    2021-08-20|                1| 2442.1698743679544|   false|             0.01|\n",
       "| 32894483068|    2021-08-20|                1|  228.6561829721828|   false|             0.01|\n",
       "| 55958301764|    2021-08-20|                6|   281.354343839723|   false|             0.01|\n",
       "| 12543580354|    2021-08-20|               12| 262.53675367314503|   false|             0.01|\n",
       "| 26008308191|    2021-08-20|                6| 241.04606090655918|   false|             0.01|\n",
       "+------------+--------------+-----------------+-------------------+--------+-----------------+"
      ]
     },
     "execution_count": 73,
     "metadata": {},
     "output_type": "execute_result"
    }
   ],
   "source": [
    "merchant_fraud.limit(10)"
   ]
  },
  {
   "cell_type": "code",
   "execution_count": 74,
   "id": "3cece57b",
   "metadata": {},
   "outputs": [
    {
     "data": {
      "text/plain": [
       "1344515"
      ]
     },
     "execution_count": 74,
     "metadata": {},
     "output_type": "execute_result"
    }
   ],
   "source": [
    "merchant_fraud.count()"
   ]
  },
  {
   "cell_type": "code",
   "execution_count": 75,
   "id": "f6aacf04",
   "metadata": {
    "scrolled": true
   },
   "outputs": [
    {
     "data": {
      "text/plain": [
       "114"
      ]
     },
     "execution_count": 75,
     "metadata": {},
     "output_type": "execute_result"
    }
   ],
   "source": [
    "merchant_fraud.where(F.col('fraud_probability') != 0.01).count()"
   ]
  },
  {
   "cell_type": "markdown",
   "id": "6ff5864a",
   "metadata": {},
   "source": [
    "About 0.008% of the merchant daily transactions is fraudulent."
   ]
  },
  {
   "cell_type": "code",
   "execution_count": 76,
   "id": "45ac1192",
   "metadata": {},
   "outputs": [
    {
     "data": {
      "text/html": [
       "<table border='1'>\n",
       "<tr><th>user_id</th><th>order_datetime</th><th>transaction_count</th><th>avg_transaction_amt</th><th>is_fraud</th><th>fraud_probability</th></tr>\n",
       "<tr><td>18487</td><td>2021-08-20</td><td>2</td><td>73.0925761125627</td><td>false</td><td>0.01</td></tr>\n",
       "<tr><td>18552</td><td>2021-08-20</td><td>2</td><td>174.42985218811984</td><td>false</td><td>0.01</td></tr>\n",
       "<tr><td>215</td><td>2021-08-20</td><td>2</td><td>48.880342827706</td><td>false</td><td>0.01</td></tr>\n",
       "<tr><td>18770</td><td>2021-08-20</td><td>1</td><td>273.2147324712209</td><td>false</td><td>0.01</td></tr>\n",
       "<tr><td>18837</td><td>2021-08-20</td><td>1</td><td>23.800263170555642</td><td>false</td><td>0.01</td></tr>\n",
       "<tr><td>18849</td><td>2021-08-20</td><td>3</td><td>56.899667578706065</td><td>false</td><td>0.01</td></tr>\n",
       "<tr><td>435</td><td>2021-08-20</td><td>2</td><td>21.310166954483677</td><td>false</td><td>0.01</td></tr>\n",
       "<tr><td>788</td><td>2021-08-20</td><td>2</td><td>38.272827709859286</td><td>false</td><td>0.01</td></tr>\n",
       "<tr><td>19550</td><td>2021-08-20</td><td>2</td><td>17.85711450212551</td><td>false</td><td>0.01</td></tr>\n",
       "<tr><td>1117</td><td>2021-08-20</td><td>3</td><td>57.4104700047829</td><td>false</td><td>0.01</td></tr>\n",
       "</table>\n"
      ],
      "text/plain": [
       "+-------+--------------+-----------------+-------------------+--------+-----------------+\n",
       "|user_id|order_datetime|transaction_count|avg_transaction_amt|is_fraud|fraud_probability|\n",
       "+-------+--------------+-----------------+-------------------+--------+-----------------+\n",
       "|  18487|    2021-08-20|                2|   73.0925761125627|   false|             0.01|\n",
       "|  18552|    2021-08-20|                2| 174.42985218811984|   false|             0.01|\n",
       "|    215|    2021-08-20|                2|    48.880342827706|   false|             0.01|\n",
       "|  18770|    2021-08-20|                1|  273.2147324712209|   false|             0.01|\n",
       "|  18837|    2021-08-20|                1| 23.800263170555642|   false|             0.01|\n",
       "|  18849|    2021-08-20|                3| 56.899667578706065|   false|             0.01|\n",
       "|    435|    2021-08-20|                2| 21.310166954483677|   false|             0.01|\n",
       "|    788|    2021-08-20|                2| 38.272827709859286|   false|             0.01|\n",
       "|  19550|    2021-08-20|                2|  17.85711450212551|   false|             0.01|\n",
       "|   1117|    2021-08-20|                3|   57.4104700047829|   false|             0.01|\n",
       "+-------+--------------+-----------------+-------------------+--------+-----------------+"
      ]
     },
     "execution_count": 76,
     "metadata": {},
     "output_type": "execute_result"
    }
   ],
   "source": [
    "consumer_fraud.limit(10)"
   ]
  },
  {
   "cell_type": "code",
   "execution_count": 77,
   "id": "52033b17",
   "metadata": {},
   "outputs": [
    {
     "data": {
      "text/plain": [
       "8977056"
      ]
     },
     "execution_count": 77,
     "metadata": {},
     "output_type": "execute_result"
    }
   ],
   "source": [
    "consumer_fraud.count()"
   ]
  },
  {
   "cell_type": "code",
   "execution_count": 78,
   "id": "9c60e34b",
   "metadata": {
    "scrolled": true
   },
   "outputs": [
    {
     "data": {
      "text/plain": [
       "34864"
      ]
     },
     "execution_count": 78,
     "metadata": {},
     "output_type": "execute_result"
    }
   ],
   "source": [
    "consumer_fraud.where(F.col('fraud_probability') != 0.01).count()"
   ]
  },
  {
   "cell_type": "markdown",
   "id": "841811ad",
   "metadata": {},
   "source": [
    "About 0.4% of the consumer daily transactions is fraudulent."
   ]
  },
  {
   "cell_type": "markdown",
   "id": "7da21c9f",
   "metadata": {},
   "source": [
    "Since the proportion of non-fraud to fraud data in both merchant and consumer fraud datasets is highly imbalanced, resampling is performed on both datasets before fitting a model.\n",
    "\n",
    "For both training datasets, the proportion used is 550 samples of non-fraud data and 450 samples of fraud data. The proportion of non-fraud data is slightly higher since it represents the majority of the data."
   ]
  },
  {
   "cell_type": "code",
   "execution_count": 79,
   "id": "e4f215c2",
   "metadata": {},
   "outputs": [],
   "source": [
    "def resampling(majority, minority):\n",
    "    \"\"\"\n",
    "    Performs undersampling on the majority class (spark dataframe)\n",
    "    and oversampling on the minority class (pandas dataframe) from an imbalanced dataset. \n",
    "    Outputs resampled dataset as a pandas dataframe.\n",
    "    \"\"\"\n",
    "    \n",
    "    # define number of samples needed from each class\n",
    "    N_MAJOR = 550\n",
    "    N_MINOR = 450\n",
    "    FRAC_MAJOR = N_MAJOR / majority.count()\n",
    "    \n",
    "    # repeated sampling from the minority class\n",
    "    n_more_samples = N_MINOR - minority.shape[0] # needs to be less than no. of samples in minority\n",
    "    if n_more_samples > 0:\n",
    "        sampled_minority = pd.concat([minority, resample(minority, replace=True, n_samples=n_more_samples, random_state=0)], axis=0)\n",
    "    else:\n",
    "        sampled_minority = minority\n",
    "    \n",
    "    # undersampling from the majority class\n",
    "    sampled_majority = majority.sample(FRAC_MAJOR, seed=0).toPandas()\n",
    "    \n",
    "    # join the sampled datasets\n",
    "    resampled = pd.concat([sampled_majority, sampled_minority], axis=0)\n",
    "    \n",
    "    return resampled"
   ]
  },
  {
   "cell_type": "markdown",
   "id": "1a7c99f1",
   "metadata": {},
   "source": [
    "## Merchant fraud data"
   ]
  },
  {
   "cell_type": "markdown",
   "id": "d86a14cb",
   "metadata": {},
   "source": [
    "### Resampling data"
   ]
  },
  {
   "cell_type": "code",
   "execution_count": 80,
   "id": "e2fa04da",
   "metadata": {},
   "outputs": [],
   "source": [
    "# split merchant fraud data by class\n",
    "merchant_majority = merchant_fraud.where(F.col('fraud_probability') == 0.01)\n",
    "merchant_minority = merchant_fraud.where(F.col('fraud_probability') != 0.01).toPandas()"
   ]
  },
  {
   "cell_type": "code",
   "execution_count": 81,
   "id": "0e73152a",
   "metadata": {},
   "outputs": [],
   "source": [
    "# obtain resampled dataset for modelling\n",
    "merchant_resampled = resampling(merchant_majority, merchant_minority)"
   ]
  },
  {
   "cell_type": "code",
   "execution_count": 82,
   "id": "4165812f",
   "metadata": {},
   "outputs": [
    {
     "data": {
      "text/html": [
       "<div>\n",
       "<style scoped>\n",
       "    .dataframe tbody tr th:only-of-type {\n",
       "        vertical-align: middle;\n",
       "    }\n",
       "\n",
       "    .dataframe tbody tr th {\n",
       "        vertical-align: top;\n",
       "    }\n",
       "\n",
       "    .dataframe thead th {\n",
       "        text-align: right;\n",
       "    }\n",
       "</style>\n",
       "<table border=\"1\" class=\"dataframe\">\n",
       "  <thead>\n",
       "    <tr style=\"text-align: right;\">\n",
       "      <th></th>\n",
       "      <th>merchant_abn</th>\n",
       "      <th>order_datetime</th>\n",
       "      <th>transaction_count</th>\n",
       "      <th>avg_transaction_amt</th>\n",
       "      <th>is_fraud</th>\n",
       "      <th>fraud_probability</th>\n",
       "    </tr>\n",
       "  </thead>\n",
       "  <tbody>\n",
       "    <tr>\n",
       "      <th>0</th>\n",
       "      <td>45663905997</td>\n",
       "      <td>2021-07-30</td>\n",
       "      <td>6</td>\n",
       "      <td>262.729897</td>\n",
       "      <td>False</td>\n",
       "      <td>0.01</td>\n",
       "    </tr>\n",
       "    <tr>\n",
       "      <th>1</th>\n",
       "      <td>15269431008</td>\n",
       "      <td>2021-06-25</td>\n",
       "      <td>16</td>\n",
       "      <td>94.062315</td>\n",
       "      <td>False</td>\n",
       "      <td>0.01</td>\n",
       "    </tr>\n",
       "    <tr>\n",
       "      <th>2</th>\n",
       "      <td>26603390734</td>\n",
       "      <td>2021-08-13</td>\n",
       "      <td>2</td>\n",
       "      <td>654.763018</td>\n",
       "      <td>False</td>\n",
       "      <td>0.01</td>\n",
       "    </tr>\n",
       "    <tr>\n",
       "      <th>3</th>\n",
       "      <td>66917621463</td>\n",
       "      <td>2021-05-16</td>\n",
       "      <td>4</td>\n",
       "      <td>331.084177</td>\n",
       "      <td>False</td>\n",
       "      <td>0.01</td>\n",
       "    </tr>\n",
       "    <tr>\n",
       "      <th>4</th>\n",
       "      <td>12034469787</td>\n",
       "      <td>2021-07-25</td>\n",
       "      <td>4</td>\n",
       "      <td>61.694078</td>\n",
       "      <td>False</td>\n",
       "      <td>0.01</td>\n",
       "    </tr>\n",
       "  </tbody>\n",
       "</table>\n",
       "</div>"
      ],
      "text/plain": [
       "   merchant_abn order_datetime  transaction_count  avg_transaction_amt  \\\n",
       "0   45663905997     2021-07-30                  6           262.729897   \n",
       "1   15269431008     2021-06-25                 16            94.062315   \n",
       "2   26603390734     2021-08-13                  2           654.763018   \n",
       "3   66917621463     2021-05-16                  4           331.084177   \n",
       "4   12034469787     2021-07-25                  4            61.694078   \n",
       "\n",
       "   is_fraud fraud_probability  \n",
       "0     False              0.01  \n",
       "1     False              0.01  \n",
       "2     False              0.01  \n",
       "3     False              0.01  \n",
       "4     False              0.01  "
      ]
     },
     "execution_count": 82,
     "metadata": {},
     "output_type": "execute_result"
    }
   ],
   "source": [
    "merchant_resampled.head()"
   ]
  },
  {
   "cell_type": "markdown",
   "id": "bc4558ae",
   "metadata": {},
   "source": [
    "### Feature engineering "
   ]
  },
  {
   "cell_type": "code",
   "execution_count": 83,
   "id": "8ae9e122",
   "metadata": {},
   "outputs": [],
   "source": [
    "# parse order datetime column to pandas' datetime\n",
    "merchant_resampled['order_datetime'] = pd.to_datetime(merchant_resampled['order_datetime'])"
   ]
  },
  {
   "cell_type": "code",
   "execution_count": 84,
   "id": "b148f1d1",
   "metadata": {},
   "outputs": [],
   "source": [
    "# create order day of week column - Monday = 0, Sunday = 6\n",
    "merchant_resampled['order_dayofweek'] = merchant_resampled['order_datetime'].dt.day_of_week"
   ]
  },
  {
   "cell_type": "code",
   "execution_count": 85,
   "id": "6da85a50",
   "metadata": {},
   "outputs": [
    {
     "data": {
      "text/html": [
       "<div>\n",
       "<style scoped>\n",
       "    .dataframe tbody tr th:only-of-type {\n",
       "        vertical-align: middle;\n",
       "    }\n",
       "\n",
       "    .dataframe tbody tr th {\n",
       "        vertical-align: top;\n",
       "    }\n",
       "\n",
       "    .dataframe thead th {\n",
       "        text-align: right;\n",
       "    }\n",
       "</style>\n",
       "<table border=\"1\" class=\"dataframe\">\n",
       "  <thead>\n",
       "    <tr style=\"text-align: right;\">\n",
       "      <th></th>\n",
       "      <th>merchant_abn</th>\n",
       "      <th>order_datetime</th>\n",
       "      <th>transaction_count</th>\n",
       "      <th>avg_transaction_amt</th>\n",
       "      <th>is_fraud</th>\n",
       "      <th>fraud_probability</th>\n",
       "      <th>dow_0</th>\n",
       "      <th>dow_1</th>\n",
       "      <th>dow_2</th>\n",
       "      <th>dow_3</th>\n",
       "      <th>dow_4</th>\n",
       "      <th>dow_5</th>\n",
       "      <th>dow_6</th>\n",
       "    </tr>\n",
       "  </thead>\n",
       "  <tbody>\n",
       "    <tr>\n",
       "      <th>0</th>\n",
       "      <td>45663905997</td>\n",
       "      <td>2021-07-30</td>\n",
       "      <td>6</td>\n",
       "      <td>262.729897</td>\n",
       "      <td>False</td>\n",
       "      <td>0.01</td>\n",
       "      <td>0</td>\n",
       "      <td>0</td>\n",
       "      <td>0</td>\n",
       "      <td>0</td>\n",
       "      <td>1</td>\n",
       "      <td>0</td>\n",
       "      <td>0</td>\n",
       "    </tr>\n",
       "    <tr>\n",
       "      <th>1</th>\n",
       "      <td>15269431008</td>\n",
       "      <td>2021-06-25</td>\n",
       "      <td>16</td>\n",
       "      <td>94.062315</td>\n",
       "      <td>False</td>\n",
       "      <td>0.01</td>\n",
       "      <td>0</td>\n",
       "      <td>0</td>\n",
       "      <td>0</td>\n",
       "      <td>0</td>\n",
       "      <td>1</td>\n",
       "      <td>0</td>\n",
       "      <td>0</td>\n",
       "    </tr>\n",
       "    <tr>\n",
       "      <th>2</th>\n",
       "      <td>26603390734</td>\n",
       "      <td>2021-08-13</td>\n",
       "      <td>2</td>\n",
       "      <td>654.763018</td>\n",
       "      <td>False</td>\n",
       "      <td>0.01</td>\n",
       "      <td>0</td>\n",
       "      <td>0</td>\n",
       "      <td>0</td>\n",
       "      <td>0</td>\n",
       "      <td>1</td>\n",
       "      <td>0</td>\n",
       "      <td>0</td>\n",
       "    </tr>\n",
       "    <tr>\n",
       "      <th>3</th>\n",
       "      <td>66917621463</td>\n",
       "      <td>2021-05-16</td>\n",
       "      <td>4</td>\n",
       "      <td>331.084177</td>\n",
       "      <td>False</td>\n",
       "      <td>0.01</td>\n",
       "      <td>0</td>\n",
       "      <td>0</td>\n",
       "      <td>0</td>\n",
       "      <td>0</td>\n",
       "      <td>0</td>\n",
       "      <td>0</td>\n",
       "      <td>1</td>\n",
       "    </tr>\n",
       "    <tr>\n",
       "      <th>4</th>\n",
       "      <td>12034469787</td>\n",
       "      <td>2021-07-25</td>\n",
       "      <td>4</td>\n",
       "      <td>61.694078</td>\n",
       "      <td>False</td>\n",
       "      <td>0.01</td>\n",
       "      <td>0</td>\n",
       "      <td>0</td>\n",
       "      <td>0</td>\n",
       "      <td>0</td>\n",
       "      <td>0</td>\n",
       "      <td>0</td>\n",
       "      <td>1</td>\n",
       "    </tr>\n",
       "  </tbody>\n",
       "</table>\n",
       "</div>"
      ],
      "text/plain": [
       "   merchant_abn order_datetime  transaction_count  avg_transaction_amt  \\\n",
       "0   45663905997     2021-07-30                  6           262.729897   \n",
       "1   15269431008     2021-06-25                 16            94.062315   \n",
       "2   26603390734     2021-08-13                  2           654.763018   \n",
       "3   66917621463     2021-05-16                  4           331.084177   \n",
       "4   12034469787     2021-07-25                  4            61.694078   \n",
       "\n",
       "   is_fraud fraud_probability  dow_0  dow_1  dow_2  dow_3  dow_4  dow_5  dow_6  \n",
       "0     False              0.01      0      0      0      0      1      0      0  \n",
       "1     False              0.01      0      0      0      0      1      0      0  \n",
       "2     False              0.01      0      0      0      0      1      0      0  \n",
       "3     False              0.01      0      0      0      0      0      0      1  \n",
       "4     False              0.01      0      0      0      0      0      0      1  "
      ]
     },
     "execution_count": 85,
     "metadata": {},
     "output_type": "execute_result"
    }
   ],
   "source": [
    "# one-hot encoding on order day of week column\n",
    "merchant_resampled = pd.get_dummies(data=merchant_resampled, prefix='dow', columns=['order_dayofweek'])\n",
    "\n",
    "merchant_resampled.head()"
   ]
  },
  {
   "cell_type": "code",
   "execution_count": 86,
   "id": "d02d1cc3",
   "metadata": {},
   "outputs": [],
   "source": [
    "# split dataset into predictors and target variables\n",
    "X = pd.concat([merchant_resampled.iloc[:,2:4], merchant_resampled.iloc[:,6:]], axis=1)\n",
    "y = merchant_resampled.iloc[:,4]"
   ]
  },
  {
   "cell_type": "code",
   "execution_count": 87,
   "id": "fab0a8c4",
   "metadata": {},
   "outputs": [
    {
     "data": {
      "text/html": [
       "<div>\n",
       "<style scoped>\n",
       "    .dataframe tbody tr th:only-of-type {\n",
       "        vertical-align: middle;\n",
       "    }\n",
       "\n",
       "    .dataframe tbody tr th {\n",
       "        vertical-align: top;\n",
       "    }\n",
       "\n",
       "    .dataframe thead th {\n",
       "        text-align: right;\n",
       "    }\n",
       "</style>\n",
       "<table border=\"1\" class=\"dataframe\">\n",
       "  <thead>\n",
       "    <tr style=\"text-align: right;\">\n",
       "      <th></th>\n",
       "      <th>transaction_count</th>\n",
       "      <th>avg_transaction_amt</th>\n",
       "      <th>dow_0</th>\n",
       "      <th>dow_1</th>\n",
       "      <th>dow_2</th>\n",
       "      <th>dow_3</th>\n",
       "      <th>dow_4</th>\n",
       "      <th>dow_5</th>\n",
       "      <th>dow_6</th>\n",
       "    </tr>\n",
       "  </thead>\n",
       "  <tbody>\n",
       "    <tr>\n",
       "      <th>0</th>\n",
       "      <td>6</td>\n",
       "      <td>262.729897</td>\n",
       "      <td>0</td>\n",
       "      <td>0</td>\n",
       "      <td>0</td>\n",
       "      <td>0</td>\n",
       "      <td>1</td>\n",
       "      <td>0</td>\n",
       "      <td>0</td>\n",
       "    </tr>\n",
       "    <tr>\n",
       "      <th>1</th>\n",
       "      <td>16</td>\n",
       "      <td>94.062315</td>\n",
       "      <td>0</td>\n",
       "      <td>0</td>\n",
       "      <td>0</td>\n",
       "      <td>0</td>\n",
       "      <td>1</td>\n",
       "      <td>0</td>\n",
       "      <td>0</td>\n",
       "    </tr>\n",
       "    <tr>\n",
       "      <th>2</th>\n",
       "      <td>2</td>\n",
       "      <td>654.763018</td>\n",
       "      <td>0</td>\n",
       "      <td>0</td>\n",
       "      <td>0</td>\n",
       "      <td>0</td>\n",
       "      <td>1</td>\n",
       "      <td>0</td>\n",
       "      <td>0</td>\n",
       "    </tr>\n",
       "    <tr>\n",
       "      <th>3</th>\n",
       "      <td>4</td>\n",
       "      <td>331.084177</td>\n",
       "      <td>0</td>\n",
       "      <td>0</td>\n",
       "      <td>0</td>\n",
       "      <td>0</td>\n",
       "      <td>0</td>\n",
       "      <td>0</td>\n",
       "      <td>1</td>\n",
       "    </tr>\n",
       "    <tr>\n",
       "      <th>4</th>\n",
       "      <td>4</td>\n",
       "      <td>61.694078</td>\n",
       "      <td>0</td>\n",
       "      <td>0</td>\n",
       "      <td>0</td>\n",
       "      <td>0</td>\n",
       "      <td>0</td>\n",
       "      <td>0</td>\n",
       "      <td>1</td>\n",
       "    </tr>\n",
       "  </tbody>\n",
       "</table>\n",
       "</div>"
      ],
      "text/plain": [
       "   transaction_count  avg_transaction_amt  dow_0  dow_1  dow_2  dow_3  dow_4  \\\n",
       "0                  6           262.729897      0      0      0      0      1   \n",
       "1                 16            94.062315      0      0      0      0      1   \n",
       "2                  2           654.763018      0      0      0      0      1   \n",
       "3                  4           331.084177      0      0      0      0      0   \n",
       "4                  4            61.694078      0      0      0      0      0   \n",
       "\n",
       "   dow_5  dow_6  \n",
       "0      0      0  \n",
       "1      0      0  \n",
       "2      0      0  \n",
       "3      0      1  \n",
       "4      0      1  "
      ]
     },
     "execution_count": 87,
     "metadata": {},
     "output_type": "execute_result"
    }
   ],
   "source": [
    "X.head()"
   ]
  },
  {
   "cell_type": "code",
   "execution_count": 88,
   "id": "ce39a6cd",
   "metadata": {},
   "outputs": [],
   "source": [
    "# convert target variable from boolean to integers\n",
    "y = y.replace({True: 1, False: 0})"
   ]
  },
  {
   "cell_type": "markdown",
   "id": "ea21cb03",
   "metadata": {},
   "source": [
    "### Model fitting"
   ]
  },
  {
   "cell_type": "code",
   "execution_count": 90,
   "id": "5037d4d7",
   "metadata": {},
   "outputs": [
    {
     "name": "stdout",
     "output_type": "stream",
     "text": [
      "[0.918429   0.9        0.91212121]\n",
      "Average cross-validation accuracy:  0.9101834050474533\n",
      "[0.90459364 0.88501742 0.89530686]\n",
      "Average cross-validation F1 score:  0.8949726401281785\n"
     ]
    }
   ],
   "source": [
    "# cross validation\n",
    "lgr_merchant = LogisticRegression(max_iter=250)\n",
    "acc_scores = cross_val_score(lgr_merchant, X, y, scoring='accuracy', cv=3)\n",
    "f1_scores = cross_val_score(lgr_merchant, X, y, scoring='f1', cv=3)\n",
    "print(acc_scores)\n",
    "print('Average cross-validation accuracy: ', np.mean(acc_scores))\n",
    "print(f1_scores)\n",
    "print('Average cross-validation F1 score: ', np.mean(f1_scores))\n",
    "\n",
    "\n",
    "lgr_merchant_fit = lgr_merchant.fit(X, y)"
   ]
  },
  {
   "cell_type": "markdown",
   "id": "b6d7253f",
   "metadata": {},
   "source": [
    "## Consumer fraud data"
   ]
  },
  {
   "cell_type": "markdown",
   "id": "382cb066",
   "metadata": {},
   "source": [
    "Apply the same pipeline to consumer fraud dataset."
   ]
  },
  {
   "cell_type": "markdown",
   "id": "47daac7d",
   "metadata": {},
   "source": [
    "### Resampling data"
   ]
  },
  {
   "cell_type": "code",
   "execution_count": 91,
   "id": "e251f03f",
   "metadata": {},
   "outputs": [
    {
     "name": "stderr",
     "output_type": "stream",
     "text": [
      "                                                                                \r"
     ]
    }
   ],
   "source": [
    "# split consumer fraud data by class\n",
    "consumer_majority = consumer_fraud.where(F.col('fraud_probability') == 0.01)\n",
    "consumer_minority = consumer_fraud.where(F.col('fraud_probability') != 0.01).toPandas()"
   ]
  },
  {
   "cell_type": "code",
   "execution_count": 92,
   "id": "ffc3b952",
   "metadata": {},
   "outputs": [],
   "source": [
    "# obtain resampled dataset for modelling\n",
    "consumer_resampled = resampling(consumer_majority, consumer_minority)"
   ]
  },
  {
   "cell_type": "code",
   "execution_count": 93,
   "id": "41b01560",
   "metadata": {},
   "outputs": [
    {
     "data": {
      "text/html": [
       "<div>\n",
       "<style scoped>\n",
       "    .dataframe tbody tr th:only-of-type {\n",
       "        vertical-align: middle;\n",
       "    }\n",
       "\n",
       "    .dataframe tbody tr th {\n",
       "        vertical-align: top;\n",
       "    }\n",
       "\n",
       "    .dataframe thead th {\n",
       "        text-align: right;\n",
       "    }\n",
       "</style>\n",
       "<table border=\"1\" class=\"dataframe\">\n",
       "  <thead>\n",
       "    <tr style=\"text-align: right;\">\n",
       "      <th></th>\n",
       "      <th>user_id</th>\n",
       "      <th>order_datetime</th>\n",
       "      <th>transaction_count</th>\n",
       "      <th>avg_transaction_amt</th>\n",
       "      <th>is_fraud</th>\n",
       "      <th>fraud_probability</th>\n",
       "    </tr>\n",
       "  </thead>\n",
       "  <tbody>\n",
       "    <tr>\n",
       "      <th>0</th>\n",
       "      <td>15788</td>\n",
       "      <td>2021-08-15</td>\n",
       "      <td>1</td>\n",
       "      <td>201.365642</td>\n",
       "      <td>False</td>\n",
       "      <td>0.01</td>\n",
       "    </tr>\n",
       "    <tr>\n",
       "      <th>1</th>\n",
       "      <td>16608</td>\n",
       "      <td>2021-05-20</td>\n",
       "      <td>2</td>\n",
       "      <td>263.009535</td>\n",
       "      <td>False</td>\n",
       "      <td>0.01</td>\n",
       "    </tr>\n",
       "    <tr>\n",
       "      <th>2</th>\n",
       "      <td>21853</td>\n",
       "      <td>2021-08-27</td>\n",
       "      <td>1</td>\n",
       "      <td>16.136864</td>\n",
       "      <td>False</td>\n",
       "      <td>0.01</td>\n",
       "    </tr>\n",
       "    <tr>\n",
       "      <th>3</th>\n",
       "      <td>11998</td>\n",
       "      <td>2021-08-18</td>\n",
       "      <td>1</td>\n",
       "      <td>399.775259</td>\n",
       "      <td>False</td>\n",
       "      <td>0.01</td>\n",
       "    </tr>\n",
       "    <tr>\n",
       "      <th>4</th>\n",
       "      <td>12029</td>\n",
       "      <td>2021-06-18</td>\n",
       "      <td>2</td>\n",
       "      <td>28.930171</td>\n",
       "      <td>False</td>\n",
       "      <td>0.01</td>\n",
       "    </tr>\n",
       "  </tbody>\n",
       "</table>\n",
       "</div>"
      ],
      "text/plain": [
       "   user_id order_datetime  transaction_count  avg_transaction_amt  is_fraud  \\\n",
       "0    15788     2021-08-15                  1           201.365642     False   \n",
       "1    16608     2021-05-20                  2           263.009535     False   \n",
       "2    21853     2021-08-27                  1            16.136864     False   \n",
       "3    11998     2021-08-18                  1           399.775259     False   \n",
       "4    12029     2021-06-18                  2            28.930171     False   \n",
       "\n",
       "  fraud_probability  \n",
       "0              0.01  \n",
       "1              0.01  \n",
       "2              0.01  \n",
       "3              0.01  \n",
       "4              0.01  "
      ]
     },
     "execution_count": 93,
     "metadata": {},
     "output_type": "execute_result"
    }
   ],
   "source": [
    "consumer_resampled.head()"
   ]
  },
  {
   "cell_type": "markdown",
   "id": "6af5f6f0",
   "metadata": {},
   "source": [
    "### Feature engineering"
   ]
  },
  {
   "cell_type": "code",
   "execution_count": 94,
   "id": "d133fff6",
   "metadata": {},
   "outputs": [],
   "source": [
    "# parse order datetime column to pandas' datetime\n",
    "consumer_resampled['order_datetime'] = pd.to_datetime(consumer_resampled['order_datetime'])"
   ]
  },
  {
   "cell_type": "code",
   "execution_count": 95,
   "id": "69c422e5",
   "metadata": {},
   "outputs": [],
   "source": [
    "# create order day of week column - Monday = 0, Sunday = 6\n",
    "consumer_resampled['order_dayofweek'] = consumer_resampled['order_datetime'].dt.day_of_week"
   ]
  },
  {
   "cell_type": "code",
   "execution_count": 96,
   "id": "d0c7d142",
   "metadata": {},
   "outputs": [
    {
     "data": {
      "text/html": [
       "<div>\n",
       "<style scoped>\n",
       "    .dataframe tbody tr th:only-of-type {\n",
       "        vertical-align: middle;\n",
       "    }\n",
       "\n",
       "    .dataframe tbody tr th {\n",
       "        vertical-align: top;\n",
       "    }\n",
       "\n",
       "    .dataframe thead th {\n",
       "        text-align: right;\n",
       "    }\n",
       "</style>\n",
       "<table border=\"1\" class=\"dataframe\">\n",
       "  <thead>\n",
       "    <tr style=\"text-align: right;\">\n",
       "      <th></th>\n",
       "      <th>user_id</th>\n",
       "      <th>order_datetime</th>\n",
       "      <th>transaction_count</th>\n",
       "      <th>avg_transaction_amt</th>\n",
       "      <th>is_fraud</th>\n",
       "      <th>fraud_probability</th>\n",
       "      <th>dow_0</th>\n",
       "      <th>dow_1</th>\n",
       "      <th>dow_2</th>\n",
       "      <th>dow_3</th>\n",
       "      <th>dow_4</th>\n",
       "      <th>dow_5</th>\n",
       "      <th>dow_6</th>\n",
       "    </tr>\n",
       "  </thead>\n",
       "  <tbody>\n",
       "    <tr>\n",
       "      <th>0</th>\n",
       "      <td>15788</td>\n",
       "      <td>2021-08-15</td>\n",
       "      <td>1</td>\n",
       "      <td>201.365642</td>\n",
       "      <td>False</td>\n",
       "      <td>0.01</td>\n",
       "      <td>0</td>\n",
       "      <td>0</td>\n",
       "      <td>0</td>\n",
       "      <td>0</td>\n",
       "      <td>0</td>\n",
       "      <td>0</td>\n",
       "      <td>1</td>\n",
       "    </tr>\n",
       "    <tr>\n",
       "      <th>1</th>\n",
       "      <td>16608</td>\n",
       "      <td>2021-05-20</td>\n",
       "      <td>2</td>\n",
       "      <td>263.009535</td>\n",
       "      <td>False</td>\n",
       "      <td>0.01</td>\n",
       "      <td>0</td>\n",
       "      <td>0</td>\n",
       "      <td>0</td>\n",
       "      <td>1</td>\n",
       "      <td>0</td>\n",
       "      <td>0</td>\n",
       "      <td>0</td>\n",
       "    </tr>\n",
       "    <tr>\n",
       "      <th>2</th>\n",
       "      <td>21853</td>\n",
       "      <td>2021-08-27</td>\n",
       "      <td>1</td>\n",
       "      <td>16.136864</td>\n",
       "      <td>False</td>\n",
       "      <td>0.01</td>\n",
       "      <td>0</td>\n",
       "      <td>0</td>\n",
       "      <td>0</td>\n",
       "      <td>0</td>\n",
       "      <td>1</td>\n",
       "      <td>0</td>\n",
       "      <td>0</td>\n",
       "    </tr>\n",
       "    <tr>\n",
       "      <th>3</th>\n",
       "      <td>11998</td>\n",
       "      <td>2021-08-18</td>\n",
       "      <td>1</td>\n",
       "      <td>399.775259</td>\n",
       "      <td>False</td>\n",
       "      <td>0.01</td>\n",
       "      <td>0</td>\n",
       "      <td>0</td>\n",
       "      <td>1</td>\n",
       "      <td>0</td>\n",
       "      <td>0</td>\n",
       "      <td>0</td>\n",
       "      <td>0</td>\n",
       "    </tr>\n",
       "    <tr>\n",
       "      <th>4</th>\n",
       "      <td>12029</td>\n",
       "      <td>2021-06-18</td>\n",
       "      <td>2</td>\n",
       "      <td>28.930171</td>\n",
       "      <td>False</td>\n",
       "      <td>0.01</td>\n",
       "      <td>0</td>\n",
       "      <td>0</td>\n",
       "      <td>0</td>\n",
       "      <td>0</td>\n",
       "      <td>1</td>\n",
       "      <td>0</td>\n",
       "      <td>0</td>\n",
       "    </tr>\n",
       "  </tbody>\n",
       "</table>\n",
       "</div>"
      ],
      "text/plain": [
       "   user_id order_datetime  transaction_count  avg_transaction_amt  is_fraud  \\\n",
       "0    15788     2021-08-15                  1           201.365642     False   \n",
       "1    16608     2021-05-20                  2           263.009535     False   \n",
       "2    21853     2021-08-27                  1            16.136864     False   \n",
       "3    11998     2021-08-18                  1           399.775259     False   \n",
       "4    12029     2021-06-18                  2            28.930171     False   \n",
       "\n",
       "  fraud_probability  dow_0  dow_1  dow_2  dow_3  dow_4  dow_5  dow_6  \n",
       "0              0.01      0      0      0      0      0      0      1  \n",
       "1              0.01      0      0      0      1      0      0      0  \n",
       "2              0.01      0      0      0      0      1      0      0  \n",
       "3              0.01      0      0      1      0      0      0      0  \n",
       "4              0.01      0      0      0      0      1      0      0  "
      ]
     },
     "execution_count": 96,
     "metadata": {},
     "output_type": "execute_result"
    }
   ],
   "source": [
    "# one-hot encoding on order day of week column\n",
    "consumer_resampled = pd.get_dummies(data=consumer_resampled, prefix='dow', columns=['order_dayofweek'])\n",
    "\n",
    "consumer_resampled.head()"
   ]
  },
  {
   "cell_type": "code",
   "execution_count": 97,
   "id": "3828a86b",
   "metadata": {},
   "outputs": [],
   "source": [
    "# split dataset into predictors and target variables\n",
    "X = pd.concat([consumer_resampled.iloc[:,2:4], consumer_resampled.iloc[:,6:]], axis=1)\n",
    "y = consumer_resampled.iloc[:,4]"
   ]
  },
  {
   "cell_type": "code",
   "execution_count": 98,
   "id": "27374f81",
   "metadata": {},
   "outputs": [
    {
     "data": {
      "text/html": [
       "<div>\n",
       "<style scoped>\n",
       "    .dataframe tbody tr th:only-of-type {\n",
       "        vertical-align: middle;\n",
       "    }\n",
       "\n",
       "    .dataframe tbody tr th {\n",
       "        vertical-align: top;\n",
       "    }\n",
       "\n",
       "    .dataframe thead th {\n",
       "        text-align: right;\n",
       "    }\n",
       "</style>\n",
       "<table border=\"1\" class=\"dataframe\">\n",
       "  <thead>\n",
       "    <tr style=\"text-align: right;\">\n",
       "      <th></th>\n",
       "      <th>transaction_count</th>\n",
       "      <th>avg_transaction_amt</th>\n",
       "      <th>dow_0</th>\n",
       "      <th>dow_1</th>\n",
       "      <th>dow_2</th>\n",
       "      <th>dow_3</th>\n",
       "      <th>dow_4</th>\n",
       "      <th>dow_5</th>\n",
       "      <th>dow_6</th>\n",
       "    </tr>\n",
       "  </thead>\n",
       "  <tbody>\n",
       "    <tr>\n",
       "      <th>0</th>\n",
       "      <td>1</td>\n",
       "      <td>201.365642</td>\n",
       "      <td>0</td>\n",
       "      <td>0</td>\n",
       "      <td>0</td>\n",
       "      <td>0</td>\n",
       "      <td>0</td>\n",
       "      <td>0</td>\n",
       "      <td>1</td>\n",
       "    </tr>\n",
       "    <tr>\n",
       "      <th>1</th>\n",
       "      <td>2</td>\n",
       "      <td>263.009535</td>\n",
       "      <td>0</td>\n",
       "      <td>0</td>\n",
       "      <td>0</td>\n",
       "      <td>1</td>\n",
       "      <td>0</td>\n",
       "      <td>0</td>\n",
       "      <td>0</td>\n",
       "    </tr>\n",
       "    <tr>\n",
       "      <th>2</th>\n",
       "      <td>1</td>\n",
       "      <td>16.136864</td>\n",
       "      <td>0</td>\n",
       "      <td>0</td>\n",
       "      <td>0</td>\n",
       "      <td>0</td>\n",
       "      <td>1</td>\n",
       "      <td>0</td>\n",
       "      <td>0</td>\n",
       "    </tr>\n",
       "    <tr>\n",
       "      <th>3</th>\n",
       "      <td>1</td>\n",
       "      <td>399.775259</td>\n",
       "      <td>0</td>\n",
       "      <td>0</td>\n",
       "      <td>1</td>\n",
       "      <td>0</td>\n",
       "      <td>0</td>\n",
       "      <td>0</td>\n",
       "      <td>0</td>\n",
       "    </tr>\n",
       "    <tr>\n",
       "      <th>4</th>\n",
       "      <td>2</td>\n",
       "      <td>28.930171</td>\n",
       "      <td>0</td>\n",
       "      <td>0</td>\n",
       "      <td>0</td>\n",
       "      <td>0</td>\n",
       "      <td>1</td>\n",
       "      <td>0</td>\n",
       "      <td>0</td>\n",
       "    </tr>\n",
       "  </tbody>\n",
       "</table>\n",
       "</div>"
      ],
      "text/plain": [
       "   transaction_count  avg_transaction_amt  dow_0  dow_1  dow_2  dow_3  dow_4  \\\n",
       "0                  1           201.365642      0      0      0      0      0   \n",
       "1                  2           263.009535      0      0      0      1      0   \n",
       "2                  1            16.136864      0      0      0      0      1   \n",
       "3                  1           399.775259      0      0      1      0      0   \n",
       "4                  2            28.930171      0      0      0      0      1   \n",
       "\n",
       "   dow_5  dow_6  \n",
       "0      0      1  \n",
       "1      0      0  \n",
       "2      0      0  \n",
       "3      0      0  \n",
       "4      0      0  "
      ]
     },
     "execution_count": 98,
     "metadata": {},
     "output_type": "execute_result"
    }
   ],
   "source": [
    "X.head()"
   ]
  },
  {
   "cell_type": "code",
   "execution_count": 99,
   "id": "7267c2ef",
   "metadata": {},
   "outputs": [],
   "source": [
    "# convert target variable from boolean to integers\n",
    "y = y.replace({True: 1, False: 0})"
   ]
  },
  {
   "cell_type": "code",
   "execution_count": 100,
   "id": "2882455e",
   "metadata": {},
   "outputs": [
    {
     "name": "stdout",
     "output_type": "stream",
     "text": [
      "[0.99923722 0.99813544 0.99932192]\n",
      "Average cross-validation accuracy:  0.9988981925564021\n",
      "[0.99961292 0.99905441 0.99965591]\n",
      "Average cross-validation F1 score:  0.9994410826731679\n"
     ]
    }
   ],
   "source": [
    "lgr_consumer = LogisticRegression(max_iter=250)\n",
    "acc_scores = cross_val_score(lgr_consumer, X, y, scoring='accuracy', cv=3)\n",
    "f1_scores = cross_val_score(lgr_consumer, X, y, scoring='f1', cv=3)\n",
    "print(acc_scores)\n",
    "print('Average cross-validation accuracy: ', np.mean(acc_scores))\n",
    "print(f1_scores)\n",
    "print('Average cross-validation F1 score: ', np.mean(f1_scores))\n",
    "\n",
    "lgr_consumer_fit = lgr_consumer.fit(X, y)"
   ]
  },
  {
   "cell_type": "markdown",
   "id": "da3fe24d",
   "metadata": {},
   "source": [
    "## Generating predictions for full datasets"
   ]
  },
  {
   "cell_type": "code",
   "execution_count": 101,
   "id": "bc587d18",
   "metadata": {
    "scrolled": true
   },
   "outputs": [],
   "source": [
    "df_merchant = pd.read_parquet('../data/curated/merchant_fraud.parquet')\n",
    "df_consumer = pd.read_parquet('../data/curated/consumer_fraud.parquet')"
   ]
  },
  {
   "cell_type": "code",
   "execution_count": null,
   "id": "ceab03e3",
   "metadata": {
    "scrolled": false
   },
   "outputs": [],
   "source": [
    "# df_merchant = merchant_fraud.toPandas()\n",
    "# df_consumer = consumer_fraud.toPandas()"
   ]
  },
  {
   "cell_type": "markdown",
   "id": "5ba71220",
   "metadata": {},
   "source": [
    "Predictions for merchant."
   ]
  },
  {
   "cell_type": "code",
   "execution_count": 102,
   "id": "561ab855",
   "metadata": {},
   "outputs": [
    {
     "data": {
      "text/html": [
       "<div>\n",
       "<style scoped>\n",
       "    .dataframe tbody tr th:only-of-type {\n",
       "        vertical-align: middle;\n",
       "    }\n",
       "\n",
       "    .dataframe tbody tr th {\n",
       "        vertical-align: top;\n",
       "    }\n",
       "\n",
       "    .dataframe thead th {\n",
       "        text-align: right;\n",
       "    }\n",
       "</style>\n",
       "<table border=\"1\" class=\"dataframe\">\n",
       "  <thead>\n",
       "    <tr style=\"text-align: right;\">\n",
       "      <th></th>\n",
       "      <th>merchant_abn</th>\n",
       "      <th>order_datetime</th>\n",
       "      <th>transaction_count</th>\n",
       "      <th>avg_transaction_amt</th>\n",
       "      <th>is_fraud</th>\n",
       "      <th>fraud_probability</th>\n",
       "      <th>dow_0</th>\n",
       "      <th>dow_1</th>\n",
       "      <th>dow_2</th>\n",
       "      <th>dow_3</th>\n",
       "      <th>dow_4</th>\n",
       "      <th>dow_5</th>\n",
       "      <th>dow_6</th>\n",
       "    </tr>\n",
       "  </thead>\n",
       "  <tbody>\n",
       "    <tr>\n",
       "      <th>0</th>\n",
       "      <td>90173050473</td>\n",
       "      <td>2021-08-20</td>\n",
       "      <td>41</td>\n",
       "      <td>245.510390</td>\n",
       "      <td>False</td>\n",
       "      <td>0.01</td>\n",
       "      <td>0</td>\n",
       "      <td>0</td>\n",
       "      <td>0</td>\n",
       "      <td>0</td>\n",
       "      <td>1</td>\n",
       "      <td>0</td>\n",
       "      <td>0</td>\n",
       "    </tr>\n",
       "    <tr>\n",
       "      <th>1</th>\n",
       "      <td>91455531890</td>\n",
       "      <td>2021-08-20</td>\n",
       "      <td>3</td>\n",
       "      <td>495.614249</td>\n",
       "      <td>False</td>\n",
       "      <td>0.01</td>\n",
       "      <td>0</td>\n",
       "      <td>0</td>\n",
       "      <td>0</td>\n",
       "      <td>0</td>\n",
       "      <td>1</td>\n",
       "      <td>0</td>\n",
       "      <td>0</td>\n",
       "    </tr>\n",
       "    <tr>\n",
       "      <th>2</th>\n",
       "      <td>14480530534</td>\n",
       "      <td>2021-08-20</td>\n",
       "      <td>2</td>\n",
       "      <td>1636.591724</td>\n",
       "      <td>False</td>\n",
       "      <td>0.01</td>\n",
       "      <td>0</td>\n",
       "      <td>0</td>\n",
       "      <td>0</td>\n",
       "      <td>0</td>\n",
       "      <td>1</td>\n",
       "      <td>0</td>\n",
       "      <td>0</td>\n",
       "    </tr>\n",
       "    <tr>\n",
       "      <th>3</th>\n",
       "      <td>54062916822</td>\n",
       "      <td>2021-08-20</td>\n",
       "      <td>1</td>\n",
       "      <td>33.805382</td>\n",
       "      <td>False</td>\n",
       "      <td>0.01</td>\n",
       "      <td>0</td>\n",
       "      <td>0</td>\n",
       "      <td>0</td>\n",
       "      <td>0</td>\n",
       "      <td>1</td>\n",
       "      <td>0</td>\n",
       "      <td>0</td>\n",
       "    </tr>\n",
       "    <tr>\n",
       "      <th>4</th>\n",
       "      <td>73225085327</td>\n",
       "      <td>2021-08-20</td>\n",
       "      <td>1</td>\n",
       "      <td>342.058728</td>\n",
       "      <td>False</td>\n",
       "      <td>0.01</td>\n",
       "      <td>0</td>\n",
       "      <td>0</td>\n",
       "      <td>0</td>\n",
       "      <td>0</td>\n",
       "      <td>1</td>\n",
       "      <td>0</td>\n",
       "      <td>0</td>\n",
       "    </tr>\n",
       "  </tbody>\n",
       "</table>\n",
       "</div>"
      ],
      "text/plain": [
       "   merchant_abn order_datetime  transaction_count  avg_transaction_amt  \\\n",
       "0   90173050473     2021-08-20                 41           245.510390   \n",
       "1   91455531890     2021-08-20                  3           495.614249   \n",
       "2   14480530534     2021-08-20                  2          1636.591724   \n",
       "3   54062916822     2021-08-20                  1            33.805382   \n",
       "4   73225085327     2021-08-20                  1           342.058728   \n",
       "\n",
       "   is_fraud fraud_probability  dow_0  dow_1  dow_2  dow_3  dow_4  dow_5  dow_6  \n",
       "0     False              0.01      0      0      0      0      1      0      0  \n",
       "1     False              0.01      0      0      0      0      1      0      0  \n",
       "2     False              0.01      0      0      0      0      1      0      0  \n",
       "3     False              0.01      0      0      0      0      1      0      0  \n",
       "4     False              0.01      0      0      0      0      1      0      0  "
      ]
     },
     "execution_count": 102,
     "metadata": {},
     "output_type": "execute_result"
    }
   ],
   "source": [
    "# order day of week feature engineering\n",
    "df_merchant['order_datetime'] = pd.to_datetime(df_merchant['order_datetime'])\n",
    "df_merchant['order_dayofweek'] = df_merchant['order_datetime'].dt.day_of_week\n",
    "df_merchant = pd.get_dummies(data=df_merchant, prefix='dow', columns=['order_dayofweek'])\n",
    "\n",
    "df_merchant.head()"
   ]
  },
  {
   "cell_type": "code",
   "execution_count": 103,
   "id": "1aa90f5a",
   "metadata": {},
   "outputs": [],
   "source": [
    "# get predictor and target variables\n",
    "X_merchant = pd.concat([df_merchant.iloc[:,2:4], df_merchant.iloc[:,6:]], axis=1)\n",
    "y_merchant = df_merchant.iloc[:,4]\n",
    "y_merchant = y_merchant.replace({True: 1, False: 0})"
   ]
  },
  {
   "cell_type": "code",
   "execution_count": 40,
   "id": "29340754",
   "metadata": {},
   "outputs": [],
   "source": [
    "from sklearn.model_selection import cross_val_predict"
   ]
  },
  {
   "cell_type": "code",
   "execution_count": 104,
   "id": "5ab66cf1",
   "metadata": {},
   "outputs": [],
   "source": [
    "# get predictions\n",
    "y_merchant_pred = lgr_merchant_fit.predict(X_merchant)"
   ]
  },
  {
   "cell_type": "code",
   "execution_count": 105,
   "id": "fd2ddef1",
   "metadata": {},
   "outputs": [
    {
     "data": {
      "text/plain": [
       "array([0, 0, 0, ..., 0, 0, 0])"
      ]
     },
     "execution_count": 105,
     "metadata": {},
     "output_type": "execute_result"
    }
   ],
   "source": [
    "y_merchant_pred"
   ]
  },
  {
   "cell_type": "markdown",
   "id": "16abea48",
   "metadata": {},
   "source": [
    "Predictions for consumer."
   ]
  },
  {
   "cell_type": "code",
   "execution_count": 106,
   "id": "0513dd38",
   "metadata": {},
   "outputs": [
    {
     "data": {
      "text/html": [
       "<div>\n",
       "<style scoped>\n",
       "    .dataframe tbody tr th:only-of-type {\n",
       "        vertical-align: middle;\n",
       "    }\n",
       "\n",
       "    .dataframe tbody tr th {\n",
       "        vertical-align: top;\n",
       "    }\n",
       "\n",
       "    .dataframe thead th {\n",
       "        text-align: right;\n",
       "    }\n",
       "</style>\n",
       "<table border=\"1\" class=\"dataframe\">\n",
       "  <thead>\n",
       "    <tr style=\"text-align: right;\">\n",
       "      <th></th>\n",
       "      <th>user_id</th>\n",
       "      <th>order_datetime</th>\n",
       "      <th>transaction_count</th>\n",
       "      <th>avg_transaction_amt</th>\n",
       "      <th>is_fraud</th>\n",
       "      <th>fraud_probability</th>\n",
       "      <th>dow_0</th>\n",
       "      <th>dow_1</th>\n",
       "      <th>dow_2</th>\n",
       "      <th>dow_3</th>\n",
       "      <th>dow_4</th>\n",
       "      <th>dow_5</th>\n",
       "      <th>dow_6</th>\n",
       "    </tr>\n",
       "  </thead>\n",
       "  <tbody>\n",
       "    <tr>\n",
       "      <th>0</th>\n",
       "      <td>18488</td>\n",
       "      <td>2021-08-20</td>\n",
       "      <td>3</td>\n",
       "      <td>156.326574</td>\n",
       "      <td>False</td>\n",
       "      <td>0.01</td>\n",
       "      <td>0</td>\n",
       "      <td>0</td>\n",
       "      <td>0</td>\n",
       "      <td>0</td>\n",
       "      <td>1</td>\n",
       "      <td>0</td>\n",
       "      <td>0</td>\n",
       "    </tr>\n",
       "    <tr>\n",
       "      <th>1</th>\n",
       "      <td>686</td>\n",
       "      <td>2021-08-20</td>\n",
       "      <td>2</td>\n",
       "      <td>115.939422</td>\n",
       "      <td>False</td>\n",
       "      <td>0.01</td>\n",
       "      <td>0</td>\n",
       "      <td>0</td>\n",
       "      <td>0</td>\n",
       "      <td>0</td>\n",
       "      <td>1</td>\n",
       "      <td>0</td>\n",
       "      <td>0</td>\n",
       "    </tr>\n",
       "    <tr>\n",
       "      <th>2</th>\n",
       "      <td>19292</td>\n",
       "      <td>2021-08-20</td>\n",
       "      <td>1</td>\n",
       "      <td>961.793144</td>\n",
       "      <td>False</td>\n",
       "      <td>0.01</td>\n",
       "      <td>0</td>\n",
       "      <td>0</td>\n",
       "      <td>0</td>\n",
       "      <td>0</td>\n",
       "      <td>1</td>\n",
       "      <td>0</td>\n",
       "      <td>0</td>\n",
       "    </tr>\n",
       "    <tr>\n",
       "      <th>3</th>\n",
       "      <td>778</td>\n",
       "      <td>2021-08-20</td>\n",
       "      <td>2</td>\n",
       "      <td>32.221600</td>\n",
       "      <td>False</td>\n",
       "      <td>0.01</td>\n",
       "      <td>0</td>\n",
       "      <td>0</td>\n",
       "      <td>0</td>\n",
       "      <td>0</td>\n",
       "      <td>1</td>\n",
       "      <td>0</td>\n",
       "      <td>0</td>\n",
       "    </tr>\n",
       "    <tr>\n",
       "      <th>4</th>\n",
       "      <td>786</td>\n",
       "      <td>2021-08-20</td>\n",
       "      <td>1</td>\n",
       "      <td>80.293376</td>\n",
       "      <td>False</td>\n",
       "      <td>0.01</td>\n",
       "      <td>0</td>\n",
       "      <td>0</td>\n",
       "      <td>0</td>\n",
       "      <td>0</td>\n",
       "      <td>1</td>\n",
       "      <td>0</td>\n",
       "      <td>0</td>\n",
       "    </tr>\n",
       "  </tbody>\n",
       "</table>\n",
       "</div>"
      ],
      "text/plain": [
       "   user_id order_datetime  transaction_count  avg_transaction_amt  is_fraud  \\\n",
       "0    18488     2021-08-20                  3           156.326574     False   \n",
       "1      686     2021-08-20                  2           115.939422     False   \n",
       "2    19292     2021-08-20                  1           961.793144     False   \n",
       "3      778     2021-08-20                  2            32.221600     False   \n",
       "4      786     2021-08-20                  1            80.293376     False   \n",
       "\n",
       "  fraud_probability  dow_0  dow_1  dow_2  dow_3  dow_4  dow_5  dow_6  \n",
       "0              0.01      0      0      0      0      1      0      0  \n",
       "1              0.01      0      0      0      0      1      0      0  \n",
       "2              0.01      0      0      0      0      1      0      0  \n",
       "3              0.01      0      0      0      0      1      0      0  \n",
       "4              0.01      0      0      0      0      1      0      0  "
      ]
     },
     "execution_count": 106,
     "metadata": {},
     "output_type": "execute_result"
    }
   ],
   "source": [
    "# order day of week feature engineering\n",
    "df_consumer['order_datetime'] = pd.to_datetime(df_consumer['order_datetime'])\n",
    "df_consumer['order_dayofweek'] = df_consumer['order_datetime'].dt.day_of_week\n",
    "df_consumer = pd.get_dummies(data=df_consumer, prefix='dow', columns=['order_dayofweek'])\n",
    "\n",
    "df_consumer.head()"
   ]
  },
  {
   "cell_type": "code",
   "execution_count": 107,
   "id": "e77d06d2",
   "metadata": {},
   "outputs": [],
   "source": [
    "# get predictor and target variables\n",
    "X_consumer = pd.concat([df_consumer.iloc[:,2:4], df_consumer.iloc[:,6:]], axis=1)\n",
    "y_consumer = df_consumer.iloc[:,4]\n",
    "y_consumer = y_consumer.replace({True: 1, False: 0})"
   ]
  },
  {
   "cell_type": "code",
   "execution_count": 108,
   "id": "b9840bd1",
   "metadata": {},
   "outputs": [],
   "source": [
    "# get predictions\n",
    "y_consumer_pred = lgr_consumer_fit.predict(X_consumer)"
   ]
  },
  {
   "cell_type": "code",
   "execution_count": 109,
   "id": "f442992e",
   "metadata": {},
   "outputs": [
    {
     "data": {
      "text/plain": [
       "array([0, 0, 1, ..., 0, 0, 0])"
      ]
     },
     "execution_count": 109,
     "metadata": {},
     "output_type": "execute_result"
    }
   ],
   "source": [
    "y_consumer_pred"
   ]
  },
  {
   "cell_type": "markdown",
   "id": "4ceef865",
   "metadata": {},
   "source": [
    "<h3>Add Predictions to Table<h3>"
   ]
  },
  {
   "cell_type": "markdown",
   "id": "f6edd5d4",
   "metadata": {},
   "source": [
    "Get predicted fraud rate for each consumer"
   ]
  },
  {
   "cell_type": "code",
   "execution_count": 110,
   "id": "8e65289a",
   "metadata": {},
   "outputs": [],
   "source": [
    "df_consumer['predicted_fraud'] = y_consumer_pred"
   ]
  },
  {
   "cell_type": "code",
   "execution_count": 130,
   "id": "cb7183a9",
   "metadata": {},
   "outputs": [],
   "source": [
    "consumer_fraud_count = df_consumer.groupby(['user_id']).agg({'predicted_fraud': 'sum'})\n",
    "consumer_regular_count = df_consumer.groupby(['user_id']).size()"
   ]
  },
  {
   "cell_type": "code",
   "execution_count": 145,
   "id": "f21662e2",
   "metadata": {},
   "outputs": [],
   "source": [
    "consumer_fraud_rate = consumer_fraud_count.merge(consumer_regular_count.to_frame(), left_index=True, right_index=True)\n",
    "consumer_fraud_rate['rate'] = consumer_fraud_rate['predicted_fraud']/consumer_fraud_rate[0]\n",
    "consumer_fraud_rate = consumer_fraud_rate.drop(columns = ['predicted_fraud', 0])"
   ]
  },
  {
   "cell_type": "markdown",
   "id": "2e534b5c",
   "metadata": {},
   "source": [
    "Repeat for merchants"
   ]
  },
  {
   "cell_type": "code",
   "execution_count": 147,
   "id": "6cd1bb1b",
   "metadata": {},
   "outputs": [],
   "source": [
    "df_merchant['predicted_fraud'] = y_merchant_pred"
   ]
  },
  {
   "cell_type": "code",
   "execution_count": 148,
   "id": "eb3f69a0",
   "metadata": {},
   "outputs": [],
   "source": [
    "merchant_fraud_count = df_merchant.groupby(['merchant_abn']).agg({'predicted_fraud': 'sum'})\n",
    "merchant_regular_count = df_merchant.groupby(['merchant_abn']).size()"
   ]
  },
  {
   "cell_type": "code",
   "execution_count": 149,
   "id": "1a224647",
   "metadata": {},
   "outputs": [],
   "source": [
    "merchant_fraud_rate = merchant_fraud_count.merge(merchant_regular_count.to_frame(), left_index=True, right_index=True)\n",
    "merchant_fraud_rate['rate'] = merchant_fraud_rate['predicted_fraud']/merchant_fraud_rate[0]\n",
    "merchant_fraud_rate = merchant_fraud_rate.drop(columns = ['predicted_fraud', 0])"
   ]
  },
  {
   "cell_type": "code",
   "execution_count": null,
   "id": "8f0584b6",
   "metadata": {},
   "outputs": [],
   "source": []
  }
 ],
 "metadata": {
  "kernelspec": {
   "display_name": "Python 3.7.4 64-bit",
   "language": "python",
   "name": "python3"
  },
  "language_info": {
   "codemirror_mode": {
    "name": "ipython",
    "version": 3
   },
   "file_extension": ".py",
   "mimetype": "text/x-python",
   "name": "python",
   "nbconvert_exporter": "python",
   "pygments_lexer": "ipython3",
   "version": "3.7.4"
  },
  "vscode": {
   "interpreter": {
    "hash": "aee8b7b246df8f9039afb4144a1f6fd8d2ca17a180786b69acc140d282b71a49"
   }
  }
 },
 "nbformat": 4,
 "nbformat_minor": 5
}
