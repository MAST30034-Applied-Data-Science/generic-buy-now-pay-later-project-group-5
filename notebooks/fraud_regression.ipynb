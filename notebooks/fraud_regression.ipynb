{
 "cells": [
  {
   "cell_type": "code",
   "execution_count": 1,
   "id": "a99fefcd",
   "metadata": {},
   "outputs": [
    {
     "name": "stdout",
     "output_type": "stream",
     "text": [
      "22/09/18 14:26:12 WARN Utils: Your hostname, DESKTOP-EMCMOU9 resolves to a loopback address: 127.0.1.1; using 172.20.180.85 instead (on interface eth0)\n",
      "22/09/18 14:26:12 WARN Utils: Set SPARK_LOCAL_IP if you need to bind to another address\n"
     ]
    },
    {
     "name": "stderr",
     "output_type": "stream",
     "text": [
      "Setting default log level to \"WARN\".\n",
      "To adjust logging level use sc.setLogLevel(newLevel). For SparkR, use setLogLevel(newLevel).\n"
     ]
    },
    {
     "name": "stdout",
     "output_type": "stream",
     "text": [
      "22/09/18 14:26:14 WARN NativeCodeLoader: Unable to load native-hadoop library for your platform... using builtin-java classes where applicable\n"
     ]
    }
   ],
   "source": [
    "from pyspark.sql import SparkSession, functions as F\n",
    "\n",
    "spark = (\n",
    "    SparkSession.builder.appName(\"Regression\")\n",
    "    .config(\"spark.sql.repl.eagerEval.enabled\", True) \n",
    "    .config(\"spark.sql.parquet.cacheMetadata\", \"true\")\n",
    "    .config(\"spark.sql.session.timeZone\", \"Etc/UTC\")\n",
    "    .config(\"spark.executor.memory\", \"2g\")\n",
    "    .config(\"spark.driver.memory\", \"4g\")\n",
    "    .getOrCreate()\n",
    ")\n"
   ]
  },
  {
   "cell_type": "code",
   "execution_count": 2,
   "id": "b2b0ba1e",
   "metadata": {},
   "outputs": [
    {
     "name": "stderr",
     "output_type": "stream",
     "text": [
      "                                                                                \r"
     ]
    }
   ],
   "source": [
    "# read in datasets\n",
    "data = spark.read.parquet('../data/curated/cleaned_data.parquet')\n",
    "merchant_fraud = spark.read.parquet('../data/curated/merchant_fraud.parquet')\n",
    "consumer_fraud = spark.read.parquet('../data/curated/consumer_fraud.parquet')"
   ]
  },
  {
   "cell_type": "code",
   "execution_count": 3,
   "id": "c41248fe",
   "metadata": {},
   "outputs": [
    {
     "name": "stdout",
     "output_type": "stream",
     "text": [
      "22/09/17 14:33:08 WARN package: Truncated the string representation of a plan since it was too large. This behavior can be adjusted by setting 'spark.sql.debug.maxToStringFields'.\n"
     ]
    },
    {
     "name": "stderr",
     "output_type": "stream",
     "text": [
      "                                                                                \r"
     ]
    },
    {
     "data": {
      "text/html": [
       "<table border='1'>\n",
       "<tr><th>SA2_CODE_2021</th><th>postcode</th><th>consumer_id</th><th>user_id</th><th>merchant_abn</th><th>order_datetime</th><th>dollar_value</th><th>order_id</th><th>is_fraud</th><th>fraud_probability</th><th>name</th><th>tags</th><th>take rate</th><th>revenue level</th><th>consumer_name</th><th>address</th><th>gender</th><th>SA2_NAME_2021</th><th>Median_tot_prsnl_inc_weekly</th><th>Median_rent_weekly</th><th>Median_mortgage_repay_monthly</th><th>Median_age_persons</th><th>Median_tot_hhd_inc_weekly</th><th>Average_household_size</th><th>Year_12_Highest_Level_of_School</th><th>Did_Not_Attend_School</th><th>TOT_P_P</th><th>state</th><th>date</th><th>year</th><th>take_rate*dollar_value</th></tr>\n",
       "<tr><td>405041124</td><td>5554</td><td>101</td><td>9180</td><td>75944642726</td><td>2021-08-20</td><td>41.621353566140854</td><td>4e80e6a1-bdc5-4b5...</td><td>false</td><td>0.01</td><td>Et PC</td><td>[tent and awning ...</td><td>6.03</td><td>a</td><td>Jasmine Sanchez</td><td>598 Johnson Motor...</td><td>Female</td><td>Kadina</td><td>599.0</td><td>250.0</td><td>1127.0</td><td>45.0</td><td>1155.0</td><td>2.299999952316284</td><td>1522.0</td><td>13.0</td><td>5414.0</td><td>SA</td><td>08-20</td><td>2021</td><td>250.97676200382935</td></tr>\n",
       "<tr><td>405041124</td><td>5554</td><td>101</td><td>9180</td><td>31584328627</td><td>2021-08-20</td><td>41.012145786222305</td><td>42b8acb6-1263-453...</td><td>false</td><td>0.01</td><td>null</td><td>null</td><td>null</td><td>null</td><td>Jasmine Sanchez</td><td>598 Johnson Motor...</td><td>Female</td><td>Kadina</td><td>599.0</td><td>250.0</td><td>1127.0</td><td>45.0</td><td>1155.0</td><td>2.299999952316284</td><td>1522.0</td><td>13.0</td><td>5414.0</td><td>SA</td><td>08-20</td><td>2021</td><td>null</td></tr>\n",
       "<tr><td>405041124</td><td>5554</td><td>101</td><td>9180</td><td>45629217853</td><td>2021-08-20</td><td>6.7656818985097535</td><td>f107384a-29eb-468...</td><td>false</td><td>0.01</td><td>Lacus Consulting</td><td>[gift,  card,  no...</td><td>6.98</td><td>a</td><td>Jasmine Sanchez</td><td>598 Johnson Motor...</td><td>Female</td><td>Kadina</td><td>599.0</td><td>250.0</td><td>1127.0</td><td>45.0</td><td>1155.0</td><td>2.299999952316284</td><td>1522.0</td><td>13.0</td><td>5414.0</td><td>SA</td><td>08-20</td><td>2021</td><td>47.22445965159808</td></tr>\n",
       "<tr><td>405041124</td><td>5554</td><td>101</td><td>9180</td><td>71989214810</td><td>2021-08-21</td><td>174.08192180474757</td><td>e1dbffda-f291-41d...</td><td>false</td><td>0.01</td><td>Semper Et Lacinia...</td><td>[computer program...</td><td>6.95</td><td>a</td><td>Jasmine Sanchez</td><td>598 Johnson Motor...</td><td>Female</td><td>Kadina</td><td>599.0</td><td>250.0</td><td>1127.0</td><td>45.0</td><td>1155.0</td><td>2.299999952316284</td><td>1522.0</td><td>13.0</td><td>5414.0</td><td>SA</td><td>08-21</td><td>2021</td><td>1209.8693565429955</td></tr>\n",
       "<tr><td>405041124</td><td>5554</td><td>101</td><td>9180</td><td>68216911708</td><td>2021-08-21</td><td>12.442459813951164</td><td>24b53c84-dd33-48c...</td><td>false</td><td>0.01</td><td>Placerat Eget Ven...</td><td>[computers,  comp...</td><td>3.05</td><td>c</td><td>Jasmine Sanchez</td><td>598 Johnson Motor...</td><td>Female</td><td>Kadina</td><td>599.0</td><td>250.0</td><td>1127.0</td><td>45.0</td><td>1155.0</td><td>2.299999952316284</td><td>1522.0</td><td>13.0</td><td>5414.0</td><td>SA</td><td>08-21</td><td>2021</td><td>37.94950243255105</td></tr>\n",
       "<tr><td>405041124</td><td>5554</td><td>101</td><td>9180</td><td>64203420245</td><td>2021-08-22</td><td>47.48856801925245</td><td>cb50ad85-e8f0-42c...</td><td>false</td><td>0.01</td><td>Pede Nonummy Corp.</td><td>[tent and awning ...</td><td>2.86</td><td>c</td><td>Jasmine Sanchez</td><td>598 Johnson Motor...</td><td>Female</td><td>Kadina</td><td>599.0</td><td>250.0</td><td>1127.0</td><td>45.0</td><td>1155.0</td><td>2.299999952316284</td><td>1522.0</td><td>13.0</td><td>5414.0</td><td>SA</td><td>08-22</td><td>2021</td><td>135.817304535062</td></tr>\n",
       "<tr><td>405041124</td><td>5554</td><td>101</td><td>9180</td><td>38212167834</td><td>2021-08-22</td><td>548.9214138172234</td><td>53fd2495-2cef-491...</td><td>false</td><td>0.01</td><td>Magna Suspendisse...</td><td>[lawn and garden ...</td><td>3.83</td><td>b</td><td>Jasmine Sanchez</td><td>598 Johnson Motor...</td><td>Female</td><td>Kadina</td><td>599.0</td><td>250.0</td><td>1127.0</td><td>45.0</td><td>1155.0</td><td>2.299999952316284</td><td>1522.0</td><td>13.0</td><td>5414.0</td><td>SA</td><td>08-22</td><td>2021</td><td>2102.3690149199656</td></tr>\n",
       "<tr><td>405041124</td><td>5554</td><td>101</td><td>9180</td><td>17523010120</td><td>2021-08-15</td><td>2.3742914221884552</td><td>f0ec9a69-dc62-464...</td><td>false</td><td>0.01</td><td>Urna Convallis Fo...</td><td>[tent and awning ...</td><td>0.79</td><td>d</td><td>Jasmine Sanchez</td><td>598 Johnson Motor...</td><td>Female</td><td>Kadina</td><td>599.0</td><td>250.0</td><td>1127.0</td><td>45.0</td><td>1155.0</td><td>2.299999952316284</td><td>1522.0</td><td>13.0</td><td>5414.0</td><td>SA</td><td>08-15</td><td>2021</td><td>1.8756902235288797</td></tr>\n",
       "<tr><td>405041124</td><td>5554</td><td>101</td><td>9180</td><td>32844138686</td><td>2021-07-15</td><td>369.5165979783281</td><td>3feade93-80b4-49b...</td><td>false</td><td>0.01</td><td>At Augue Id Assoc...</td><td>[computer program...</td><td>1.89</td><td>c</td><td>Jasmine Sanchez</td><td>598 Johnson Motor...</td><td>Female</td><td>Kadina</td><td>599.0</td><td>250.0</td><td>1127.0</td><td>45.0</td><td>1155.0</td><td>2.299999952316284</td><td>1522.0</td><td>13.0</td><td>5414.0</td><td>SA</td><td>07-15</td><td>2021</td><td>698.3863701790401</td></tr>\n",
       "<tr><td>405041124</td><td>5554</td><td>101</td><td>9180</td><td>51279178333</td><td>2021-07-15</td><td>34.72663298338204</td><td>c4ef84a1-4d13-4c2...</td><td>false</td><td>0.01</td><td>Neque LLC</td><td>[music shops - mu...</td><td>1.83</td><td>c</td><td>Jasmine Sanchez</td><td>598 Johnson Motor...</td><td>Female</td><td>Kadina</td><td>599.0</td><td>250.0</td><td>1127.0</td><td>45.0</td><td>1155.0</td><td>2.299999952316284</td><td>1522.0</td><td>13.0</td><td>5414.0</td><td>SA</td><td>07-15</td><td>2021</td><td>63.549738359589135</td></tr>\n",
       "<tr><td>405041124</td><td>5554</td><td>101</td><td>9180</td><td>82123916158</td><td>2021-08-16</td><td>101.11338489090687</td><td>1331fafd-6a3a-4ad...</td><td>false</td><td>0.01</td><td>Egestas A Corp.</td><td>[watch,  clock,  ...</td><td>1.75</td><td>c</td><td>Jasmine Sanchez</td><td>598 Johnson Motor...</td><td>Female</td><td>Kadina</td><td>599.0</td><td>250.0</td><td>1127.0</td><td>45.0</td><td>1155.0</td><td>2.299999952316284</td><td>1522.0</td><td>13.0</td><td>5414.0</td><td>SA</td><td>08-16</td><td>2021</td><td>176.94842355908702</td></tr>\n",
       "<tr><td>405041124</td><td>5554</td><td>101</td><td>9180</td><td>16492082804</td><td>2021-08-27</td><td>65.69877906894843</td><td>bedc228a-7343-4bf...</td><td>false</td><td>0.01</td><td>Et Malesuada Inst...</td><td>[shoe shops]</td><td>3.60</td><td>b</td><td>Jasmine Sanchez</td><td>598 Johnson Motor...</td><td>Female</td><td>Kadina</td><td>599.0</td><td>250.0</td><td>1127.0</td><td>45.0</td><td>1155.0</td><td>2.299999952316284</td><td>1522.0</td><td>13.0</td><td>5414.0</td><td>SA</td><td>08-27</td><td>2021</td><td>236.51560464821435</td></tr>\n",
       "<tr><td>405041124</td><td>5554</td><td>101</td><td>9180</td><td>86578477987</td><td>2021-08-13</td><td>31.934758122458238</td><td>db27ae92-cfe8-44b...</td><td>false</td><td>0.01</td><td>Leo In Consulting</td><td>[watch,  clock,  ...</td><td>6.43</td><td>a</td><td>Jasmine Sanchez</td><td>598 Johnson Motor...</td><td>Female</td><td>Kadina</td><td>599.0</td><td>250.0</td><td>1127.0</td><td>45.0</td><td>1155.0</td><td>2.299999952316284</td><td>1522.0</td><td>13.0</td><td>5414.0</td><td>SA</td><td>08-13</td><td>2021</td><td>205.34049472740645</td></tr>\n",
       "<tr><td>405041124</td><td>5554</td><td>101</td><td>9180</td><td>43698901053</td><td>2021-07-16</td><td>130.63458173185734</td><td>de272e12-8b8e-4f5...</td><td>false</td><td>0.01</td><td>Pede Praesent Ltd</td><td>[tent and awning ...</td><td>5.98</td><td>a</td><td>Jasmine Sanchez</td><td>598 Johnson Motor...</td><td>Female</td><td>Kadina</td><td>599.0</td><td>250.0</td><td>1127.0</td><td>45.0</td><td>1155.0</td><td>2.299999952316284</td><td>1522.0</td><td>13.0</td><td>5414.0</td><td>SA</td><td>07-16</td><td>2021</td><td>781.1947987565069</td></tr>\n",
       "<tr><td>405041124</td><td>5554</td><td>101</td><td>9180</td><td>58392414752</td><td>2021-07-16</td><td>594.0840841863339</td><td>a65d9cae-565f-4a9...</td><td>false</td><td>0.01</td><td>Mattis Ornare Lec...</td><td>[florists supplie...</td><td>1.47</td><td>c</td><td>Jasmine Sanchez</td><td>598 Johnson Motor...</td><td>Female</td><td>Kadina</td><td>599.0</td><td>250.0</td><td>1127.0</td><td>45.0</td><td>1155.0</td><td>2.299999952316284</td><td>1522.0</td><td>13.0</td><td>5414.0</td><td>SA</td><td>07-16</td><td>2021</td><td>873.3036037539109</td></tr>\n",
       "</table>\n"
      ],
      "text/plain": [
       "+-------------+--------+-----------+-------+------------+--------------+------------------+--------------------+--------+-----------------+--------------------+--------------------+---------+-------------+---------------+--------------------+------+-------------+---------------------------+------------------+-----------------------------+------------------+-------------------------+----------------------+-------------------------------+---------------------+-------+-----+-----+----+----------------------+\n",
       "|SA2_CODE_2021|postcode|consumer_id|user_id|merchant_abn|order_datetime|      dollar_value|            order_id|is_fraud|fraud_probability|                name|                tags|take rate|revenue level|  consumer_name|             address|gender|SA2_NAME_2021|Median_tot_prsnl_inc_weekly|Median_rent_weekly|Median_mortgage_repay_monthly|Median_age_persons|Median_tot_hhd_inc_weekly|Average_household_size|Year_12_Highest_Level_of_School|Did_Not_Attend_School|TOT_P_P|state| date|year|take_rate*dollar_value|\n",
       "+-------------+--------+-----------+-------+------------+--------------+------------------+--------------------+--------+-----------------+--------------------+--------------------+---------+-------------+---------------+--------------------+------+-------------+---------------------------+------------------+-----------------------------+------------------+-------------------------+----------------------+-------------------------------+---------------------+-------+-----+-----+----+----------------------+\n",
       "|    405041124|    5554|        101|   9180| 75944642726|    2021-08-20|41.621353566140854|4e80e6a1-bdc5-4b5...|   false|             0.01|               Et PC|[tent and awning ...|     6.03|            a|Jasmine Sanchez|598 Johnson Motor...|Female|       Kadina|                      599.0|             250.0|                       1127.0|              45.0|                   1155.0|     2.299999952316284|                         1522.0|                 13.0| 5414.0|   SA|08-20|2021|    250.97676200382935|\n",
       "|    405041124|    5554|        101|   9180| 31584328627|    2021-08-20|41.012145786222305|42b8acb6-1263-453...|   false|             0.01|                null|                null|     null|         null|Jasmine Sanchez|598 Johnson Motor...|Female|       Kadina|                      599.0|             250.0|                       1127.0|              45.0|                   1155.0|     2.299999952316284|                         1522.0|                 13.0| 5414.0|   SA|08-20|2021|                  null|\n",
       "|    405041124|    5554|        101|   9180| 45629217853|    2021-08-20|6.7656818985097535|f107384a-29eb-468...|   false|             0.01|    Lacus Consulting|[gift,  card,  no...|     6.98|            a|Jasmine Sanchez|598 Johnson Motor...|Female|       Kadina|                      599.0|             250.0|                       1127.0|              45.0|                   1155.0|     2.299999952316284|                         1522.0|                 13.0| 5414.0|   SA|08-20|2021|     47.22445965159808|\n",
       "|    405041124|    5554|        101|   9180| 71989214810|    2021-08-21|174.08192180474757|e1dbffda-f291-41d...|   false|             0.01|Semper Et Lacinia...|[computer program...|     6.95|            a|Jasmine Sanchez|598 Johnson Motor...|Female|       Kadina|                      599.0|             250.0|                       1127.0|              45.0|                   1155.0|     2.299999952316284|                         1522.0|                 13.0| 5414.0|   SA|08-21|2021|    1209.8693565429955|\n",
       "|    405041124|    5554|        101|   9180| 68216911708|    2021-08-21|12.442459813951164|24b53c84-dd33-48c...|   false|             0.01|Placerat Eget Ven...|[computers,  comp...|     3.05|            c|Jasmine Sanchez|598 Johnson Motor...|Female|       Kadina|                      599.0|             250.0|                       1127.0|              45.0|                   1155.0|     2.299999952316284|                         1522.0|                 13.0| 5414.0|   SA|08-21|2021|     37.94950243255105|\n",
       "|    405041124|    5554|        101|   9180| 64203420245|    2021-08-22| 47.48856801925245|cb50ad85-e8f0-42c...|   false|             0.01|  Pede Nonummy Corp.|[tent and awning ...|     2.86|            c|Jasmine Sanchez|598 Johnson Motor...|Female|       Kadina|                      599.0|             250.0|                       1127.0|              45.0|                   1155.0|     2.299999952316284|                         1522.0|                 13.0| 5414.0|   SA|08-22|2021|      135.817304535062|\n",
       "|    405041124|    5554|        101|   9180| 38212167834|    2021-08-22| 548.9214138172234|53fd2495-2cef-491...|   false|             0.01|Magna Suspendisse...|[lawn and garden ...|     3.83|            b|Jasmine Sanchez|598 Johnson Motor...|Female|       Kadina|                      599.0|             250.0|                       1127.0|              45.0|                   1155.0|     2.299999952316284|                         1522.0|                 13.0| 5414.0|   SA|08-22|2021|    2102.3690149199656|\n",
       "|    405041124|    5554|        101|   9180| 17523010120|    2021-08-15|2.3742914221884552|f0ec9a69-dc62-464...|   false|             0.01|Urna Convallis Fo...|[tent and awning ...|     0.79|            d|Jasmine Sanchez|598 Johnson Motor...|Female|       Kadina|                      599.0|             250.0|                       1127.0|              45.0|                   1155.0|     2.299999952316284|                         1522.0|                 13.0| 5414.0|   SA|08-15|2021|    1.8756902235288797|\n",
       "|    405041124|    5554|        101|   9180| 32844138686|    2021-07-15| 369.5165979783281|3feade93-80b4-49b...|   false|             0.01|At Augue Id Assoc...|[computer program...|     1.89|            c|Jasmine Sanchez|598 Johnson Motor...|Female|       Kadina|                      599.0|             250.0|                       1127.0|              45.0|                   1155.0|     2.299999952316284|                         1522.0|                 13.0| 5414.0|   SA|07-15|2021|     698.3863701790401|\n",
       "|    405041124|    5554|        101|   9180| 51279178333|    2021-07-15| 34.72663298338204|c4ef84a1-4d13-4c2...|   false|             0.01|           Neque LLC|[music shops - mu...|     1.83|            c|Jasmine Sanchez|598 Johnson Motor...|Female|       Kadina|                      599.0|             250.0|                       1127.0|              45.0|                   1155.0|     2.299999952316284|                         1522.0|                 13.0| 5414.0|   SA|07-15|2021|    63.549738359589135|\n",
       "|    405041124|    5554|        101|   9180| 82123916158|    2021-08-16|101.11338489090687|1331fafd-6a3a-4ad...|   false|             0.01|     Egestas A Corp.|[watch,  clock,  ...|     1.75|            c|Jasmine Sanchez|598 Johnson Motor...|Female|       Kadina|                      599.0|             250.0|                       1127.0|              45.0|                   1155.0|     2.299999952316284|                         1522.0|                 13.0| 5414.0|   SA|08-16|2021|    176.94842355908702|\n",
       "|    405041124|    5554|        101|   9180| 16492082804|    2021-08-27| 65.69877906894843|bedc228a-7343-4bf...|   false|             0.01|Et Malesuada Inst...|        [shoe shops]|     3.60|            b|Jasmine Sanchez|598 Johnson Motor...|Female|       Kadina|                      599.0|             250.0|                       1127.0|              45.0|                   1155.0|     2.299999952316284|                         1522.0|                 13.0| 5414.0|   SA|08-27|2021|    236.51560464821435|\n",
       "|    405041124|    5554|        101|   9180| 86578477987|    2021-08-13|31.934758122458238|db27ae92-cfe8-44b...|   false|             0.01|   Leo In Consulting|[watch,  clock,  ...|     6.43|            a|Jasmine Sanchez|598 Johnson Motor...|Female|       Kadina|                      599.0|             250.0|                       1127.0|              45.0|                   1155.0|     2.299999952316284|                         1522.0|                 13.0| 5414.0|   SA|08-13|2021|    205.34049472740645|\n",
       "|    405041124|    5554|        101|   9180| 43698901053|    2021-07-16|130.63458173185734|de272e12-8b8e-4f5...|   false|             0.01|   Pede Praesent Ltd|[tent and awning ...|     5.98|            a|Jasmine Sanchez|598 Johnson Motor...|Female|       Kadina|                      599.0|             250.0|                       1127.0|              45.0|                   1155.0|     2.299999952316284|                         1522.0|                 13.0| 5414.0|   SA|07-16|2021|     781.1947987565069|\n",
       "|    405041124|    5554|        101|   9180| 58392414752|    2021-07-16| 594.0840841863339|a65d9cae-565f-4a9...|   false|             0.01|Mattis Ornare Lec...|[florists supplie...|     1.47|            c|Jasmine Sanchez|598 Johnson Motor...|Female|       Kadina|                      599.0|             250.0|                       1127.0|              45.0|                   1155.0|     2.299999952316284|                         1522.0|                 13.0| 5414.0|   SA|07-16|2021|     873.3036037539109|\n",
       "+-------------+--------+-----------+-------+------------+--------------+------------------+--------------------+--------+-----------------+--------------------+--------------------+---------+-------------+---------------+--------------------+------+-------------+---------------------------+------------------+-----------------------------+------------------+-------------------------+----------------------+-------------------------------+---------------------+-------+-----+-----+----+----------------------+"
      ]
     },
     "execution_count": 3,
     "metadata": {},
     "output_type": "execute_result"
    }
   ],
   "source": [
    "data.limit(15)"
   ]
  },
  {
   "cell_type": "code",
   "execution_count": 3,
   "id": "ae53333e",
   "metadata": {},
   "outputs": [
    {
     "name": "stderr",
     "output_type": "stream",
     "text": [
      "                                                                                \r"
     ]
    },
    {
     "data": {
      "text/html": [
       "<table border='1'>\n",
       "<tr><th>merchant_abn</th><th>order_datetime</th><th>transaction_count</th><th>avg_transaction_amt</th><th>is_fraud</th><th>fraud_probability</th></tr>\n",
       "<tr><td>38700038932</td><td>2021-08-20</td><td>14</td><td>1524.9292206627556</td><td>false</td><td>0.01</td></tr>\n",
       "<tr><td>89502033586</td><td>2021-08-20</td><td>40</td><td>65.44754598876243</td><td>false</td><td>0.01</td></tr>\n",
       "<tr><td>70610974780</td><td>2021-08-20</td><td>27</td><td>43.48907978704201</td><td>false</td><td>0.01</td></tr>\n",
       "<tr><td>29550468444</td><td>2021-08-20</td><td>4</td><td>157.0</td><td>false</td><td>0.01</td></tr>\n",
       "<tr><td>92075595936</td><td>2021-08-20</td><td>12</td><td>95.50018824235849</td><td>false</td><td>0.01</td></tr>\n",
       "<tr><td>62422038748</td><td>2021-08-20</td><td>1</td><td>2442.1698743679544</td><td>false</td><td>0.01</td></tr>\n",
       "<tr><td>32894483068</td><td>2021-08-20</td><td>1</td><td>228.6561829721828</td><td>false</td><td>0.01</td></tr>\n",
       "<tr><td>55958301764</td><td>2021-08-20</td><td>6</td><td>281.354343839723</td><td>false</td><td>0.01</td></tr>\n",
       "<tr><td>12543580354</td><td>2021-08-20</td><td>12</td><td>262.53675367314503</td><td>false</td><td>0.01</td></tr>\n",
       "<tr><td>26008308191</td><td>2021-08-20</td><td>6</td><td>241.04606090655918</td><td>false</td><td>0.01</td></tr>\n",
       "</table>\n"
      ],
      "text/plain": [
       "+------------+--------------+-----------------+-------------------+--------+-----------------+\n",
       "|merchant_abn|order_datetime|transaction_count|avg_transaction_amt|is_fraud|fraud_probability|\n",
       "+------------+--------------+-----------------+-------------------+--------+-----------------+\n",
       "| 38700038932|    2021-08-20|               14| 1524.9292206627556|   false|             0.01|\n",
       "| 89502033586|    2021-08-20|               40|  65.44754598876243|   false|             0.01|\n",
       "| 70610974780|    2021-08-20|               27|  43.48907978704201|   false|             0.01|\n",
       "| 29550468444|    2021-08-20|                4|              157.0|   false|             0.01|\n",
       "| 92075595936|    2021-08-20|               12|  95.50018824235849|   false|             0.01|\n",
       "| 62422038748|    2021-08-20|                1| 2442.1698743679544|   false|             0.01|\n",
       "| 32894483068|    2021-08-20|                1|  228.6561829721828|   false|             0.01|\n",
       "| 55958301764|    2021-08-20|                6|   281.354343839723|   false|             0.01|\n",
       "| 12543580354|    2021-08-20|               12| 262.53675367314503|   false|             0.01|\n",
       "| 26008308191|    2021-08-20|                6| 241.04606090655918|   false|             0.01|\n",
       "+------------+--------------+-----------------+-------------------+--------+-----------------+"
      ]
     },
     "execution_count": 3,
     "metadata": {},
     "output_type": "execute_result"
    }
   ],
   "source": [
    "merchant_fraud.limit(10)"
   ]
  },
  {
   "cell_type": "code",
   "execution_count": 9,
   "id": "2caf5df2",
   "metadata": {
    "scrolled": true
   },
   "outputs": [
    {
     "name": "stderr",
     "output_type": "stream",
     "text": [
      "                                                                                \r"
     ]
    },
    {
     "data": {
      "text/html": [
       "<table border='1'>\n",
       "<tr><th>merchant_abn</th><th>order_datetime</th><th>transaction_count</th><th>avg_transaction_amt</th><th>is_fraud</th><th>fraud_probability</th></tr>\n",
       "<tr><td>83220249221</td><td>2021-11-27</td><td>6</td><td>157.8399073660867</td><td>true</td><td>63.51245947057463</td></tr>\n",
       "<tr><td>18158387243</td><td>2021-11-29</td><td>77</td><td>558.986275523425</td><td>true</td><td>28.956947892226466</td></tr>\n",
       "<tr><td>22606727520</td><td>2021-11-27</td><td>5</td><td>394.6312098891729</td><td>true</td><td>62.992786990153064</td></tr>\n",
       "<tr><td>31334588839</td><td>2021-12-11</td><td>6</td><td>9032.604983300089</td><td>true</td><td>31.415759105830013</td></tr>\n",
       "<tr><td>31334588839</td><td>2021-12-10</td><td>7</td><td>6221.920428612912</td><td>true</td><td>26.940495859428125</td></tr>\n",
       "<tr><td>19492220327</td><td>2021-12-18</td><td>4</td><td>16149.939551642537</td><td>true</td><td>33.819672154331755</td></tr>\n",
       "<tr><td>14530561097</td><td>2021-09-15</td><td>1</td><td>46001.13901942742</td><td>true</td><td>80.80054474543395</td></tr>\n",
       "<tr><td>97884414539</td><td>2021-10-19</td><td>1</td><td>44615.02252113347</td><td>true</td><td>89.79919971536573</td></tr>\n",
       "<tr><td>15043504837</td><td>2021-08-29</td><td>1</td><td>47381.93709086238</td><td>true</td><td>59.77648897297805</td></tr>\n",
       "<tr><td>30275989942</td><td>2022-01-28</td><td>1</td><td>1558.8759753180334</td><td>true</td><td>63.108592876362856</td></tr>\n",
       "<tr><td>90918180829</td><td>2022-02-05</td><td>3</td><td>18386.00806627504</td><td>true</td><td>34.433736071364535</td></tr>\n",
       "<tr><td>23709946765</td><td>2022-02-02</td><td>2</td><td>21525.052222113765</td><td>true</td><td>44.01272537833859</td></tr>\n",
       "<tr><td>83220249221</td><td>2021-11-27</td><td>6</td><td>157.8399073660867</td><td>true</td><td>63.51245947057463</td></tr>\n",
       "<tr><td>18158387243</td><td>2021-11-29</td><td>77</td><td>558.986275523425</td><td>true</td><td>28.956947892226466</td></tr>\n",
       "<tr><td>22606727520</td><td>2021-11-27</td><td>5</td><td>394.6312098891729</td><td>true</td><td>62.992786990153064</td></tr>\n",
       "<tr><td>31334588839</td><td>2021-12-11</td><td>6</td><td>9032.604983300089</td><td>true</td><td>31.415759105830013</td></tr>\n",
       "<tr><td>31334588839</td><td>2021-12-10</td><td>7</td><td>6221.920428612912</td><td>true</td><td>26.940495859428125</td></tr>\n",
       "<tr><td>19492220327</td><td>2021-12-18</td><td>4</td><td>16149.939551642537</td><td>true</td><td>33.819672154331755</td></tr>\n",
       "<tr><td>14530561097</td><td>2021-09-15</td><td>1</td><td>46001.13901942742</td><td>true</td><td>80.80054474543395</td></tr>\n",
       "<tr><td>97884414539</td><td>2021-10-19</td><td>1</td><td>44615.02252113347</td><td>true</td><td>89.79919971536573</td></tr>\n",
       "</table>\n",
       "only showing top 20 rows\n"
      ],
      "text/plain": [
       "+------------+--------------+-----------------+-------------------+--------+------------------+\n",
       "|merchant_abn|order_datetime|transaction_count|avg_transaction_amt|is_fraud| fraud_probability|\n",
       "+------------+--------------+-----------------+-------------------+--------+------------------+\n",
       "| 83220249221|    2021-11-27|                6|  157.8399073660867|    true| 63.51245947057463|\n",
       "| 18158387243|    2021-11-29|               77|   558.986275523425|    true|28.956947892226466|\n",
       "| 22606727520|    2021-11-27|                5|  394.6312098891729|    true|62.992786990153064|\n",
       "| 31334588839|    2021-12-11|                6|  9032.604983300089|    true|31.415759105830013|\n",
       "| 31334588839|    2021-12-10|                7|  6221.920428612912|    true|26.940495859428125|\n",
       "| 19492220327|    2021-12-18|                4| 16149.939551642537|    true|33.819672154331755|\n",
       "| 14530561097|    2021-09-15|                1|  46001.13901942742|    true| 80.80054474543395|\n",
       "| 97884414539|    2021-10-19|                1|  44615.02252113347|    true| 89.79919971536573|\n",
       "| 15043504837|    2021-08-29|                1|  47381.93709086238|    true| 59.77648897297805|\n",
       "| 30275989942|    2022-01-28|                1| 1558.8759753180334|    true|63.108592876362856|\n",
       "| 90918180829|    2022-02-05|                3|  18386.00806627504|    true|34.433736071364535|\n",
       "| 23709946765|    2022-02-02|                2| 21525.052222113765|    true| 44.01272537833859|\n",
       "| 83220249221|    2021-11-27|                6|  157.8399073660867|    true| 63.51245947057463|\n",
       "| 18158387243|    2021-11-29|               77|   558.986275523425|    true|28.956947892226466|\n",
       "| 22606727520|    2021-11-27|                5|  394.6312098891729|    true|62.992786990153064|\n",
       "| 31334588839|    2021-12-11|                6|  9032.604983300089|    true|31.415759105830013|\n",
       "| 31334588839|    2021-12-10|                7|  6221.920428612912|    true|26.940495859428125|\n",
       "| 19492220327|    2021-12-18|                4| 16149.939551642537|    true|33.819672154331755|\n",
       "| 14530561097|    2021-09-15|                1|  46001.13901942742|    true| 80.80054474543395|\n",
       "| 97884414539|    2021-10-19|                1|  44615.02252113347|    true| 89.79919971536573|\n",
       "+------------+--------------+-----------------+-------------------+--------+------------------+\n",
       "only showing top 20 rows"
      ]
     },
     "execution_count": 9,
     "metadata": {},
     "output_type": "execute_result"
    }
   ],
   "source": [
    "merchant_fraud.where(F.col('fraud_probability') != 0.01)"
   ]
  },
  {
   "cell_type": "code",
   "execution_count": 12,
   "id": "f6aacf04",
   "metadata": {},
   "outputs": [
    {
     "name": "stderr",
     "output_type": "stream",
     "text": [
      "                                                                                \r"
     ]
    },
    {
     "data": {
      "text/plain": [
       "228"
      ]
     },
     "execution_count": 12,
     "metadata": {},
     "output_type": "execute_result"
    }
   ],
   "source": [
    "merchant_fraud.where(F.col('fraud_probability') != 0.01).count()"
   ]
  },
  {
   "cell_type": "code",
   "execution_count": 10,
   "id": "3cece57b",
   "metadata": {},
   "outputs": [
    {
     "name": "stderr",
     "output_type": "stream",
     "text": [
      "                                                                                \r"
     ]
    },
    {
     "data": {
      "text/html": [
       "<table border='1'>\n",
       "<tr><th>summary</th><th>merchant_abn</th><th>transaction_count</th><th>avg_transaction_amt</th><th>fraud_probability</th></tr>\n",
       "<tr><td>count</td><td>2689030</td><td>2689030</td><td>2689030</td><td>2689030</td></tr>\n",
       "<tr><td>mean</td><td>5.424660427391621E10</td><td>10.558086001271834</td><td>461.60592274364814</td><td>0.013426264605000475</td></tr>\n",
       "<tr><td>stddev</td><td>2.586475476711026E10</td><td>31.94851692671459</td><td>1304.331852780586</td><td>0.40406670296903746</td></tr>\n",
       "<tr><td>min</td><td>10023283211</td><td>1</td><td>7.323788293697512E-4</td><td>0.01</td></tr>\n",
       "<tr><td>max</td><td>99990536339</td><td>1260</td><td>105193.88578925544</td><td>94.1347004808891</td></tr>\n",
       "</table>\n"
      ],
      "text/plain": [
       "+-------+--------------------+------------------+--------------------+--------------------+\n",
       "|summary|        merchant_abn| transaction_count| avg_transaction_amt|   fraud_probability|\n",
       "+-------+--------------------+------------------+--------------------+--------------------+\n",
       "|  count|             2689030|           2689030|             2689030|             2689030|\n",
       "|   mean|5.424660427391621E10|10.558086001271834|  461.60592274364814|0.013426264605000475|\n",
       "| stddev|2.586475476711026E10| 31.94851692671459|   1304.331852780586| 0.40406670296903746|\n",
       "|    min|         10023283211|                 1|7.323788293697512E-4|                0.01|\n",
       "|    max|         99990536339|              1260|  105193.88578925544|    94.1347004808891|\n",
       "+-------+--------------------+------------------+--------------------+--------------------+"
      ]
     },
     "execution_count": 10,
     "metadata": {},
     "output_type": "execute_result"
    }
   ],
   "source": [
    "merchant_fraud.describe()"
   ]
  },
  {
   "cell_type": "code",
   "execution_count": 4,
   "id": "45ac1192",
   "metadata": {},
   "outputs": [
    {
     "name": "stderr",
     "output_type": "stream",
     "text": [
      "                                                                                \r"
     ]
    },
    {
     "data": {
      "text/html": [
       "<table border='1'>\n",
       "<tr><th>user_id</th><th>order_datetime</th><th>transaction_count</th><th>avg_transaction_amt</th><th>is_fraud</th><th>fraud_probability</th></tr>\n",
       "<tr><td>18487</td><td>2021-08-20</td><td>2</td><td>73.0925761125627</td><td>false</td><td>0.01</td></tr>\n",
       "<tr><td>18552</td><td>2021-08-20</td><td>2</td><td>174.42985218811984</td><td>false</td><td>0.01</td></tr>\n",
       "<tr><td>215</td><td>2021-08-20</td><td>2</td><td>48.880342827706</td><td>false</td><td>0.01</td></tr>\n",
       "<tr><td>18770</td><td>2021-08-20</td><td>1</td><td>273.2147324712209</td><td>false</td><td>0.01</td></tr>\n",
       "<tr><td>18837</td><td>2021-08-20</td><td>1</td><td>23.800263170555642</td><td>false</td><td>0.01</td></tr>\n",
       "<tr><td>18849</td><td>2021-08-20</td><td>3</td><td>56.899667578706065</td><td>false</td><td>0.01</td></tr>\n",
       "<tr><td>435</td><td>2021-08-20</td><td>2</td><td>21.310166954483677</td><td>false</td><td>0.01</td></tr>\n",
       "<tr><td>788</td><td>2021-08-20</td><td>2</td><td>38.272827709859286</td><td>false</td><td>0.01</td></tr>\n",
       "<tr><td>19550</td><td>2021-08-20</td><td>2</td><td>17.85711450212551</td><td>false</td><td>0.01</td></tr>\n",
       "<tr><td>1117</td><td>2021-08-20</td><td>3</td><td>57.4104700047829</td><td>false</td><td>0.01</td></tr>\n",
       "</table>\n"
      ],
      "text/plain": [
       "+-------+--------------+-----------------+-------------------+--------+-----------------+\n",
       "|user_id|order_datetime|transaction_count|avg_transaction_amt|is_fraud|fraud_probability|\n",
       "+-------+--------------+-----------------+-------------------+--------+-----------------+\n",
       "|  18487|    2021-08-20|                2|   73.0925761125627|   false|             0.01|\n",
       "|  18552|    2021-08-20|                2| 174.42985218811984|   false|             0.01|\n",
       "|    215|    2021-08-20|                2|    48.880342827706|   false|             0.01|\n",
       "|  18770|    2021-08-20|                1|  273.2147324712209|   false|             0.01|\n",
       "|  18837|    2021-08-20|                1| 23.800263170555642|   false|             0.01|\n",
       "|  18849|    2021-08-20|                3| 56.899667578706065|   false|             0.01|\n",
       "|    435|    2021-08-20|                2| 21.310166954483677|   false|             0.01|\n",
       "|    788|    2021-08-20|                2| 38.272827709859286|   false|             0.01|\n",
       "|  19550|    2021-08-20|                2|  17.85711450212551|   false|             0.01|\n",
       "|   1117|    2021-08-20|                3|   57.4104700047829|   false|             0.01|\n",
       "+-------+--------------+-----------------+-------------------+--------+-----------------+"
      ]
     },
     "execution_count": 4,
     "metadata": {},
     "output_type": "execute_result"
    }
   ],
   "source": [
    "consumer_fraud.limit(10)"
   ]
  },
  {
   "cell_type": "code",
   "execution_count": 11,
   "id": "52033b17",
   "metadata": {
    "collapsed": true
   },
   "outputs": [
    {
     "name": "stderr",
     "output_type": "stream",
     "text": [
      "\r",
      "[Stage 20:>                                                         (0 + 8) / 9]\r"
     ]
    },
    {
     "name": "stdout",
     "output_type": "stream",
     "text": [
      "22/09/18 14:36:41 WARN NettyRpcEnv: Ignored failure: java.util.concurrent.TimeoutException: Cannot receive any reply from 172.20.180.85:34969 in 10000 milliseconds\n",
      "22/09/18 14:36:42 WARN Executor: Issue communicating with driver in heartbeater\n",
      "org.apache.spark.rpc.RpcTimeoutException: Futures timed out after [10000 milliseconds]. This timeout is controlled by spark.executor.heartbeatInterval\n",
      "\tat org.apache.spark.rpc.RpcTimeout.org$apache$spark$rpc$RpcTimeout$$createRpcTimeoutException(RpcTimeout.scala:47)\n",
      "\tat org.apache.spark.rpc.RpcTimeout$$anonfun$addMessageIfTimeout$1.applyOrElse(RpcTimeout.scala:62)\n",
      "\tat org.apache.spark.rpc.RpcTimeout$$anonfun$addMessageIfTimeout$1.applyOrElse(RpcTimeout.scala:58)\n",
      "\tat scala.runtime.AbstractPartialFunction.apply(AbstractPartialFunction.scala:38)\n",
      "\tat org.apache.spark.rpc.RpcTimeout.awaitResult(RpcTimeout.scala:76)\n",
      "\tat org.apache.spark.rpc.RpcEndpointRef.askSync(RpcEndpointRef.scala:103)\n",
      "\tat org.apache.spark.executor.Executor.reportHeartBeat(Executor.scala:1053)\n",
      "\tat org.apache.spark.executor.Executor.$anonfun$heartbeater$1(Executor.scala:238)\n",
      "\tat scala.runtime.java8.JFunction0$mcV$sp.apply(JFunction0$mcV$sp.java:23)\n",
      "\tat org.apache.spark.util.Utils$.logUncaughtExceptions(Utils.scala:2066)\n",
      "\tat org.apache.spark.Heartbeater$$anon$1.run(Heartbeater.scala:46)\n",
      "\tat java.util.concurrent.Executors$RunnableAdapter.call(Executors.java:511)\n",
      "\tat java.util.concurrent.FutureTask.runAndReset(FutureTask.java:308)\n",
      "\tat java.util.concurrent.ScheduledThreadPoolExecutor$ScheduledFutureTask.access$301(ScheduledThreadPoolExecutor.java:180)\n",
      "\tat java.util.concurrent.ScheduledThreadPoolExecutor$ScheduledFutureTask.run(ScheduledThreadPoolExecutor.java:294)\n",
      "\tat java.util.concurrent.ThreadPoolExecutor.runWorker(ThreadPoolExecutor.java:1149)\n",
      "\tat java.util.concurrent.ThreadPoolExecutor$Worker.run(ThreadPoolExecutor.java:624)\n",
      "\tat java.lang.Thread.run(Thread.java:748)\n",
      "Caused by: java.util.concurrent.TimeoutException: Futures timed out after [10000 milliseconds]\n",
      "\tat scala.concurrent.impl.Promise$DefaultPromise.ready(Promise.scala:259)\n",
      "\tat scala.concurrent.impl.Promise$DefaultPromise.result(Promise.scala:263)\n",
      "\tat org.apache.spark.util.ThreadUtils$.awaitResult(ThreadUtils.scala:293)\n",
      "\tat org.apache.spark.rpc.RpcTimeout.awaitResult(RpcTimeout.scala:75)\n",
      "\t... 13 more\n"
     ]
    },
    {
     "name": "stderr",
     "output_type": "stream",
     "text": [
      "ERROR:root:KeyboardInterrupt while sending command.==========>      (8 + 1) / 9]\n",
      "Traceback (most recent call last):\n",
      "  File \"/home/seenyanl/.local/lib/python3.8/site-packages/py4j/java_gateway.py\", line 1038, in send_command\n",
      "    response = connection.send_command(command)\n",
      "  File \"/home/seenyanl/.local/lib/python3.8/site-packages/py4j/clientserver.py\", line 511, in send_command\n",
      "    answer = smart_decode(self.stream.readline()[:-1])\n",
      "  File \"/usr/lib/python3.8/socket.py\", line 669, in readinto\n",
      "    return self._sock.recv_into(b)\n",
      "KeyboardInterrupt\n",
      "                                                                                \r"
     ]
    },
    {
     "ename": "KeyboardInterrupt",
     "evalue": "",
     "output_type": "error",
     "traceback": [
      "\u001b[0;31m---------------------------------------------------------------------------\u001b[0m",
      "\u001b[0;31mKeyboardInterrupt\u001b[0m                         Traceback (most recent call last)",
      "Input \u001b[0;32mIn [11]\u001b[0m, in \u001b[0;36m<cell line: 1>\u001b[0;34m()\u001b[0m\n\u001b[0;32m----> 1\u001b[0m \u001b[43mconsumer_fraud\u001b[49m\u001b[38;5;241;43m.\u001b[39;49m\u001b[43mdescribe\u001b[49m\u001b[43m(\u001b[49m\u001b[43m)\u001b[49m\n",
      "File \u001b[0;32m~/.local/lib/python3.8/site-packages/pyspark/sql/dataframe.py:1825\u001b[0m, in \u001b[0;36mDataFrame.describe\u001b[0;34m(self, *cols)\u001b[0m\n\u001b[1;32m   1823\u001b[0m \u001b[38;5;28;01mif\u001b[39;00m \u001b[38;5;28mlen\u001b[39m(cols) \u001b[38;5;241m==\u001b[39m \u001b[38;5;241m1\u001b[39m \u001b[38;5;129;01mand\u001b[39;00m \u001b[38;5;28misinstance\u001b[39m(cols[\u001b[38;5;241m0\u001b[39m], \u001b[38;5;28mlist\u001b[39m):\n\u001b[1;32m   1824\u001b[0m     cols \u001b[38;5;241m=\u001b[39m cols[\u001b[38;5;241m0\u001b[39m]  \u001b[38;5;66;03m# type: ignore[assignment]\u001b[39;00m\n\u001b[0;32m-> 1825\u001b[0m jdf \u001b[38;5;241m=\u001b[39m \u001b[38;5;28;43mself\u001b[39;49m\u001b[38;5;241;43m.\u001b[39;49m\u001b[43m_jdf\u001b[49m\u001b[38;5;241;43m.\u001b[39;49m\u001b[43mdescribe\u001b[49m\u001b[43m(\u001b[49m\u001b[38;5;28;43mself\u001b[39;49m\u001b[38;5;241;43m.\u001b[39;49m\u001b[43m_jseq\u001b[49m\u001b[43m(\u001b[49m\u001b[43mcols\u001b[49m\u001b[43m)\u001b[49m\u001b[43m)\u001b[49m\n\u001b[1;32m   1826\u001b[0m \u001b[38;5;28;01mreturn\u001b[39;00m DataFrame(jdf, \u001b[38;5;28mself\u001b[39m\u001b[38;5;241m.\u001b[39msparkSession)\n",
      "File \u001b[0;32m~/.local/lib/python3.8/site-packages/py4j/java_gateway.py:1320\u001b[0m, in \u001b[0;36mJavaMember.__call__\u001b[0;34m(self, *args)\u001b[0m\n\u001b[1;32m   1313\u001b[0m args_command, temp_args \u001b[38;5;241m=\u001b[39m \u001b[38;5;28mself\u001b[39m\u001b[38;5;241m.\u001b[39m_build_args(\u001b[38;5;241m*\u001b[39margs)\n\u001b[1;32m   1315\u001b[0m command \u001b[38;5;241m=\u001b[39m proto\u001b[38;5;241m.\u001b[39mCALL_COMMAND_NAME \u001b[38;5;241m+\u001b[39m\\\n\u001b[1;32m   1316\u001b[0m     \u001b[38;5;28mself\u001b[39m\u001b[38;5;241m.\u001b[39mcommand_header \u001b[38;5;241m+\u001b[39m\\\n\u001b[1;32m   1317\u001b[0m     args_command \u001b[38;5;241m+\u001b[39m\\\n\u001b[1;32m   1318\u001b[0m     proto\u001b[38;5;241m.\u001b[39mEND_COMMAND_PART\n\u001b[0;32m-> 1320\u001b[0m answer \u001b[38;5;241m=\u001b[39m \u001b[38;5;28;43mself\u001b[39;49m\u001b[38;5;241;43m.\u001b[39;49m\u001b[43mgateway_client\u001b[49m\u001b[38;5;241;43m.\u001b[39;49m\u001b[43msend_command\u001b[49m\u001b[43m(\u001b[49m\u001b[43mcommand\u001b[49m\u001b[43m)\u001b[49m\n\u001b[1;32m   1321\u001b[0m return_value \u001b[38;5;241m=\u001b[39m get_return_value(\n\u001b[1;32m   1322\u001b[0m     answer, \u001b[38;5;28mself\u001b[39m\u001b[38;5;241m.\u001b[39mgateway_client, \u001b[38;5;28mself\u001b[39m\u001b[38;5;241m.\u001b[39mtarget_id, \u001b[38;5;28mself\u001b[39m\u001b[38;5;241m.\u001b[39mname)\n\u001b[1;32m   1324\u001b[0m \u001b[38;5;28;01mfor\u001b[39;00m temp_arg \u001b[38;5;129;01min\u001b[39;00m temp_args:\n",
      "File \u001b[0;32m~/.local/lib/python3.8/site-packages/py4j/java_gateway.py:1038\u001b[0m, in \u001b[0;36mGatewayClient.send_command\u001b[0;34m(self, command, retry, binary)\u001b[0m\n\u001b[1;32m   1036\u001b[0m connection \u001b[38;5;241m=\u001b[39m \u001b[38;5;28mself\u001b[39m\u001b[38;5;241m.\u001b[39m_get_connection()\n\u001b[1;32m   1037\u001b[0m \u001b[38;5;28;01mtry\u001b[39;00m:\n\u001b[0;32m-> 1038\u001b[0m     response \u001b[38;5;241m=\u001b[39m \u001b[43mconnection\u001b[49m\u001b[38;5;241;43m.\u001b[39;49m\u001b[43msend_command\u001b[49m\u001b[43m(\u001b[49m\u001b[43mcommand\u001b[49m\u001b[43m)\u001b[49m\n\u001b[1;32m   1039\u001b[0m     \u001b[38;5;28;01mif\u001b[39;00m binary:\n\u001b[1;32m   1040\u001b[0m         \u001b[38;5;28;01mreturn\u001b[39;00m response, \u001b[38;5;28mself\u001b[39m\u001b[38;5;241m.\u001b[39m_create_connection_guard(connection)\n",
      "File \u001b[0;32m~/.local/lib/python3.8/site-packages/py4j/clientserver.py:511\u001b[0m, in \u001b[0;36mClientServerConnection.send_command\u001b[0;34m(self, command)\u001b[0m\n\u001b[1;32m    509\u001b[0m \u001b[38;5;28;01mtry\u001b[39;00m:\n\u001b[1;32m    510\u001b[0m     \u001b[38;5;28;01mwhile\u001b[39;00m \u001b[38;5;28;01mTrue\u001b[39;00m:\n\u001b[0;32m--> 511\u001b[0m         answer \u001b[38;5;241m=\u001b[39m smart_decode(\u001b[38;5;28;43mself\u001b[39;49m\u001b[38;5;241;43m.\u001b[39;49m\u001b[43mstream\u001b[49m\u001b[38;5;241;43m.\u001b[39;49m\u001b[43mreadline\u001b[49m\u001b[43m(\u001b[49m\u001b[43m)\u001b[49m[:\u001b[38;5;241m-\u001b[39m\u001b[38;5;241m1\u001b[39m])\n\u001b[1;32m    512\u001b[0m         logger\u001b[38;5;241m.\u001b[39mdebug(\u001b[38;5;124m\"\u001b[39m\u001b[38;5;124mAnswer received: \u001b[39m\u001b[38;5;132;01m{0}\u001b[39;00m\u001b[38;5;124m\"\u001b[39m\u001b[38;5;241m.\u001b[39mformat(answer))\n\u001b[1;32m    513\u001b[0m         \u001b[38;5;66;03m# Happens when a the other end is dead. There might be an empty\u001b[39;00m\n\u001b[1;32m    514\u001b[0m         \u001b[38;5;66;03m# answer before the socket raises an error.\u001b[39;00m\n",
      "File \u001b[0;32m/usr/lib/python3.8/socket.py:669\u001b[0m, in \u001b[0;36mSocketIO.readinto\u001b[0;34m(self, b)\u001b[0m\n\u001b[1;32m    667\u001b[0m \u001b[38;5;28;01mwhile\u001b[39;00m \u001b[38;5;28;01mTrue\u001b[39;00m:\n\u001b[1;32m    668\u001b[0m     \u001b[38;5;28;01mtry\u001b[39;00m:\n\u001b[0;32m--> 669\u001b[0m         \u001b[38;5;28;01mreturn\u001b[39;00m \u001b[38;5;28;43mself\u001b[39;49m\u001b[38;5;241;43m.\u001b[39;49m\u001b[43m_sock\u001b[49m\u001b[38;5;241;43m.\u001b[39;49m\u001b[43mrecv_into\u001b[49m\u001b[43m(\u001b[49m\u001b[43mb\u001b[49m\u001b[43m)\u001b[49m\n\u001b[1;32m    670\u001b[0m     \u001b[38;5;28;01mexcept\u001b[39;00m timeout:\n\u001b[1;32m    671\u001b[0m         \u001b[38;5;28mself\u001b[39m\u001b[38;5;241m.\u001b[39m_timeout_occurred \u001b[38;5;241m=\u001b[39m \u001b[38;5;28;01mTrue\u001b[39;00m\n",
      "\u001b[0;31mKeyboardInterrupt\u001b[0m: "
     ]
    }
   ],
   "source": [
    "consumer_fraud.count()"
   ]
  },
  {
   "cell_type": "code",
   "execution_count": null,
   "id": "e4f215c2",
   "metadata": {},
   "outputs": [],
   "source": [
    "import pandas as pd\n",
    "from sklearn.utils import resample\n",
    "\n",
    "def resampling(majority, minority):\n",
    "    \"\"\"\n",
    "    Performs undersampling on the majority class \n",
    "    and oversampling on the minority class from an imbalanced dataset. \n",
    "    Outputs resampled dataset as a pandas dataframe.\n",
    "    \"\"\"\n",
    "    \n",
    "    # define number of samples needed from each class\n",
    "    N_MAJOR = 550\n",
    "    N_MINOR = 450\n",
    "    \n",
    "    # repeated sampling from the minority class\n",
    "    n_more_samples = N_MINOR - minority.count() # needs to be less than no. of samples in minority\n",
    "    sampled_minority = minority.union(resample(minority, replace=False, n_samples=n_more_samples, random_state=0)).toPandas()\n",
    "    \n",
    "    # undersampling from the majority class\n",
    "    sampled_majority = majority.sample(N_MAJOR, set_seed=0).toPandas()\n",
    "    \n",
    "    # join the sampled datasets\n",
    "    resampled = pd.concat([sampled_majority, sampled_minority], axis=0)\n",
    "    \n",
    "    return resampled"
   ]
  },
  {
   "cell_type": "code",
   "execution_count": null,
   "id": "e2fa04da",
   "metadata": {},
   "outputs": [],
   "source": [
    "# split merchant fraud data by class\n",
    "merchant_majority = merchant_fraud.where(F.col('fraud_probability') == 0.01)\n",
    "merchant_minority = merchant_fraud.where(F.col('fraud_probability') != 0.01)\n",
    "\n",
    "# obtain resampled dataset for modelling\n",
    "merchant_resampled = resampling(merchant_majority, merchant_minority)"
   ]
  },
  {
   "cell_type": "code",
   "execution_count": null,
   "id": "d02d1cc3",
   "metadata": {},
   "outputs": [],
   "source": [
    "# split dataset into predictors and target variables\n",
    "X\n",
    "y"
   ]
  },
  {
   "cell_type": "code",
   "execution_count": null,
   "id": "ee62c4db",
   "metadata": {},
   "outputs": [],
   "source": [
    "from sklearn.model_selection import StratifiedKFold\n",
    "\n",
    "# initialise stratified sampling\n",
    "skf = StratifiedKFold(n_splits=5, shuffle=True, random_state=0)\n",
    "\n",
    "# initialise model\n",
    "\n",
    "\n",
    "for train_index, test_index in skf.split(X, y):\n",
    "    # obtain train and test folds\n",
    "    X_train_fold, X_test_fold = X[train_index], X[test_index]\n",
    "    y_train_fold, y_test_fold = y[train_index], y[test_index]\n",
    "    \n",
    "    # fit the model and perform evaluation"
   ]
  }
 ],
 "metadata": {
  "kernelspec": {
   "display_name": "Python 3 (ipykernel)",
   "language": "python",
   "name": "python3"
  },
  "language_info": {
   "codemirror_mode": {
    "name": "ipython",
    "version": 3
   },
   "file_extension": ".py",
   "mimetype": "text/x-python",
   "name": "python",
   "nbconvert_exporter": "python",
   "pygments_lexer": "ipython3",
   "version": "3.8.10"
  }
 },
 "nbformat": 4,
 "nbformat_minor": 5
}
