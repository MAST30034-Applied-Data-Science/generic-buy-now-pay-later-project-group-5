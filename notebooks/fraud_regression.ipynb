{
 "cells": [
  {
   "cell_type": "code",
   "execution_count": 1,
   "id": "a99fefcd",
   "metadata": {},
   "outputs": [
    {
     "name": "stdout",
     "output_type": "stream",
     "text": [
      "22/09/20 09:26:02 WARN Utils: Your hostname, DESKTOP-EMCMOU9 resolves to a loopback address: 127.0.1.1; using 172.20.179.197 instead (on interface eth0)\n",
      "22/09/20 09:26:02 WARN Utils: Set SPARK_LOCAL_IP if you need to bind to another address\n"
     ]
    },
    {
     "name": "stderr",
     "output_type": "stream",
     "text": [
      "Setting default log level to \"WARN\".\n",
      "To adjust logging level use sc.setLogLevel(newLevel). For SparkR, use setLogLevel(newLevel).\n"
     ]
    },
    {
     "name": "stdout",
     "output_type": "stream",
     "text": [
      "22/09/20 09:26:05 WARN NativeCodeLoader: Unable to load native-hadoop library for your platform... using builtin-java classes where applicable\n"
     ]
    }
   ],
   "source": [
    "from pyspark.sql import SparkSession, functions as F\n",
    "\n",
    "spark = (\n",
    "    SparkSession.builder.appName(\"Regression\")\n",
    "    .config(\"spark.sql.repl.eagerEval.enabled\", True) \n",
    "    .config(\"spark.sql.parquet.cacheMetadata\", \"true\")\n",
    "    .config(\"spark.sql.session.timeZone\", \"Etc/UTC\")\n",
    "    .config(\"spark.executor.memory\", \"2g\")\n",
    "    .config(\"spark.driver.memory\", \"4g\")\n",
    "    .getOrCreate()\n",
    ")"
   ]
  },
  {
   "cell_type": "code",
   "execution_count": 2,
   "id": "b2b0ba1e",
   "metadata": {},
   "outputs": [
    {
     "name": "stderr",
     "output_type": "stream",
     "text": [
      "                                                                                \r"
     ]
    }
   ],
   "source": [
    "# read in datasets\n",
    "data = spark.read.parquet('../data/curated/cleaned_data.parquet')\n",
    "merchant_fraud = spark.read.parquet('../data/curated/merchant_fraud.parquet')\n",
    "consumer_fraud = spark.read.parquet('../data/curated/consumer_fraud.parquet')"
   ]
  },
  {
   "cell_type": "code",
   "execution_count": 3,
   "id": "c41248fe",
   "metadata": {
    "collapsed": true
   },
   "outputs": [
    {
     "name": "stdout",
     "output_type": "stream",
     "text": [
      "22/09/17 14:33:08 WARN package: Truncated the string representation of a plan since it was too large. This behavior can be adjusted by setting 'spark.sql.debug.maxToStringFields'.\n"
     ]
    },
    {
     "name": "stderr",
     "output_type": "stream",
     "text": [
      "                                                                                \r"
     ]
    },
    {
     "data": {
      "text/html": [
       "<table border='1'>\n",
       "<tr><th>SA2_CODE_2021</th><th>postcode</th><th>consumer_id</th><th>user_id</th><th>merchant_abn</th><th>order_datetime</th><th>dollar_value</th><th>order_id</th><th>is_fraud</th><th>fraud_probability</th><th>name</th><th>tags</th><th>take rate</th><th>revenue level</th><th>consumer_name</th><th>address</th><th>gender</th><th>SA2_NAME_2021</th><th>Median_tot_prsnl_inc_weekly</th><th>Median_rent_weekly</th><th>Median_mortgage_repay_monthly</th><th>Median_age_persons</th><th>Median_tot_hhd_inc_weekly</th><th>Average_household_size</th><th>Year_12_Highest_Level_of_School</th><th>Did_Not_Attend_School</th><th>TOT_P_P</th><th>state</th><th>date</th><th>year</th><th>take_rate*dollar_value</th></tr>\n",
       "<tr><td>405041124</td><td>5554</td><td>101</td><td>9180</td><td>75944642726</td><td>2021-08-20</td><td>41.621353566140854</td><td>4e80e6a1-bdc5-4b5...</td><td>false</td><td>0.01</td><td>Et PC</td><td>[tent and awning ...</td><td>6.03</td><td>a</td><td>Jasmine Sanchez</td><td>598 Johnson Motor...</td><td>Female</td><td>Kadina</td><td>599.0</td><td>250.0</td><td>1127.0</td><td>45.0</td><td>1155.0</td><td>2.299999952316284</td><td>1522.0</td><td>13.0</td><td>5414.0</td><td>SA</td><td>08-20</td><td>2021</td><td>250.97676200382935</td></tr>\n",
       "<tr><td>405041124</td><td>5554</td><td>101</td><td>9180</td><td>31584328627</td><td>2021-08-20</td><td>41.012145786222305</td><td>42b8acb6-1263-453...</td><td>false</td><td>0.01</td><td>null</td><td>null</td><td>null</td><td>null</td><td>Jasmine Sanchez</td><td>598 Johnson Motor...</td><td>Female</td><td>Kadina</td><td>599.0</td><td>250.0</td><td>1127.0</td><td>45.0</td><td>1155.0</td><td>2.299999952316284</td><td>1522.0</td><td>13.0</td><td>5414.0</td><td>SA</td><td>08-20</td><td>2021</td><td>null</td></tr>\n",
       "<tr><td>405041124</td><td>5554</td><td>101</td><td>9180</td><td>45629217853</td><td>2021-08-20</td><td>6.7656818985097535</td><td>f107384a-29eb-468...</td><td>false</td><td>0.01</td><td>Lacus Consulting</td><td>[gift,  card,  no...</td><td>6.98</td><td>a</td><td>Jasmine Sanchez</td><td>598 Johnson Motor...</td><td>Female</td><td>Kadina</td><td>599.0</td><td>250.0</td><td>1127.0</td><td>45.0</td><td>1155.0</td><td>2.299999952316284</td><td>1522.0</td><td>13.0</td><td>5414.0</td><td>SA</td><td>08-20</td><td>2021</td><td>47.22445965159808</td></tr>\n",
       "<tr><td>405041124</td><td>5554</td><td>101</td><td>9180</td><td>71989214810</td><td>2021-08-21</td><td>174.08192180474757</td><td>e1dbffda-f291-41d...</td><td>false</td><td>0.01</td><td>Semper Et Lacinia...</td><td>[computer program...</td><td>6.95</td><td>a</td><td>Jasmine Sanchez</td><td>598 Johnson Motor...</td><td>Female</td><td>Kadina</td><td>599.0</td><td>250.0</td><td>1127.0</td><td>45.0</td><td>1155.0</td><td>2.299999952316284</td><td>1522.0</td><td>13.0</td><td>5414.0</td><td>SA</td><td>08-21</td><td>2021</td><td>1209.8693565429955</td></tr>\n",
       "<tr><td>405041124</td><td>5554</td><td>101</td><td>9180</td><td>68216911708</td><td>2021-08-21</td><td>12.442459813951164</td><td>24b53c84-dd33-48c...</td><td>false</td><td>0.01</td><td>Placerat Eget Ven...</td><td>[computers,  comp...</td><td>3.05</td><td>c</td><td>Jasmine Sanchez</td><td>598 Johnson Motor...</td><td>Female</td><td>Kadina</td><td>599.0</td><td>250.0</td><td>1127.0</td><td>45.0</td><td>1155.0</td><td>2.299999952316284</td><td>1522.0</td><td>13.0</td><td>5414.0</td><td>SA</td><td>08-21</td><td>2021</td><td>37.94950243255105</td></tr>\n",
       "<tr><td>405041124</td><td>5554</td><td>101</td><td>9180</td><td>64203420245</td><td>2021-08-22</td><td>47.48856801925245</td><td>cb50ad85-e8f0-42c...</td><td>false</td><td>0.01</td><td>Pede Nonummy Corp.</td><td>[tent and awning ...</td><td>2.86</td><td>c</td><td>Jasmine Sanchez</td><td>598 Johnson Motor...</td><td>Female</td><td>Kadina</td><td>599.0</td><td>250.0</td><td>1127.0</td><td>45.0</td><td>1155.0</td><td>2.299999952316284</td><td>1522.0</td><td>13.0</td><td>5414.0</td><td>SA</td><td>08-22</td><td>2021</td><td>135.817304535062</td></tr>\n",
       "<tr><td>405041124</td><td>5554</td><td>101</td><td>9180</td><td>38212167834</td><td>2021-08-22</td><td>548.9214138172234</td><td>53fd2495-2cef-491...</td><td>false</td><td>0.01</td><td>Magna Suspendisse...</td><td>[lawn and garden ...</td><td>3.83</td><td>b</td><td>Jasmine Sanchez</td><td>598 Johnson Motor...</td><td>Female</td><td>Kadina</td><td>599.0</td><td>250.0</td><td>1127.0</td><td>45.0</td><td>1155.0</td><td>2.299999952316284</td><td>1522.0</td><td>13.0</td><td>5414.0</td><td>SA</td><td>08-22</td><td>2021</td><td>2102.3690149199656</td></tr>\n",
       "<tr><td>405041124</td><td>5554</td><td>101</td><td>9180</td><td>17523010120</td><td>2021-08-15</td><td>2.3742914221884552</td><td>f0ec9a69-dc62-464...</td><td>false</td><td>0.01</td><td>Urna Convallis Fo...</td><td>[tent and awning ...</td><td>0.79</td><td>d</td><td>Jasmine Sanchez</td><td>598 Johnson Motor...</td><td>Female</td><td>Kadina</td><td>599.0</td><td>250.0</td><td>1127.0</td><td>45.0</td><td>1155.0</td><td>2.299999952316284</td><td>1522.0</td><td>13.0</td><td>5414.0</td><td>SA</td><td>08-15</td><td>2021</td><td>1.8756902235288797</td></tr>\n",
       "<tr><td>405041124</td><td>5554</td><td>101</td><td>9180</td><td>32844138686</td><td>2021-07-15</td><td>369.5165979783281</td><td>3feade93-80b4-49b...</td><td>false</td><td>0.01</td><td>At Augue Id Assoc...</td><td>[computer program...</td><td>1.89</td><td>c</td><td>Jasmine Sanchez</td><td>598 Johnson Motor...</td><td>Female</td><td>Kadina</td><td>599.0</td><td>250.0</td><td>1127.0</td><td>45.0</td><td>1155.0</td><td>2.299999952316284</td><td>1522.0</td><td>13.0</td><td>5414.0</td><td>SA</td><td>07-15</td><td>2021</td><td>698.3863701790401</td></tr>\n",
       "<tr><td>405041124</td><td>5554</td><td>101</td><td>9180</td><td>51279178333</td><td>2021-07-15</td><td>34.72663298338204</td><td>c4ef84a1-4d13-4c2...</td><td>false</td><td>0.01</td><td>Neque LLC</td><td>[music shops - mu...</td><td>1.83</td><td>c</td><td>Jasmine Sanchez</td><td>598 Johnson Motor...</td><td>Female</td><td>Kadina</td><td>599.0</td><td>250.0</td><td>1127.0</td><td>45.0</td><td>1155.0</td><td>2.299999952316284</td><td>1522.0</td><td>13.0</td><td>5414.0</td><td>SA</td><td>07-15</td><td>2021</td><td>63.549738359589135</td></tr>\n",
       "<tr><td>405041124</td><td>5554</td><td>101</td><td>9180</td><td>82123916158</td><td>2021-08-16</td><td>101.11338489090687</td><td>1331fafd-6a3a-4ad...</td><td>false</td><td>0.01</td><td>Egestas A Corp.</td><td>[watch,  clock,  ...</td><td>1.75</td><td>c</td><td>Jasmine Sanchez</td><td>598 Johnson Motor...</td><td>Female</td><td>Kadina</td><td>599.0</td><td>250.0</td><td>1127.0</td><td>45.0</td><td>1155.0</td><td>2.299999952316284</td><td>1522.0</td><td>13.0</td><td>5414.0</td><td>SA</td><td>08-16</td><td>2021</td><td>176.94842355908702</td></tr>\n",
       "<tr><td>405041124</td><td>5554</td><td>101</td><td>9180</td><td>16492082804</td><td>2021-08-27</td><td>65.69877906894843</td><td>bedc228a-7343-4bf...</td><td>false</td><td>0.01</td><td>Et Malesuada Inst...</td><td>[shoe shops]</td><td>3.60</td><td>b</td><td>Jasmine Sanchez</td><td>598 Johnson Motor...</td><td>Female</td><td>Kadina</td><td>599.0</td><td>250.0</td><td>1127.0</td><td>45.0</td><td>1155.0</td><td>2.299999952316284</td><td>1522.0</td><td>13.0</td><td>5414.0</td><td>SA</td><td>08-27</td><td>2021</td><td>236.51560464821435</td></tr>\n",
       "<tr><td>405041124</td><td>5554</td><td>101</td><td>9180</td><td>86578477987</td><td>2021-08-13</td><td>31.934758122458238</td><td>db27ae92-cfe8-44b...</td><td>false</td><td>0.01</td><td>Leo In Consulting</td><td>[watch,  clock,  ...</td><td>6.43</td><td>a</td><td>Jasmine Sanchez</td><td>598 Johnson Motor...</td><td>Female</td><td>Kadina</td><td>599.0</td><td>250.0</td><td>1127.0</td><td>45.0</td><td>1155.0</td><td>2.299999952316284</td><td>1522.0</td><td>13.0</td><td>5414.0</td><td>SA</td><td>08-13</td><td>2021</td><td>205.34049472740645</td></tr>\n",
       "<tr><td>405041124</td><td>5554</td><td>101</td><td>9180</td><td>43698901053</td><td>2021-07-16</td><td>130.63458173185734</td><td>de272e12-8b8e-4f5...</td><td>false</td><td>0.01</td><td>Pede Praesent Ltd</td><td>[tent and awning ...</td><td>5.98</td><td>a</td><td>Jasmine Sanchez</td><td>598 Johnson Motor...</td><td>Female</td><td>Kadina</td><td>599.0</td><td>250.0</td><td>1127.0</td><td>45.0</td><td>1155.0</td><td>2.299999952316284</td><td>1522.0</td><td>13.0</td><td>5414.0</td><td>SA</td><td>07-16</td><td>2021</td><td>781.1947987565069</td></tr>\n",
       "<tr><td>405041124</td><td>5554</td><td>101</td><td>9180</td><td>58392414752</td><td>2021-07-16</td><td>594.0840841863339</td><td>a65d9cae-565f-4a9...</td><td>false</td><td>0.01</td><td>Mattis Ornare Lec...</td><td>[florists supplie...</td><td>1.47</td><td>c</td><td>Jasmine Sanchez</td><td>598 Johnson Motor...</td><td>Female</td><td>Kadina</td><td>599.0</td><td>250.0</td><td>1127.0</td><td>45.0</td><td>1155.0</td><td>2.299999952316284</td><td>1522.0</td><td>13.0</td><td>5414.0</td><td>SA</td><td>07-16</td><td>2021</td><td>873.3036037539109</td></tr>\n",
       "</table>\n"
      ],
      "text/plain": [
       "+-------------+--------+-----------+-------+------------+--------------+------------------+--------------------+--------+-----------------+--------------------+--------------------+---------+-------------+---------------+--------------------+------+-------------+---------------------------+------------------+-----------------------------+------------------+-------------------------+----------------------+-------------------------------+---------------------+-------+-----+-----+----+----------------------+\n",
       "|SA2_CODE_2021|postcode|consumer_id|user_id|merchant_abn|order_datetime|      dollar_value|            order_id|is_fraud|fraud_probability|                name|                tags|take rate|revenue level|  consumer_name|             address|gender|SA2_NAME_2021|Median_tot_prsnl_inc_weekly|Median_rent_weekly|Median_mortgage_repay_monthly|Median_age_persons|Median_tot_hhd_inc_weekly|Average_household_size|Year_12_Highest_Level_of_School|Did_Not_Attend_School|TOT_P_P|state| date|year|take_rate*dollar_value|\n",
       "+-------------+--------+-----------+-------+------------+--------------+------------------+--------------------+--------+-----------------+--------------------+--------------------+---------+-------------+---------------+--------------------+------+-------------+---------------------------+------------------+-----------------------------+------------------+-------------------------+----------------------+-------------------------------+---------------------+-------+-----+-----+----+----------------------+\n",
       "|    405041124|    5554|        101|   9180| 75944642726|    2021-08-20|41.621353566140854|4e80e6a1-bdc5-4b5...|   false|             0.01|               Et PC|[tent and awning ...|     6.03|            a|Jasmine Sanchez|598 Johnson Motor...|Female|       Kadina|                      599.0|             250.0|                       1127.0|              45.0|                   1155.0|     2.299999952316284|                         1522.0|                 13.0| 5414.0|   SA|08-20|2021|    250.97676200382935|\n",
       "|    405041124|    5554|        101|   9180| 31584328627|    2021-08-20|41.012145786222305|42b8acb6-1263-453...|   false|             0.01|                null|                null|     null|         null|Jasmine Sanchez|598 Johnson Motor...|Female|       Kadina|                      599.0|             250.0|                       1127.0|              45.0|                   1155.0|     2.299999952316284|                         1522.0|                 13.0| 5414.0|   SA|08-20|2021|                  null|\n",
       "|    405041124|    5554|        101|   9180| 45629217853|    2021-08-20|6.7656818985097535|f107384a-29eb-468...|   false|             0.01|    Lacus Consulting|[gift,  card,  no...|     6.98|            a|Jasmine Sanchez|598 Johnson Motor...|Female|       Kadina|                      599.0|             250.0|                       1127.0|              45.0|                   1155.0|     2.299999952316284|                         1522.0|                 13.0| 5414.0|   SA|08-20|2021|     47.22445965159808|\n",
       "|    405041124|    5554|        101|   9180| 71989214810|    2021-08-21|174.08192180474757|e1dbffda-f291-41d...|   false|             0.01|Semper Et Lacinia...|[computer program...|     6.95|            a|Jasmine Sanchez|598 Johnson Motor...|Female|       Kadina|                      599.0|             250.0|                       1127.0|              45.0|                   1155.0|     2.299999952316284|                         1522.0|                 13.0| 5414.0|   SA|08-21|2021|    1209.8693565429955|\n",
       "|    405041124|    5554|        101|   9180| 68216911708|    2021-08-21|12.442459813951164|24b53c84-dd33-48c...|   false|             0.01|Placerat Eget Ven...|[computers,  comp...|     3.05|            c|Jasmine Sanchez|598 Johnson Motor...|Female|       Kadina|                      599.0|             250.0|                       1127.0|              45.0|                   1155.0|     2.299999952316284|                         1522.0|                 13.0| 5414.0|   SA|08-21|2021|     37.94950243255105|\n",
       "|    405041124|    5554|        101|   9180| 64203420245|    2021-08-22| 47.48856801925245|cb50ad85-e8f0-42c...|   false|             0.01|  Pede Nonummy Corp.|[tent and awning ...|     2.86|            c|Jasmine Sanchez|598 Johnson Motor...|Female|       Kadina|                      599.0|             250.0|                       1127.0|              45.0|                   1155.0|     2.299999952316284|                         1522.0|                 13.0| 5414.0|   SA|08-22|2021|      135.817304535062|\n",
       "|    405041124|    5554|        101|   9180| 38212167834|    2021-08-22| 548.9214138172234|53fd2495-2cef-491...|   false|             0.01|Magna Suspendisse...|[lawn and garden ...|     3.83|            b|Jasmine Sanchez|598 Johnson Motor...|Female|       Kadina|                      599.0|             250.0|                       1127.0|              45.0|                   1155.0|     2.299999952316284|                         1522.0|                 13.0| 5414.0|   SA|08-22|2021|    2102.3690149199656|\n",
       "|    405041124|    5554|        101|   9180| 17523010120|    2021-08-15|2.3742914221884552|f0ec9a69-dc62-464...|   false|             0.01|Urna Convallis Fo...|[tent and awning ...|     0.79|            d|Jasmine Sanchez|598 Johnson Motor...|Female|       Kadina|                      599.0|             250.0|                       1127.0|              45.0|                   1155.0|     2.299999952316284|                         1522.0|                 13.0| 5414.0|   SA|08-15|2021|    1.8756902235288797|\n",
       "|    405041124|    5554|        101|   9180| 32844138686|    2021-07-15| 369.5165979783281|3feade93-80b4-49b...|   false|             0.01|At Augue Id Assoc...|[computer program...|     1.89|            c|Jasmine Sanchez|598 Johnson Motor...|Female|       Kadina|                      599.0|             250.0|                       1127.0|              45.0|                   1155.0|     2.299999952316284|                         1522.0|                 13.0| 5414.0|   SA|07-15|2021|     698.3863701790401|\n",
       "|    405041124|    5554|        101|   9180| 51279178333|    2021-07-15| 34.72663298338204|c4ef84a1-4d13-4c2...|   false|             0.01|           Neque LLC|[music shops - mu...|     1.83|            c|Jasmine Sanchez|598 Johnson Motor...|Female|       Kadina|                      599.0|             250.0|                       1127.0|              45.0|                   1155.0|     2.299999952316284|                         1522.0|                 13.0| 5414.0|   SA|07-15|2021|    63.549738359589135|\n",
       "|    405041124|    5554|        101|   9180| 82123916158|    2021-08-16|101.11338489090687|1331fafd-6a3a-4ad...|   false|             0.01|     Egestas A Corp.|[watch,  clock,  ...|     1.75|            c|Jasmine Sanchez|598 Johnson Motor...|Female|       Kadina|                      599.0|             250.0|                       1127.0|              45.0|                   1155.0|     2.299999952316284|                         1522.0|                 13.0| 5414.0|   SA|08-16|2021|    176.94842355908702|\n",
       "|    405041124|    5554|        101|   9180| 16492082804|    2021-08-27| 65.69877906894843|bedc228a-7343-4bf...|   false|             0.01|Et Malesuada Inst...|        [shoe shops]|     3.60|            b|Jasmine Sanchez|598 Johnson Motor...|Female|       Kadina|                      599.0|             250.0|                       1127.0|              45.0|                   1155.0|     2.299999952316284|                         1522.0|                 13.0| 5414.0|   SA|08-27|2021|    236.51560464821435|\n",
       "|    405041124|    5554|        101|   9180| 86578477987|    2021-08-13|31.934758122458238|db27ae92-cfe8-44b...|   false|             0.01|   Leo In Consulting|[watch,  clock,  ...|     6.43|            a|Jasmine Sanchez|598 Johnson Motor...|Female|       Kadina|                      599.0|             250.0|                       1127.0|              45.0|                   1155.0|     2.299999952316284|                         1522.0|                 13.0| 5414.0|   SA|08-13|2021|    205.34049472740645|\n",
       "|    405041124|    5554|        101|   9180| 43698901053|    2021-07-16|130.63458173185734|de272e12-8b8e-4f5...|   false|             0.01|   Pede Praesent Ltd|[tent and awning ...|     5.98|            a|Jasmine Sanchez|598 Johnson Motor...|Female|       Kadina|                      599.0|             250.0|                       1127.0|              45.0|                   1155.0|     2.299999952316284|                         1522.0|                 13.0| 5414.0|   SA|07-16|2021|     781.1947987565069|\n",
       "|    405041124|    5554|        101|   9180| 58392414752|    2021-07-16| 594.0840841863339|a65d9cae-565f-4a9...|   false|             0.01|Mattis Ornare Lec...|[florists supplie...|     1.47|            c|Jasmine Sanchez|598 Johnson Motor...|Female|       Kadina|                      599.0|             250.0|                       1127.0|              45.0|                   1155.0|     2.299999952316284|                         1522.0|                 13.0| 5414.0|   SA|07-16|2021|     873.3036037539109|\n",
       "+-------------+--------+-----------+-------+------------+--------------+------------------+--------------------+--------+-----------------+--------------------+--------------------+---------+-------------+---------------+--------------------+------+-------------+---------------------------+------------------+-----------------------------+------------------+-------------------------+----------------------+-------------------------------+---------------------+-------+-----+-----+----+----------------------+"
      ]
     },
     "execution_count": 3,
     "metadata": {},
     "output_type": "execute_result"
    }
   ],
   "source": [
    "data.limit(15)"
   ]
  },
  {
   "cell_type": "code",
   "execution_count": 3,
   "id": "ae53333e",
   "metadata": {
    "collapsed": true
   },
   "outputs": [
    {
     "name": "stderr",
     "output_type": "stream",
     "text": [
      "                                                                                \r"
     ]
    },
    {
     "data": {
      "text/html": [
       "<table border='1'>\n",
       "<tr><th>merchant_abn</th><th>order_datetime</th><th>transaction_count</th><th>avg_transaction_amt</th><th>is_fraud</th><th>fraud_probability</th></tr>\n",
       "<tr><td>38700038932</td><td>2021-08-20</td><td>14</td><td>1524.9292206627556</td><td>false</td><td>0.01</td></tr>\n",
       "<tr><td>89502033586</td><td>2021-08-20</td><td>40</td><td>65.44754598876243</td><td>false</td><td>0.01</td></tr>\n",
       "<tr><td>70610974780</td><td>2021-08-20</td><td>27</td><td>43.48907978704201</td><td>false</td><td>0.01</td></tr>\n",
       "<tr><td>29550468444</td><td>2021-08-20</td><td>4</td><td>157.0</td><td>false</td><td>0.01</td></tr>\n",
       "<tr><td>92075595936</td><td>2021-08-20</td><td>12</td><td>95.50018824235849</td><td>false</td><td>0.01</td></tr>\n",
       "<tr><td>62422038748</td><td>2021-08-20</td><td>1</td><td>2442.1698743679544</td><td>false</td><td>0.01</td></tr>\n",
       "<tr><td>32894483068</td><td>2021-08-20</td><td>1</td><td>228.6561829721828</td><td>false</td><td>0.01</td></tr>\n",
       "<tr><td>55958301764</td><td>2021-08-20</td><td>6</td><td>281.354343839723</td><td>false</td><td>0.01</td></tr>\n",
       "<tr><td>12543580354</td><td>2021-08-20</td><td>12</td><td>262.53675367314503</td><td>false</td><td>0.01</td></tr>\n",
       "<tr><td>26008308191</td><td>2021-08-20</td><td>6</td><td>241.04606090655918</td><td>false</td><td>0.01</td></tr>\n",
       "</table>\n"
      ],
      "text/plain": [
       "+------------+--------------+-----------------+-------------------+--------+-----------------+\n",
       "|merchant_abn|order_datetime|transaction_count|avg_transaction_amt|is_fraud|fraud_probability|\n",
       "+------------+--------------+-----------------+-------------------+--------+-----------------+\n",
       "| 38700038932|    2021-08-20|               14| 1524.9292206627556|   false|             0.01|\n",
       "| 89502033586|    2021-08-20|               40|  65.44754598876243|   false|             0.01|\n",
       "| 70610974780|    2021-08-20|               27|  43.48907978704201|   false|             0.01|\n",
       "| 29550468444|    2021-08-20|                4|              157.0|   false|             0.01|\n",
       "| 92075595936|    2021-08-20|               12|  95.50018824235849|   false|             0.01|\n",
       "| 62422038748|    2021-08-20|                1| 2442.1698743679544|   false|             0.01|\n",
       "| 32894483068|    2021-08-20|                1|  228.6561829721828|   false|             0.01|\n",
       "| 55958301764|    2021-08-20|                6|   281.354343839723|   false|             0.01|\n",
       "| 12543580354|    2021-08-20|               12| 262.53675367314503|   false|             0.01|\n",
       "| 26008308191|    2021-08-20|                6| 241.04606090655918|   false|             0.01|\n",
       "+------------+--------------+-----------------+-------------------+--------+-----------------+"
      ]
     },
     "execution_count": 3,
     "metadata": {},
     "output_type": "execute_result"
    }
   ],
   "source": [
    "merchant_fraud.limit(10)"
   ]
  },
  {
   "cell_type": "code",
   "execution_count": 29,
   "id": "3cece57b",
   "metadata": {},
   "outputs": [
    {
     "name": "stderr",
     "output_type": "stream",
     "text": [
      "                                                                                \r"
     ]
    },
    {
     "data": {
      "text/plain": [
       "2689030"
      ]
     },
     "execution_count": 29,
     "metadata": {},
     "output_type": "execute_result"
    }
   ],
   "source": [
    "merchant_fraud.count()"
   ]
  },
  {
   "cell_type": "code",
   "execution_count": 9,
   "id": "2caf5df2",
   "metadata": {
    "scrolled": true
   },
   "outputs": [
    {
     "name": "stderr",
     "output_type": "stream",
     "text": [
      "                                                                                \r"
     ]
    },
    {
     "data": {
      "text/html": [
       "<table border='1'>\n",
       "<tr><th>merchant_abn</th><th>order_datetime</th><th>transaction_count</th><th>avg_transaction_amt</th><th>is_fraud</th><th>fraud_probability</th></tr>\n",
       "<tr><td>83220249221</td><td>2021-11-27</td><td>6</td><td>157.8399073660867</td><td>true</td><td>63.51245947057463</td></tr>\n",
       "<tr><td>18158387243</td><td>2021-11-29</td><td>77</td><td>558.986275523425</td><td>true</td><td>28.956947892226466</td></tr>\n",
       "<tr><td>22606727520</td><td>2021-11-27</td><td>5</td><td>394.6312098891729</td><td>true</td><td>62.992786990153064</td></tr>\n",
       "<tr><td>31334588839</td><td>2021-12-11</td><td>6</td><td>9032.604983300089</td><td>true</td><td>31.415759105830013</td></tr>\n",
       "<tr><td>31334588839</td><td>2021-12-10</td><td>7</td><td>6221.920428612912</td><td>true</td><td>26.940495859428125</td></tr>\n",
       "<tr><td>19492220327</td><td>2021-12-18</td><td>4</td><td>16149.939551642537</td><td>true</td><td>33.819672154331755</td></tr>\n",
       "<tr><td>14530561097</td><td>2021-09-15</td><td>1</td><td>46001.13901942742</td><td>true</td><td>80.80054474543395</td></tr>\n",
       "<tr><td>97884414539</td><td>2021-10-19</td><td>1</td><td>44615.02252113347</td><td>true</td><td>89.79919971536573</td></tr>\n",
       "<tr><td>15043504837</td><td>2021-08-29</td><td>1</td><td>47381.93709086238</td><td>true</td><td>59.77648897297805</td></tr>\n",
       "<tr><td>30275989942</td><td>2022-01-28</td><td>1</td><td>1558.8759753180334</td><td>true</td><td>63.108592876362856</td></tr>\n",
       "<tr><td>90918180829</td><td>2022-02-05</td><td>3</td><td>18386.00806627504</td><td>true</td><td>34.433736071364535</td></tr>\n",
       "<tr><td>23709946765</td><td>2022-02-02</td><td>2</td><td>21525.052222113765</td><td>true</td><td>44.01272537833859</td></tr>\n",
       "<tr><td>83220249221</td><td>2021-11-27</td><td>6</td><td>157.8399073660867</td><td>true</td><td>63.51245947057463</td></tr>\n",
       "<tr><td>18158387243</td><td>2021-11-29</td><td>77</td><td>558.986275523425</td><td>true</td><td>28.956947892226466</td></tr>\n",
       "<tr><td>22606727520</td><td>2021-11-27</td><td>5</td><td>394.6312098891729</td><td>true</td><td>62.992786990153064</td></tr>\n",
       "<tr><td>31334588839</td><td>2021-12-11</td><td>6</td><td>9032.604983300089</td><td>true</td><td>31.415759105830013</td></tr>\n",
       "<tr><td>31334588839</td><td>2021-12-10</td><td>7</td><td>6221.920428612912</td><td>true</td><td>26.940495859428125</td></tr>\n",
       "<tr><td>19492220327</td><td>2021-12-18</td><td>4</td><td>16149.939551642537</td><td>true</td><td>33.819672154331755</td></tr>\n",
       "<tr><td>14530561097</td><td>2021-09-15</td><td>1</td><td>46001.13901942742</td><td>true</td><td>80.80054474543395</td></tr>\n",
       "<tr><td>97884414539</td><td>2021-10-19</td><td>1</td><td>44615.02252113347</td><td>true</td><td>89.79919971536573</td></tr>\n",
       "</table>\n",
       "only showing top 20 rows\n"
      ],
      "text/plain": [
       "+------------+--------------+-----------------+-------------------+--------+------------------+\n",
       "|merchant_abn|order_datetime|transaction_count|avg_transaction_amt|is_fraud| fraud_probability|\n",
       "+------------+--------------+-----------------+-------------------+--------+------------------+\n",
       "| 83220249221|    2021-11-27|                6|  157.8399073660867|    true| 63.51245947057463|\n",
       "| 18158387243|    2021-11-29|               77|   558.986275523425|    true|28.956947892226466|\n",
       "| 22606727520|    2021-11-27|                5|  394.6312098891729|    true|62.992786990153064|\n",
       "| 31334588839|    2021-12-11|                6|  9032.604983300089|    true|31.415759105830013|\n",
       "| 31334588839|    2021-12-10|                7|  6221.920428612912|    true|26.940495859428125|\n",
       "| 19492220327|    2021-12-18|                4| 16149.939551642537|    true|33.819672154331755|\n",
       "| 14530561097|    2021-09-15|                1|  46001.13901942742|    true| 80.80054474543395|\n",
       "| 97884414539|    2021-10-19|                1|  44615.02252113347|    true| 89.79919971536573|\n",
       "| 15043504837|    2021-08-29|                1|  47381.93709086238|    true| 59.77648897297805|\n",
       "| 30275989942|    2022-01-28|                1| 1558.8759753180334|    true|63.108592876362856|\n",
       "| 90918180829|    2022-02-05|                3|  18386.00806627504|    true|34.433736071364535|\n",
       "| 23709946765|    2022-02-02|                2| 21525.052222113765|    true| 44.01272537833859|\n",
       "| 83220249221|    2021-11-27|                6|  157.8399073660867|    true| 63.51245947057463|\n",
       "| 18158387243|    2021-11-29|               77|   558.986275523425|    true|28.956947892226466|\n",
       "| 22606727520|    2021-11-27|                5|  394.6312098891729|    true|62.992786990153064|\n",
       "| 31334588839|    2021-12-11|                6|  9032.604983300089|    true|31.415759105830013|\n",
       "| 31334588839|    2021-12-10|                7|  6221.920428612912|    true|26.940495859428125|\n",
       "| 19492220327|    2021-12-18|                4| 16149.939551642537|    true|33.819672154331755|\n",
       "| 14530561097|    2021-09-15|                1|  46001.13901942742|    true| 80.80054474543395|\n",
       "| 97884414539|    2021-10-19|                1|  44615.02252113347|    true| 89.79919971536573|\n",
       "+------------+--------------+-----------------+-------------------+--------+------------------+\n",
       "only showing top 20 rows"
      ]
     },
     "execution_count": 9,
     "metadata": {},
     "output_type": "execute_result"
    }
   ],
   "source": [
    "merchant_fraud.where(F.col('fraud_probability') != 0.01)"
   ]
  },
  {
   "cell_type": "code",
   "execution_count": 12,
   "id": "f6aacf04",
   "metadata": {
    "scrolled": true
   },
   "outputs": [
    {
     "name": "stderr",
     "output_type": "stream",
     "text": [
      "                                                                                \r"
     ]
    },
    {
     "data": {
      "text/plain": [
       "228"
      ]
     },
     "execution_count": 12,
     "metadata": {},
     "output_type": "execute_result"
    }
   ],
   "source": [
    "merchant_fraud.where(F.col('fraud_probability') != 0.01).count()"
   ]
  },
  {
   "cell_type": "markdown",
   "id": "6ff5864a",
   "metadata": {},
   "source": [
    "About 0.008% of the merchant daily transactions is fraudulent."
   ]
  },
  {
   "cell_type": "code",
   "execution_count": 4,
   "id": "45ac1192",
   "metadata": {},
   "outputs": [
    {
     "name": "stderr",
     "output_type": "stream",
     "text": [
      "                                                                                \r"
     ]
    },
    {
     "data": {
      "text/html": [
       "<table border='1'>\n",
       "<tr><th>user_id</th><th>order_datetime</th><th>transaction_count</th><th>avg_transaction_amt</th><th>is_fraud</th><th>fraud_probability</th></tr>\n",
       "<tr><td>18487</td><td>2021-08-20</td><td>2</td><td>73.0925761125627</td><td>false</td><td>0.01</td></tr>\n",
       "<tr><td>18552</td><td>2021-08-20</td><td>2</td><td>174.42985218811984</td><td>false</td><td>0.01</td></tr>\n",
       "<tr><td>215</td><td>2021-08-20</td><td>2</td><td>48.880342827706</td><td>false</td><td>0.01</td></tr>\n",
       "<tr><td>18770</td><td>2021-08-20</td><td>1</td><td>273.2147324712209</td><td>false</td><td>0.01</td></tr>\n",
       "<tr><td>18837</td><td>2021-08-20</td><td>1</td><td>23.800263170555642</td><td>false</td><td>0.01</td></tr>\n",
       "<tr><td>18849</td><td>2021-08-20</td><td>3</td><td>56.899667578706065</td><td>false</td><td>0.01</td></tr>\n",
       "<tr><td>435</td><td>2021-08-20</td><td>2</td><td>21.310166954483677</td><td>false</td><td>0.01</td></tr>\n",
       "<tr><td>788</td><td>2021-08-20</td><td>2</td><td>38.272827709859286</td><td>false</td><td>0.01</td></tr>\n",
       "<tr><td>19550</td><td>2021-08-20</td><td>2</td><td>17.85711450212551</td><td>false</td><td>0.01</td></tr>\n",
       "<tr><td>1117</td><td>2021-08-20</td><td>3</td><td>57.4104700047829</td><td>false</td><td>0.01</td></tr>\n",
       "</table>\n"
      ],
      "text/plain": [
       "+-------+--------------+-----------------+-------------------+--------+-----------------+\n",
       "|user_id|order_datetime|transaction_count|avg_transaction_amt|is_fraud|fraud_probability|\n",
       "+-------+--------------+-----------------+-------------------+--------+-----------------+\n",
       "|  18487|    2021-08-20|                2|   73.0925761125627|   false|             0.01|\n",
       "|  18552|    2021-08-20|                2| 174.42985218811984|   false|             0.01|\n",
       "|    215|    2021-08-20|                2|    48.880342827706|   false|             0.01|\n",
       "|  18770|    2021-08-20|                1|  273.2147324712209|   false|             0.01|\n",
       "|  18837|    2021-08-20|                1| 23.800263170555642|   false|             0.01|\n",
       "|  18849|    2021-08-20|                3| 56.899667578706065|   false|             0.01|\n",
       "|    435|    2021-08-20|                2| 21.310166954483677|   false|             0.01|\n",
       "|    788|    2021-08-20|                2| 38.272827709859286|   false|             0.01|\n",
       "|  19550|    2021-08-20|                2|  17.85711450212551|   false|             0.01|\n",
       "|   1117|    2021-08-20|                3|   57.4104700047829|   false|             0.01|\n",
       "+-------+--------------+-----------------+-------------------+--------+-----------------+"
      ]
     },
     "execution_count": 4,
     "metadata": {},
     "output_type": "execute_result"
    }
   ],
   "source": [
    "consumer_fraud.limit(10)"
   ]
  },
  {
   "cell_type": "code",
   "execution_count": 30,
   "id": "52033b17",
   "metadata": {},
   "outputs": [
    {
     "name": "stderr",
     "output_type": "stream",
     "text": [
      "                                                                                \r"
     ]
    },
    {
     "data": {
      "text/plain": [
       "8977056"
      ]
     },
     "execution_count": 30,
     "metadata": {},
     "output_type": "execute_result"
    }
   ],
   "source": [
    "consumer_fraud.count()"
   ]
  },
  {
   "cell_type": "code",
   "execution_count": 31,
   "id": "9c60e34b",
   "metadata": {
    "scrolled": true
   },
   "outputs": [
    {
     "name": "stderr",
     "output_type": "stream",
     "text": [
      "                                                                                \r"
     ]
    },
    {
     "data": {
      "text/plain": [
       "34864"
      ]
     },
     "execution_count": 31,
     "metadata": {},
     "output_type": "execute_result"
    }
   ],
   "source": [
    "consumer_fraud.where(F.col('fraud_probability') != 0.01).count()"
   ]
  },
  {
   "cell_type": "markdown",
   "id": "841811ad",
   "metadata": {},
   "source": [
    "About 0.4% of the consumer daily transactions is fraudulent."
   ]
  },
  {
   "cell_type": "markdown",
   "id": "1a7c99f1",
   "metadata": {},
   "source": [
    "## Merchant fraud data"
   ]
  },
  {
   "cell_type": "markdown",
   "id": "d86a14cb",
   "metadata": {},
   "source": [
    "### Resampling data"
   ]
  },
  {
   "cell_type": "code",
   "execution_count": 3,
   "id": "e4f215c2",
   "metadata": {},
   "outputs": [],
   "source": [
    "import pandas as pd\n",
    "from sklearn.utils import resample\n",
    "\n",
    "def resampling(majority, minority):\n",
    "    \"\"\"\n",
    "    Performs undersampling on the majority class (spark dataframe)\n",
    "    and oversampling on the minority class (pandas dataframe) from an imbalanced dataset. \n",
    "    Outputs resampled dataset as a pandas dataframe.\n",
    "    \"\"\"\n",
    "    \n",
    "    # define number of samples needed from each class\n",
    "    N_MAJOR = 550\n",
    "    N_MINOR = 450\n",
    "    FRAC_MAJOR = round(N_MAJOR / majority.count(), 4)\n",
    "    \n",
    "    # repeated sampling from the minority class\n",
    "    n_more_samples = N_MINOR - minority.shape[0] # needs to be less than no. of samples in minority\n",
    "    sampled_minority = pd.concat([minority, resample(minority, replace=False, n_samples=n_more_samples, random_state=0)], axis=0)\n",
    "    \n",
    "    # undersampling from the majority class\n",
    "    sampled_majority = majority.sample(FRAC_MAJOR, seed=0).toPandas()\n",
    "    \n",
    "    # join the sampled datasets\n",
    "    resampled = pd.concat([sampled_majority, sampled_minority], axis=0)\n",
    "    \n",
    "    return resampled"
   ]
  },
  {
   "cell_type": "code",
   "execution_count": 4,
   "id": "e2fa04da",
   "metadata": {},
   "outputs": [
    {
     "name": "stderr",
     "output_type": "stream",
     "text": [
      "                                                                                \r"
     ]
    }
   ],
   "source": [
    "# split merchant fraud data by class\n",
    "merchant_majority = merchant_fraud.where(F.col('fraud_probability') == 0.01)\n",
    "merchant_minority = merchant_fraud.where(F.col('fraud_probability') != 0.01).toPandas()"
   ]
  },
  {
   "cell_type": "code",
   "execution_count": 5,
   "id": "0e73152a",
   "metadata": {},
   "outputs": [
    {
     "name": "stderr",
     "output_type": "stream",
     "text": [
      "                                                                                \r"
     ]
    }
   ],
   "source": [
    "# obtain resampled dataset for modelling\n",
    "merchant_resampled = resampling(merchant_majority, merchant_minority)"
   ]
  },
  {
   "cell_type": "code",
   "execution_count": 12,
   "id": "4165812f",
   "metadata": {},
   "outputs": [
    {
     "data": {
      "text/html": [
       "<div>\n",
       "<style scoped>\n",
       "    .dataframe tbody tr th:only-of-type {\n",
       "        vertical-align: middle;\n",
       "    }\n",
       "\n",
       "    .dataframe tbody tr th {\n",
       "        vertical-align: top;\n",
       "    }\n",
       "\n",
       "    .dataframe thead th {\n",
       "        text-align: right;\n",
       "    }\n",
       "</style>\n",
       "<table border=\"1\" class=\"dataframe\">\n",
       "  <thead>\n",
       "    <tr style=\"text-align: right;\">\n",
       "      <th></th>\n",
       "      <th>merchant_abn</th>\n",
       "      <th>order_datetime</th>\n",
       "      <th>transaction_count</th>\n",
       "      <th>avg_transaction_amt</th>\n",
       "      <th>is_fraud</th>\n",
       "      <th>fraud_probability</th>\n",
       "      <th>order_dayofweek</th>\n",
       "    </tr>\n",
       "  </thead>\n",
       "  <tbody>\n",
       "    <tr>\n",
       "      <th>0</th>\n",
       "      <td>15269431008</td>\n",
       "      <td>2021-06-25</td>\n",
       "      <td>16</td>\n",
       "      <td>94.062315</td>\n",
       "      <td>False</td>\n",
       "      <td>0.01</td>\n",
       "      <td>4</td>\n",
       "    </tr>\n",
       "    <tr>\n",
       "      <th>1</th>\n",
       "      <td>26603390734</td>\n",
       "      <td>2021-08-13</td>\n",
       "      <td>2</td>\n",
       "      <td>654.763018</td>\n",
       "      <td>False</td>\n",
       "      <td>0.01</td>\n",
       "      <td>4</td>\n",
       "    </tr>\n",
       "    <tr>\n",
       "      <th>2</th>\n",
       "      <td>66917621463</td>\n",
       "      <td>2021-05-16</td>\n",
       "      <td>4</td>\n",
       "      <td>331.084177</td>\n",
       "      <td>False</td>\n",
       "      <td>0.01</td>\n",
       "      <td>6</td>\n",
       "    </tr>\n",
       "    <tr>\n",
       "      <th>3</th>\n",
       "      <td>12034469787</td>\n",
       "      <td>2021-07-25</td>\n",
       "      <td>4</td>\n",
       "      <td>61.694078</td>\n",
       "      <td>False</td>\n",
       "      <td>0.01</td>\n",
       "      <td>6</td>\n",
       "    </tr>\n",
       "    <tr>\n",
       "      <th>4</th>\n",
       "      <td>92681936901</td>\n",
       "      <td>2021-07-21</td>\n",
       "      <td>6</td>\n",
       "      <td>259.949417</td>\n",
       "      <td>False</td>\n",
       "      <td>0.01</td>\n",
       "      <td>2</td>\n",
       "    </tr>\n",
       "  </tbody>\n",
       "</table>\n",
       "</div>"
      ],
      "text/plain": [
       "   merchant_abn order_datetime  transaction_count  avg_transaction_amt  \\\n",
       "0   15269431008     2021-06-25                 16            94.062315   \n",
       "1   26603390734     2021-08-13                  2           654.763018   \n",
       "2   66917621463     2021-05-16                  4           331.084177   \n",
       "3   12034469787     2021-07-25                  4            61.694078   \n",
       "4   92681936901     2021-07-21                  6           259.949417   \n",
       "\n",
       "   is_fraud fraud_probability  order_dayofweek  \n",
       "0     False              0.01                4  \n",
       "1     False              0.01                4  \n",
       "2     False              0.01                6  \n",
       "3     False              0.01                6  \n",
       "4     False              0.01                2  "
      ]
     },
     "execution_count": 12,
     "metadata": {},
     "output_type": "execute_result"
    }
   ],
   "source": [
    "merchant_resampled.head()"
   ]
  },
  {
   "cell_type": "markdown",
   "id": "bc4558ae",
   "metadata": {},
   "source": [
    "### Feature engineering "
   ]
  },
  {
   "cell_type": "code",
   "execution_count": 10,
   "id": "8ae9e122",
   "metadata": {},
   "outputs": [],
   "source": [
    "# parse order datetime column to pandas' datetime\n",
    "merchant_resampled['order_datetime'] = pd.to_datetime(merchant_resampled['order_datetime'])"
   ]
  },
  {
   "cell_type": "code",
   "execution_count": 11,
   "id": "b148f1d1",
   "metadata": {},
   "outputs": [],
   "source": [
    "# create order day of week column - Monday = 0, Sunday = 6\n",
    "merchant_resampled['order_dayofweek'] = merchant_resampled['order_datetime'].dt.day_of_week"
   ]
  },
  {
   "cell_type": "code",
   "execution_count": 14,
   "id": "6da85a50",
   "metadata": {},
   "outputs": [
    {
     "data": {
      "text/html": [
       "<div>\n",
       "<style scoped>\n",
       "    .dataframe tbody tr th:only-of-type {\n",
       "        vertical-align: middle;\n",
       "    }\n",
       "\n",
       "    .dataframe tbody tr th {\n",
       "        vertical-align: top;\n",
       "    }\n",
       "\n",
       "    .dataframe thead th {\n",
       "        text-align: right;\n",
       "    }\n",
       "</style>\n",
       "<table border=\"1\" class=\"dataframe\">\n",
       "  <thead>\n",
       "    <tr style=\"text-align: right;\">\n",
       "      <th></th>\n",
       "      <th>merchant_abn</th>\n",
       "      <th>order_datetime</th>\n",
       "      <th>transaction_count</th>\n",
       "      <th>avg_transaction_amt</th>\n",
       "      <th>is_fraud</th>\n",
       "      <th>fraud_probability</th>\n",
       "      <th>dow_0</th>\n",
       "      <th>dow_1</th>\n",
       "      <th>dow_2</th>\n",
       "      <th>dow_3</th>\n",
       "      <th>dow_4</th>\n",
       "      <th>dow_5</th>\n",
       "      <th>dow_6</th>\n",
       "    </tr>\n",
       "  </thead>\n",
       "  <tbody>\n",
       "    <tr>\n",
       "      <th>0</th>\n",
       "      <td>15269431008</td>\n",
       "      <td>2021-06-25</td>\n",
       "      <td>16</td>\n",
       "      <td>94.062315</td>\n",
       "      <td>False</td>\n",
       "      <td>0.01</td>\n",
       "      <td>0</td>\n",
       "      <td>0</td>\n",
       "      <td>0</td>\n",
       "      <td>0</td>\n",
       "      <td>1</td>\n",
       "      <td>0</td>\n",
       "      <td>0</td>\n",
       "    </tr>\n",
       "    <tr>\n",
       "      <th>1</th>\n",
       "      <td>26603390734</td>\n",
       "      <td>2021-08-13</td>\n",
       "      <td>2</td>\n",
       "      <td>654.763018</td>\n",
       "      <td>False</td>\n",
       "      <td>0.01</td>\n",
       "      <td>0</td>\n",
       "      <td>0</td>\n",
       "      <td>0</td>\n",
       "      <td>0</td>\n",
       "      <td>1</td>\n",
       "      <td>0</td>\n",
       "      <td>0</td>\n",
       "    </tr>\n",
       "    <tr>\n",
       "      <th>2</th>\n",
       "      <td>66917621463</td>\n",
       "      <td>2021-05-16</td>\n",
       "      <td>4</td>\n",
       "      <td>331.084177</td>\n",
       "      <td>False</td>\n",
       "      <td>0.01</td>\n",
       "      <td>0</td>\n",
       "      <td>0</td>\n",
       "      <td>0</td>\n",
       "      <td>0</td>\n",
       "      <td>0</td>\n",
       "      <td>0</td>\n",
       "      <td>1</td>\n",
       "    </tr>\n",
       "    <tr>\n",
       "      <th>3</th>\n",
       "      <td>12034469787</td>\n",
       "      <td>2021-07-25</td>\n",
       "      <td>4</td>\n",
       "      <td>61.694078</td>\n",
       "      <td>False</td>\n",
       "      <td>0.01</td>\n",
       "      <td>0</td>\n",
       "      <td>0</td>\n",
       "      <td>0</td>\n",
       "      <td>0</td>\n",
       "      <td>0</td>\n",
       "      <td>0</td>\n",
       "      <td>1</td>\n",
       "    </tr>\n",
       "    <tr>\n",
       "      <th>4</th>\n",
       "      <td>92681936901</td>\n",
       "      <td>2021-07-21</td>\n",
       "      <td>6</td>\n",
       "      <td>259.949417</td>\n",
       "      <td>False</td>\n",
       "      <td>0.01</td>\n",
       "      <td>0</td>\n",
       "      <td>0</td>\n",
       "      <td>1</td>\n",
       "      <td>0</td>\n",
       "      <td>0</td>\n",
       "      <td>0</td>\n",
       "      <td>0</td>\n",
       "    </tr>\n",
       "  </tbody>\n",
       "</table>\n",
       "</div>"
      ],
      "text/plain": [
       "   merchant_abn order_datetime  transaction_count  avg_transaction_amt  \\\n",
       "0   15269431008     2021-06-25                 16            94.062315   \n",
       "1   26603390734     2021-08-13                  2           654.763018   \n",
       "2   66917621463     2021-05-16                  4           331.084177   \n",
       "3   12034469787     2021-07-25                  4            61.694078   \n",
       "4   92681936901     2021-07-21                  6           259.949417   \n",
       "\n",
       "   is_fraud fraud_probability  dow_0  dow_1  dow_2  dow_3  dow_4  dow_5  dow_6  \n",
       "0     False              0.01      0      0      0      0      1      0      0  \n",
       "1     False              0.01      0      0      0      0      1      0      0  \n",
       "2     False              0.01      0      0      0      0      0      0      1  \n",
       "3     False              0.01      0      0      0      0      0      0      1  \n",
       "4     False              0.01      0      0      1      0      0      0      0  "
      ]
     },
     "execution_count": 14,
     "metadata": {},
     "output_type": "execute_result"
    }
   ],
   "source": [
    "# one-hot encoding on order day of week column\n",
    "merchant_resampled = pd.get_dummies(data=merchant_resampled, prefix='dow', columns=['order_dayofweek'])\n",
    "\n",
    "merchant_resampled.head()"
   ]
  },
  {
   "cell_type": "code",
   "execution_count": 20,
   "id": "d02d1cc3",
   "metadata": {},
   "outputs": [],
   "source": [
    "# split dataset into predictors and target variables\n",
    "X = pd.concat([merchant_resampled.iloc[:,2:4], merchant_resampled.iloc[:,6:]], axis=1)\n",
    "y = merchant_resampled.iloc[:,4]"
   ]
  },
  {
   "cell_type": "code",
   "execution_count": 19,
   "id": "fab0a8c4",
   "metadata": {},
   "outputs": [
    {
     "data": {
      "text/html": [
       "<div>\n",
       "<style scoped>\n",
       "    .dataframe tbody tr th:only-of-type {\n",
       "        vertical-align: middle;\n",
       "    }\n",
       "\n",
       "    .dataframe tbody tr th {\n",
       "        vertical-align: top;\n",
       "    }\n",
       "\n",
       "    .dataframe thead th {\n",
       "        text-align: right;\n",
       "    }\n",
       "</style>\n",
       "<table border=\"1\" class=\"dataframe\">\n",
       "  <thead>\n",
       "    <tr style=\"text-align: right;\">\n",
       "      <th></th>\n",
       "      <th>transaction_count</th>\n",
       "      <th>avg_transaction_amt</th>\n",
       "      <th>dow_0</th>\n",
       "      <th>dow_1</th>\n",
       "      <th>dow_2</th>\n",
       "      <th>dow_3</th>\n",
       "      <th>dow_4</th>\n",
       "      <th>dow_5</th>\n",
       "      <th>dow_6</th>\n",
       "    </tr>\n",
       "  </thead>\n",
       "  <tbody>\n",
       "    <tr>\n",
       "      <th>0</th>\n",
       "      <td>16</td>\n",
       "      <td>94.062315</td>\n",
       "      <td>0</td>\n",
       "      <td>0</td>\n",
       "      <td>0</td>\n",
       "      <td>0</td>\n",
       "      <td>1</td>\n",
       "      <td>0</td>\n",
       "      <td>0</td>\n",
       "    </tr>\n",
       "    <tr>\n",
       "      <th>1</th>\n",
       "      <td>2</td>\n",
       "      <td>654.763018</td>\n",
       "      <td>0</td>\n",
       "      <td>0</td>\n",
       "      <td>0</td>\n",
       "      <td>0</td>\n",
       "      <td>1</td>\n",
       "      <td>0</td>\n",
       "      <td>0</td>\n",
       "    </tr>\n",
       "    <tr>\n",
       "      <th>2</th>\n",
       "      <td>4</td>\n",
       "      <td>331.084177</td>\n",
       "      <td>0</td>\n",
       "      <td>0</td>\n",
       "      <td>0</td>\n",
       "      <td>0</td>\n",
       "      <td>0</td>\n",
       "      <td>0</td>\n",
       "      <td>1</td>\n",
       "    </tr>\n",
       "    <tr>\n",
       "      <th>3</th>\n",
       "      <td>4</td>\n",
       "      <td>61.694078</td>\n",
       "      <td>0</td>\n",
       "      <td>0</td>\n",
       "      <td>0</td>\n",
       "      <td>0</td>\n",
       "      <td>0</td>\n",
       "      <td>0</td>\n",
       "      <td>1</td>\n",
       "    </tr>\n",
       "    <tr>\n",
       "      <th>4</th>\n",
       "      <td>6</td>\n",
       "      <td>259.949417</td>\n",
       "      <td>0</td>\n",
       "      <td>0</td>\n",
       "      <td>1</td>\n",
       "      <td>0</td>\n",
       "      <td>0</td>\n",
       "      <td>0</td>\n",
       "      <td>0</td>\n",
       "    </tr>\n",
       "  </tbody>\n",
       "</table>\n",
       "</div>"
      ],
      "text/plain": [
       "   transaction_count  avg_transaction_amt  dow_0  dow_1  dow_2  dow_3  dow_4  \\\n",
       "0                 16            94.062315      0      0      0      0      1   \n",
       "1                  2           654.763018      0      0      0      0      1   \n",
       "2                  4           331.084177      0      0      0      0      0   \n",
       "3                  4            61.694078      0      0      0      0      0   \n",
       "4                  6           259.949417      0      0      1      0      0   \n",
       "\n",
       "   dow_5  dow_6  \n",
       "0      0      0  \n",
       "1      0      0  \n",
       "2      0      1  \n",
       "3      0      1  \n",
       "4      0      0  "
      ]
     },
     "execution_count": 19,
     "metadata": {},
     "output_type": "execute_result"
    }
   ],
   "source": [
    "X.head()"
   ]
  },
  {
   "cell_type": "code",
   "execution_count": 22,
   "id": "ce39a6cd",
   "metadata": {},
   "outputs": [],
   "source": [
    "# convert target variable from boolean to integers\n",
    "y = y.replace({True: 1, False: 0})"
   ]
  },
  {
   "cell_type": "markdown",
   "id": "ea21cb03",
   "metadata": {},
   "source": [
    "### Model fitting"
   ]
  },
  {
   "cell_type": "code",
   "execution_count": 28,
   "id": "9c6d8764",
   "metadata": {},
   "outputs": [
    {
     "name": "stdout",
     "output_type": "stream",
     "text": [
      "0.9166666666666666\n"
     ]
    }
   ],
   "source": [
    "# splitting into train and test sets, and fitting Logistic Regression\n",
    "from sklearn.linear_model import LogisticRegression\n",
    "from sklearn.model_selection import train_test_split\n",
    "\n",
    "lgr = LogisticRegression()\n",
    "\n",
    "X_train, X_test, y_train, y_test = train_test_split(X, y, test_size=0.2, random_state=0)\n",
    "lgr.fit(X_train, y_train)\n",
    "\n",
    "print(lgr.score(X_test, y_test))"
   ]
  },
  {
   "cell_type": "code",
   "execution_count": 26,
   "id": "5037d4d7",
   "metadata": {},
   "outputs": [
    {
     "name": "stdout",
     "output_type": "stream",
     "text": [
      "[0.915625 0.9125   0.925   ]\n"
     ]
    }
   ],
   "source": [
    "# cross validation\n",
    "from sklearn.model_selection import cross_val_score\n",
    "\n",
    "lgr = LogisticRegression(max_iter=150)\n",
    "print(cross_val_score(lgr, X, y, cv=3))"
   ]
  }
 ],
 "metadata": {
  "kernelspec": {
   "display_name": "Python 3 (ipykernel)",
   "language": "python",
   "name": "python3"
  },
  "language_info": {
   "codemirror_mode": {
    "name": "ipython",
    "version": 3
   },
   "file_extension": ".py",
   "mimetype": "text/x-python",
   "name": "python",
   "nbconvert_exporter": "python",
   "pygments_lexer": "ipython3",
   "version": "3.8.10"
  }
 },
 "nbformat": 4,
 "nbformat_minor": 5
}
