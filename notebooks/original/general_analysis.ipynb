{
 "cells": [
  {
   "cell_type": "code",
   "execution_count": 2,
   "id": "bf54e309",
   "metadata": {},
   "outputs": [
    {
     "name": "stdout",
     "output_type": "stream",
     "text": [
      "22/09/12 15:59:28 WARN Utils: Your hostname, Jacks-MacBook-Air-2.local resolves to a loopback address: 127.0.0.1; using 10.12.247.227 instead (on interface en0)\n",
      "22/09/12 15:59:28 WARN Utils: Set SPARK_LOCAL_IP if you need to bind to another address\n"
     ]
    },
    {
     "name": "stderr",
     "output_type": "stream",
     "text": [
      "Setting default log level to \"WARN\".\n",
      "To adjust logging level use sc.setLogLevel(newLevel). For SparkR, use setLogLevel(newLevel).\n"
     ]
    },
    {
     "name": "stdout",
     "output_type": "stream",
     "text": [
      "22/09/12 15:59:29 WARN NativeCodeLoader: Unable to load native-hadoop library for your platform... using builtin-java classes where applicable\n",
      "22/09/12 15:59:32 WARN Utils: Service 'SparkUI' could not bind on port 4040. Attempting port 4041.\n",
      "22/09/12 15:59:32 WARN Utils: Service 'SparkUI' could not bind on port 4041. Attempting port 4042.\n"
     ]
    }
   ],
   "source": [
    "from pyspark.sql import SparkSession, functions as F, DataFrame\n",
    "from pyspark.sql.functions import col\n",
    "\n",
    "spark = (\n",
    "    SparkSession.builder.appName(\"General Analysis\")\n",
    "    .config(\"spark.sql.repl.eagerEval.enabled\", True) \n",
    "    .config(\"spark.sql.parquet.cacheMetadata\", \"true\")\n",
    "    .config(\"spark.sql.session.timeZone\", \"Etc/UTC\")\n",
    "    .config(\"spark.executor.memory\", \"2g\")\n",
    "    .config(\"spark.driver.memory\", \"4g\")\n",
    "    .getOrCreate()\n",
    ")"
   ]
  },
  {
   "cell_type": "code",
   "execution_count": 4,
   "id": "9a04397f",
   "metadata": {},
   "outputs": [],
   "source": [
    "import matplotlib.pyplot as plt\n",
    "import pandas as pd\n",
    "import seaborn as sns\n",
    "import pyspark.sql.functions as F"
   ]
  },
  {
   "cell_type": "markdown",
   "id": "e3f406b3",
   "metadata": {},
   "source": [
    "### ---------------------------- copied from Outlier.ipynb --------------------------------"
   ]
  },
  {
   "cell_type": "code",
   "execution_count": 8,
   "id": "2ea5766c",
   "metadata": {
    "scrolled": true
   },
   "outputs": [],
   "source": [
    "data = spark.read.parquet('../data/curated/final_data.parquet')"
   ]
  },
  {
   "cell_type": "code",
   "execution_count": 9,
   "id": "3e2a1e4c",
   "metadata": {},
   "outputs": [],
   "source": [
    "data = data.withColumn(\n",
    "    'state',\n",
    "    F.when(((col('postcode') >= 1000) & (col('postcode') <= 1999)) | ((col('postcode') >= 2000) & (col('postcode') <= 2599)) | ((col('postcode') >= 2619) & (col('postcode') < 2899)) | ((col('postcode') >= 2921) & (col('postcode') < 2999)), 'NSW')\\\n",
    "    .when(((col('postcode') >= 200) & (col('postcode') <= 299)) | ((col('postcode') >= 2600) & (col('postcode') <= 2618)) | ((col('postcode') >= 2900) & (col('postcode') < 2920)), 'ACT')\\\n",
    "    .when(((col('postcode') >= 3000) & (col('postcode') <= 3999)) | ((col('postcode') >= 8000) & (col('postcode') <= 8999)), 'VIC')\\\n",
    "    .when(((col('postcode') >= 4000) & (col('postcode') <= 4999)) | ((col('postcode') >= 9000) & (col('postcode') <= 9999)), 'QLD')\\\n",
    "    .when(((col('postcode') >= 5000) & (col('postcode') <= 5999)), 'SA')\\\n",
    "    .when(((col('postcode') >= 6000) & (col('postcode') <= 6999)), 'WA')\\\n",
    "    .when(((col('postcode') >= 7000) & (col('postcode') <= 7999)), 'TAS')\\\n",
    "    .otherwise('NT')\n",
    ")\n",
    "data = data.withColumn(\n",
    "    'SA2_NAME_2021',\n",
    "    F.when( (col('state') == 'VIC') & (col('SA2_NAME_2021').isNull()), 'Victoria')\\\n",
    "    .when( (col('state') == 'NSW') & (col('SA2_NAME_2021').isNull()), 'New South Wales')\\\n",
    "    .when( (col('state') == 'QLD') & (col('SA2_NAME_2021').isNull()), 'Queensland')\\\n",
    "    .when( (col('state') == 'NT') & (col('SA2_NAME_2021').isNull()), 'Northern Territory')\\\n",
    "    .when( (col('state') == 'WA') & (col('SA2_NAME_2021').isNull()), 'Western Austraia')\\\n",
    "    .when( (col('state') == 'SA') & (col('SA2_NAME_2021').isNull()), 'South Australia')\\\n",
    "    .when( (col('state') == 'TAS') & (col('SA2_NAME_2021').isNull()), 'Tasmania')\\\n",
    "    .when( (col('state') == 'ACT') & (col('SA2_NAME_2021').isNull()), 'Australian Capital Territory')\\\n",
    "    .otherwise(col('SA2_NAME_2021'))\n",
    ")"
   ]
  },
  {
   "cell_type": "code",
   "execution_count": 10,
   "id": "9d7c5fb4",
   "metadata": {},
   "outputs": [],
   "source": [
    "data = data.withColumn(\"Median_tot_prsnl_inc_weekly\", data.Median_tot_prsnl_inc_weekly.cast('float'))\n",
    "data = data.withColumn(\"Median_rent_weekly\", data.Median_rent_weekly.cast('float'))\n",
    "data = data.withColumn(\"Median_mortgage_repay_monthly\",data.Median_mortgage_repay_monthly.cast('float'))\n",
    "data = data.withColumn(\"Median_age_persons\",data.Median_age_persons.cast('float'))\n",
    "data = data.withColumn(\"Median_tot_hhd_inc_weekly\",data.Median_tot_hhd_inc_weekly.cast('float'))\n",
    "data = data.withColumn(\"Average_household_size\",data.Average_household_size.cast('float'))\n",
    "data = data.withColumnRenamed(\"Completed Year 12\", \"Completed_Year_12\")\n",
    "data = data.withColumn(\"Completed_Year_12\",data.Completed_Year_12.cast('float'))\n",
    "data = data.withColumnRenamed(\"Did Not Attend School\", \"Did_Not_Attend_School\")\n",
    "data = data.withColumn(\"Did_Not_Attend_School\",data.Did_Not_Attend_School.cast('float'))\n",
    "data = data.withColumn(\"TOT_P_P\",data.TOT_P_P.cast('float'))\n"
   ]
  },
  {
   "cell_type": "code",
   "execution_count": 11,
   "id": "676fcb51",
   "metadata": {
    "scrolled": true
   },
   "outputs": [
    {
     "name": "stderr",
     "output_type": "stream",
     "text": [
      "ERROR:root:KeyboardInterrupt while sending command.====>           (8 + 2) / 10]\n",
      "Traceback (most recent call last):\n",
      "  File \"/Users/jackmelleuish/opt/anaconda3/lib/python3.9/site-packages/py4j/java_gateway.py\", line 1038, in send_command\n",
      "    response = connection.send_command(command)\n",
      "  File \"/Users/jackmelleuish/opt/anaconda3/lib/python3.9/site-packages/py4j/clientserver.py\", line 511, in send_command\n",
      "    answer = smart_decode(self.stream.readline()[:-1])\n",
      "  File \"/Users/jackmelleuish/opt/anaconda3/lib/python3.9/socket.py\", line 704, in readinto\n",
      "    return self._sock.recv_into(b)\n",
      "KeyboardInterrupt\n"
     ]
    },
    {
     "ename": "KeyboardInterrupt",
     "evalue": "",
     "output_type": "error",
     "traceback": [
      "\u001b[0;31m---------------------------------------------------------------------------\u001b[0m",
      "\u001b[0;31mKeyboardInterrupt\u001b[0m                         Traceback (most recent call last)",
      "\u001b[0;32m/var/folders/ck/psrltvd10474n3pnlfszjw500000gn/T/ipykernel_26993/2235498065.py\u001b[0m in \u001b[0;36m<module>\u001b[0;34m\u001b[0m\n\u001b[1;32m     11\u001b[0m         \u001b[0;34m.\u001b[0m\u001b[0mwhen\u001b[0m\u001b[0;34m(\u001b[0m \u001b[0;34m(\u001b[0m\u001b[0mcol\u001b[0m\u001b[0;34m(\u001b[0m\u001b[0;34m'SA2_NAME_2021'\u001b[0m\u001b[0;34m)\u001b[0m \u001b[0;34m==\u001b[0m \u001b[0;34m'Western Austraia'\u001b[0m\u001b[0;34m)\u001b[0m\u001b[0;34m,\u001b[0m \u001b[0mdata\u001b[0m\u001b[0;34m.\u001b[0m\u001b[0mgroupBy\u001b[0m\u001b[0;34m(\u001b[0m\u001b[0;34m'state'\u001b[0m\u001b[0;34m)\u001b[0m\u001b[0;34m.\u001b[0m\u001b[0mmean\u001b[0m\u001b[0;34m(\u001b[0m\u001b[0mcolumn\u001b[0m\u001b[0;34m)\u001b[0m\u001b[0;34m.\u001b[0m\u001b[0mcollect\u001b[0m\u001b[0;34m(\u001b[0m\u001b[0;34m)\u001b[0m\u001b[0;34m[\u001b[0m\u001b[0;36m4\u001b[0m\u001b[0;34m]\u001b[0m\u001b[0;34m[\u001b[0m\u001b[0;36m1\u001b[0m\u001b[0;34m]\u001b[0m\u001b[0;34m)\u001b[0m\u001b[0;31m\\\u001b[0m\u001b[0;34m\u001b[0m\u001b[0;34m\u001b[0m\u001b[0m\n\u001b[1;32m     12\u001b[0m         \u001b[0;34m.\u001b[0m\u001b[0mwhen\u001b[0m\u001b[0;34m(\u001b[0m \u001b[0;34m(\u001b[0m\u001b[0mcol\u001b[0m\u001b[0;34m(\u001b[0m\u001b[0;34m'SA2_NAME_2021'\u001b[0m\u001b[0;34m)\u001b[0m \u001b[0;34m==\u001b[0m \u001b[0;34m'Queensland'\u001b[0m\u001b[0;34m)\u001b[0m\u001b[0;34m,\u001b[0m \u001b[0mdata\u001b[0m\u001b[0;34m.\u001b[0m\u001b[0mgroupBy\u001b[0m\u001b[0;34m(\u001b[0m\u001b[0;34m'state'\u001b[0m\u001b[0;34m)\u001b[0m\u001b[0;34m.\u001b[0m\u001b[0mmean\u001b[0m\u001b[0;34m(\u001b[0m\u001b[0mcolumn\u001b[0m\u001b[0;34m)\u001b[0m\u001b[0;34m.\u001b[0m\u001b[0mcollect\u001b[0m\u001b[0;34m(\u001b[0m\u001b[0;34m)\u001b[0m\u001b[0;34m[\u001b[0m\u001b[0;36m5\u001b[0m\u001b[0;34m]\u001b[0m\u001b[0;34m[\u001b[0m\u001b[0;36m1\u001b[0m\u001b[0;34m]\u001b[0m\u001b[0;34m)\u001b[0m\u001b[0;31m\\\u001b[0m\u001b[0;34m\u001b[0m\u001b[0;34m\u001b[0m\u001b[0m\n\u001b[0;32m---> 13\u001b[0;31m         \u001b[0;34m.\u001b[0m\u001b[0mwhen\u001b[0m\u001b[0;34m(\u001b[0m \u001b[0;34m(\u001b[0m\u001b[0mcol\u001b[0m\u001b[0;34m(\u001b[0m\u001b[0;34m'SA2_NAME_2021'\u001b[0m\u001b[0;34m)\u001b[0m \u001b[0;34m==\u001b[0m \u001b[0;34m'Victoria'\u001b[0m\u001b[0;34m)\u001b[0m\u001b[0;34m,\u001b[0m \u001b[0mdata\u001b[0m\u001b[0;34m.\u001b[0m\u001b[0mgroupBy\u001b[0m\u001b[0;34m(\u001b[0m\u001b[0;34m'state'\u001b[0m\u001b[0;34m)\u001b[0m\u001b[0;34m.\u001b[0m\u001b[0mmean\u001b[0m\u001b[0;34m(\u001b[0m\u001b[0mcolumn\u001b[0m\u001b[0;34m)\u001b[0m\u001b[0;34m.\u001b[0m\u001b[0mcollect\u001b[0m\u001b[0;34m(\u001b[0m\u001b[0;34m)\u001b[0m\u001b[0;34m[\u001b[0m\u001b[0;36m6\u001b[0m\u001b[0;34m]\u001b[0m\u001b[0;34m[\u001b[0m\u001b[0;36m1\u001b[0m\u001b[0;34m]\u001b[0m\u001b[0;34m)\u001b[0m\u001b[0;31m\\\u001b[0m\u001b[0;34m\u001b[0m\u001b[0;34m\u001b[0m\u001b[0m\n\u001b[0m\u001b[1;32m     14\u001b[0m         \u001b[0;34m.\u001b[0m\u001b[0mwhen\u001b[0m\u001b[0;34m(\u001b[0m \u001b[0;34m(\u001b[0m\u001b[0mcol\u001b[0m\u001b[0;34m(\u001b[0m\u001b[0;34m'SA2_NAME_2021'\u001b[0m\u001b[0;34m)\u001b[0m \u001b[0;34m==\u001b[0m \u001b[0;34m'New South Wales'\u001b[0m\u001b[0;34m)\u001b[0m\u001b[0;34m,\u001b[0m \u001b[0mdata\u001b[0m\u001b[0;34m.\u001b[0m\u001b[0mgroupBy\u001b[0m\u001b[0;34m(\u001b[0m\u001b[0;34m'state'\u001b[0m\u001b[0;34m)\u001b[0m\u001b[0;34m.\u001b[0m\u001b[0mmean\u001b[0m\u001b[0;34m(\u001b[0m\u001b[0mcolumn\u001b[0m\u001b[0;34m)\u001b[0m\u001b[0;34m.\u001b[0m\u001b[0mcollect\u001b[0m\u001b[0;34m(\u001b[0m\u001b[0;34m)\u001b[0m\u001b[0;34m[\u001b[0m\u001b[0;36m7\u001b[0m\u001b[0;34m]\u001b[0m\u001b[0;34m[\u001b[0m\u001b[0;36m1\u001b[0m\u001b[0;34m]\u001b[0m\u001b[0;34m)\u001b[0m\u001b[0;31m\\\u001b[0m\u001b[0;34m\u001b[0m\u001b[0;34m\u001b[0m\u001b[0m\n\u001b[1;32m     15\u001b[0m         \u001b[0;34m.\u001b[0m\u001b[0motherwise\u001b[0m\u001b[0;34m(\u001b[0m\u001b[0mcol\u001b[0m\u001b[0;34m(\u001b[0m\u001b[0mcolumn\u001b[0m\u001b[0;34m)\u001b[0m\u001b[0;34m)\u001b[0m\u001b[0;34m\u001b[0m\u001b[0;34m\u001b[0m\u001b[0m\n",
      "\u001b[0;32m~/opt/anaconda3/lib/python3.9/site-packages/pyspark/sql/dataframe.py\u001b[0m in \u001b[0;36mcollect\u001b[0;34m(self)\u001b[0m\n\u001b[1;32m    815\u001b[0m         \"\"\"\n\u001b[1;32m    816\u001b[0m         \u001b[0;32mwith\u001b[0m \u001b[0mSCCallSiteSync\u001b[0m\u001b[0;34m(\u001b[0m\u001b[0mself\u001b[0m\u001b[0;34m.\u001b[0m\u001b[0m_sc\u001b[0m\u001b[0;34m)\u001b[0m\u001b[0;34m:\u001b[0m\u001b[0;34m\u001b[0m\u001b[0;34m\u001b[0m\u001b[0m\n\u001b[0;32m--> 817\u001b[0;31m             \u001b[0msock_info\u001b[0m \u001b[0;34m=\u001b[0m \u001b[0mself\u001b[0m\u001b[0;34m.\u001b[0m\u001b[0m_jdf\u001b[0m\u001b[0;34m.\u001b[0m\u001b[0mcollectToPython\u001b[0m\u001b[0;34m(\u001b[0m\u001b[0;34m)\u001b[0m\u001b[0;34m\u001b[0m\u001b[0;34m\u001b[0m\u001b[0m\n\u001b[0m\u001b[1;32m    818\u001b[0m         \u001b[0;32mreturn\u001b[0m \u001b[0mlist\u001b[0m\u001b[0;34m(\u001b[0m\u001b[0m_load_from_socket\u001b[0m\u001b[0;34m(\u001b[0m\u001b[0msock_info\u001b[0m\u001b[0;34m,\u001b[0m \u001b[0mBatchedSerializer\u001b[0m\u001b[0;34m(\u001b[0m\u001b[0mCPickleSerializer\u001b[0m\u001b[0;34m(\u001b[0m\u001b[0;34m)\u001b[0m\u001b[0;34m)\u001b[0m\u001b[0;34m)\u001b[0m\u001b[0;34m)\u001b[0m\u001b[0;34m\u001b[0m\u001b[0;34m\u001b[0m\u001b[0m\n\u001b[1;32m    819\u001b[0m \u001b[0;34m\u001b[0m\u001b[0m\n",
      "\u001b[0;32m~/opt/anaconda3/lib/python3.9/site-packages/py4j/java_gateway.py\u001b[0m in \u001b[0;36m__call__\u001b[0;34m(self, *args)\u001b[0m\n\u001b[1;32m   1318\u001b[0m             \u001b[0mproto\u001b[0m\u001b[0;34m.\u001b[0m\u001b[0mEND_COMMAND_PART\u001b[0m\u001b[0;34m\u001b[0m\u001b[0;34m\u001b[0m\u001b[0m\n\u001b[1;32m   1319\u001b[0m \u001b[0;34m\u001b[0m\u001b[0m\n\u001b[0;32m-> 1320\u001b[0;31m         \u001b[0manswer\u001b[0m \u001b[0;34m=\u001b[0m \u001b[0mself\u001b[0m\u001b[0;34m.\u001b[0m\u001b[0mgateway_client\u001b[0m\u001b[0;34m.\u001b[0m\u001b[0msend_command\u001b[0m\u001b[0;34m(\u001b[0m\u001b[0mcommand\u001b[0m\u001b[0;34m)\u001b[0m\u001b[0;34m\u001b[0m\u001b[0;34m\u001b[0m\u001b[0m\n\u001b[0m\u001b[1;32m   1321\u001b[0m         return_value = get_return_value(\n\u001b[1;32m   1322\u001b[0m             answer, self.gateway_client, self.target_id, self.name)\n",
      "\u001b[0;32m~/opt/anaconda3/lib/python3.9/site-packages/py4j/java_gateway.py\u001b[0m in \u001b[0;36msend_command\u001b[0;34m(self, command, retry, binary)\u001b[0m\n\u001b[1;32m   1036\u001b[0m         \u001b[0mconnection\u001b[0m \u001b[0;34m=\u001b[0m \u001b[0mself\u001b[0m\u001b[0;34m.\u001b[0m\u001b[0m_get_connection\u001b[0m\u001b[0;34m(\u001b[0m\u001b[0;34m)\u001b[0m\u001b[0;34m\u001b[0m\u001b[0;34m\u001b[0m\u001b[0m\n\u001b[1;32m   1037\u001b[0m         \u001b[0;32mtry\u001b[0m\u001b[0;34m:\u001b[0m\u001b[0;34m\u001b[0m\u001b[0;34m\u001b[0m\u001b[0m\n\u001b[0;32m-> 1038\u001b[0;31m             \u001b[0mresponse\u001b[0m \u001b[0;34m=\u001b[0m \u001b[0mconnection\u001b[0m\u001b[0;34m.\u001b[0m\u001b[0msend_command\u001b[0m\u001b[0;34m(\u001b[0m\u001b[0mcommand\u001b[0m\u001b[0;34m)\u001b[0m\u001b[0;34m\u001b[0m\u001b[0;34m\u001b[0m\u001b[0m\n\u001b[0m\u001b[1;32m   1039\u001b[0m             \u001b[0;32mif\u001b[0m \u001b[0mbinary\u001b[0m\u001b[0;34m:\u001b[0m\u001b[0;34m\u001b[0m\u001b[0;34m\u001b[0m\u001b[0m\n\u001b[1;32m   1040\u001b[0m                 \u001b[0;32mreturn\u001b[0m \u001b[0mresponse\u001b[0m\u001b[0;34m,\u001b[0m \u001b[0mself\u001b[0m\u001b[0;34m.\u001b[0m\u001b[0m_create_connection_guard\u001b[0m\u001b[0;34m(\u001b[0m\u001b[0mconnection\u001b[0m\u001b[0;34m)\u001b[0m\u001b[0;34m\u001b[0m\u001b[0;34m\u001b[0m\u001b[0m\n",
      "\u001b[0;32m~/opt/anaconda3/lib/python3.9/site-packages/py4j/clientserver.py\u001b[0m in \u001b[0;36msend_command\u001b[0;34m(self, command)\u001b[0m\n\u001b[1;32m    509\u001b[0m         \u001b[0;32mtry\u001b[0m\u001b[0;34m:\u001b[0m\u001b[0;34m\u001b[0m\u001b[0;34m\u001b[0m\u001b[0m\n\u001b[1;32m    510\u001b[0m             \u001b[0;32mwhile\u001b[0m \u001b[0;32mTrue\u001b[0m\u001b[0;34m:\u001b[0m\u001b[0;34m\u001b[0m\u001b[0;34m\u001b[0m\u001b[0m\n\u001b[0;32m--> 511\u001b[0;31m                 \u001b[0manswer\u001b[0m \u001b[0;34m=\u001b[0m \u001b[0msmart_decode\u001b[0m\u001b[0;34m(\u001b[0m\u001b[0mself\u001b[0m\u001b[0;34m.\u001b[0m\u001b[0mstream\u001b[0m\u001b[0;34m.\u001b[0m\u001b[0mreadline\u001b[0m\u001b[0;34m(\u001b[0m\u001b[0;34m)\u001b[0m\u001b[0;34m[\u001b[0m\u001b[0;34m:\u001b[0m\u001b[0;34m-\u001b[0m\u001b[0;36m1\u001b[0m\u001b[0;34m]\u001b[0m\u001b[0;34m)\u001b[0m\u001b[0;34m\u001b[0m\u001b[0;34m\u001b[0m\u001b[0m\n\u001b[0m\u001b[1;32m    512\u001b[0m                 \u001b[0mlogger\u001b[0m\u001b[0;34m.\u001b[0m\u001b[0mdebug\u001b[0m\u001b[0;34m(\u001b[0m\u001b[0;34m\"Answer received: {0}\"\u001b[0m\u001b[0;34m.\u001b[0m\u001b[0mformat\u001b[0m\u001b[0;34m(\u001b[0m\u001b[0manswer\u001b[0m\u001b[0;34m)\u001b[0m\u001b[0;34m)\u001b[0m\u001b[0;34m\u001b[0m\u001b[0;34m\u001b[0m\u001b[0m\n\u001b[1;32m    513\u001b[0m                 \u001b[0;31m# Happens when a the other end is dead. There might be an empty\u001b[0m\u001b[0;34m\u001b[0m\u001b[0;34m\u001b[0m\u001b[0m\n",
      "\u001b[0;32m~/opt/anaconda3/lib/python3.9/socket.py\u001b[0m in \u001b[0;36mreadinto\u001b[0;34m(self, b)\u001b[0m\n\u001b[1;32m    702\u001b[0m         \u001b[0;32mwhile\u001b[0m \u001b[0;32mTrue\u001b[0m\u001b[0;34m:\u001b[0m\u001b[0;34m\u001b[0m\u001b[0;34m\u001b[0m\u001b[0m\n\u001b[1;32m    703\u001b[0m             \u001b[0;32mtry\u001b[0m\u001b[0;34m:\u001b[0m\u001b[0;34m\u001b[0m\u001b[0;34m\u001b[0m\u001b[0m\n\u001b[0;32m--> 704\u001b[0;31m                 \u001b[0;32mreturn\u001b[0m \u001b[0mself\u001b[0m\u001b[0;34m.\u001b[0m\u001b[0m_sock\u001b[0m\u001b[0;34m.\u001b[0m\u001b[0mrecv_into\u001b[0m\u001b[0;34m(\u001b[0m\u001b[0mb\u001b[0m\u001b[0;34m)\u001b[0m\u001b[0;34m\u001b[0m\u001b[0;34m\u001b[0m\u001b[0m\n\u001b[0m\u001b[1;32m    705\u001b[0m             \u001b[0;32mexcept\u001b[0m \u001b[0mtimeout\u001b[0m\u001b[0;34m:\u001b[0m\u001b[0;34m\u001b[0m\u001b[0;34m\u001b[0m\u001b[0m\n\u001b[1;32m    706\u001b[0m                 \u001b[0mself\u001b[0m\u001b[0;34m.\u001b[0m\u001b[0m_timeout_occurred\u001b[0m \u001b[0;34m=\u001b[0m \u001b[0;32mTrue\u001b[0m\u001b[0;34m\u001b[0m\u001b[0;34m\u001b[0m\u001b[0m\n",
      "\u001b[0;31mKeyboardInterrupt\u001b[0m: "
     ]
    },
    {
     "name": "stderr",
     "output_type": "stream",
     "text": [
      "                                                                                \r"
     ]
    }
   ],
   "source": [
    "columns = [\"Median_tot_prsnl_inc_weekly\", \"Median_rent_weekly\", \"Median_mortgage_repay_monthly\", \"Median_age_persons\", \"Median_tot_hhd_inc_weekly\",\\\n",
    "           \"Average_household_size\", \"Completed_Year_12\", \"Did_Not_Attend_School\", \"TOT_P_P\"]\n",
    "\n",
    "for column in columns:\n",
    "    data = data.withColumn(\n",
    "        column,\n",
    "        F.when( (col('SA2_NAME_2021') == 'Northern Territory'), data.groupBy('state').mean(column).collect()[0][1])\\\n",
    "        .when( (col('SA2_NAME_2021') == 'Australian Capital Territory'), data.groupBy('state').mean(column).collect()[1][1])\\\n",
    "        .when( (col('SA2_NAME_2021') == 'South Australia'), data.groupBy('state').mean(column).collect()[2][1])\\\n",
    "        .when( (col('SA2_NAME_2021') == 'Tasmania'), data.groupBy('state').mean(column).collect()[3][1])\\\n",
    "        .when( (col('SA2_NAME_2021') == 'Western Austraia'), data.groupBy('state').mean(column).collect()[4][1])\\\n",
    "        .when( (col('SA2_NAME_2021') == 'Queensland'), data.groupBy('state').mean(column).collect()[5][1])\\\n",
    "        .when( (col('SA2_NAME_2021') == 'Victoria'), data.groupBy('state').mean(column).collect()[6][1])\\\n",
    "        .when( (col('SA2_NAME_2021') == 'New South Wales'), data.groupBy('state').mean(column).collect()[7][1])\\\n",
    "        .otherwise(col(column))\n",
    "    )"
   ]
  },
  {
   "cell_type": "code",
   "execution_count": null,
   "id": "ef2f7a85",
   "metadata": {},
   "outputs": [],
   "source": [
    "data = data.na.drop(subset=[\"postcode\"])\n",
    "data = data[data['dollar_value'] >= 0.05]\n",
    "data = data.filter(data.Median_mortgage_repay_monthly < 50000.0)\n",
    "data = data.filter(data.Median_mortgage_repay_monthly < 9999.0)\n",
    "data = data.filter(data.Average_household_size > 0.0)"
   ]
  },
  {
   "cell_type": "code",
   "execution_count": null,
   "id": "5a3ee4db",
   "metadata": {},
   "outputs": [],
   "source": [
    "data.write.mode('overwrite').parquet('../data/curated/outlier_data.parquet')"
   ]
  },
  {
   "cell_type": "markdown",
   "id": "f0104b3a",
   "metadata": {},
   "source": [
    "### ---------------------------------------------------------------------------"
   ]
  },
  {
   "cell_type": "code",
   "execution_count": null,
   "id": "5be58bed",
   "metadata": {},
   "outputs": [],
   "source": [
    "# Select attributes to check correlation with transaction amount\n",
    "df_corr = data.select('dollar_value', \n",
    "                      'Median_tot_prsnl_inc_weekly', \n",
    "                      'Median_rent_weekly', \n",
    "                      'Median_mortgage_repay_monthly', \n",
    "                      'Median_age_persons', \n",
    "                      'Median_tot_hhd_inc_weekly', \n",
    "                      'Average_household_size', \n",
    "                      'Completed_Year_12', \n",
    "                      'Did_Not_Attend_School').toPandas"
   ]
  },
  {
   "cell_type": "code",
   "execution_count": null,
   "id": "73ae884e",
   "metadata": {},
   "outputs": [],
   "source": [
    "# Create heatmap of correlation\n",
    "sns.heatmap(df_corr.corr())"
   ]
  },
  {
   "cell_type": "code",
   "execution_count": 2,
   "id": "8aa54300",
   "metadata": {},
   "outputs": [
    {
     "name": "stderr",
     "output_type": "stream",
     "text": [
      "                                                                                \r"
     ]
    }
   ],
   "source": [
    "joined_data = spark.read.parquet('../data/curated/joined_data.parquet')"
   ]
  },
  {
   "cell_type": "code",
   "execution_count": 3,
   "id": "d55544fc",
   "metadata": {},
   "outputs": [
    {
     "name": "stderr",
     "output_type": "stream",
     "text": [
      "                                                                                \r"
     ]
    },
    {
     "data": {
      "text/html": [
       "<table border='1'>\n",
       "<tr><th>consumer_id</th><th>user_id</th><th>merchant_abn</th><th>dollar_value</th><th>order_id</th><th>order_datetime</th><th>name</th><th>tags</th><th>take rate</th><th>revenue level</th><th>consumer_name</th><th>address</th><th>state</th><th>postcode</th><th>gender</th></tr>\n",
       "<tr><td>561</td><td>14108</td><td>32709545238</td><td>361.7919109492337</td><td>7f2cbe00-1d8c-49b...</td><td>2021-08-21</td><td>Tempor Est Founda...</td><td>[stationery,  off...</td><td>3.04</td><td>c</td><td>Zachary Evans</td><td>947 Mclaughlin Ra...</td><td>NSW</td><td>2293</td><td>Male</td></tr>\n",
       "<tr><td>561</td><td>14108</td><td>19839532017</td><td>157.0</td><td>01a35e05-f763-4a1...</td><td>2021-08-21</td><td>Pellentesque Habi...</td><td>[cable,  satellit...</td><td>4.94</td><td>b</td><td>Zachary Evans</td><td>947 Mclaughlin Ra...</td><td>NSW</td><td>2293</td><td>Male</td></tr>\n",
       "<tr><td>561</td><td>14108</td><td>14639489823</td><td>217.70536080483546</td><td>21ea8392-7fc6-467...</td><td>2021-08-21</td><td>Auctor Mauris Inc...</td><td>[furniture,  home...</td><td>6.36</td><td>a</td><td>Zachary Evans</td><td>947 Mclaughlin Ra...</td><td>NSW</td><td>2293</td><td>Male</td></tr>\n",
       "<tr><td>561</td><td>14108</td><td>69666829657</td><td>178.1273076070476</td><td>44a8f7af-113c-4e0...</td><td>2021-08-21</td><td>Sem Ut Institute</td><td>[bicycle shops - ...</td><td>2.86</td><td>c</td><td>Zachary Evans</td><td>947 Mclaughlin Ra...</td><td>NSW</td><td>2293</td><td>Male</td></tr>\n",
       "<tr><td>561</td><td>14108</td><td>26148653604</td><td>15.598745581918507</td><td>7a8996c8-220c-41d...</td><td>2021-08-21</td><td>Volutpat Nulla In...</td><td>[furniture,  home...</td><td>6.59</td><td>a</td><td>Zachary Evans</td><td>947 Mclaughlin Ra...</td><td>NSW</td><td>2293</td><td>Male</td></tr>\n",
       "<tr><td>561</td><td>14108</td><td>29521780474</td><td>7.241643588333531</td><td>17838284-d80d-400...</td><td>2021-08-19</td><td>At Sem Corp.</td><td>[cable,  satellit...</td><td>5.93</td><td>a</td><td>Zachary Evans</td><td>947 Mclaughlin Ra...</td><td>NSW</td><td>2293</td><td>Male</td></tr>\n",
       "<tr><td>561</td><td>14108</td><td>43186523025</td><td>69.01667749411288</td><td>d59a5f33-b131-465...</td><td>2021-08-22</td><td>Lorem Ipsum Sodal...</td><td>[florists supplie...</td><td>4.47</td><td>b</td><td>Zachary Evans</td><td>947 Mclaughlin Ra...</td><td>NSW</td><td>2293</td><td>Male</td></tr>\n",
       "<tr><td>561</td><td>14108</td><td>46804135891</td><td>4.604190891028306</td><td>c53d22fe-e476-446...</td><td>2021-08-14</td><td>Suspendisse Dui C...</td><td>[opticians,  opti...</td><td>2.93</td><td>c</td><td>Zachary Evans</td><td>947 Mclaughlin Ra...</td><td>NSW</td><td>2293</td><td>Male</td></tr>\n",
       "<tr><td>561</td><td>14108</td><td>93429143824</td><td>64.54665727026685</td><td>9a398824-5d79-441...</td><td>2021-08-14</td><td>Fames Ac Associates</td><td>[lawn and garden ...</td><td>1.64</td><td>c</td><td>Zachary Evans</td><td>947 Mclaughlin Ra...</td><td>NSW</td><td>2293</td><td>Male</td></tr>\n",
       "<tr><td>561</td><td>14108</td><td>68216911708</td><td>13.924604824734638</td><td>cae2549d-7585-47c...</td><td>2021-08-14</td><td>Placerat Eget Ven...</td><td>[computers,  comp...</td><td>3.05</td><td>c</td><td>Zachary Evans</td><td>947 Mclaughlin Ra...</td><td>NSW</td><td>2293</td><td>Male</td></tr>\n",
       "</table>\n"
      ],
      "text/plain": [
       "+-----------+-------+------------+------------------+--------------------+--------------+--------------------+--------------------+---------+-------------+-------------+--------------------+-----+--------+------+\n",
       "|consumer_id|user_id|merchant_abn|      dollar_value|            order_id|order_datetime|                name|                tags|take rate|revenue level|consumer_name|             address|state|postcode|gender|\n",
       "+-----------+-------+------------+------------------+--------------------+--------------+--------------------+--------------------+---------+-------------+-------------+--------------------+-----+--------+------+\n",
       "|        561|  14108| 32709545238| 361.7919109492337|7f2cbe00-1d8c-49b...|    2021-08-21|Tempor Est Founda...|[stationery,  off...|     3.04|            c|Zachary Evans|947 Mclaughlin Ra...|  NSW|    2293|  Male|\n",
       "|        561|  14108| 19839532017|             157.0|01a35e05-f763-4a1...|    2021-08-21|Pellentesque Habi...|[cable,  satellit...|     4.94|            b|Zachary Evans|947 Mclaughlin Ra...|  NSW|    2293|  Male|\n",
       "|        561|  14108| 14639489823|217.70536080483546|21ea8392-7fc6-467...|    2021-08-21|Auctor Mauris Inc...|[furniture,  home...|     6.36|            a|Zachary Evans|947 Mclaughlin Ra...|  NSW|    2293|  Male|\n",
       "|        561|  14108| 69666829657| 178.1273076070476|44a8f7af-113c-4e0...|    2021-08-21|    Sem Ut Institute|[bicycle shops - ...|     2.86|            c|Zachary Evans|947 Mclaughlin Ra...|  NSW|    2293|  Male|\n",
       "|        561|  14108| 26148653604|15.598745581918507|7a8996c8-220c-41d...|    2021-08-21|Volutpat Nulla In...|[furniture,  home...|     6.59|            a|Zachary Evans|947 Mclaughlin Ra...|  NSW|    2293|  Male|\n",
       "|        561|  14108| 29521780474| 7.241643588333531|17838284-d80d-400...|    2021-08-19|        At Sem Corp.|[cable,  satellit...|     5.93|            a|Zachary Evans|947 Mclaughlin Ra...|  NSW|    2293|  Male|\n",
       "|        561|  14108| 43186523025| 69.01667749411288|d59a5f33-b131-465...|    2021-08-22|Lorem Ipsum Sodal...|[florists supplie...|     4.47|            b|Zachary Evans|947 Mclaughlin Ra...|  NSW|    2293|  Male|\n",
       "|        561|  14108| 46804135891| 4.604190891028306|c53d22fe-e476-446...|    2021-08-14|Suspendisse Dui C...|[opticians,  opti...|     2.93|            c|Zachary Evans|947 Mclaughlin Ra...|  NSW|    2293|  Male|\n",
       "|        561|  14108| 93429143824| 64.54665727026685|9a398824-5d79-441...|    2021-08-14| Fames Ac Associates|[lawn and garden ...|     1.64|            c|Zachary Evans|947 Mclaughlin Ra...|  NSW|    2293|  Male|\n",
       "|        561|  14108| 68216911708|13.924604824734638|cae2549d-7585-47c...|    2021-08-14|Placerat Eget Ven...|[computers,  comp...|     3.05|            c|Zachary Evans|947 Mclaughlin Ra...|  NSW|    2293|  Male|\n",
       "+-----------+-------+------------+------------------+--------------------+--------------+--------------------+--------------------+---------+-------------+-------------+--------------------+-----+--------+------+"
      ]
     },
     "execution_count": 3,
     "metadata": {},
     "output_type": "execute_result"
    }
   ],
   "source": [
    "joined_data.limit(10)"
   ]
  },
  {
   "cell_type": "code",
   "execution_count": 4,
   "id": "cd0cc0db",
   "metadata": {
    "scrolled": true
   },
   "outputs": [
    {
     "name": "stderr",
     "output_type": "stream",
     "text": [
      "                                                                                \r"
     ]
    }
   ],
   "source": [
    "revenue_level = joined_data.select('revenue level').toPandas()"
   ]
  },
  {
   "cell_type": "code",
   "execution_count": 9,
   "id": "e78e17fb",
   "metadata": {},
   "outputs": [
    {
     "data": {
      "text/plain": [
       "revenue level\n",
       "a                0.448908\n",
       "b                0.287855\n",
       "c                0.244261\n",
       "d                0.010094\n",
       "e                0.008881\n",
       "dtype: float64"
      ]
     },
     "execution_count": 9,
     "metadata": {},
     "output_type": "execute_result"
    }
   ],
   "source": [
    "# Distribution of revenue levels\n",
    "rv_count = revenue_level.value_counts(normalize=True, sort=False)\n",
    "rv_count"
   ]
  },
  {
   "cell_type": "code",
   "execution_count": 15,
   "id": "77fcb458",
   "metadata": {},
   "outputs": [
    {
     "data": {
      "image/png": "[encoded data removed]",
      "text/plain": [
       "<Figure size 720x432 with 1 Axes>"
      ]
     },
     "metadata": {},
     "output_type": "display_data"
    }
   ],
   "source": [
    "# Plot pie chart for distribution of revenue levels\n",
    "plt.figure(figsize=(10,6))\n",
    "plt.pie(rv_count, labels=['a','b','c','d','e'], labeldistance=0.9)\n",
    "plt.title('Distribution of merchants\\' revenue levels')\n",
    "plt.show()"
   ]
  },
  {
   "cell_type": "code",
   "execution_count": null,
   "id": "6980228a",
   "metadata": {},
   "outputs": [],
   "source": []
  }
 ],
 "metadata": {
  "kernelspec": {
   "display_name": "Python 3 (ipykernel)",
   "language": "python",
   "name": "python3"
  },
  "language_info": {
   "codemirror_mode": {
    "name": "ipython",
    "version": 3
   },
   "file_extension": ".py",
   "mimetype": "text/x-python",
   "name": "python",
   "nbconvert_exporter": "python",
   "pygments_lexer": "ipython3",
   "version": "3.9.7"
  }
 },
 "nbformat": 4,
 "nbformat_minor": 5
}
