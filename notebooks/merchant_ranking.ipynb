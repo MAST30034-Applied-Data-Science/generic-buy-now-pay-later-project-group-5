{
 "cells": [
  {
   "cell_type": "markdown",
   "metadata": {},
   "source": [
    "<h2>Ranking Merchants<h2>"
   ]
  },
  {
   "cell_type": "code",
   "execution_count": null,
   "metadata": {},
   "outputs": [],
   "source": [
    "import pandas as pd\n",
    "import seaborn as sns\n",
    "import matplotlib.pyplot as plt\n",
    "\n",
    "from pyspark.sql import SparkSession, functions as F\n",
    "\n",
    "from matplotlib.widgets import Slider, Button, RadioButtons\n",
    "from ipywidgets import Layout\n",
    "\n",
    "spark = (\n",
    "    SparkSession.builder.appName(\"Ranking Merchants\")\n",
    "    .config(\"spark.sql.repl.eagerEval.enabled\", True) \n",
    "    .config(\"spark.sql.parquet.cacheMetadata\", \"true\")\n",
    "    .config(\"spark.sql.session.timeZone\", \"Etc/UTC\")\n",
    "    .config(\"spark.executor.memory\", \"2g\")\n",
    "    .config(\"spark.driver.memory\", \"4g\")\n",
    "    .getOrCreate()\n",
    ")"
   ]
  },
  {
   "cell_type": "code",
   "execution_count": null,
   "metadata": {},
   "outputs": [],
   "source": [
    "ranking_properties = spark.read.csv('../data/curated/merchant_ranking_properties.csv/', header = True).toPandas().set_index('merchant_abn')\n",
    "merchant_names = spark.read.parquet('../data/tables/tbl_merchants.parquet').toPandas()\n",
    "merchant_names = merchant_names[['merchant_abn', 'name']]\n",
    "ranking_properties = ranking_properties.astype(float)"
   ]
  },
  {
   "cell_type": "code",
   "execution_count": null,
   "metadata": {},
   "outputs": [],
   "source": [
    "sns.heatmap(ranking_properties.corr())\n",
    "\n",
    "plt.title('Pearson Correlation Metric')\n",
    "plt.savefig('../plots/ranking_features_correlation.png', bbox_inches='tight')\n",
    "plt.show()"
   ]
  },
  {
   "cell_type": "markdown",
   "metadata": {},
   "source": [
    "Remove average transaction amount because it is correlated with mean take amount and fraud rate. We do not want to use correlated features for ranking because this will effectively increase the weight of these features.\n",
    "\n"
   ]
  },
  {
   "cell_type": "code",
   "execution_count": null,
   "metadata": {},
   "outputs": [],
   "source": [
    "ranking_properties = ranking_properties.drop('avg_transaction_amt', axis = 1)"
   ]
  },
  {
   "cell_type": "markdown",
   "metadata": {},
   "source": [
    "<h3>Set-up for Different Ranking Methods<h3>"
   ]
  },
  {
   "cell_type": "markdown",
   "metadata": {},
   "source": [
    "<h4>Weighted Average Rank<h4>"
   ]
  },
  {
   "cell_type": "markdown",
   "metadata": {},
   "source": [
    "Calculate percentile ranking on each feature for every merchant"
   ]
  },
  {
   "cell_type": "code",
   "execution_count": null,
   "metadata": {},
   "outputs": [],
   "source": [
    "# Set whether we want to rank feature in ascending or descending order (if we prefer feature lower or higher)\n",
    "ascending = {'avg_expected_customer_age': True, 'avg_customer_fraud_rate': True, 'mean_take_amt': False, 'transaction_count': False, 'fraud_rate': True}\n",
    "\n",
    "# Get ranking on each feature for every merchant\n",
    "ranks = []\n",
    "\n",
    "for col_name in ranking_properties.columns:\n",
    "    ranking_properties[col_name + '_rank'] = ranking_properties[col_name].rank(ascending = ascending[col_name], pct = True)\n",
    "    ranks.append(col_name + '_rank')\n",
    "merchant_percent_ranks = ranking_properties[ranks]\n",
    "ranking_properties = ranking_properties.drop(ranks, axis = 1)"
   ]
  },
  {
   "cell_type": "markdown",
   "metadata": {},
   "source": [
    "<h4>Weighted Normalised Ranking<h4>"
   ]
  },
  {
   "cell_type": "markdown",
   "metadata": {},
   "source": [
    "Calculate normalised value for all features (between 0 and 1)"
   ]
  },
  {
   "cell_type": "code",
   "execution_count": null,
   "metadata": {},
   "outputs": [],
   "source": [
    "merchant_normalised_features = (ranking_properties-ranking_properties.min())/(ranking_properties.max()-ranking_properties.min())"
   ]
  },
  {
   "cell_type": "markdown",
   "metadata": {},
   "source": [
    "Change features that we want to be lower so that they are negative (thus, when we use weights to sum values maximum sum will be best)"
   ]
  },
  {
   "cell_type": "code",
   "execution_count": null,
   "metadata": {},
   "outputs": [],
   "source": [
    "for col_name in merchant_normalised_features:\n",
    "    if ascending[col_name]:\n",
    "        merchant_normalised_features[col_name] = -1*merchant_normalised_features[col_name]"
   ]
  },
  {
   "cell_type": "markdown",
   "metadata": {},
   "source": [
    "<h3>Interactive Ranking System<h3>"
   ]
  },
  {
   "cell_type": "code",
   "execution_count": null,
   "metadata": {},
   "outputs": [],
   "source": [
    "# Set initial weights\n",
    "\n",
    "w1 = 0.1\n",
    "w2 = 0.4\n",
    "w3 = 1\n",
    "w4 = 0.05\n",
    "w5 = 0.4\n",
    "\n",
    "ranking_type = 'weighted normalised ranking'"
   ]
  },
  {
   "cell_type": "code",
   "execution_count": null,
   "metadata": {},
   "outputs": [],
   "source": [
    "from ipywidgets import interact_manual, widgets, Layout\n",
    "\n",
    "def weighted_average_rank(w1, w2, w3, w4, w5):\n",
    "    merchant_percent_ranks['weighted_average_rank'] = w1*merchant_percent_ranks['avg_expected_customer_age_rank'] + w2*merchant_percent_ranks['avg_customer_fraud_rate_rank']\\\n",
    "         + w3*merchant_percent_ranks['mean_take_amt_rank'] + w4*merchant_percent_ranks['transaction_count_rank']\\\n",
    "             + w5*merchant_percent_ranks['fraud_rate_rank']\n",
    "    merchant_percent_ranks['rank'] = merchant_percent_ranks['weighted_average_rank'].rank()\n",
    "    merchant_ranking = merchant_percent_ranks.sort_values(by=['rank'])['rank'].to_frame()\n",
    "    merchant_ranking = merchant_ranking.reset_index()\n",
    "    merchant_ranking['merchant_abn'] = merchant_ranking['merchant_abn'].astype(int)\n",
    "    merchant_ranking = merchant_ranking.merge(merchant_names, on = 'merchant_abn', how = 'outer').set_index('rank')\n",
    "\n",
    "    print(merchant_ranking.head(20))\n",
    "\n",
    "def weighted_normalised_rank(w1, w2, w3, w4, w5):\n",
    "    merchant_normalised_features['weighted_normalised_value'] = w1*merchant_normalised_features['avg_expected_customer_age'] + w2*merchant_normalised_features['avg_customer_fraud_rate']\\\n",
    "         + w3*merchant_normalised_features['mean_take_amt'] + w4*merchant_normalised_features['transaction_count']\\\n",
    "             + w5*merchant_normalised_features['fraud_rate']\n",
    "    merchant_normalised_features['rank'] = merchant_normalised_features['weighted_normalised_value'].rank(ascending = False)\n",
    "    merchant_ranking = merchant_normalised_features.sort_values(by=['rank'])['rank']\n",
    "    merchant_ranking = merchant_ranking.reset_index()\n",
    "    merchant_ranking['merchant_abn'] = merchant_ranking['merchant_abn'].astype(int)\n",
    "    merchant_ranking = merchant_ranking.merge(merchant_names, on = 'merchant_abn', how = 'outer').set_index('rank')\n",
    "    print(merchant_ranking.head(20))\n",
    "\n",
    "def update(customer_age_weight=w1, customer_fraud_weight=w2, mean_take_amt_weight=w3, transaction_count_weight=w4, fraud_rate_weight=w5,ranking_strategy=ranking_type):\n",
    "    if ranking_strategy == 'weighted average rank':\n",
    "        weighted_average_rank(customer_age_weight, customer_fraud_weight, mean_take_amt_weight, transaction_count_weight, fraud_rate_weight)\n",
    "    elif ranking_strategy == 'weighted normalised ranking':\n",
    "        weighted_normalised_rank(customer_age_weight, customer_fraud_weight, mean_take_amt_weight, transaction_count_weight, fraud_rate_weight)\n",
    "    return\n",
    "\n",
    "im = interact_manual(update, customer_age_weight=(0, 1.0, 0.01), customer_fraud_weight=(0, 1.0, 0.01), mean_take_amt_weight=(0, 1.0, 0.01), \\\n",
    "    transaction_count_weight=(0, 1.0, 0.01), fraud_rate_weight=(0, 1.0, 0.01), ranking_strategy=['weighted average rank', 'weighted normalised ranking']);\n",
    "\n",
    "descriptions = ['Customer Age Weight----', 'Customer Fraud Weight--', 'Take Amount Weight-----', 'Transaction Count Weight', 'Merchant Fraud Weight---']\n",
    "\n",
    "for i in range(0,5):\n",
    "    im.widget.children[i].style = {'description_width': 'initial'}\n",
    "    im.widget.children[i].layout = Layout(width = '45%')\n",
    "    im.widget.children[i].description = descriptions[i]\n",
    "\n",
    "im.widget.children[5].description = 'Ranking Strategy'\n",
    "im.widget.children[5].style = {'description_width': 'initial'}\n",
    "im.widget.children[6].description = 'Find Ranking'\n",
    "\n",
    "display(im)"
   ]
  }
 ],
 "metadata": {
  "kernelspec": {
   "display_name": "Python 3.10.6 64-bit",
   "language": "python",
   "name": "python3"
  },
  "language_info": {
   "codemirror_mode": {
    "name": "ipython",
    "version": 3
   },
   "file_extension": ".py",
   "mimetype": "text/x-python",
   "name": "python",
   "nbconvert_exporter": "python",
   "pygments_lexer": "ipython3",
   "version": "3.10.6"
  },
  "orig_nbformat": 4,
  "vscode": {
   "interpreter": {
    "hash": "b0fa6594d8f4cbf19f97940f81e996739fb7646882a419484c72d19e05852a7e"
   }
  }
 },
 "nbformat": 4,
 "nbformat_minor": 2
}
