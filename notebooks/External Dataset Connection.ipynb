{
 "cells": [
  {
   "cell_type": "markdown",
   "id": "a8903ad4",
   "metadata": {},
   "source": [
    "<h1>External Dataset Connection<h1>"
   ]
  },
  {
   "cell_type": "code",
   "execution_count": 1,
   "id": "20bd1038",
   "metadata": {
    "scrolled": true
   },
   "outputs": [
    {
     "name": "stdout",
     "output_type": "stream",
     "text": [
      "22/09/05 22:03:27 WARN Utils: Your hostname, Sens-MacBook-Air.local resolves to a loopback address: 127.0.0.1; using 192.168.0.16 instead (on interface en0)\n",
      "22/09/05 22:03:27 WARN Utils: Set SPARK_LOCAL_IP if you need to bind to another address\n"
     ]
    },
    {
     "name": "stderr",
     "output_type": "stream",
     "text": [
      "Setting default log level to \"WARN\".\n",
      "To adjust logging level use sc.setLogLevel(newLevel). For SparkR, use setLogLevel(newLevel).\n"
     ]
    },
    {
     "name": "stdout",
     "output_type": "stream",
     "text": [
      "22/09/05 22:03:27 WARN NativeCodeLoader: Unable to load native-hadoop library for your platform... using builtin-java classes where applicable\n"
     ]
    }
   ],
   "source": [
    "from pyspark.sql import DataFrame\n",
    "from pyspark.sql import SparkSession\n",
    "from pyspark.sql import functions as f\n",
    "\n",
    "spark = (\n",
    "    SparkSession.builder.appName(\"ETL\")\n",
    "    .config(\"spark.sql.repl.eagerEval.enabled\", True) \n",
    "    .config(\"spark.sql.parquet.cacheMetadata\", \"true\")\n",
    "    .config(\"spark.sql.session.timeZone\", \"Etc/UTC\")\n",
    "    .config(\"spark.executor.memory\", \"2g\")\n",
    "    .config(\"spark.driver.memory\", \"4g\")\n",
    "    .getOrCreate()\n",
    ")"
   ]
  },
  {
   "cell_type": "markdown",
   "id": "e8bae08f",
   "metadata": {},
   "source": [
    "<h3>Add SA2 Labels on Postcode<h3>"
   ]
  },
  {
   "cell_type": "code",
   "execution_count": 2,
   "id": "bf7dd6a2",
   "metadata": {},
   "outputs": [
    {
     "name": "stderr",
     "output_type": "stream",
     "text": [
      "                                                                                \r"
     ]
    }
   ],
   "source": [
    "joined_data = spark.read.parquet('../data/curated/joined_data.parquet')"
   ]
  },
  {
   "cell_type": "code",
   "execution_count": 3,
   "id": "db7f8f02",
   "metadata": {},
   "outputs": [],
   "source": [
    "correspondence = spark.read.csv('../data/external/sa2_correspondence.csv', header = True)"
   ]
  },
  {
   "cell_type": "code",
   "execution_count": 4,
   "id": "05603e88",
   "metadata": {},
   "outputs": [],
   "source": [
    "index = spark.read.csv('../data/external/2019 Locality to 2016 SA2 Coding Index.csv', header = True)"
   ]
  },
  {
   "cell_type": "code",
   "execution_count": 5,
   "id": "8e118976",
   "metadata": {},
   "outputs": [],
   "source": [
    "joined_data_sa2 = joined_data.join(index,['postcode'],\"left\")"
   ]
  },
  {
   "cell_type": "code",
   "execution_count": 8,
   "id": "d3b7c9f1",
   "metadata": {},
   "outputs": [],
   "source": [
    "df_sa2 = joined_data_sa2.join(correspondence,correspondence.SA2_MAINCODE_2016== joined_data_sa2.SA2_MAINCODE, \"outer\")"
   ]
  },
  {
   "cell_type": "markdown",
   "id": "3cb95277",
   "metadata": {},
   "source": [
    "Clean up dataframe by removing columns that are now uneeded"
   ]
  },
  {
   "cell_type": "code",
   "execution_count": 9,
   "id": "8c9fce89",
   "metadata": {},
   "outputs": [],
   "source": [
    "drop_columns = (\"LOCALITY_ID\", \"LOCALITY_NAME\", \"LOCALITY_TYPE\", \"STATE\", \"SA2_MAINCODE\", \"SA2_NAME\", \\\n",
    "               \"SA2_MAINCODE_2016\", 'SA2_NAME_2016', 'RATIO_FROM_TO', 'INDIV_TO_REGION_QLTY_INDICATOR', \\\n",
    "               'OVERALL_QUALITY_INDICATOR', 'BMOS_NULL_FLAG')\n",
    "df_sa2 = df_sa2.drop(*drop_columns)\n",
    "df_sa2 = df_sa2.withColumnRenamed(\"SA2_CODE_2021\", \"SA2_code\")\n",
    "df_sa2 = df_sa2.withColumnRenamed(\"SA2_NAME_2021\", \"SA2_name\")"
   ]
  },
  {
   "cell_type": "code",
   "execution_count": 11,
   "id": "2a277eb9",
   "metadata": {
    "scrolled": true
   },
   "outputs": [
    {
     "data": {
      "text/plain": [
       "3643266"
      ]
     },
     "execution_count": 11,
     "metadata": {},
     "output_type": "execute_result"
    }
   ],
   "source": [
    "joined_data.count()"
   ]
  },
  {
   "cell_type": "code",
   "execution_count": 12,
   "id": "41f92d48",
   "metadata": {},
   "outputs": [
    {
     "data": {
      "text/plain": [
       "37619495"
      ]
     },
     "execution_count": 12,
     "metadata": {},
     "output_type": "execute_result"
    }
   ],
   "source": [
    "joined_data_sa2.count()"
   ]
  },
  {
   "cell_type": "markdown",
   "id": "a38d8711",
   "metadata": {},
   "source": [
    "There are more counts once joined with SA2 index because some postcodes correspond to multiple SA2 areas"
   ]
  },
  {
   "cell_type": "code",
   "execution_count": 13,
   "id": "887f9877",
   "metadata": {},
   "outputs": [
    {
     "name": "stderr",
     "output_type": "stream",
     "text": [
      "                                                                                \r"
     ]
    },
    {
     "data": {
      "text/plain": [
       "39473912"
      ]
     },
     "execution_count": 13,
     "metadata": {},
     "output_type": "execute_result"
    }
   ],
   "source": [
    "df_sa2.count()"
   ]
  },
  {
   "cell_type": "markdown",
   "id": "02b77fa3",
   "metadata": {},
   "source": [
    "There are more counts once converted to 2021 SA2"
   ]
  }
 ],
 "metadata": {
  "kernelspec": {
   "display_name": "Python 3 (ipykernel)",
   "language": "python",
   "name": "python3"
  },
  "language_info": {
   "codemirror_mode": {
    "name": "ipython",
    "version": 3
   },
   "file_extension": ".py",
   "mimetype": "text/x-python",
   "name": "python",
   "nbconvert_exporter": "python",
   "pygments_lexer": "ipython3",
   "version": "3.9.13"
  }
 },
 "nbformat": 4,
 "nbformat_minor": 5
}
