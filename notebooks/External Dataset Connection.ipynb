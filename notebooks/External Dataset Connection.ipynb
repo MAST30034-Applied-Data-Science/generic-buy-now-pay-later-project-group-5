{
 "cells": [
  {
   "cell_type": "markdown",
   "id": "0b6a6ba8",
   "metadata": {},
   "source": [
    "<h1>External Dataset Connection<h1>"
   ]
  },
  {
   "cell_type": "code",
   "execution_count": 1,
   "id": "dedec0f1",
   "metadata": {
    "scrolled": true
   },
   "outputs": [
    {
     "name": "stdout",
     "output_type": "stream",
     "text": [
      "22/09/05 21:19:37 WARN Utils: Your hostname, Sens-MacBook-Air.local resolves to a loopback address: 127.0.0.1; using 192.168.0.16 instead (on interface en0)\n",
      "22/09/05 21:19:37 WARN Utils: Set SPARK_LOCAL_IP if you need to bind to another address\n"
     ]
    },
    {
     "name": "stderr",
     "output_type": "stream",
     "text": [
      "Setting default log level to \"WARN\".\n",
      "To adjust logging level use sc.setLogLevel(newLevel). For SparkR, use setLogLevel(newLevel).\n"
     ]
    },
    {
     "name": "stdout",
     "output_type": "stream",
     "text": [
      "22/09/05 21:19:38 WARN NativeCodeLoader: Unable to load native-hadoop library for your platform... using builtin-java classes where applicable\n"
     ]
    }
   ],
   "source": [
    "from pyspark.sql import DataFrame\n",
    "from pyspark.sql import SparkSession\n",
    "from pyspark.sql import functions as f\n",
    "\n",
    "spark = (\n",
    "    SparkSession.builder.appName(\"ETL\")\n",
    "    .config(\"spark.sql.repl.eagerEval.enabled\", True) \n",
    "    .config(\"spark.sql.parquet.cacheMetadata\", \"true\")\n",
    "    .config(\"spark.sql.session.timeZone\", \"Etc/UTC\")\n",
    "    .config(\"spark.executor.memory\", \"2g\")\n",
    "    .config(\"spark.driver.memory\", \"4g\")\n",
    "    .getOrCreate()\n",
    ")"
   ]
  },
  {
   "cell_type": "markdown",
   "id": "7deb34a7",
   "metadata": {},
   "source": [
    "<h3>Add SA2 Labels on Postcode<h3>"
   ]
  },
  {
   "cell_type": "code",
   "execution_count": 16,
   "id": "32a8b4ed",
   "metadata": {},
   "outputs": [],
   "source": [
    "joined_data = spark.read.parquet('../data/curated/joined_data.parquet')"
   ]
  },
  {
   "cell_type": "code",
   "execution_count": 25,
   "id": "97889811",
   "metadata": {},
   "outputs": [],
   "source": [
    "correspondence = spark.read.csv('../data/external/sa2_correspondence.csv', header = True)"
   ]
  },
  {
   "cell_type": "code",
   "execution_count": 18,
   "id": "7396a92d",
   "metadata": {},
   "outputs": [],
   "source": [
    "index = spark.read.csv('../data/external/2019 Locality to 2016 SA2 Coding Index.csv', header = True)"
   ]
  },
  {
   "cell_type": "code",
   "execution_count": 29,
   "id": "70e7ec82",
   "metadata": {},
   "outputs": [],
   "source": [
    "joined_data_sa2 = joined_data.join(index,['postcode'],\"left\")"
   ]
  },
  {
   "cell_type": "code",
   "execution_count": 20,
   "id": "2abf31fa",
   "metadata": {},
   "outputs": [
    {
     "data": {
      "text/plain": [
       "4119229"
      ]
     },
     "execution_count": 20,
     "metadata": {},
     "output_type": "execute_result"
    }
   ],
   "source": [
    "joined_data.count()"
   ]
  },
  {
   "cell_type": "code",
   "execution_count": 23,
   "id": "b24e246d",
   "metadata": {},
   "outputs": [
    {
     "name": "stderr",
     "output_type": "stream",
     "text": [
      "                                                                                \r"
     ]
    },
    {
     "data": {
      "text/plain": [
       "42404572"
      ]
     },
     "execution_count": 23,
     "metadata": {},
     "output_type": "execute_result"
    }
   ],
   "source": [
    "joined_data_sa2.count()"
   ]
  },
  {
   "cell_type": "code",
   "execution_count": 36,
   "id": "201ce66a",
   "metadata": {},
   "outputs": [],
   "source": [
    "df_sa2 = joined_data_sa2.join(correspondence,correspondence.SA2_MAINCODE_2016== joined_data_sa2.SA2_MAINCODE, \"outer\")"
   ]
  },
  {
   "cell_type": "markdown",
   "id": "809b08f9",
   "metadata": {},
   "source": [
    "Clean up dataframe by removing columns that are now uneeded"
   ]
  },
  {
   "cell_type": "code",
   "execution_count": 46,
   "id": "8014c626",
   "metadata": {},
   "outputs": [],
   "source": [
    "drop_columns = (\"LOCALITY_ID\", \"LOCALITY_NAME\", \"LOCALITY_TYPE\", \"STATE\", \"SA2_MAINCODE\", \"SA2_NAME\", \\\n",
    "               \"SA2_MAINCODE_2016\", 'SA2_NAME_2016', 'RATIO_FROM_TO', 'INDIV_TO_REGION_QLTY_INDICATOR', \\\n",
    "               'OVERALL_QUALITY_INDICATOR', 'BMOS_NULL_FLAG')\n",
    "df_sa2 = df_sa2.drop(*drop_columns)\n",
    "df_sa2 = df_sa2.withColumnRenamed(\"SA2_CODE_2021\", \"SA2_code\")\n",
    "df_sa2 = df_sa2.withColumnRenamed(\"SA2_NAME_2021\", \"SA2_name\")"
   ]
  },
  {
   "cell_type": "code",
   "execution_count": 51,
   "id": "c0636339",
   "metadata": {
    "scrolled": true
   },
   "outputs": [
    {
     "name": "stderr",
     "output_type": "stream",
     "text": [
      "[Stage 116:>                                                        (0 + 1) / 1]\r"
     ]
    },
    {
     "name": "stdout",
     "output_type": "stream",
     "text": [
      "-RECORD 0------------------------------\n",
      " postcode       | 2537                 \n",
      " consumer_id    | 50533                \n",
      " user_id        | 279226               \n",
      " merchant_abn   | null                 \n",
      " dollar_value   | null                 \n",
      " order_id       | null                 \n",
      " order_datetime | null                 \n",
      " name           | null                 \n",
      " tags           | null                 \n",
      " take rate      | null                 \n",
      " revenue level  | null                 \n",
      " consumer_name  | Sean Garcia          \n",
      " address        | 1353 Stephens Fork   \n",
      " gender         | Male                 \n",
      " SA2_code       | 101041026            \n",
      " SA2_name       | Moruya - Tuross Head \n",
      "-RECORD 1------------------------------\n",
      " postcode       | 2537                 \n",
      " consumer_id    | 50533                \n",
      " user_id        | 279226               \n",
      " merchant_abn   | null                 \n",
      " dollar_value   | null                 \n",
      " order_id       | null                 \n",
      " order_datetime | null                 \n",
      " name           | null                 \n",
      " tags           | null                 \n",
      " take rate      | null                 \n",
      " revenue level  | null                 \n",
      " consumer_name  | Sean Garcia          \n",
      " address        | 1353 Stephens Fork   \n",
      " gender         | Male                 \n",
      " SA2_code       | 101041026            \n",
      " SA2_name       | Moruya - Tuross Head \n",
      "-RECORD 2------------------------------\n",
      " postcode       | 2537                 \n",
      " consumer_id    | 50533                \n",
      " user_id        | 279226               \n",
      " merchant_abn   | null                 \n",
      " dollar_value   | null                 \n",
      " order_id       | null                 \n",
      " order_datetime | null                 \n",
      " name           | null                 \n",
      " tags           | null                 \n",
      " take rate      | null                 \n",
      " revenue level  | null                 \n",
      " consumer_name  | Sean Garcia          \n",
      " address        | 1353 Stephens Fork   \n",
      " gender         | Male                 \n",
      " SA2_code       | 101041026            \n",
      " SA2_name       | Moruya - Tuross Head \n",
      "-RECORD 3------------------------------\n",
      " postcode       | 2537                 \n",
      " consumer_id    | 50533                \n",
      " user_id        | 279226               \n",
      " merchant_abn   | null                 \n",
      " dollar_value   | null                 \n",
      " order_id       | null                 \n",
      " order_datetime | null                 \n",
      " name           | null                 \n",
      " tags           | null                 \n",
      " take rate      | null                 \n",
      " revenue level  | null                 \n",
      " consumer_name  | Sean Garcia          \n",
      " address        | 1353 Stephens Fork   \n",
      " gender         | Male                 \n",
      " SA2_code       | 101041026            \n",
      " SA2_name       | Moruya - Tuross Head \n",
      "-RECORD 4------------------------------\n",
      " postcode       | 2537                 \n",
      " consumer_id    | 50533                \n",
      " user_id        | 279226               \n",
      " merchant_abn   | null                 \n",
      " dollar_value   | null                 \n",
      " order_id       | null                 \n",
      " order_datetime | null                 \n",
      " name           | null                 \n",
      " tags           | null                 \n",
      " take rate      | null                 \n",
      " revenue level  | null                 \n",
      " consumer_name  | Sean Garcia          \n",
      " address        | 1353 Stephens Fork   \n",
      " gender         | Male                 \n",
      " SA2_code       | 101041026            \n",
      " SA2_name       | Moruya - Tuross Head \n",
      "-RECORD 5------------------------------\n",
      " postcode       | 2537                 \n",
      " consumer_id    | 50533                \n",
      " user_id        | 279226               \n",
      " merchant_abn   | null                 \n",
      " dollar_value   | null                 \n",
      " order_id       | null                 \n",
      " order_datetime | null                 \n",
      " name           | null                 \n",
      " tags           | null                 \n",
      " take rate      | null                 \n",
      " revenue level  | null                 \n",
      " consumer_name  | Sean Garcia          \n",
      " address        | 1353 Stephens Fork   \n",
      " gender         | Male                 \n",
      " SA2_code       | 101041026            \n",
      " SA2_name       | Moruya - Tuross Head \n",
      "-RECORD 6------------------------------\n",
      " postcode       | 2537                 \n",
      " consumer_id    | 50533                \n",
      " user_id        | 279226               \n",
      " merchant_abn   | null                 \n",
      " dollar_value   | null                 \n",
      " order_id       | null                 \n",
      " order_datetime | null                 \n",
      " name           | null                 \n",
      " tags           | null                 \n",
      " take rate      | null                 \n",
      " revenue level  | null                 \n",
      " consumer_name  | Sean Garcia          \n",
      " address        | 1353 Stephens Fork   \n",
      " gender         | Male                 \n",
      " SA2_code       | 101041026            \n",
      " SA2_name       | Moruya - Tuross Head \n",
      "-RECORD 7------------------------------\n",
      " postcode       | 2537                 \n",
      " consumer_id    | 50533                \n",
      " user_id        | 279226               \n",
      " merchant_abn   | null                 \n",
      " dollar_value   | null                 \n",
      " order_id       | null                 \n",
      " order_datetime | null                 \n",
      " name           | null                 \n",
      " tags           | null                 \n",
      " take rate      | null                 \n",
      " revenue level  | null                 \n",
      " consumer_name  | Sean Garcia          \n",
      " address        | 1353 Stephens Fork   \n",
      " gender         | Male                 \n",
      " SA2_code       | 101041026            \n",
      " SA2_name       | Moruya - Tuross Head \n",
      "-RECORD 8------------------------------\n",
      " postcode       | 2537                 \n",
      " consumer_id    | 50533                \n",
      " user_id        | 279226               \n",
      " merchant_abn   | null                 \n",
      " dollar_value   | null                 \n",
      " order_id       | null                 \n",
      " order_datetime | null                 \n",
      " name           | null                 \n",
      " tags           | null                 \n",
      " take rate      | null                 \n",
      " revenue level  | null                 \n",
      " consumer_name  | Sean Garcia          \n",
      " address        | 1353 Stephens Fork   \n",
      " gender         | Male                 \n",
      " SA2_code       | 101041026            \n",
      " SA2_name       | Moruya - Tuross Head \n",
      "-RECORD 9------------------------------\n",
      " postcode       | 2537                 \n",
      " consumer_id    | 50533                \n",
      " user_id        | 279226               \n",
      " merchant_abn   | null                 \n",
      " dollar_value   | null                 \n",
      " order_id       | null                 \n",
      " order_datetime | null                 \n",
      " name           | null                 \n",
      " tags           | null                 \n",
      " take rate      | null                 \n",
      " revenue level  | null                 \n",
      " consumer_name  | Sean Garcia          \n",
      " address        | 1353 Stephens Fork   \n",
      " gender         | Male                 \n",
      " SA2_code       | 101041026            \n",
      " SA2_name       | Moruya - Tuross Head \n",
      "only showing top 10 rows\n",
      "\n"
     ]
    },
    {
     "name": "stderr",
     "output_type": "stream",
     "text": [
      "\r",
      "                                                                                \r"
     ]
    }
   ],
   "source": [
    "df_sa2.show(10, vertical = True)"
   ]
  },
  {
   "cell_type": "code",
   "execution_count": 48,
   "id": "596770bc",
   "metadata": {
    "scrolled": true
   },
   "outputs": [
    {
     "data": {
      "text/plain": [
       "4119229"
      ]
     },
     "execution_count": 48,
     "metadata": {},
     "output_type": "execute_result"
    }
   ],
   "source": [
    "joined_data.count()"
   ]
  },
  {
   "cell_type": "code",
   "execution_count": 49,
   "id": "80c867e2",
   "metadata": {},
   "outputs": [
    {
     "data": {
      "text/plain": [
       "42404572"
      ]
     },
     "execution_count": 49,
     "metadata": {},
     "output_type": "execute_result"
    }
   ],
   "source": [
    "joined_data_sa2.count()"
   ]
  },
  {
   "cell_type": "markdown",
   "id": "90f866de",
   "metadata": {},
   "source": [
    "There are more counts once joined with SA2 index indicating that some postcodes have multiple SA2 areas"
   ]
  },
  {
   "cell_type": "code",
   "execution_count": 50,
   "id": "670fcd40",
   "metadata": {},
   "outputs": [
    {
     "name": "stderr",
     "output_type": "stream",
     "text": [
      "                                                                                \r"
     ]
    },
    {
     "data": {
      "text/plain": [
       "44484327"
      ]
     },
     "execution_count": 50,
     "metadata": {},
     "output_type": "execute_result"
    }
   ],
   "source": [
    "df_sa2.count()"
   ]
  }
 ],
 "metadata": {
  "kernelspec": {
   "display_name": "Python 3 (ipykernel)",
   "language": "python",
   "name": "python3"
  },
  "language_info": {
   "codemirror_mode": {
    "name": "ipython",
    "version": 3
   },
   "file_extension": ".py",
   "mimetype": "text/x-python",
   "name": "python",
   "nbconvert_exporter": "python",
   "pygments_lexer": "ipython3",
   "version": "3.9.13"
  }
 },
 "nbformat": 4,
 "nbformat_minor": 5
}
