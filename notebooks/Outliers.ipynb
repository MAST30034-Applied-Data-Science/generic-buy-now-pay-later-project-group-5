{
 "cells": [
  {
   "cell_type": "markdown",
   "metadata": {},
   "source": [
    "# Outlier Analysis\n",
    "\n",
    "Questions:\n",
    "* If you found NULL values after you joined the datasets, what did you do with them? How many were there?\n",
    "\n",
    "After joining the datasets, there were 750332 null values in the SA2 dataset and 182 in the origninal dataset, these comprised of approximatley 2% of the total dataset. for null values in the SA2 dataset, the postcodes were used to determine which state the purchase came from. then averaging over all the data in that state the other columns were populated.\n",
    "\n",
    "* Was there any missing data that shouldn’t be missing after joining to your external\n",
    "dataset? If anything was missing, how much was there and what did you do about it?\n",
    "\n",
    "there was only 182 rows of missing data once joined, due to the extremely low number and the fact that the whole purchase was null, they were removed.\n",
    "\n",
    "* If you decided to omit outliers, what does the distribution look like prior and after?\n",
    "\n",
    "due to only removed a few records from the data, the distribution does not change.\n",
    "\n"
   ]
  },
  {
   "cell_type": "code",
   "execution_count": 2,
   "metadata": {},
   "outputs": [
    {
     "name": "stderr",
     "output_type": "stream",
     "text": [
      "Setting default log level to \"WARN\".\n",
      "To adjust logging level use sc.setLogLevel(newLevel). For SparkR, use setLogLevel(newLevel).\n"
     ]
    },
    {
     "name": "stdout",
     "output_type": "stream",
     "text": [
      "22/09/12 13:07:52 WARN NativeCodeLoader: Unable to load native-hadoop library for your platform... using builtin-java classes where applicable\n"
     ]
    }
   ],
   "source": [
    "from pyspark.sql import SparkSession, functions as F, DataFrame\n",
    "from pyspark.sql.functions import col\n",
    "\n",
    "spark = (\n",
    "    SparkSession.builder.appName(\"Customer_Analysis\")\n",
    "    .config(\"spark.sql.repl.eagerEval.enabled\", True) \n",
    "    .config(\"spark.sql.parquet.cacheMetadata\", \"true\")\n",
    "    .config(\"spark.sql.session.timeZone\", \"Etc/UTC\")\n",
    "    .config(\"spark.executor.memory\", \"2g\")\n",
    "    .config(\"spark.driver.memory\", \"4g\")\n",
    "    .getOrCreate()\n",
    ")"
   ]
  },
  {
   "cell_type": "code",
   "execution_count": 67,
   "metadata": {},
   "outputs": [],
   "source": [
    "data = spark.read.parquet('../data/curated/final_data.parquet')"
   ]
  },
  {
   "cell_type": "code",
   "execution_count": 68,
   "metadata": {},
   "outputs": [
    {
     "data": {
      "text/html": [
       "<table border='1'>\n",
       "<tr><th>SA2_CODE_2021</th><th>postcode</th><th>consumer_id</th><th>user_id</th><th>merchant_abn</th><th>dollar_value</th><th>order_id</th><th>order_datetime</th><th>name</th><th>tags</th><th>consumer_name</th><th>address</th><th>gender</th><th>SA2_NAME_2021</th><th>Median_tot_prsnl_inc_weekly</th><th>Median_rent_weekly</th><th>Median_mortgage_repay_monthly</th><th>Median_age_persons</th><th>Median_tot_hhd_inc_weekly</th><th>Average_household_size</th><th>Completed Year 12</th><th>Did Not Attend School</th><th>TOT_P_P</th><th>Age_0_4_yr_P</th><th>Age_5_14_yr_P</th><th>Age_15_19_yr_P</th><th>Age_20_24_yr_P</th><th>Age_25_34_yr_P</th><th>Age_35_44_yr_P</th><th>Age_45_54_yr_P</th><th>Age_55_64_yr_P</th><th>Age_65_74_yr_P</th><th>Age_75_84_yr_P</th><th>Age_85ov_P</th></tr>\n",
       "<tr><td>null</td><td>852</td><td>1140</td><td>6421</td><td>23338656015</td><td>240.79240453805204</td><td>c22bbaa1-8e70-49b...</td><td>2021-08-19</td><td>Iaculis LLC</td><td>[watch,  clock,  ...</td><td>Christopher Powell</td><td>880 Brandon Stree...</td><td>Undisclosed</td><td>null</td><td>null</td><td>null</td><td>null</td><td>null</td><td>null</td><td>null</td><td>null</td><td>null</td><td>null</td><td>null</td><td>null</td><td>null</td><td>null</td><td>null</td><td>null</td><td>null</td><td>null</td><td>null</td><td>null</td><td>null</td></tr>\n",
       "<tr><td>null</td><td>7321</td><td>94215</td><td>11809</td><td>49891706470</td><td>48.86426156234827</td><td>5cfef23a-a07c-455...</td><td>2021-05-21</td><td>Non Vestibulum In...</td><td>[tent and awning ...</td><td>Amy Nguyen</td><td>85806 Melton Squares</td><td>Female</td><td>null</td><td>null</td><td>null</td><td>null</td><td>null</td><td>null</td><td>null</td><td>null</td><td>null</td><td>null</td><td>null</td><td>null</td><td>null</td><td>null</td><td>null</td><td>null</td><td>null</td><td>null</td><td>null</td><td>null</td><td>null</td></tr>\n",
       "<tr><td>null</td><td>6872</td><td>799687</td><td>24034</td><td>38090089066</td><td>118.19708950112054</td><td>ece422e2-c9e8-42c...</td><td>2021-04-02</td><td>Interdum Feugiat ...</td><td>[furniture,  home...</td><td>Angela Little</td><td>337 Carter Walk</td><td>Female</td><td>null</td><td>null</td><td>null</td><td>null</td><td>null</td><td>null</td><td>null</td><td>null</td><td>null</td><td>null</td><td>null</td><td>null</td><td>null</td><td>null</td><td>null</td><td>null</td><td>null</td><td>null</td><td>null</td><td>null</td><td>null</td></tr>\n",
       "<tr><td>null</td><td>7330</td><td>334995</td><td>4041</td><td>33357097824</td><td>24.599565257317405</td><td>7fd18add-d03c-479...</td><td>2021-07-29</td><td>Sem Ut Incorporated</td><td>[hobby,  toy and ...</td><td>Eric Cooper</td><td>137 Brian Turnpike</td><td>Male</td><td>null</td><td>null</td><td>null</td><td>null</td><td>null</td><td>null</td><td>null</td><td>null</td><td>null</td><td>null</td><td>null</td><td>null</td><td>null</td><td>null</td><td>null</td><td>null</td><td>null</td><td>null</td><td>null</td><td>null</td><td>null</td></tr>\n",
       "<tr><td>null</td><td>852</td><td>1140</td><td>6421</td><td>48534649627</td><td>269.8021779483706</td><td>dcc21448-04c5-42d...</td><td>2021-08-14</td><td>Dignissim Maecena...</td><td>[opticians,  opti...</td><td>Christopher Powell</td><td>880 Brandon Stree...</td><td>Undisclosed</td><td>null</td><td>null</td><td>null</td><td>null</td><td>null</td><td>null</td><td>null</td><td>null</td><td>null</td><td>null</td><td>null</td><td>null</td><td>null</td><td>null</td><td>null</td><td>null</td><td>null</td><td>null</td><td>null</td><td>null</td><td>null</td></tr>\n",
       "<tr><td>null</td><td>7321</td><td>94215</td><td>11809</td><td>49891706470</td><td>48.86426156234827</td><td>5cfef23a-a07c-455...</td><td>2021-05-21</td><td>Non Vestibulum In...</td><td>[tent and awning ...</td><td>Amy Nguyen</td><td>85806 Melton Squares</td><td>Female</td><td>null</td><td>null</td><td>null</td><td>null</td><td>null</td><td>null</td><td>null</td><td>null</td><td>null</td><td>null</td><td>null</td><td>null</td><td>null</td><td>null</td><td>null</td><td>null</td><td>null</td><td>null</td><td>null</td><td>null</td><td>null</td></tr>\n",
       "<tr><td>null</td><td>6872</td><td>799687</td><td>24034</td><td>89726005175</td><td>58.42108971934746</td><td>912a54f6-e059-47f...</td><td>2021-03-27</td><td>Est Nunc Consulting</td><td>[tent and awning ...</td><td>Angela Little</td><td>337 Carter Walk</td><td>Female</td><td>null</td><td>null</td><td>null</td><td>null</td><td>null</td><td>null</td><td>null</td><td>null</td><td>null</td><td>null</td><td>null</td><td>null</td><td>null</td><td>null</td><td>null</td><td>null</td><td>null</td><td>null</td><td>null</td><td>null</td><td>null</td></tr>\n",
       "<tr><td>null</td><td>7330</td><td>334995</td><td>4041</td><td>33357097824</td><td>24.599565257317405</td><td>7fd18add-d03c-479...</td><td>2021-07-29</td><td>Sem Ut Incorporated</td><td>[hobby,  toy and ...</td><td>Eric Cooper</td><td>137 Brian Turnpike</td><td>Male</td><td>null</td><td>null</td><td>null</td><td>null</td><td>null</td><td>null</td><td>null</td><td>null</td><td>null</td><td>null</td><td>null</td><td>null</td><td>null</td><td>null</td><td>null</td><td>null</td><td>null</td><td>null</td><td>null</td><td>null</td><td>null</td></tr>\n",
       "<tr><td>null</td><td>852</td><td>1140</td><td>6421</td><td>82065156333</td><td>13.141362673704986</td><td>343f78b0-8b73-44f...</td><td>2021-08-15</td><td>Nascetur Ridiculu...</td><td>[tent and awning ...</td><td>Christopher Powell</td><td>880 Brandon Stree...</td><td>Undisclosed</td><td>null</td><td>null</td><td>null</td><td>null</td><td>null</td><td>null</td><td>null</td><td>null</td><td>null</td><td>null</td><td>null</td><td>null</td><td>null</td><td>null</td><td>null</td><td>null</td><td>null</td><td>null</td><td>null</td><td>null</td><td>null</td></tr>\n",
       "<tr><td>null</td><td>7321</td><td>94215</td><td>11809</td><td>49891706470</td><td>48.86426156234827</td><td>5cfef23a-a07c-455...</td><td>2021-05-21</td><td>Non Vestibulum In...</td><td>[tent and awning ...</td><td>Amy Nguyen</td><td>85806 Melton Squares</td><td>Female</td><td>null</td><td>null</td><td>null</td><td>null</td><td>null</td><td>null</td><td>null</td><td>null</td><td>null</td><td>null</td><td>null</td><td>null</td><td>null</td><td>null</td><td>null</td><td>null</td><td>null</td><td>null</td><td>null</td><td>null</td><td>null</td></tr>\n",
       "<tr><td>null</td><td>6872</td><td>799687</td><td>24034</td><td>19933438190</td><td>6.428574535888197</td><td>2a6591b3-bd24-4b0...</td><td>2021-03-13</td><td>Dui Nec Corporation</td><td>[tent and awning ...</td><td>Angela Little</td><td>337 Carter Walk</td><td>Female</td><td>null</td><td>null</td><td>null</td><td>null</td><td>null</td><td>null</td><td>null</td><td>null</td><td>null</td><td>null</td><td>null</td><td>null</td><td>null</td><td>null</td><td>null</td><td>null</td><td>null</td><td>null</td><td>null</td><td>null</td><td>null</td></tr>\n",
       "<tr><td>null</td><td>7330</td><td>334995</td><td>4041</td><td>33357097824</td><td>24.599565257317405</td><td>7fd18add-d03c-479...</td><td>2021-07-29</td><td>Sem Ut Incorporated</td><td>[hobby,  toy and ...</td><td>Eric Cooper</td><td>137 Brian Turnpike</td><td>Male</td><td>null</td><td>null</td><td>null</td><td>null</td><td>null</td><td>null</td><td>null</td><td>null</td><td>null</td><td>null</td><td>null</td><td>null</td><td>null</td><td>null</td><td>null</td><td>null</td><td>null</td><td>null</td><td>null</td><td>null</td><td>null</td></tr>\n",
       "<tr><td>null</td><td>852</td><td>1140</td><td>6421</td><td>44454840859</td><td>99.71730586272048</td><td>32c0a3a3-4ca3-408...</td><td>2021-07-15</td><td>Erat Eget Ipsum PC</td><td>[cable,  satellit...</td><td>Christopher Powell</td><td>880 Brandon Stree...</td><td>Undisclosed</td><td>null</td><td>null</td><td>null</td><td>null</td><td>null</td><td>null</td><td>null</td><td>null</td><td>null</td><td>null</td><td>null</td><td>null</td><td>null</td><td>null</td><td>null</td><td>null</td><td>null</td><td>null</td><td>null</td><td>null</td><td>null</td></tr>\n",
       "<tr><td>null</td><td>7321</td><td>94215</td><td>11809</td><td>49891706470</td><td>48.86426156234827</td><td>5cfef23a-a07c-455...</td><td>2021-05-21</td><td>Non Vestibulum In...</td><td>[tent and awning ...</td><td>Amy Nguyen</td><td>85806 Melton Squares</td><td>Female</td><td>null</td><td>null</td><td>null</td><td>null</td><td>null</td><td>null</td><td>null</td><td>null</td><td>null</td><td>null</td><td>null</td><td>null</td><td>null</td><td>null</td><td>null</td><td>null</td><td>null</td><td>null</td><td>null</td><td>null</td><td>null</td></tr>\n",
       "<tr><td>null</td><td>6872</td><td>799687</td><td>24034</td><td>80518954462</td><td>411.36978530788167</td><td>7ca4acbb-3be4-44a...</td><td>2021-03-13</td><td>Neque Sed Dictum ...</td><td>[computers,  comp...</td><td>Angela Little</td><td>337 Carter Walk</td><td>Female</td><td>null</td><td>null</td><td>null</td><td>null</td><td>null</td><td>null</td><td>null</td><td>null</td><td>null</td><td>null</td><td>null</td><td>null</td><td>null</td><td>null</td><td>null</td><td>null</td><td>null</td><td>null</td><td>null</td><td>null</td><td>null</td></tr>\n",
       "<tr><td>null</td><td>7330</td><td>334995</td><td>4041</td><td>33357097824</td><td>24.599565257317405</td><td>7fd18add-d03c-479...</td><td>2021-07-29</td><td>Sem Ut Incorporated</td><td>[hobby,  toy and ...</td><td>Eric Cooper</td><td>137 Brian Turnpike</td><td>Male</td><td>null</td><td>null</td><td>null</td><td>null</td><td>null</td><td>null</td><td>null</td><td>null</td><td>null</td><td>null</td><td>null</td><td>null</td><td>null</td><td>null</td><td>null</td><td>null</td><td>null</td><td>null</td><td>null</td><td>null</td><td>null</td></tr>\n",
       "<tr><td>null</td><td>852</td><td>1140</td><td>6421</td><td>89726005175</td><td>18.955709912233143</td><td>afa95272-d3d8-44a...</td><td>2021-07-15</td><td>Est Nunc Consulting</td><td>[tent and awning ...</td><td>Christopher Powell</td><td>880 Brandon Stree...</td><td>Undisclosed</td><td>null</td><td>null</td><td>null</td><td>null</td><td>null</td><td>null</td><td>null</td><td>null</td><td>null</td><td>null</td><td>null</td><td>null</td><td>null</td><td>null</td><td>null</td><td>null</td><td>null</td><td>null</td><td>null</td><td>null</td><td>null</td></tr>\n",
       "<tr><td>null</td><td>7321</td><td>94215</td><td>11809</td><td>49891706470</td><td>48.86426156234827</td><td>5cfef23a-a07c-455...</td><td>2021-05-21</td><td>Non Vestibulum In...</td><td>[tent and awning ...</td><td>Amy Nguyen</td><td>85806 Melton Squares</td><td>Female</td><td>null</td><td>null</td><td>null</td><td>null</td><td>null</td><td>null</td><td>null</td><td>null</td><td>null</td><td>null</td><td>null</td><td>null</td><td>null</td><td>null</td><td>null</td><td>null</td><td>null</td><td>null</td><td>null</td><td>null</td><td>null</td></tr>\n",
       "<tr><td>null</td><td>6872</td><td>799687</td><td>24034</td><td>26844395593</td><td>45.72220487127804</td><td>d6d53022-9486-4f7...</td><td>2021-04-27</td><td>Arcu Ac Inc.</td><td>[music shops - mu...</td><td>Angela Little</td><td>337 Carter Walk</td><td>Female</td><td>null</td><td>null</td><td>null</td><td>null</td><td>null</td><td>null</td><td>null</td><td>null</td><td>null</td><td>null</td><td>null</td><td>null</td><td>null</td><td>null</td><td>null</td><td>null</td><td>null</td><td>null</td><td>null</td><td>null</td><td>null</td></tr>\n",
       "<tr><td>null</td><td>7330</td><td>334995</td><td>4041</td><td>33357097824</td><td>24.599565257317405</td><td>7fd18add-d03c-479...</td><td>2021-07-29</td><td>Sem Ut Incorporated</td><td>[hobby,  toy and ...</td><td>Eric Cooper</td><td>137 Brian Turnpike</td><td>Male</td><td>null</td><td>null</td><td>null</td><td>null</td><td>null</td><td>null</td><td>null</td><td>null</td><td>null</td><td>null</td><td>null</td><td>null</td><td>null</td><td>null</td><td>null</td><td>null</td><td>null</td><td>null</td><td>null</td><td>null</td><td>null</td></tr>\n",
       "</table>\n",
       "only showing top 20 rows\n"
      ],
      "text/plain": [
       "+-------------+--------+-----------+-------+------------+------------------+--------------------+--------------+--------------------+--------------------+------------------+--------------------+-----------+-------------+---------------------------+------------------+-----------------------------+------------------+-------------------------+----------------------+-----------------+---------------------+-------+------------+-------------+--------------+--------------+--------------+--------------+--------------+--------------+--------------+--------------+----------+\n",
       "|SA2_CODE_2021|postcode|consumer_id|user_id|merchant_abn|      dollar_value|            order_id|order_datetime|                name|                tags|     consumer_name|             address|     gender|SA2_NAME_2021|Median_tot_prsnl_inc_weekly|Median_rent_weekly|Median_mortgage_repay_monthly|Median_age_persons|Median_tot_hhd_inc_weekly|Average_household_size|Completed Year 12|Did Not Attend School|TOT_P_P|Age_0_4_yr_P|Age_5_14_yr_P|Age_15_19_yr_P|Age_20_24_yr_P|Age_25_34_yr_P|Age_35_44_yr_P|Age_45_54_yr_P|Age_55_64_yr_P|Age_65_74_yr_P|Age_75_84_yr_P|Age_85ov_P|\n",
       "+-------------+--------+-----------+-------+------------+------------------+--------------------+--------------+--------------------+--------------------+------------------+--------------------+-----------+-------------+---------------------------+------------------+-----------------------------+------------------+-------------------------+----------------------+-----------------+---------------------+-------+------------+-------------+--------------+--------------+--------------+--------------+--------------+--------------+--------------+--------------+----------+\n",
       "|         null|     852|       1140|   6421| 23338656015|240.79240453805204|c22bbaa1-8e70-49b...|    2021-08-19|         Iaculis LLC|[watch,  clock,  ...|Christopher Powell|880 Brandon Stree...|Undisclosed|         null|                       null|              null|                         null|              null|                     null|                  null|             null|                 null|   null|        null|         null|          null|          null|          null|          null|          null|          null|          null|          null|      null|\n",
       "|         null|    7321|      94215|  11809| 49891706470| 48.86426156234827|5cfef23a-a07c-455...|    2021-05-21|Non Vestibulum In...|[tent and awning ...|        Amy Nguyen|85806 Melton Squares|     Female|         null|                       null|              null|                         null|              null|                     null|                  null|             null|                 null|   null|        null|         null|          null|          null|          null|          null|          null|          null|          null|          null|      null|\n",
       "|         null|    6872|     799687|  24034| 38090089066|118.19708950112054|ece422e2-c9e8-42c...|    2021-04-02|Interdum Feugiat ...|[furniture,  home...|     Angela Little|     337 Carter Walk|     Female|         null|                       null|              null|                         null|              null|                     null|                  null|             null|                 null|   null|        null|         null|          null|          null|          null|          null|          null|          null|          null|          null|      null|\n",
       "|         null|    7330|     334995|   4041| 33357097824|24.599565257317405|7fd18add-d03c-479...|    2021-07-29| Sem Ut Incorporated|[hobby,  toy and ...|       Eric Cooper|  137 Brian Turnpike|       Male|         null|                       null|              null|                         null|              null|                     null|                  null|             null|                 null|   null|        null|         null|          null|          null|          null|          null|          null|          null|          null|          null|      null|\n",
       "|         null|     852|       1140|   6421| 48534649627| 269.8021779483706|dcc21448-04c5-42d...|    2021-08-14|Dignissim Maecena...|[opticians,  opti...|Christopher Powell|880 Brandon Stree...|Undisclosed|         null|                       null|              null|                         null|              null|                     null|                  null|             null|                 null|   null|        null|         null|          null|          null|          null|          null|          null|          null|          null|          null|      null|\n",
       "|         null|    7321|      94215|  11809| 49891706470| 48.86426156234827|5cfef23a-a07c-455...|    2021-05-21|Non Vestibulum In...|[tent and awning ...|        Amy Nguyen|85806 Melton Squares|     Female|         null|                       null|              null|                         null|              null|                     null|                  null|             null|                 null|   null|        null|         null|          null|          null|          null|          null|          null|          null|          null|          null|      null|\n",
       "|         null|    6872|     799687|  24034| 89726005175| 58.42108971934746|912a54f6-e059-47f...|    2021-03-27| Est Nunc Consulting|[tent and awning ...|     Angela Little|     337 Carter Walk|     Female|         null|                       null|              null|                         null|              null|                     null|                  null|             null|                 null|   null|        null|         null|          null|          null|          null|          null|          null|          null|          null|          null|      null|\n",
       "|         null|    7330|     334995|   4041| 33357097824|24.599565257317405|7fd18add-d03c-479...|    2021-07-29| Sem Ut Incorporated|[hobby,  toy and ...|       Eric Cooper|  137 Brian Turnpike|       Male|         null|                       null|              null|                         null|              null|                     null|                  null|             null|                 null|   null|        null|         null|          null|          null|          null|          null|          null|          null|          null|          null|      null|\n",
       "|         null|     852|       1140|   6421| 82065156333|13.141362673704986|343f78b0-8b73-44f...|    2021-08-15|Nascetur Ridiculu...|[tent and awning ...|Christopher Powell|880 Brandon Stree...|Undisclosed|         null|                       null|              null|                         null|              null|                     null|                  null|             null|                 null|   null|        null|         null|          null|          null|          null|          null|          null|          null|          null|          null|      null|\n",
       "|         null|    7321|      94215|  11809| 49891706470| 48.86426156234827|5cfef23a-a07c-455...|    2021-05-21|Non Vestibulum In...|[tent and awning ...|        Amy Nguyen|85806 Melton Squares|     Female|         null|                       null|              null|                         null|              null|                     null|                  null|             null|                 null|   null|        null|         null|          null|          null|          null|          null|          null|          null|          null|          null|      null|\n",
       "|         null|    6872|     799687|  24034| 19933438190| 6.428574535888197|2a6591b3-bd24-4b0...|    2021-03-13| Dui Nec Corporation|[tent and awning ...|     Angela Little|     337 Carter Walk|     Female|         null|                       null|              null|                         null|              null|                     null|                  null|             null|                 null|   null|        null|         null|          null|          null|          null|          null|          null|          null|          null|          null|      null|\n",
       "|         null|    7330|     334995|   4041| 33357097824|24.599565257317405|7fd18add-d03c-479...|    2021-07-29| Sem Ut Incorporated|[hobby,  toy and ...|       Eric Cooper|  137 Brian Turnpike|       Male|         null|                       null|              null|                         null|              null|                     null|                  null|             null|                 null|   null|        null|         null|          null|          null|          null|          null|          null|          null|          null|          null|      null|\n",
       "|         null|     852|       1140|   6421| 44454840859| 99.71730586272048|32c0a3a3-4ca3-408...|    2021-07-15|  Erat Eget Ipsum PC|[cable,  satellit...|Christopher Powell|880 Brandon Stree...|Undisclosed|         null|                       null|              null|                         null|              null|                     null|                  null|             null|                 null|   null|        null|         null|          null|          null|          null|          null|          null|          null|          null|          null|      null|\n",
       "|         null|    7321|      94215|  11809| 49891706470| 48.86426156234827|5cfef23a-a07c-455...|    2021-05-21|Non Vestibulum In...|[tent and awning ...|        Amy Nguyen|85806 Melton Squares|     Female|         null|                       null|              null|                         null|              null|                     null|                  null|             null|                 null|   null|        null|         null|          null|          null|          null|          null|          null|          null|          null|          null|      null|\n",
       "|         null|    6872|     799687|  24034| 80518954462|411.36978530788167|7ca4acbb-3be4-44a...|    2021-03-13|Neque Sed Dictum ...|[computers,  comp...|     Angela Little|     337 Carter Walk|     Female|         null|                       null|              null|                         null|              null|                     null|                  null|             null|                 null|   null|        null|         null|          null|          null|          null|          null|          null|          null|          null|          null|      null|\n",
       "|         null|    7330|     334995|   4041| 33357097824|24.599565257317405|7fd18add-d03c-479...|    2021-07-29| Sem Ut Incorporated|[hobby,  toy and ...|       Eric Cooper|  137 Brian Turnpike|       Male|         null|                       null|              null|                         null|              null|                     null|                  null|             null|                 null|   null|        null|         null|          null|          null|          null|          null|          null|          null|          null|          null|      null|\n",
       "|         null|     852|       1140|   6421| 89726005175|18.955709912233143|afa95272-d3d8-44a...|    2021-07-15| Est Nunc Consulting|[tent and awning ...|Christopher Powell|880 Brandon Stree...|Undisclosed|         null|                       null|              null|                         null|              null|                     null|                  null|             null|                 null|   null|        null|         null|          null|          null|          null|          null|          null|          null|          null|          null|      null|\n",
       "|         null|    7321|      94215|  11809| 49891706470| 48.86426156234827|5cfef23a-a07c-455...|    2021-05-21|Non Vestibulum In...|[tent and awning ...|        Amy Nguyen|85806 Melton Squares|     Female|         null|                       null|              null|                         null|              null|                     null|                  null|             null|                 null|   null|        null|         null|          null|          null|          null|          null|          null|          null|          null|          null|      null|\n",
       "|         null|    6872|     799687|  24034| 26844395593| 45.72220487127804|d6d53022-9486-4f7...|    2021-04-27|        Arcu Ac Inc.|[music shops - mu...|     Angela Little|     337 Carter Walk|     Female|         null|                       null|              null|                         null|              null|                     null|                  null|             null|                 null|   null|        null|         null|          null|          null|          null|          null|          null|          null|          null|          null|      null|\n",
       "|         null|    7330|     334995|   4041| 33357097824|24.599565257317405|7fd18add-d03c-479...|    2021-07-29| Sem Ut Incorporated|[hobby,  toy and ...|       Eric Cooper|  137 Brian Turnpike|       Male|         null|                       null|              null|                         null|              null|                     null|                  null|             null|                 null|   null|        null|         null|          null|          null|          null|          null|          null|          null|          null|          null|      null|\n",
       "+-------------+--------+-----------+-------+------------+------------------+--------------------+--------------+--------------------+--------------------+------------------+--------------------+-----------+-------------+---------------------------+------------------+-----------------------------+------------------+-------------------------+----------------------+-----------------+---------------------+-------+------------+-------------+--------------+--------------+--------------+--------------+--------------+--------------+--------------+--------------+----------+\n",
       "only showing top 20 rows"
      ]
     },
     "execution_count": 68,
     "metadata": {},
     "output_type": "execute_result"
    }
   ],
   "source": [
    "data"
   ]
  },
  {
   "cell_type": "code",
   "execution_count": 69,
   "metadata": {},
   "outputs": [
    {
     "name": "stderr",
     "output_type": "stream",
     "text": [
      "                                                                                \r"
     ]
    },
    {
     "data": {
      "text/html": [
       "<table border='1'>\n",
       "<tr><th>SA2_CODE_2021</th><th>postcode</th><th>consumer_id</th><th>user_id</th><th>merchant_abn</th><th>dollar_value</th><th>order_id</th><th>order_datetime</th><th>name</th><th>tags</th><th>consumer_name</th><th>address</th><th>gender</th><th>SA2_NAME_2021</th><th>Median_tot_prsnl_inc_weekly</th><th>Median_rent_weekly</th><th>Median_mortgage_repay_monthly</th><th>Median_age_persons</th><th>Median_tot_hhd_inc_weekly</th><th>Average_household_size</th><th>Completed Year 12</th><th>Did Not Attend School</th><th>TOT_P_P</th><th>Age_0_4_yr_P</th><th>Age_5_14_yr_P</th><th>Age_15_19_yr_P</th><th>Age_20_24_yr_P</th><th>Age_25_34_yr_P</th><th>Age_35_44_yr_P</th><th>Age_45_54_yr_P</th><th>Age_55_64_yr_P</th><th>Age_65_74_yr_P</th><th>Age_75_84_yr_P</th><th>Age_85ov_P</th></tr>\n",
       "<tr><td>102011033</td><td>2250</td><td>957666</td><td>23534</td><td>29641342749</td><td>228.13576584758118</td><td>8283052a-431c-4f9...</td><td>2021-08-20</td><td>Et Associates</td><td>[computer program...</td><td>Paul Jefferson</td><td>057 Patel Common ...</td><td>Male</td><td>Kariong</td><td>850</td><td>450</td><td>2080</td><td>36</td><td>2200</td><td>3</td><td>2736</td><td>12</td><td>6485</td><td>414</td><td>1009</td><td>519</td><td>403</td><td>756</td><td>936</td><td>968</td><td>804</td><td>418</td><td>195</td><td>74</td></tr>\n",
       "<tr><td>102011033</td><td>2250</td><td>957666</td><td>23534</td><td>29641342749</td><td>228.13576584758118</td><td>8283052a-431c-4f9...</td><td>2021-08-20</td><td>Et Associates</td><td>[computer program...</td><td>Paul Jefferson</td><td>057 Patel Common ...</td><td>Male</td><td>Kariong</td><td>850</td><td>450</td><td>2080</td><td>36</td><td>2200</td><td>3</td><td>2736</td><td>12</td><td>6485</td><td>414</td><td>1009</td><td>519</td><td>403</td><td>756</td><td>936</td><td>968</td><td>804</td><td>418</td><td>195</td><td>74</td></tr>\n",
       "<tr><td>102011033</td><td>2250</td><td>957666</td><td>23534</td><td>66034737896</td><td>43.57631530803281</td><td>ccd8b43e-88fa-4a9...</td><td>2021-08-19</td><td>Luctus Ut LLC</td><td>[watch,  clock,  ...</td><td>Paul Jefferson</td><td>057 Patel Common ...</td><td>Male</td><td>Kariong</td><td>850</td><td>450</td><td>2080</td><td>36</td><td>2200</td><td>3</td><td>2736</td><td>12</td><td>6485</td><td>414</td><td>1009</td><td>519</td><td>403</td><td>756</td><td>936</td><td>968</td><td>804</td><td>418</td><td>195</td><td>74</td></tr>\n",
       "<tr><td>102011033</td><td>2250</td><td>957666</td><td>23534</td><td>66034737896</td><td>43.57631530803281</td><td>ccd8b43e-88fa-4a9...</td><td>2021-08-19</td><td>Luctus Ut LLC</td><td>[watch,  clock,  ...</td><td>Paul Jefferson</td><td>057 Patel Common ...</td><td>Male</td><td>Kariong</td><td>850</td><td>450</td><td>2080</td><td>36</td><td>2200</td><td>3</td><td>2736</td><td>12</td><td>6485</td><td>414</td><td>1009</td><td>519</td><td>403</td><td>756</td><td>936</td><td>968</td><td>804</td><td>418</td><td>195</td><td>74</td></tr>\n",
       "<tr><td>102011033</td><td>2250</td><td>957666</td><td>23534</td><td>56945597985</td><td>14.980127758236039</td><td>adf95737-385f-407...</td><td>2021-08-22</td><td>Sem LLP</td><td>[cable,  satellit...</td><td>Paul Jefferson</td><td>057 Patel Common ...</td><td>Male</td><td>Kariong</td><td>850</td><td>450</td><td>2080</td><td>36</td><td>2200</td><td>3</td><td>2736</td><td>12</td><td>6485</td><td>414</td><td>1009</td><td>519</td><td>403</td><td>756</td><td>936</td><td>968</td><td>804</td><td>418</td><td>195</td><td>74</td></tr>\n",
       "<tr><td>102011033</td><td>2250</td><td>957666</td><td>23534</td><td>56945597985</td><td>14.980127758236039</td><td>adf95737-385f-407...</td><td>2021-08-22</td><td>Sem LLP</td><td>[cable,  satellit...</td><td>Paul Jefferson</td><td>057 Patel Common ...</td><td>Male</td><td>Kariong</td><td>850</td><td>450</td><td>2080</td><td>36</td><td>2200</td><td>3</td><td>2736</td><td>12</td><td>6485</td><td>414</td><td>1009</td><td>519</td><td>403</td><td>756</td><td>936</td><td>968</td><td>804</td><td>418</td><td>195</td><td>74</td></tr>\n",
       "<tr><td>102011033</td><td>2250</td><td>957666</td><td>23534</td><td>60978195146</td><td>3.2940935801059776</td><td>ecfada9b-44ce-42d...</td><td>2021-08-15</td><td>Lobortis Tellus C...</td><td>[shoe shops,  c, ...</td><td>Paul Jefferson</td><td>057 Patel Common ...</td><td>Male</td><td>Kariong</td><td>850</td><td>450</td><td>2080</td><td>36</td><td>2200</td><td>3</td><td>2736</td><td>12</td><td>6485</td><td>414</td><td>1009</td><td>519</td><td>403</td><td>756</td><td>936</td><td>968</td><td>804</td><td>418</td><td>195</td><td>74</td></tr>\n",
       "<tr><td>102011033</td><td>2250</td><td>957666</td><td>23534</td><td>60978195146</td><td>3.2940935801059776</td><td>ecfada9b-44ce-42d...</td><td>2021-08-15</td><td>Lobortis Tellus C...</td><td>[shoe shops,  c, ...</td><td>Paul Jefferson</td><td>057 Patel Common ...</td><td>Male</td><td>Kariong</td><td>850</td><td>450</td><td>2080</td><td>36</td><td>2200</td><td>3</td><td>2736</td><td>12</td><td>6485</td><td>414</td><td>1009</td><td>519</td><td>403</td><td>756</td><td>936</td><td>968</td><td>804</td><td>418</td><td>195</td><td>74</td></tr>\n",
       "<tr><td>102011033</td><td>2250</td><td>957666</td><td>23534</td><td>68435002949</td><td>433.1880172503183</td><td>ef2e7b0d-9d44-440...</td><td>2021-08-27</td><td>Aliquam Eu Inc.</td><td>[artist supply an...</td><td>Paul Jefferson</td><td>057 Patel Common ...</td><td>Male</td><td>Kariong</td><td>850</td><td>450</td><td>2080</td><td>36</td><td>2200</td><td>3</td><td>2736</td><td>12</td><td>6485</td><td>414</td><td>1009</td><td>519</td><td>403</td><td>756</td><td>936</td><td>968</td><td>804</td><td>418</td><td>195</td><td>74</td></tr>\n",
       "<tr><td>102011033</td><td>2250</td><td>957666</td><td>23534</td><td>68435002949</td><td>433.1880172503183</td><td>ef2e7b0d-9d44-440...</td><td>2021-08-27</td><td>Aliquam Eu Inc.</td><td>[artist supply an...</td><td>Paul Jefferson</td><td>057 Patel Common ...</td><td>Male</td><td>Kariong</td><td>850</td><td>450</td><td>2080</td><td>36</td><td>2200</td><td>3</td><td>2736</td><td>12</td><td>6485</td><td>414</td><td>1009</td><td>519</td><td>403</td><td>756</td><td>936</td><td>968</td><td>804</td><td>418</td><td>195</td><td>74</td></tr>\n",
       "<tr><td>102011033</td><td>2250</td><td>957666</td><td>23534</td><td>50315283629</td><td>720.2911825182575</td><td>2d9508ae-f5d5-4fe...</td><td>2021-08-13</td><td>Iaculis Aliquet D...</td><td>[lawn and garden ...</td><td>Paul Jefferson</td><td>057 Patel Common ...</td><td>Male</td><td>Kariong</td><td>850</td><td>450</td><td>2080</td><td>36</td><td>2200</td><td>3</td><td>2736</td><td>12</td><td>6485</td><td>414</td><td>1009</td><td>519</td><td>403</td><td>756</td><td>936</td><td>968</td><td>804</td><td>418</td><td>195</td><td>74</td></tr>\n",
       "<tr><td>102011033</td><td>2250</td><td>957666</td><td>23534</td><td>50315283629</td><td>720.2911825182575</td><td>2d9508ae-f5d5-4fe...</td><td>2021-08-13</td><td>Iaculis Aliquet D...</td><td>[lawn and garden ...</td><td>Paul Jefferson</td><td>057 Patel Common ...</td><td>Male</td><td>Kariong</td><td>850</td><td>450</td><td>2080</td><td>36</td><td>2200</td><td>3</td><td>2736</td><td>12</td><td>6485</td><td>414</td><td>1009</td><td>519</td><td>403</td><td>756</td><td>936</td><td>968</td><td>804</td><td>418</td><td>195</td><td>74</td></tr>\n",
       "<tr><td>102011033</td><td>2250</td><td>957666</td><td>23534</td><td>43061683632</td><td>14.857140980002967</td><td>37ffad90-12a9-4f8...</td><td>2021-07-16</td><td>A Facilisis PC</td><td>[watch,  clock,  ...</td><td>Paul Jefferson</td><td>057 Patel Common ...</td><td>Male</td><td>Kariong</td><td>850</td><td>450</td><td>2080</td><td>36</td><td>2200</td><td>3</td><td>2736</td><td>12</td><td>6485</td><td>414</td><td>1009</td><td>519</td><td>403</td><td>756</td><td>936</td><td>968</td><td>804</td><td>418</td><td>195</td><td>74</td></tr>\n",
       "<tr><td>102011033</td><td>2250</td><td>957666</td><td>23534</td><td>43061683632</td><td>14.857140980002967</td><td>37ffad90-12a9-4f8...</td><td>2021-07-16</td><td>A Facilisis PC</td><td>[watch,  clock,  ...</td><td>Paul Jefferson</td><td>057 Patel Common ...</td><td>Male</td><td>Kariong</td><td>850</td><td>450</td><td>2080</td><td>36</td><td>2200</td><td>3</td><td>2736</td><td>12</td><td>6485</td><td>414</td><td>1009</td><td>519</td><td>403</td><td>756</td><td>936</td><td>968</td><td>804</td><td>418</td><td>195</td><td>74</td></tr>\n",
       "<tr><td>102011033</td><td>2250</td><td>957666</td><td>23534</td><td>86578477987</td><td>49.283758843633485</td><td>43c69404-b924-474...</td><td>2021-07-16</td><td>Leo In Consulting</td><td>[watch,  clock,  ...</td><td>Paul Jefferson</td><td>057 Patel Common ...</td><td>Male</td><td>Kariong</td><td>850</td><td>450</td><td>2080</td><td>36</td><td>2200</td><td>3</td><td>2736</td><td>12</td><td>6485</td><td>414</td><td>1009</td><td>519</td><td>403</td><td>756</td><td>936</td><td>968</td><td>804</td><td>418</td><td>195</td><td>74</td></tr>\n",
       "<tr><td>102011033</td><td>2250</td><td>957666</td><td>23534</td><td>86578477987</td><td>49.283758843633485</td><td>43c69404-b924-474...</td><td>2021-07-16</td><td>Leo In Consulting</td><td>[watch,  clock,  ...</td><td>Paul Jefferson</td><td>057 Patel Common ...</td><td>Male</td><td>Kariong</td><td>850</td><td>450</td><td>2080</td><td>36</td><td>2200</td><td>3</td><td>2736</td><td>12</td><td>6485</td><td>414</td><td>1009</td><td>519</td><td>403</td><td>756</td><td>936</td><td>968</td><td>804</td><td>418</td><td>195</td><td>74</td></tr>\n",
       "<tr><td>102011033</td><td>2250</td><td>957666</td><td>23534</td><td>41502716433</td><td>186.74141139636208</td><td>5d623ec2-0cef-44e...</td><td>2021-07-16</td><td>Mi Associates</td><td>[motor vehicle su...</td><td>Paul Jefferson</td><td>057 Patel Common ...</td><td>Male</td><td>Kariong</td><td>850</td><td>450</td><td>2080</td><td>36</td><td>2200</td><td>3</td><td>2736</td><td>12</td><td>6485</td><td>414</td><td>1009</td><td>519</td><td>403</td><td>756</td><td>936</td><td>968</td><td>804</td><td>418</td><td>195</td><td>74</td></tr>\n",
       "<tr><td>102011033</td><td>2250</td><td>957666</td><td>23534</td><td>41502716433</td><td>186.74141139636208</td><td>5d623ec2-0cef-44e...</td><td>2021-07-16</td><td>Mi Associates</td><td>[motor vehicle su...</td><td>Paul Jefferson</td><td>057 Patel Common ...</td><td>Male</td><td>Kariong</td><td>850</td><td>450</td><td>2080</td><td>36</td><td>2200</td><td>3</td><td>2736</td><td>12</td><td>6485</td><td>414</td><td>1009</td><td>519</td><td>403</td><td>756</td><td>936</td><td>968</td><td>804</td><td>418</td><td>195</td><td>74</td></tr>\n",
       "<tr><td>102011033</td><td>2250</td><td>957666</td><td>23534</td><td>59589609053</td><td>133.8283168460673</td><td>3bc68c46-7626-4ce...</td><td>2021-07-30</td><td>Adipiscing Non LLP</td><td>[antique shops - ...</td><td>Paul Jefferson</td><td>057 Patel Common ...</td><td>Male</td><td>Kariong</td><td>850</td><td>450</td><td>2080</td><td>36</td><td>2200</td><td>3</td><td>2736</td><td>12</td><td>6485</td><td>414</td><td>1009</td><td>519</td><td>403</td><td>756</td><td>936</td><td>968</td><td>804</td><td>418</td><td>195</td><td>74</td></tr>\n",
       "<tr><td>102011033</td><td>2250</td><td>957666</td><td>23534</td><td>59589609053</td><td>133.8283168460673</td><td>3bc68c46-7626-4ce...</td><td>2021-07-30</td><td>Adipiscing Non LLP</td><td>[antique shops - ...</td><td>Paul Jefferson</td><td>057 Patel Common ...</td><td>Male</td><td>Kariong</td><td>850</td><td>450</td><td>2080</td><td>36</td><td>2200</td><td>3</td><td>2736</td><td>12</td><td>6485</td><td>414</td><td>1009</td><td>519</td><td>403</td><td>756</td><td>936</td><td>968</td><td>804</td><td>418</td><td>195</td><td>74</td></tr>\n",
       "</table>\n",
       "only showing top 20 rows\n"
      ],
      "text/plain": [
       "+-------------+--------+-----------+-------+------------+------------------+--------------------+--------------+--------------------+--------------------+--------------+--------------------+------+-------------+---------------------------+------------------+-----------------------------+------------------+-------------------------+----------------------+-----------------+---------------------+-------+------------+-------------+--------------+--------------+--------------+--------------+--------------+--------------+--------------+--------------+----------+\n",
       "|SA2_CODE_2021|postcode|consumer_id|user_id|merchant_abn|      dollar_value|            order_id|order_datetime|                name|                tags| consumer_name|             address|gender|SA2_NAME_2021|Median_tot_prsnl_inc_weekly|Median_rent_weekly|Median_mortgage_repay_monthly|Median_age_persons|Median_tot_hhd_inc_weekly|Average_household_size|Completed Year 12|Did Not Attend School|TOT_P_P|Age_0_4_yr_P|Age_5_14_yr_P|Age_15_19_yr_P|Age_20_24_yr_P|Age_25_34_yr_P|Age_35_44_yr_P|Age_45_54_yr_P|Age_55_64_yr_P|Age_65_74_yr_P|Age_75_84_yr_P|Age_85ov_P|\n",
       "+-------------+--------+-----------+-------+------------+------------------+--------------------+--------------+--------------------+--------------------+--------------+--------------------+------+-------------+---------------------------+------------------+-----------------------------+------------------+-------------------------+----------------------+-----------------+---------------------+-------+------------+-------------+--------------+--------------+--------------+--------------+--------------+--------------+--------------+--------------+----------+\n",
       "|    102011033|    2250|     957666|  23534| 29641342749|228.13576584758118|8283052a-431c-4f9...|    2021-08-20|       Et Associates|[computer program...|Paul Jefferson|057 Patel Common ...|  Male|      Kariong|                        850|               450|                         2080|                36|                     2200|                     3|             2736|                   12|   6485|         414|         1009|           519|           403|           756|           936|           968|           804|           418|           195|        74|\n",
       "|    102011033|    2250|     957666|  23534| 29641342749|228.13576584758118|8283052a-431c-4f9...|    2021-08-20|       Et Associates|[computer program...|Paul Jefferson|057 Patel Common ...|  Male|      Kariong|                        850|               450|                         2080|                36|                     2200|                     3|             2736|                   12|   6485|         414|         1009|           519|           403|           756|           936|           968|           804|           418|           195|        74|\n",
       "|    102011033|    2250|     957666|  23534| 66034737896| 43.57631530803281|ccd8b43e-88fa-4a9...|    2021-08-19|       Luctus Ut LLC|[watch,  clock,  ...|Paul Jefferson|057 Patel Common ...|  Male|      Kariong|                        850|               450|                         2080|                36|                     2200|                     3|             2736|                   12|   6485|         414|         1009|           519|           403|           756|           936|           968|           804|           418|           195|        74|\n",
       "|    102011033|    2250|     957666|  23534| 66034737896| 43.57631530803281|ccd8b43e-88fa-4a9...|    2021-08-19|       Luctus Ut LLC|[watch,  clock,  ...|Paul Jefferson|057 Patel Common ...|  Male|      Kariong|                        850|               450|                         2080|                36|                     2200|                     3|             2736|                   12|   6485|         414|         1009|           519|           403|           756|           936|           968|           804|           418|           195|        74|\n",
       "|    102011033|    2250|     957666|  23534| 56945597985|14.980127758236039|adf95737-385f-407...|    2021-08-22|             Sem LLP|[cable,  satellit...|Paul Jefferson|057 Patel Common ...|  Male|      Kariong|                        850|               450|                         2080|                36|                     2200|                     3|             2736|                   12|   6485|         414|         1009|           519|           403|           756|           936|           968|           804|           418|           195|        74|\n",
       "|    102011033|    2250|     957666|  23534| 56945597985|14.980127758236039|adf95737-385f-407...|    2021-08-22|             Sem LLP|[cable,  satellit...|Paul Jefferson|057 Patel Common ...|  Male|      Kariong|                        850|               450|                         2080|                36|                     2200|                     3|             2736|                   12|   6485|         414|         1009|           519|           403|           756|           936|           968|           804|           418|           195|        74|\n",
       "|    102011033|    2250|     957666|  23534| 60978195146|3.2940935801059776|ecfada9b-44ce-42d...|    2021-08-15|Lobortis Tellus C...|[shoe shops,  c, ...|Paul Jefferson|057 Patel Common ...|  Male|      Kariong|                        850|               450|                         2080|                36|                     2200|                     3|             2736|                   12|   6485|         414|         1009|           519|           403|           756|           936|           968|           804|           418|           195|        74|\n",
       "|    102011033|    2250|     957666|  23534| 60978195146|3.2940935801059776|ecfada9b-44ce-42d...|    2021-08-15|Lobortis Tellus C...|[shoe shops,  c, ...|Paul Jefferson|057 Patel Common ...|  Male|      Kariong|                        850|               450|                         2080|                36|                     2200|                     3|             2736|                   12|   6485|         414|         1009|           519|           403|           756|           936|           968|           804|           418|           195|        74|\n",
       "|    102011033|    2250|     957666|  23534| 68435002949| 433.1880172503183|ef2e7b0d-9d44-440...|    2021-08-27|     Aliquam Eu Inc.|[artist supply an...|Paul Jefferson|057 Patel Common ...|  Male|      Kariong|                        850|               450|                         2080|                36|                     2200|                     3|             2736|                   12|   6485|         414|         1009|           519|           403|           756|           936|           968|           804|           418|           195|        74|\n",
       "|    102011033|    2250|     957666|  23534| 68435002949| 433.1880172503183|ef2e7b0d-9d44-440...|    2021-08-27|     Aliquam Eu Inc.|[artist supply an...|Paul Jefferson|057 Patel Common ...|  Male|      Kariong|                        850|               450|                         2080|                36|                     2200|                     3|             2736|                   12|   6485|         414|         1009|           519|           403|           756|           936|           968|           804|           418|           195|        74|\n",
       "|    102011033|    2250|     957666|  23534| 50315283629| 720.2911825182575|2d9508ae-f5d5-4fe...|    2021-08-13|Iaculis Aliquet D...|[lawn and garden ...|Paul Jefferson|057 Patel Common ...|  Male|      Kariong|                        850|               450|                         2080|                36|                     2200|                     3|             2736|                   12|   6485|         414|         1009|           519|           403|           756|           936|           968|           804|           418|           195|        74|\n",
       "|    102011033|    2250|     957666|  23534| 50315283629| 720.2911825182575|2d9508ae-f5d5-4fe...|    2021-08-13|Iaculis Aliquet D...|[lawn and garden ...|Paul Jefferson|057 Patel Common ...|  Male|      Kariong|                        850|               450|                         2080|                36|                     2200|                     3|             2736|                   12|   6485|         414|         1009|           519|           403|           756|           936|           968|           804|           418|           195|        74|\n",
       "|    102011033|    2250|     957666|  23534| 43061683632|14.857140980002967|37ffad90-12a9-4f8...|    2021-07-16|      A Facilisis PC|[watch,  clock,  ...|Paul Jefferson|057 Patel Common ...|  Male|      Kariong|                        850|               450|                         2080|                36|                     2200|                     3|             2736|                   12|   6485|         414|         1009|           519|           403|           756|           936|           968|           804|           418|           195|        74|\n",
       "|    102011033|    2250|     957666|  23534| 43061683632|14.857140980002967|37ffad90-12a9-4f8...|    2021-07-16|      A Facilisis PC|[watch,  clock,  ...|Paul Jefferson|057 Patel Common ...|  Male|      Kariong|                        850|               450|                         2080|                36|                     2200|                     3|             2736|                   12|   6485|         414|         1009|           519|           403|           756|           936|           968|           804|           418|           195|        74|\n",
       "|    102011033|    2250|     957666|  23534| 86578477987|49.283758843633485|43c69404-b924-474...|    2021-07-16|   Leo In Consulting|[watch,  clock,  ...|Paul Jefferson|057 Patel Common ...|  Male|      Kariong|                        850|               450|                         2080|                36|                     2200|                     3|             2736|                   12|   6485|         414|         1009|           519|           403|           756|           936|           968|           804|           418|           195|        74|\n",
       "|    102011033|    2250|     957666|  23534| 86578477987|49.283758843633485|43c69404-b924-474...|    2021-07-16|   Leo In Consulting|[watch,  clock,  ...|Paul Jefferson|057 Patel Common ...|  Male|      Kariong|                        850|               450|                         2080|                36|                     2200|                     3|             2736|                   12|   6485|         414|         1009|           519|           403|           756|           936|           968|           804|           418|           195|        74|\n",
       "|    102011033|    2250|     957666|  23534| 41502716433|186.74141139636208|5d623ec2-0cef-44e...|    2021-07-16|       Mi Associates|[motor vehicle su...|Paul Jefferson|057 Patel Common ...|  Male|      Kariong|                        850|               450|                         2080|                36|                     2200|                     3|             2736|                   12|   6485|         414|         1009|           519|           403|           756|           936|           968|           804|           418|           195|        74|\n",
       "|    102011033|    2250|     957666|  23534| 41502716433|186.74141139636208|5d623ec2-0cef-44e...|    2021-07-16|       Mi Associates|[motor vehicle su...|Paul Jefferson|057 Patel Common ...|  Male|      Kariong|                        850|               450|                         2080|                36|                     2200|                     3|             2736|                   12|   6485|         414|         1009|           519|           403|           756|           936|           968|           804|           418|           195|        74|\n",
       "|    102011033|    2250|     957666|  23534| 59589609053| 133.8283168460673|3bc68c46-7626-4ce...|    2021-07-30|  Adipiscing Non LLP|[antique shops - ...|Paul Jefferson|057 Patel Common ...|  Male|      Kariong|                        850|               450|                         2080|                36|                     2200|                     3|             2736|                   12|   6485|         414|         1009|           519|           403|           756|           936|           968|           804|           418|           195|        74|\n",
       "|    102011033|    2250|     957666|  23534| 59589609053| 133.8283168460673|3bc68c46-7626-4ce...|    2021-07-30|  Adipiscing Non LLP|[antique shops - ...|Paul Jefferson|057 Patel Common ...|  Male|      Kariong|                        850|               450|                         2080|                36|                     2200|                     3|             2736|                   12|   6485|         414|         1009|           519|           403|           756|           936|           968|           804|           418|           195|        74|\n",
       "+-------------+--------+-----------+-------+------------+------------------+--------------------+--------------+--------------------+--------------------+--------------+--------------------+------+-------------+---------------------------+------------------+-----------------------------+------------------+-------------------------+----------------------+-----------------+---------------------+-------+------------+-------------+--------------+--------------+--------------+--------------+--------------+--------------+--------------+--------------+----------+\n",
       "only showing top 20 rows"
      ]
     },
     "execution_count": 69,
     "metadata": {},
     "output_type": "execute_result"
    }
   ],
   "source": [
    "data.na.drop(subset=[\"SA2_CODE_2021\"])"
   ]
  },
  {
   "cell_type": "code",
   "execution_count": 70,
   "metadata": {},
   "outputs": [
    {
     "name": "stderr",
     "output_type": "stream",
     "text": [
      "                                                                                \r"
     ]
    },
    {
     "data": {
      "text/html": [
       "<table border='1'>\n",
       "<tr><th>SA2_CODE_2021</th><th>postcode</th><th>consumer_id</th><th>user_id</th><th>merchant_abn</th><th>dollar_value</th><th>order_id</th><th>order_datetime</th><th>name</th><th>tags</th><th>consumer_name</th><th>address</th><th>gender</th><th>SA2_NAME_2021</th><th>Median_tot_prsnl_inc_weekly</th><th>Median_rent_weekly</th><th>Median_mortgage_repay_monthly</th><th>Median_age_persons</th><th>Median_tot_hhd_inc_weekly</th><th>Average_household_size</th><th>Completed Year 12</th><th>Did Not Attend School</th><th>TOT_P_P</th><th>Age_0_4_yr_P</th><th>Age_5_14_yr_P</th><th>Age_15_19_yr_P</th><th>Age_20_24_yr_P</th><th>Age_25_34_yr_P</th><th>Age_35_44_yr_P</th><th>Age_45_54_yr_P</th><th>Age_55_64_yr_P</th><th>Age_65_74_yr_P</th><th>Age_75_84_yr_P</th><th>Age_85ov_P</th></tr>\n",
       "<tr><td>750332</td><td>182</td><td>182</td><td>182</td><td>182</td><td>182</td><td>182</td><td>182</td><td>182</td><td>182</td><td>182</td><td>182</td><td>182</td><td>750332</td><td>750333</td><td>750333</td><td>750333</td><td>750333</td><td>750333</td><td>750333</td><td>750333</td><td>750333</td><td>750333</td><td>750333</td><td>750333</td><td>750333</td><td>750333</td><td>750333</td><td>750333</td><td>750333</td><td>750333</td><td>750333</td><td>750333</td><td>750333</td></tr>\n",
       "</table>\n"
      ],
      "text/plain": [
       "+-------------+--------+-----------+-------+------------+------------+--------+--------------+----+----+-------------+-------+------+-------------+---------------------------+------------------+-----------------------------+------------------+-------------------------+----------------------+-----------------+---------------------+-------+------------+-------------+--------------+--------------+--------------+--------------+--------------+--------------+--------------+--------------+----------+\n",
       "|SA2_CODE_2021|postcode|consumer_id|user_id|merchant_abn|dollar_value|order_id|order_datetime|name|tags|consumer_name|address|gender|SA2_NAME_2021|Median_tot_prsnl_inc_weekly|Median_rent_weekly|Median_mortgage_repay_monthly|Median_age_persons|Median_tot_hhd_inc_weekly|Average_household_size|Completed Year 12|Did Not Attend School|TOT_P_P|Age_0_4_yr_P|Age_5_14_yr_P|Age_15_19_yr_P|Age_20_24_yr_P|Age_25_34_yr_P|Age_35_44_yr_P|Age_45_54_yr_P|Age_55_64_yr_P|Age_65_74_yr_P|Age_75_84_yr_P|Age_85ov_P|\n",
       "+-------------+--------+-----------+-------+------------+------------+--------+--------------+----+----+-------------+-------+------+-------------+---------------------------+------------------+-----------------------------+------------------+-------------------------+----------------------+-----------------+---------------------+-------+------------+-------------+--------------+--------------+--------------+--------------+--------------+--------------+--------------+--------------+----------+\n",
       "|       750332|     182|        182|    182|         182|         182|     182|           182| 182| 182|          182|    182|   182|       750332|                     750333|            750333|                       750333|            750333|                   750333|                750333|           750333|               750333| 750333|      750333|       750333|        750333|        750333|        750333|        750333|        750333|        750333|        750333|        750333|    750333|\n",
       "+-------------+--------+-----------+-------+------------+------------+--------+--------------+----+----+-------------+-------+------+-------------+---------------------------+------------------+-----------------------------+------------------+-------------------------+----------------------+-----------------+---------------------+-------+------------+-------------+--------------+--------------+--------------+--------------+--------------+--------------+--------------+--------------+----------+"
      ]
     },
     "execution_count": 70,
     "metadata": {},
     "output_type": "execute_result"
    }
   ],
   "source": [
    "from pyspark.sql.functions import isnan, when, count, col\n",
    "data.select([count(when(col(c).isNull(), c)).alias(c) for c in data.columns])"
   ]
  },
  {
   "cell_type": "markdown",
   "metadata": {},
   "source": [
    "## SA2_CODE_2021 / SA2_NAME_2021"
   ]
  },
  {
   "cell_type": "code",
   "execution_count": 71,
   "metadata": {},
   "outputs": [
    {
     "data": {
      "text/plain": [
       "0.019819309386088536"
      ]
     },
     "execution_count": 71,
     "metadata": {},
     "output_type": "execute_result"
    }
   ],
   "source": [
    "from pyspark.sql.functions import col\n",
    "data.filter(col(\"SA2_CODE_2021\").isNull()).count()/data.count()"
   ]
  },
  {
   "cell_type": "code",
   "execution_count": 72,
   "metadata": {},
   "outputs": [
    {
     "data": {
      "text/html": [
       "<table border='1'>\n",
       "<tr><th>SA2_CODE_2021</th><th>postcode</th><th>consumer_id</th><th>user_id</th><th>merchant_abn</th><th>dollar_value</th><th>order_id</th><th>order_datetime</th><th>name</th><th>tags</th><th>consumer_name</th><th>address</th><th>gender</th><th>SA2_NAME_2021</th><th>Median_tot_prsnl_inc_weekly</th><th>Median_rent_weekly</th><th>Median_mortgage_repay_monthly</th><th>Median_age_persons</th><th>Median_tot_hhd_inc_weekly</th><th>Average_household_size</th><th>Completed Year 12</th><th>Did Not Attend School</th><th>TOT_P_P</th><th>Age_0_4_yr_P</th><th>Age_5_14_yr_P</th><th>Age_15_19_yr_P</th><th>Age_20_24_yr_P</th><th>Age_25_34_yr_P</th><th>Age_35_44_yr_P</th><th>Age_45_54_yr_P</th><th>Age_55_64_yr_P</th><th>Age_65_74_yr_P</th><th>Age_75_84_yr_P</th><th>Age_85ov_P</th><th>state</th></tr>\n",
       "<tr><td>null</td><td>852</td><td>1140</td><td>6421</td><td>23338656015</td><td>240.79240453805204</td><td>c22bbaa1-8e70-49b...</td><td>2021-08-19</td><td>Iaculis LLC</td><td>[watch,  clock,  ...</td><td>Christopher Powell</td><td>880 Brandon Stree...</td><td>Undisclosed</td><td>Northern Territory</td><td>null</td><td>null</td><td>null</td><td>null</td><td>null</td><td>null</td><td>null</td><td>null</td><td>null</td><td>null</td><td>null</td><td>null</td><td>null</td><td>null</td><td>null</td><td>null</td><td>null</td><td>null</td><td>null</td><td>null</td><td>NT</td></tr>\n",
       "<tr><td>null</td><td>7321</td><td>94215</td><td>11809</td><td>49891706470</td><td>48.86426156234827</td><td>5cfef23a-a07c-455...</td><td>2021-05-21</td><td>Non Vestibulum In...</td><td>[tent and awning ...</td><td>Amy Nguyen</td><td>85806 Melton Squares</td><td>Female</td><td>Tasmania</td><td>null</td><td>null</td><td>null</td><td>null</td><td>null</td><td>null</td><td>null</td><td>null</td><td>null</td><td>null</td><td>null</td><td>null</td><td>null</td><td>null</td><td>null</td><td>null</td><td>null</td><td>null</td><td>null</td><td>null</td><td>TAS</td></tr>\n",
       "<tr><td>null</td><td>6872</td><td>799687</td><td>24034</td><td>38090089066</td><td>118.19708950112054</td><td>ece422e2-c9e8-42c...</td><td>2021-04-02</td><td>Interdum Feugiat ...</td><td>[furniture,  home...</td><td>Angela Little</td><td>337 Carter Walk</td><td>Female</td><td>Western Austraia</td><td>null</td><td>null</td><td>null</td><td>null</td><td>null</td><td>null</td><td>null</td><td>null</td><td>null</td><td>null</td><td>null</td><td>null</td><td>null</td><td>null</td><td>null</td><td>null</td><td>null</td><td>null</td><td>null</td><td>null</td><td>WA</td></tr>\n",
       "<tr><td>null</td><td>7330</td><td>334995</td><td>4041</td><td>33357097824</td><td>24.599565257317405</td><td>7fd18add-d03c-479...</td><td>2021-07-29</td><td>Sem Ut Incorporated</td><td>[hobby,  toy and ...</td><td>Eric Cooper</td><td>137 Brian Turnpike</td><td>Male</td><td>Tasmania</td><td>null</td><td>null</td><td>null</td><td>null</td><td>null</td><td>null</td><td>null</td><td>null</td><td>null</td><td>null</td><td>null</td><td>null</td><td>null</td><td>null</td><td>null</td><td>null</td><td>null</td><td>null</td><td>null</td><td>null</td><td>TAS</td></tr>\n",
       "<tr><td>null</td><td>852</td><td>1140</td><td>6421</td><td>48534649627</td><td>269.8021779483706</td><td>dcc21448-04c5-42d...</td><td>2021-08-14</td><td>Dignissim Maecena...</td><td>[opticians,  opti...</td><td>Christopher Powell</td><td>880 Brandon Stree...</td><td>Undisclosed</td><td>Northern Territory</td><td>null</td><td>null</td><td>null</td><td>null</td><td>null</td><td>null</td><td>null</td><td>null</td><td>null</td><td>null</td><td>null</td><td>null</td><td>null</td><td>null</td><td>null</td><td>null</td><td>null</td><td>null</td><td>null</td><td>null</td><td>NT</td></tr>\n",
       "</table>\n"
      ],
      "text/plain": [
       "+-------------+--------+-----------+-------+------------+------------------+--------------------+--------------+--------------------+--------------------+------------------+--------------------+-----------+------------------+---------------------------+------------------+-----------------------------+------------------+-------------------------+----------------------+-----------------+---------------------+-------+------------+-------------+--------------+--------------+--------------+--------------+--------------+--------------+--------------+--------------+----------+-----+\n",
       "|SA2_CODE_2021|postcode|consumer_id|user_id|merchant_abn|      dollar_value|            order_id|order_datetime|                name|                tags|     consumer_name|             address|     gender|     SA2_NAME_2021|Median_tot_prsnl_inc_weekly|Median_rent_weekly|Median_mortgage_repay_monthly|Median_age_persons|Median_tot_hhd_inc_weekly|Average_household_size|Completed Year 12|Did Not Attend School|TOT_P_P|Age_0_4_yr_P|Age_5_14_yr_P|Age_15_19_yr_P|Age_20_24_yr_P|Age_25_34_yr_P|Age_35_44_yr_P|Age_45_54_yr_P|Age_55_64_yr_P|Age_65_74_yr_P|Age_75_84_yr_P|Age_85ov_P|state|\n",
       "+-------------+--------+-----------+-------+------------+------------------+--------------------+--------------+--------------------+--------------------+------------------+--------------------+-----------+------------------+---------------------------+------------------+-----------------------------+------------------+-------------------------+----------------------+-----------------+---------------------+-------+------------+-------------+--------------+--------------+--------------+--------------+--------------+--------------+--------------+--------------+----------+-----+\n",
       "|         null|     852|       1140|   6421| 23338656015|240.79240453805204|c22bbaa1-8e70-49b...|    2021-08-19|         Iaculis LLC|[watch,  clock,  ...|Christopher Powell|880 Brandon Stree...|Undisclosed|Northern Territory|                       null|              null|                         null|              null|                     null|                  null|             null|                 null|   null|        null|         null|          null|          null|          null|          null|          null|          null|          null|          null|      null|   NT|\n",
       "|         null|    7321|      94215|  11809| 49891706470| 48.86426156234827|5cfef23a-a07c-455...|    2021-05-21|Non Vestibulum In...|[tent and awning ...|        Amy Nguyen|85806 Melton Squares|     Female|          Tasmania|                       null|              null|                         null|              null|                     null|                  null|             null|                 null|   null|        null|         null|          null|          null|          null|          null|          null|          null|          null|          null|      null|  TAS|\n",
       "|         null|    6872|     799687|  24034| 38090089066|118.19708950112054|ece422e2-c9e8-42c...|    2021-04-02|Interdum Feugiat ...|[furniture,  home...|     Angela Little|     337 Carter Walk|     Female|  Western Austraia|                       null|              null|                         null|              null|                     null|                  null|             null|                 null|   null|        null|         null|          null|          null|          null|          null|          null|          null|          null|          null|      null|   WA|\n",
       "|         null|    7330|     334995|   4041| 33357097824|24.599565257317405|7fd18add-d03c-479...|    2021-07-29| Sem Ut Incorporated|[hobby,  toy and ...|       Eric Cooper|  137 Brian Turnpike|       Male|          Tasmania|                       null|              null|                         null|              null|                     null|                  null|             null|                 null|   null|        null|         null|          null|          null|          null|          null|          null|          null|          null|          null|      null|  TAS|\n",
       "|         null|     852|       1140|   6421| 48534649627| 269.8021779483706|dcc21448-04c5-42d...|    2021-08-14|Dignissim Maecena...|[opticians,  opti...|Christopher Powell|880 Brandon Stree...|Undisclosed|Northern Territory|                       null|              null|                         null|              null|                     null|                  null|             null|                 null|   null|        null|         null|          null|          null|          null|          null|          null|          null|          null|          null|      null|   NT|\n",
       "+-------------+--------+-----------+-------+------------+------------------+--------------------+--------------+--------------------+--------------------+------------------+--------------------+-----------+------------------+---------------------------+------------------+-----------------------------+------------------+-------------------------+----------------------+-----------------+---------------------+-------+------------+-------------+--------------+--------------+--------------+--------------+--------------+--------------+--------------+--------------+----------+-----+"
      ]
     },
     "execution_count": 72,
     "metadata": {},
     "output_type": "execute_result"
    }
   ],
   "source": [
    "import pyspark.sql.functions as f\n",
    "import pandas as pd\n",
    "data = data.withColumn(\n",
    "    'state',\n",
    "    F.when(((col('postcode') >= 1000) & (col('postcode') <= 1999)) | ((col('postcode') >= 2000) & (col('postcode') <= 2599)) | ((col('postcode') >= 2619) & (col('postcode') < 2899)) | ((col('postcode') >= 2921) & (col('postcode') < 2999)), 'NSW')\\\n",
    "    .when(((col('postcode') >= 200) & (col('postcode') <= 299)) | ((col('postcode') >= 2600) & (col('postcode') <= 2618)) | ((col('postcode') >= 2900) & (col('postcode') < 2920)), 'ACT')\\\n",
    "    .when(((col('postcode') >= 3000) & (col('postcode') <= 3999)) | ((col('postcode') >= 8000) & (col('postcode') <= 8999)), 'VIC')\\\n",
    "    .when(((col('postcode') >= 4000) & (col('postcode') <= 4999)) | ((col('postcode') >= 9000) & (col('postcode') <= 9999)), 'QLD')\\\n",
    "    .when(((col('postcode') >= 5000) & (col('postcode') <= 5999)), 'SA')\\\n",
    "    .when(((col('postcode') >= 6000) & (col('postcode') <= 6999)), 'WA')\\\n",
    "    .when(((col('postcode') >= 7000) & (col('postcode') <= 7999)), 'TAS')\\\n",
    "    .otherwise('NT')\n",
    ")\n",
    "data = data.withColumn(\n",
    "    'SA2_NAME_2021',\n",
    "    F.when( (col('state') == 'VIC') & (col('SA2_NAME_2021').isNull()), 'Victoria')\\\n",
    "    .when( (col('state') == 'NSW') & (col('SA2_NAME_2021').isNull()), 'New South Wales')\\\n",
    "    .when( (col('state') == 'QLD') & (col('SA2_NAME_2021').isNull()), 'Queensland')\\\n",
    "    .when( (col('state') == 'NT') & (col('SA2_NAME_2021').isNull()), 'Northern Territory')\\\n",
    "    .when( (col('state') == 'WA') & (col('SA2_NAME_2021').isNull()), 'Western Austraia')\\\n",
    "    .when( (col('state') == 'SA') & (col('SA2_NAME_2021').isNull()), 'South Australia')\\\n",
    "    .when( (col('state') == 'TAS') & (col('SA2_NAME_2021').isNull()), 'Tasmania')\\\n",
    "    .when( (col('state') == 'ACT') & (col('SA2_NAME_2021').isNull()), 'Australian Capital Territory')\\\n",
    "    .otherwise(col('SA2_NAME_2021'))\n",
    ")\n",
    "data.limit(5)"
   ]
  },
  {
   "cell_type": "code",
   "execution_count": 73,
   "metadata": {},
   "outputs": [
    {
     "name": "stderr",
     "output_type": "stream",
     "text": [
      "                                                                                \r"
     ]
    },
    {
     "data": {
      "text/html": [
       "<table border='1'>\n",
       "<tr><th>SA2_CODE_2021</th><th>postcode</th><th>consumer_id</th><th>user_id</th><th>merchant_abn</th><th>dollar_value</th><th>order_id</th><th>order_datetime</th><th>name</th><th>tags</th><th>consumer_name</th><th>address</th><th>gender</th><th>SA2_NAME_2021</th><th>Median_tot_prsnl_inc_weekly</th><th>Median_rent_weekly</th><th>Median_mortgage_repay_monthly</th><th>Median_age_persons</th><th>Median_tot_hhd_inc_weekly</th><th>Average_household_size</th><th>Completed Year 12</th><th>Did Not Attend School</th><th>TOT_P_P</th><th>Age_0_4_yr_P</th><th>Age_5_14_yr_P</th><th>Age_15_19_yr_P</th><th>Age_20_24_yr_P</th><th>Age_25_34_yr_P</th><th>Age_35_44_yr_P</th><th>Age_45_54_yr_P</th><th>Age_55_64_yr_P</th><th>Age_65_74_yr_P</th><th>Age_75_84_yr_P</th><th>Age_85ov_P</th><th>state</th></tr>\n",
       "<tr><td>102011033</td><td>2250</td><td>957666</td><td>23534</td><td>29641342749</td><td>228.13576584758118</td><td>8283052a-431c-4f9...</td><td>2021-08-20</td><td>Et Associates</td><td>[computer program...</td><td>Paul Jefferson</td><td>057 Patel Common ...</td><td>Male</td><td>Kariong</td><td>850</td><td>450</td><td>2080</td><td>36</td><td>2200</td><td>3</td><td>2736</td><td>12</td><td>6485</td><td>414</td><td>1009</td><td>519</td><td>403</td><td>756</td><td>936</td><td>968</td><td>804</td><td>418</td><td>195</td><td>74</td><td>NSW</td></tr>\n",
       "<tr><td>102011033</td><td>2250</td><td>957666</td><td>23534</td><td>29641342749</td><td>228.13576584758118</td><td>8283052a-431c-4f9...</td><td>2021-08-20</td><td>Et Associates</td><td>[computer program...</td><td>Paul Jefferson</td><td>057 Patel Common ...</td><td>Male</td><td>Kariong</td><td>850</td><td>450</td><td>2080</td><td>36</td><td>2200</td><td>3</td><td>2736</td><td>12</td><td>6485</td><td>414</td><td>1009</td><td>519</td><td>403</td><td>756</td><td>936</td><td>968</td><td>804</td><td>418</td><td>195</td><td>74</td><td>NSW</td></tr>\n",
       "<tr><td>102011033</td><td>2250</td><td>957666</td><td>23534</td><td>66034737896</td><td>43.57631530803281</td><td>ccd8b43e-88fa-4a9...</td><td>2021-08-19</td><td>Luctus Ut LLC</td><td>[watch,  clock,  ...</td><td>Paul Jefferson</td><td>057 Patel Common ...</td><td>Male</td><td>Kariong</td><td>850</td><td>450</td><td>2080</td><td>36</td><td>2200</td><td>3</td><td>2736</td><td>12</td><td>6485</td><td>414</td><td>1009</td><td>519</td><td>403</td><td>756</td><td>936</td><td>968</td><td>804</td><td>418</td><td>195</td><td>74</td><td>NSW</td></tr>\n",
       "<tr><td>102011033</td><td>2250</td><td>957666</td><td>23534</td><td>66034737896</td><td>43.57631530803281</td><td>ccd8b43e-88fa-4a9...</td><td>2021-08-19</td><td>Luctus Ut LLC</td><td>[watch,  clock,  ...</td><td>Paul Jefferson</td><td>057 Patel Common ...</td><td>Male</td><td>Kariong</td><td>850</td><td>450</td><td>2080</td><td>36</td><td>2200</td><td>3</td><td>2736</td><td>12</td><td>6485</td><td>414</td><td>1009</td><td>519</td><td>403</td><td>756</td><td>936</td><td>968</td><td>804</td><td>418</td><td>195</td><td>74</td><td>NSW</td></tr>\n",
       "<tr><td>102011033</td><td>2250</td><td>957666</td><td>23534</td><td>56945597985</td><td>14.980127758236039</td><td>adf95737-385f-407...</td><td>2021-08-22</td><td>Sem LLP</td><td>[cable,  satellit...</td><td>Paul Jefferson</td><td>057 Patel Common ...</td><td>Male</td><td>Kariong</td><td>850</td><td>450</td><td>2080</td><td>36</td><td>2200</td><td>3</td><td>2736</td><td>12</td><td>6485</td><td>414</td><td>1009</td><td>519</td><td>403</td><td>756</td><td>936</td><td>968</td><td>804</td><td>418</td><td>195</td><td>74</td><td>NSW</td></tr>\n",
       "<tr><td>102011033</td><td>2250</td><td>957666</td><td>23534</td><td>56945597985</td><td>14.980127758236039</td><td>adf95737-385f-407...</td><td>2021-08-22</td><td>Sem LLP</td><td>[cable,  satellit...</td><td>Paul Jefferson</td><td>057 Patel Common ...</td><td>Male</td><td>Kariong</td><td>850</td><td>450</td><td>2080</td><td>36</td><td>2200</td><td>3</td><td>2736</td><td>12</td><td>6485</td><td>414</td><td>1009</td><td>519</td><td>403</td><td>756</td><td>936</td><td>968</td><td>804</td><td>418</td><td>195</td><td>74</td><td>NSW</td></tr>\n",
       "<tr><td>102011033</td><td>2250</td><td>957666</td><td>23534</td><td>60978195146</td><td>3.2940935801059776</td><td>ecfada9b-44ce-42d...</td><td>2021-08-15</td><td>Lobortis Tellus C...</td><td>[shoe shops,  c, ...</td><td>Paul Jefferson</td><td>057 Patel Common ...</td><td>Male</td><td>Kariong</td><td>850</td><td>450</td><td>2080</td><td>36</td><td>2200</td><td>3</td><td>2736</td><td>12</td><td>6485</td><td>414</td><td>1009</td><td>519</td><td>403</td><td>756</td><td>936</td><td>968</td><td>804</td><td>418</td><td>195</td><td>74</td><td>NSW</td></tr>\n",
       "<tr><td>102011033</td><td>2250</td><td>957666</td><td>23534</td><td>60978195146</td><td>3.2940935801059776</td><td>ecfada9b-44ce-42d...</td><td>2021-08-15</td><td>Lobortis Tellus C...</td><td>[shoe shops,  c, ...</td><td>Paul Jefferson</td><td>057 Patel Common ...</td><td>Male</td><td>Kariong</td><td>850</td><td>450</td><td>2080</td><td>36</td><td>2200</td><td>3</td><td>2736</td><td>12</td><td>6485</td><td>414</td><td>1009</td><td>519</td><td>403</td><td>756</td><td>936</td><td>968</td><td>804</td><td>418</td><td>195</td><td>74</td><td>NSW</td></tr>\n",
       "<tr><td>102011033</td><td>2250</td><td>957666</td><td>23534</td><td>68435002949</td><td>433.1880172503183</td><td>ef2e7b0d-9d44-440...</td><td>2021-08-27</td><td>Aliquam Eu Inc.</td><td>[artist supply an...</td><td>Paul Jefferson</td><td>057 Patel Common ...</td><td>Male</td><td>Kariong</td><td>850</td><td>450</td><td>2080</td><td>36</td><td>2200</td><td>3</td><td>2736</td><td>12</td><td>6485</td><td>414</td><td>1009</td><td>519</td><td>403</td><td>756</td><td>936</td><td>968</td><td>804</td><td>418</td><td>195</td><td>74</td><td>NSW</td></tr>\n",
       "<tr><td>102011033</td><td>2250</td><td>957666</td><td>23534</td><td>68435002949</td><td>433.1880172503183</td><td>ef2e7b0d-9d44-440...</td><td>2021-08-27</td><td>Aliquam Eu Inc.</td><td>[artist supply an...</td><td>Paul Jefferson</td><td>057 Patel Common ...</td><td>Male</td><td>Kariong</td><td>850</td><td>450</td><td>2080</td><td>36</td><td>2200</td><td>3</td><td>2736</td><td>12</td><td>6485</td><td>414</td><td>1009</td><td>519</td><td>403</td><td>756</td><td>936</td><td>968</td><td>804</td><td>418</td><td>195</td><td>74</td><td>NSW</td></tr>\n",
       "<tr><td>102011033</td><td>2250</td><td>957666</td><td>23534</td><td>50315283629</td><td>720.2911825182575</td><td>2d9508ae-f5d5-4fe...</td><td>2021-08-13</td><td>Iaculis Aliquet D...</td><td>[lawn and garden ...</td><td>Paul Jefferson</td><td>057 Patel Common ...</td><td>Male</td><td>Kariong</td><td>850</td><td>450</td><td>2080</td><td>36</td><td>2200</td><td>3</td><td>2736</td><td>12</td><td>6485</td><td>414</td><td>1009</td><td>519</td><td>403</td><td>756</td><td>936</td><td>968</td><td>804</td><td>418</td><td>195</td><td>74</td><td>NSW</td></tr>\n",
       "<tr><td>102011033</td><td>2250</td><td>957666</td><td>23534</td><td>50315283629</td><td>720.2911825182575</td><td>2d9508ae-f5d5-4fe...</td><td>2021-08-13</td><td>Iaculis Aliquet D...</td><td>[lawn and garden ...</td><td>Paul Jefferson</td><td>057 Patel Common ...</td><td>Male</td><td>Kariong</td><td>850</td><td>450</td><td>2080</td><td>36</td><td>2200</td><td>3</td><td>2736</td><td>12</td><td>6485</td><td>414</td><td>1009</td><td>519</td><td>403</td><td>756</td><td>936</td><td>968</td><td>804</td><td>418</td><td>195</td><td>74</td><td>NSW</td></tr>\n",
       "<tr><td>102011033</td><td>2250</td><td>957666</td><td>23534</td><td>43061683632</td><td>14.857140980002967</td><td>37ffad90-12a9-4f8...</td><td>2021-07-16</td><td>A Facilisis PC</td><td>[watch,  clock,  ...</td><td>Paul Jefferson</td><td>057 Patel Common ...</td><td>Male</td><td>Kariong</td><td>850</td><td>450</td><td>2080</td><td>36</td><td>2200</td><td>3</td><td>2736</td><td>12</td><td>6485</td><td>414</td><td>1009</td><td>519</td><td>403</td><td>756</td><td>936</td><td>968</td><td>804</td><td>418</td><td>195</td><td>74</td><td>NSW</td></tr>\n",
       "<tr><td>102011033</td><td>2250</td><td>957666</td><td>23534</td><td>43061683632</td><td>14.857140980002967</td><td>37ffad90-12a9-4f8...</td><td>2021-07-16</td><td>A Facilisis PC</td><td>[watch,  clock,  ...</td><td>Paul Jefferson</td><td>057 Patel Common ...</td><td>Male</td><td>Kariong</td><td>850</td><td>450</td><td>2080</td><td>36</td><td>2200</td><td>3</td><td>2736</td><td>12</td><td>6485</td><td>414</td><td>1009</td><td>519</td><td>403</td><td>756</td><td>936</td><td>968</td><td>804</td><td>418</td><td>195</td><td>74</td><td>NSW</td></tr>\n",
       "<tr><td>102011033</td><td>2250</td><td>957666</td><td>23534</td><td>86578477987</td><td>49.283758843633485</td><td>43c69404-b924-474...</td><td>2021-07-16</td><td>Leo In Consulting</td><td>[watch,  clock,  ...</td><td>Paul Jefferson</td><td>057 Patel Common ...</td><td>Male</td><td>Kariong</td><td>850</td><td>450</td><td>2080</td><td>36</td><td>2200</td><td>3</td><td>2736</td><td>12</td><td>6485</td><td>414</td><td>1009</td><td>519</td><td>403</td><td>756</td><td>936</td><td>968</td><td>804</td><td>418</td><td>195</td><td>74</td><td>NSW</td></tr>\n",
       "<tr><td>102011033</td><td>2250</td><td>957666</td><td>23534</td><td>86578477987</td><td>49.283758843633485</td><td>43c69404-b924-474...</td><td>2021-07-16</td><td>Leo In Consulting</td><td>[watch,  clock,  ...</td><td>Paul Jefferson</td><td>057 Patel Common ...</td><td>Male</td><td>Kariong</td><td>850</td><td>450</td><td>2080</td><td>36</td><td>2200</td><td>3</td><td>2736</td><td>12</td><td>6485</td><td>414</td><td>1009</td><td>519</td><td>403</td><td>756</td><td>936</td><td>968</td><td>804</td><td>418</td><td>195</td><td>74</td><td>NSW</td></tr>\n",
       "<tr><td>102011033</td><td>2250</td><td>957666</td><td>23534</td><td>41502716433</td><td>186.74141139636208</td><td>5d623ec2-0cef-44e...</td><td>2021-07-16</td><td>Mi Associates</td><td>[motor vehicle su...</td><td>Paul Jefferson</td><td>057 Patel Common ...</td><td>Male</td><td>Kariong</td><td>850</td><td>450</td><td>2080</td><td>36</td><td>2200</td><td>3</td><td>2736</td><td>12</td><td>6485</td><td>414</td><td>1009</td><td>519</td><td>403</td><td>756</td><td>936</td><td>968</td><td>804</td><td>418</td><td>195</td><td>74</td><td>NSW</td></tr>\n",
       "<tr><td>102011033</td><td>2250</td><td>957666</td><td>23534</td><td>41502716433</td><td>186.74141139636208</td><td>5d623ec2-0cef-44e...</td><td>2021-07-16</td><td>Mi Associates</td><td>[motor vehicle su...</td><td>Paul Jefferson</td><td>057 Patel Common ...</td><td>Male</td><td>Kariong</td><td>850</td><td>450</td><td>2080</td><td>36</td><td>2200</td><td>3</td><td>2736</td><td>12</td><td>6485</td><td>414</td><td>1009</td><td>519</td><td>403</td><td>756</td><td>936</td><td>968</td><td>804</td><td>418</td><td>195</td><td>74</td><td>NSW</td></tr>\n",
       "<tr><td>102011033</td><td>2250</td><td>957666</td><td>23534</td><td>59589609053</td><td>133.8283168460673</td><td>3bc68c46-7626-4ce...</td><td>2021-07-30</td><td>Adipiscing Non LLP</td><td>[antique shops - ...</td><td>Paul Jefferson</td><td>057 Patel Common ...</td><td>Male</td><td>Kariong</td><td>850</td><td>450</td><td>2080</td><td>36</td><td>2200</td><td>3</td><td>2736</td><td>12</td><td>6485</td><td>414</td><td>1009</td><td>519</td><td>403</td><td>756</td><td>936</td><td>968</td><td>804</td><td>418</td><td>195</td><td>74</td><td>NSW</td></tr>\n",
       "<tr><td>102011033</td><td>2250</td><td>957666</td><td>23534</td><td>59589609053</td><td>133.8283168460673</td><td>3bc68c46-7626-4ce...</td><td>2021-07-30</td><td>Adipiscing Non LLP</td><td>[antique shops - ...</td><td>Paul Jefferson</td><td>057 Patel Common ...</td><td>Male</td><td>Kariong</td><td>850</td><td>450</td><td>2080</td><td>36</td><td>2200</td><td>3</td><td>2736</td><td>12</td><td>6485</td><td>414</td><td>1009</td><td>519</td><td>403</td><td>756</td><td>936</td><td>968</td><td>804</td><td>418</td><td>195</td><td>74</td><td>NSW</td></tr>\n",
       "</table>\n",
       "only showing top 20 rows\n"
      ],
      "text/plain": [
       "+-------------+--------+-----------+-------+------------+------------------+--------------------+--------------+--------------------+--------------------+--------------+--------------------+------+-------------+---------------------------+------------------+-----------------------------+------------------+-------------------------+----------------------+-----------------+---------------------+-------+------------+-------------+--------------+--------------+--------------+--------------+--------------+--------------+--------------+--------------+----------+-----+\n",
       "|SA2_CODE_2021|postcode|consumer_id|user_id|merchant_abn|      dollar_value|            order_id|order_datetime|                name|                tags| consumer_name|             address|gender|SA2_NAME_2021|Median_tot_prsnl_inc_weekly|Median_rent_weekly|Median_mortgage_repay_monthly|Median_age_persons|Median_tot_hhd_inc_weekly|Average_household_size|Completed Year 12|Did Not Attend School|TOT_P_P|Age_0_4_yr_P|Age_5_14_yr_P|Age_15_19_yr_P|Age_20_24_yr_P|Age_25_34_yr_P|Age_35_44_yr_P|Age_45_54_yr_P|Age_55_64_yr_P|Age_65_74_yr_P|Age_75_84_yr_P|Age_85ov_P|state|\n",
       "+-------------+--------+-----------+-------+------------+------------------+--------------------+--------------+--------------------+--------------------+--------------+--------------------+------+-------------+---------------------------+------------------+-----------------------------+------------------+-------------------------+----------------------+-----------------+---------------------+-------+------------+-------------+--------------+--------------+--------------+--------------+--------------+--------------+--------------+--------------+----------+-----+\n",
       "|    102011033|    2250|     957666|  23534| 29641342749|228.13576584758118|8283052a-431c-4f9...|    2021-08-20|       Et Associates|[computer program...|Paul Jefferson|057 Patel Common ...|  Male|      Kariong|                        850|               450|                         2080|                36|                     2200|                     3|             2736|                   12|   6485|         414|         1009|           519|           403|           756|           936|           968|           804|           418|           195|        74|  NSW|\n",
       "|    102011033|    2250|     957666|  23534| 29641342749|228.13576584758118|8283052a-431c-4f9...|    2021-08-20|       Et Associates|[computer program...|Paul Jefferson|057 Patel Common ...|  Male|      Kariong|                        850|               450|                         2080|                36|                     2200|                     3|             2736|                   12|   6485|         414|         1009|           519|           403|           756|           936|           968|           804|           418|           195|        74|  NSW|\n",
       "|    102011033|    2250|     957666|  23534| 66034737896| 43.57631530803281|ccd8b43e-88fa-4a9...|    2021-08-19|       Luctus Ut LLC|[watch,  clock,  ...|Paul Jefferson|057 Patel Common ...|  Male|      Kariong|                        850|               450|                         2080|                36|                     2200|                     3|             2736|                   12|   6485|         414|         1009|           519|           403|           756|           936|           968|           804|           418|           195|        74|  NSW|\n",
       "|    102011033|    2250|     957666|  23534| 66034737896| 43.57631530803281|ccd8b43e-88fa-4a9...|    2021-08-19|       Luctus Ut LLC|[watch,  clock,  ...|Paul Jefferson|057 Patel Common ...|  Male|      Kariong|                        850|               450|                         2080|                36|                     2200|                     3|             2736|                   12|   6485|         414|         1009|           519|           403|           756|           936|           968|           804|           418|           195|        74|  NSW|\n",
       "|    102011033|    2250|     957666|  23534| 56945597985|14.980127758236039|adf95737-385f-407...|    2021-08-22|             Sem LLP|[cable,  satellit...|Paul Jefferson|057 Patel Common ...|  Male|      Kariong|                        850|               450|                         2080|                36|                     2200|                     3|             2736|                   12|   6485|         414|         1009|           519|           403|           756|           936|           968|           804|           418|           195|        74|  NSW|\n",
       "|    102011033|    2250|     957666|  23534| 56945597985|14.980127758236039|adf95737-385f-407...|    2021-08-22|             Sem LLP|[cable,  satellit...|Paul Jefferson|057 Patel Common ...|  Male|      Kariong|                        850|               450|                         2080|                36|                     2200|                     3|             2736|                   12|   6485|         414|         1009|           519|           403|           756|           936|           968|           804|           418|           195|        74|  NSW|\n",
       "|    102011033|    2250|     957666|  23534| 60978195146|3.2940935801059776|ecfada9b-44ce-42d...|    2021-08-15|Lobortis Tellus C...|[shoe shops,  c, ...|Paul Jefferson|057 Patel Common ...|  Male|      Kariong|                        850|               450|                         2080|                36|                     2200|                     3|             2736|                   12|   6485|         414|         1009|           519|           403|           756|           936|           968|           804|           418|           195|        74|  NSW|\n",
       "|    102011033|    2250|     957666|  23534| 60978195146|3.2940935801059776|ecfada9b-44ce-42d...|    2021-08-15|Lobortis Tellus C...|[shoe shops,  c, ...|Paul Jefferson|057 Patel Common ...|  Male|      Kariong|                        850|               450|                         2080|                36|                     2200|                     3|             2736|                   12|   6485|         414|         1009|           519|           403|           756|           936|           968|           804|           418|           195|        74|  NSW|\n",
       "|    102011033|    2250|     957666|  23534| 68435002949| 433.1880172503183|ef2e7b0d-9d44-440...|    2021-08-27|     Aliquam Eu Inc.|[artist supply an...|Paul Jefferson|057 Patel Common ...|  Male|      Kariong|                        850|               450|                         2080|                36|                     2200|                     3|             2736|                   12|   6485|         414|         1009|           519|           403|           756|           936|           968|           804|           418|           195|        74|  NSW|\n",
       "|    102011033|    2250|     957666|  23534| 68435002949| 433.1880172503183|ef2e7b0d-9d44-440...|    2021-08-27|     Aliquam Eu Inc.|[artist supply an...|Paul Jefferson|057 Patel Common ...|  Male|      Kariong|                        850|               450|                         2080|                36|                     2200|                     3|             2736|                   12|   6485|         414|         1009|           519|           403|           756|           936|           968|           804|           418|           195|        74|  NSW|\n",
       "|    102011033|    2250|     957666|  23534| 50315283629| 720.2911825182575|2d9508ae-f5d5-4fe...|    2021-08-13|Iaculis Aliquet D...|[lawn and garden ...|Paul Jefferson|057 Patel Common ...|  Male|      Kariong|                        850|               450|                         2080|                36|                     2200|                     3|             2736|                   12|   6485|         414|         1009|           519|           403|           756|           936|           968|           804|           418|           195|        74|  NSW|\n",
       "|    102011033|    2250|     957666|  23534| 50315283629| 720.2911825182575|2d9508ae-f5d5-4fe...|    2021-08-13|Iaculis Aliquet D...|[lawn and garden ...|Paul Jefferson|057 Patel Common ...|  Male|      Kariong|                        850|               450|                         2080|                36|                     2200|                     3|             2736|                   12|   6485|         414|         1009|           519|           403|           756|           936|           968|           804|           418|           195|        74|  NSW|\n",
       "|    102011033|    2250|     957666|  23534| 43061683632|14.857140980002967|37ffad90-12a9-4f8...|    2021-07-16|      A Facilisis PC|[watch,  clock,  ...|Paul Jefferson|057 Patel Common ...|  Male|      Kariong|                        850|               450|                         2080|                36|                     2200|                     3|             2736|                   12|   6485|         414|         1009|           519|           403|           756|           936|           968|           804|           418|           195|        74|  NSW|\n",
       "|    102011033|    2250|     957666|  23534| 43061683632|14.857140980002967|37ffad90-12a9-4f8...|    2021-07-16|      A Facilisis PC|[watch,  clock,  ...|Paul Jefferson|057 Patel Common ...|  Male|      Kariong|                        850|               450|                         2080|                36|                     2200|                     3|             2736|                   12|   6485|         414|         1009|           519|           403|           756|           936|           968|           804|           418|           195|        74|  NSW|\n",
       "|    102011033|    2250|     957666|  23534| 86578477987|49.283758843633485|43c69404-b924-474...|    2021-07-16|   Leo In Consulting|[watch,  clock,  ...|Paul Jefferson|057 Patel Common ...|  Male|      Kariong|                        850|               450|                         2080|                36|                     2200|                     3|             2736|                   12|   6485|         414|         1009|           519|           403|           756|           936|           968|           804|           418|           195|        74|  NSW|\n",
       "|    102011033|    2250|     957666|  23534| 86578477987|49.283758843633485|43c69404-b924-474...|    2021-07-16|   Leo In Consulting|[watch,  clock,  ...|Paul Jefferson|057 Patel Common ...|  Male|      Kariong|                        850|               450|                         2080|                36|                     2200|                     3|             2736|                   12|   6485|         414|         1009|           519|           403|           756|           936|           968|           804|           418|           195|        74|  NSW|\n",
       "|    102011033|    2250|     957666|  23534| 41502716433|186.74141139636208|5d623ec2-0cef-44e...|    2021-07-16|       Mi Associates|[motor vehicle su...|Paul Jefferson|057 Patel Common ...|  Male|      Kariong|                        850|               450|                         2080|                36|                     2200|                     3|             2736|                   12|   6485|         414|         1009|           519|           403|           756|           936|           968|           804|           418|           195|        74|  NSW|\n",
       "|    102011033|    2250|     957666|  23534| 41502716433|186.74141139636208|5d623ec2-0cef-44e...|    2021-07-16|       Mi Associates|[motor vehicle su...|Paul Jefferson|057 Patel Common ...|  Male|      Kariong|                        850|               450|                         2080|                36|                     2200|                     3|             2736|                   12|   6485|         414|         1009|           519|           403|           756|           936|           968|           804|           418|           195|        74|  NSW|\n",
       "|    102011033|    2250|     957666|  23534| 59589609053| 133.8283168460673|3bc68c46-7626-4ce...|    2021-07-30|  Adipiscing Non LLP|[antique shops - ...|Paul Jefferson|057 Patel Common ...|  Male|      Kariong|                        850|               450|                         2080|                36|                     2200|                     3|             2736|                   12|   6485|         414|         1009|           519|           403|           756|           936|           968|           804|           418|           195|        74|  NSW|\n",
       "|    102011033|    2250|     957666|  23534| 59589609053| 133.8283168460673|3bc68c46-7626-4ce...|    2021-07-30|  Adipiscing Non LLP|[antique shops - ...|Paul Jefferson|057 Patel Common ...|  Male|      Kariong|                        850|               450|                         2080|                36|                     2200|                     3|             2736|                   12|   6485|         414|         1009|           519|           403|           756|           936|           968|           804|           418|           195|        74|  NSW|\n",
       "+-------------+--------+-----------+-------+------------+------------------+--------------------+--------------+--------------------+--------------------+--------------+--------------------+------+-------------+---------------------------+------------------+-----------------------------+------------------+-------------------------+----------------------+-----------------+---------------------+-------+------------+-------------+--------------+--------------+--------------+--------------+--------------+--------------+--------------+--------------+----------+-----+\n",
       "only showing top 20 rows"
      ]
     },
     "execution_count": 73,
     "metadata": {},
     "output_type": "execute_result"
    }
   ],
   "source": [
    "data.na.drop(subset=[\"SA2_CODE_2021\"])"
   ]
  },
  {
   "cell_type": "code",
   "execution_count": 74,
   "metadata": {},
   "outputs": [],
   "source": [
    "data = data.withColumn(\"Median_tot_prsnl_inc_weekly\", data.Median_tot_prsnl_inc_weekly.cast('float'))\n",
    "data = data.withColumn(\"Median_rent_weekly\", data.Median_rent_weekly.cast('float'))\n",
    "data = data.withColumn(\"Median_mortgage_repay_monthly\",data.Median_mortgage_repay_monthly.cast('float'))\n",
    "data = data.withColumn(\"Median_age_persons\",data.Median_age_persons.cast('float'))\n",
    "data = data.withColumn(\"Median_tot_hhd_inc_weekly\",data.Median_tot_hhd_inc_weekly.cast('float'))\n",
    "data = data.withColumn(\"Average_household_size\",data.Average_household_size.cast('float'))\n",
    "data = data.withColumnRenamed(\"Completed Year 12\", \"Completed_Year_12\")\n",
    "data = data.withColumn(\"Completed_Year_12\",data.Completed_Year_12.cast('float'))\n",
    "data = data.withColumnRenamed(\"Did Not Attend School\", \"Did_Not_Attend_School\")\n",
    "data = data.withColumn(\"Did_Not_Attend_School\",data.Did_Not_Attend_School.cast('float'))\n",
    "data = data.withColumn(\"TOT_P_P\",data.TOT_P_P.cast('float'))\n"
   ]
  },
  {
   "cell_type": "code",
   "execution_count": 75,
   "metadata": {},
   "outputs": [
    {
     "name": "stderr",
     "output_type": "stream",
     "text": [
      "                                                                                \r"
     ]
    },
    {
     "data": {
      "text/html": [
       "<table border='1'>\n",
       "<tr><th>SA2_CODE_2021</th><th>postcode</th><th>consumer_id</th><th>user_id</th><th>merchant_abn</th><th>dollar_value</th><th>order_id</th><th>order_datetime</th><th>name</th><th>tags</th><th>consumer_name</th><th>address</th><th>gender</th><th>SA2_NAME_2021</th><th>Median_tot_prsnl_inc_weekly</th><th>Median_rent_weekly</th><th>Median_mortgage_repay_monthly</th><th>Median_age_persons</th><th>Median_tot_hhd_inc_weekly</th><th>Average_household_size</th><th>Completed_Year_12</th><th>Did_Not_Attend_School</th><th>TOT_P_P</th><th>Age_0_4_yr_P</th><th>Age_5_14_yr_P</th><th>Age_15_19_yr_P</th><th>Age_20_24_yr_P</th><th>Age_25_34_yr_P</th><th>Age_35_44_yr_P</th><th>Age_45_54_yr_P</th><th>Age_55_64_yr_P</th><th>Age_65_74_yr_P</th><th>Age_75_84_yr_P</th><th>Age_85ov_P</th><th>state</th></tr>\n",
       "<tr><td>null</td><td>852</td><td>1140</td><td>6421</td><td>23338656015</td><td>240.79240453805204</td><td>c22bbaa1-8e70-49b...</td><td>2021-08-19</td><td>Iaculis LLC</td><td>[watch,  clock,  ...</td><td>Christopher Powell</td><td>880 Brandon Stree...</td><td>Undisclosed</td><td>Northern Territory</td><td>645.9527090071066</td><td>87.9500782220102</td><td>478.8819373802993</td><td>31.990788744449045</td><td>1277.1489375135925</td><td>3.4840981139623093</td><td>709.3371263408235</td><td>37.410346351627226</td><td>3169.560259009562</td><td>null</td><td>null</td><td>null</td><td>null</td><td>null</td><td>null</td><td>null</td><td>null</td><td>null</td><td>null</td><td>null</td><td>NT</td></tr>\n",
       "<tr><td>null</td><td>7321</td><td>94215</td><td>11809</td><td>49891706470</td><td>48.86426156234827</td><td>5cfef23a-a07c-455...</td><td>2021-05-21</td><td>Non Vestibulum In...</td><td>[tent and awning ...</td><td>Amy Nguyen</td><td>85806 Melton Squares</td><td>Female</td><td>Tasmania</td><td>654.7627923426741</td><td>247.91508634682842</td><td>1182.5427094138233</td><td>46.957218003637045</td><td>1225.7466943272127</td><td>2.277830912050027</td><td>1654.4454957915325</td><td>10.896212247181818</td><td>5081.844906685248</td><td>null</td><td>null</td><td>null</td><td>null</td><td>null</td><td>null</td><td>null</td><td>null</td><td>null</td><td>null</td><td>null</td><td>TAS</td></tr>\n",
       "<tr><td>null</td><td>6872</td><td>799687</td><td>24034</td><td>38090089066</td><td>118.19708950112054</td><td>ece422e2-c9e8-42c...</td><td>2021-04-02</td><td>Interdum Feugiat ...</td><td>[furniture,  home...</td><td>Angela Little</td><td>337 Carter Walk</td><td>Female</td><td>Western Austraia</td><td>836.7966870108314</td><td>235.5527510544241</td><td>1437.028984063036</td><td>42.581815939994776</td><td>1530.0211433587413</td><td>2.4394982812246875</td><td>2478.71725636885</td><td>28.07392873978152</td><td>6548.73302066646</td><td>null</td><td>null</td><td>null</td><td>null</td><td>null</td><td>null</td><td>null</td><td>null</td><td>null</td><td>null</td><td>null</td><td>WA</td></tr>\n",
       "<tr><td>null</td><td>7330</td><td>334995</td><td>4041</td><td>33357097824</td><td>24.599565257317405</td><td>7fd18add-d03c-479...</td><td>2021-07-29</td><td>Sem Ut Incorporated</td><td>[hobby,  toy and ...</td><td>Eric Cooper</td><td>137 Brian Turnpike</td><td>Male</td><td>Tasmania</td><td>654.7627923426741</td><td>247.91508634682842</td><td>1182.5427094138233</td><td>46.957218003637045</td><td>1225.7466943272127</td><td>2.277830912050027</td><td>1654.4454957915325</td><td>10.896212247181818</td><td>5081.844906685248</td><td>null</td><td>null</td><td>null</td><td>null</td><td>null</td><td>null</td><td>null</td><td>null</td><td>null</td><td>null</td><td>null</td><td>TAS</td></tr>\n",
       "<tr><td>null</td><td>852</td><td>1140</td><td>6421</td><td>48534649627</td><td>269.8021779483706</td><td>dcc21448-04c5-42d...</td><td>2021-08-14</td><td>Dignissim Maecena...</td><td>[opticians,  opti...</td><td>Christopher Powell</td><td>880 Brandon Stree...</td><td>Undisclosed</td><td>Northern Territory</td><td>645.9527090071066</td><td>87.9500782220102</td><td>478.8819373802993</td><td>31.990788744449045</td><td>1277.1489375135925</td><td>3.4840981139623093</td><td>709.3371263408235</td><td>37.410346351627226</td><td>3169.560259009562</td><td>null</td><td>null</td><td>null</td><td>null</td><td>null</td><td>null</td><td>null</td><td>null</td><td>null</td><td>null</td><td>null</td><td>NT</td></tr>\n",
       "<tr><td>null</td><td>7321</td><td>94215</td><td>11809</td><td>49891706470</td><td>48.86426156234827</td><td>5cfef23a-a07c-455...</td><td>2021-05-21</td><td>Non Vestibulum In...</td><td>[tent and awning ...</td><td>Amy Nguyen</td><td>85806 Melton Squares</td><td>Female</td><td>Tasmania</td><td>654.7627923426741</td><td>247.91508634682842</td><td>1182.5427094138233</td><td>46.957218003637045</td><td>1225.7466943272127</td><td>2.277830912050027</td><td>1654.4454957915325</td><td>10.896212247181818</td><td>5081.844906685248</td><td>null</td><td>null</td><td>null</td><td>null</td><td>null</td><td>null</td><td>null</td><td>null</td><td>null</td><td>null</td><td>null</td><td>TAS</td></tr>\n",
       "<tr><td>null</td><td>6872</td><td>799687</td><td>24034</td><td>89726005175</td><td>58.42108971934746</td><td>912a54f6-e059-47f...</td><td>2021-03-27</td><td>Est Nunc Consulting</td><td>[tent and awning ...</td><td>Angela Little</td><td>337 Carter Walk</td><td>Female</td><td>Western Austraia</td><td>836.7966870108314</td><td>235.5527510544241</td><td>1437.028984063036</td><td>42.581815939994776</td><td>1530.0211433587413</td><td>2.4394982812246875</td><td>2478.71725636885</td><td>28.07392873978152</td><td>6548.73302066646</td><td>null</td><td>null</td><td>null</td><td>null</td><td>null</td><td>null</td><td>null</td><td>null</td><td>null</td><td>null</td><td>null</td><td>WA</td></tr>\n",
       "<tr><td>null</td><td>7330</td><td>334995</td><td>4041</td><td>33357097824</td><td>24.599565257317405</td><td>7fd18add-d03c-479...</td><td>2021-07-29</td><td>Sem Ut Incorporated</td><td>[hobby,  toy and ...</td><td>Eric Cooper</td><td>137 Brian Turnpike</td><td>Male</td><td>Tasmania</td><td>654.7627923426741</td><td>247.91508634682842</td><td>1182.5427094138233</td><td>46.957218003637045</td><td>1225.7466943272127</td><td>2.277830912050027</td><td>1654.4454957915325</td><td>10.896212247181818</td><td>5081.844906685248</td><td>null</td><td>null</td><td>null</td><td>null</td><td>null</td><td>null</td><td>null</td><td>null</td><td>null</td><td>null</td><td>null</td><td>TAS</td></tr>\n",
       "<tr><td>null</td><td>852</td><td>1140</td><td>6421</td><td>82065156333</td><td>13.141362673704986</td><td>343f78b0-8b73-44f...</td><td>2021-08-15</td><td>Nascetur Ridiculu...</td><td>[tent and awning ...</td><td>Christopher Powell</td><td>880 Brandon Stree...</td><td>Undisclosed</td><td>Northern Territory</td><td>645.9527090071066</td><td>87.9500782220102</td><td>478.8819373802993</td><td>31.990788744449045</td><td>1277.1489375135925</td><td>3.4840981139623093</td><td>709.3371263408235</td><td>37.410346351627226</td><td>3169.560259009562</td><td>null</td><td>null</td><td>null</td><td>null</td><td>null</td><td>null</td><td>null</td><td>null</td><td>null</td><td>null</td><td>null</td><td>NT</td></tr>\n",
       "<tr><td>null</td><td>7321</td><td>94215</td><td>11809</td><td>49891706470</td><td>48.86426156234827</td><td>5cfef23a-a07c-455...</td><td>2021-05-21</td><td>Non Vestibulum In...</td><td>[tent and awning ...</td><td>Amy Nguyen</td><td>85806 Melton Squares</td><td>Female</td><td>Tasmania</td><td>654.7627923426741</td><td>247.91508634682842</td><td>1182.5427094138233</td><td>46.957218003637045</td><td>1225.7466943272127</td><td>2.277830912050027</td><td>1654.4454957915325</td><td>10.896212247181818</td><td>5081.844906685248</td><td>null</td><td>null</td><td>null</td><td>null</td><td>null</td><td>null</td><td>null</td><td>null</td><td>null</td><td>null</td><td>null</td><td>TAS</td></tr>\n",
       "<tr><td>null</td><td>6872</td><td>799687</td><td>24034</td><td>19933438190</td><td>6.428574535888197</td><td>2a6591b3-bd24-4b0...</td><td>2021-03-13</td><td>Dui Nec Corporation</td><td>[tent and awning ...</td><td>Angela Little</td><td>337 Carter Walk</td><td>Female</td><td>Western Austraia</td><td>836.7966870108314</td><td>235.5527510544241</td><td>1437.028984063036</td><td>42.581815939994776</td><td>1530.0211433587413</td><td>2.4394982812246875</td><td>2478.71725636885</td><td>28.07392873978152</td><td>6548.73302066646</td><td>null</td><td>null</td><td>null</td><td>null</td><td>null</td><td>null</td><td>null</td><td>null</td><td>null</td><td>null</td><td>null</td><td>WA</td></tr>\n",
       "<tr><td>null</td><td>7330</td><td>334995</td><td>4041</td><td>33357097824</td><td>24.599565257317405</td><td>7fd18add-d03c-479...</td><td>2021-07-29</td><td>Sem Ut Incorporated</td><td>[hobby,  toy and ...</td><td>Eric Cooper</td><td>137 Brian Turnpike</td><td>Male</td><td>Tasmania</td><td>654.7627923426741</td><td>247.91508634682842</td><td>1182.5427094138233</td><td>46.957218003637045</td><td>1225.7466943272127</td><td>2.277830912050027</td><td>1654.4454957915325</td><td>10.896212247181818</td><td>5081.844906685248</td><td>null</td><td>null</td><td>null</td><td>null</td><td>null</td><td>null</td><td>null</td><td>null</td><td>null</td><td>null</td><td>null</td><td>TAS</td></tr>\n",
       "<tr><td>null</td><td>852</td><td>1140</td><td>6421</td><td>44454840859</td><td>99.71730586272048</td><td>32c0a3a3-4ca3-408...</td><td>2021-07-15</td><td>Erat Eget Ipsum PC</td><td>[cable,  satellit...</td><td>Christopher Powell</td><td>880 Brandon Stree...</td><td>Undisclosed</td><td>Northern Territory</td><td>645.9527090071066</td><td>87.9500782220102</td><td>478.8819373802993</td><td>31.990788744449045</td><td>1277.1489375135925</td><td>3.4840981139623093</td><td>709.3371263408235</td><td>37.410346351627226</td><td>3169.560259009562</td><td>null</td><td>null</td><td>null</td><td>null</td><td>null</td><td>null</td><td>null</td><td>null</td><td>null</td><td>null</td><td>null</td><td>NT</td></tr>\n",
       "<tr><td>null</td><td>7321</td><td>94215</td><td>11809</td><td>49891706470</td><td>48.86426156234827</td><td>5cfef23a-a07c-455...</td><td>2021-05-21</td><td>Non Vestibulum In...</td><td>[tent and awning ...</td><td>Amy Nguyen</td><td>85806 Melton Squares</td><td>Female</td><td>Tasmania</td><td>654.7627923426741</td><td>247.91508634682842</td><td>1182.5427094138233</td><td>46.957218003637045</td><td>1225.7466943272127</td><td>2.277830912050027</td><td>1654.4454957915325</td><td>10.896212247181818</td><td>5081.844906685248</td><td>null</td><td>null</td><td>null</td><td>null</td><td>null</td><td>null</td><td>null</td><td>null</td><td>null</td><td>null</td><td>null</td><td>TAS</td></tr>\n",
       "<tr><td>null</td><td>6872</td><td>799687</td><td>24034</td><td>80518954462</td><td>411.36978530788167</td><td>7ca4acbb-3be4-44a...</td><td>2021-03-13</td><td>Neque Sed Dictum ...</td><td>[computers,  comp...</td><td>Angela Little</td><td>337 Carter Walk</td><td>Female</td><td>Western Austraia</td><td>836.7966870108314</td><td>235.5527510544241</td><td>1437.028984063036</td><td>42.581815939994776</td><td>1530.0211433587413</td><td>2.4394982812246875</td><td>2478.71725636885</td><td>28.07392873978152</td><td>6548.73302066646</td><td>null</td><td>null</td><td>null</td><td>null</td><td>null</td><td>null</td><td>null</td><td>null</td><td>null</td><td>null</td><td>null</td><td>WA</td></tr>\n",
       "<tr><td>null</td><td>7330</td><td>334995</td><td>4041</td><td>33357097824</td><td>24.599565257317405</td><td>7fd18add-d03c-479...</td><td>2021-07-29</td><td>Sem Ut Incorporated</td><td>[hobby,  toy and ...</td><td>Eric Cooper</td><td>137 Brian Turnpike</td><td>Male</td><td>Tasmania</td><td>654.7627923426741</td><td>247.91508634682842</td><td>1182.5427094138233</td><td>46.957218003637045</td><td>1225.7466943272127</td><td>2.277830912050027</td><td>1654.4454957915325</td><td>10.896212247181818</td><td>5081.844906685248</td><td>null</td><td>null</td><td>null</td><td>null</td><td>null</td><td>null</td><td>null</td><td>null</td><td>null</td><td>null</td><td>null</td><td>TAS</td></tr>\n",
       "<tr><td>null</td><td>852</td><td>1140</td><td>6421</td><td>89726005175</td><td>18.955709912233143</td><td>afa95272-d3d8-44a...</td><td>2021-07-15</td><td>Est Nunc Consulting</td><td>[tent and awning ...</td><td>Christopher Powell</td><td>880 Brandon Stree...</td><td>Undisclosed</td><td>Northern Territory</td><td>645.9527090071066</td><td>87.9500782220102</td><td>478.8819373802993</td><td>31.990788744449045</td><td>1277.1489375135925</td><td>3.4840981139623093</td><td>709.3371263408235</td><td>37.410346351627226</td><td>3169.560259009562</td><td>null</td><td>null</td><td>null</td><td>null</td><td>null</td><td>null</td><td>null</td><td>null</td><td>null</td><td>null</td><td>null</td><td>NT</td></tr>\n",
       "<tr><td>null</td><td>7321</td><td>94215</td><td>11809</td><td>49891706470</td><td>48.86426156234827</td><td>5cfef23a-a07c-455...</td><td>2021-05-21</td><td>Non Vestibulum In...</td><td>[tent and awning ...</td><td>Amy Nguyen</td><td>85806 Melton Squares</td><td>Female</td><td>Tasmania</td><td>654.7627923426741</td><td>247.91508634682842</td><td>1182.5427094138233</td><td>46.957218003637045</td><td>1225.7466943272127</td><td>2.277830912050027</td><td>1654.4454957915325</td><td>10.896212247181818</td><td>5081.844906685248</td><td>null</td><td>null</td><td>null</td><td>null</td><td>null</td><td>null</td><td>null</td><td>null</td><td>null</td><td>null</td><td>null</td><td>TAS</td></tr>\n",
       "<tr><td>null</td><td>6872</td><td>799687</td><td>24034</td><td>26844395593</td><td>45.72220487127804</td><td>d6d53022-9486-4f7...</td><td>2021-04-27</td><td>Arcu Ac Inc.</td><td>[music shops - mu...</td><td>Angela Little</td><td>337 Carter Walk</td><td>Female</td><td>Western Austraia</td><td>836.7966870108314</td><td>235.5527510544241</td><td>1437.028984063036</td><td>42.581815939994776</td><td>1530.0211433587413</td><td>2.4394982812246875</td><td>2478.71725636885</td><td>28.07392873978152</td><td>6548.73302066646</td><td>null</td><td>null</td><td>null</td><td>null</td><td>null</td><td>null</td><td>null</td><td>null</td><td>null</td><td>null</td><td>null</td><td>WA</td></tr>\n",
       "<tr><td>null</td><td>7330</td><td>334995</td><td>4041</td><td>33357097824</td><td>24.599565257317405</td><td>7fd18add-d03c-479...</td><td>2021-07-29</td><td>Sem Ut Incorporated</td><td>[hobby,  toy and ...</td><td>Eric Cooper</td><td>137 Brian Turnpike</td><td>Male</td><td>Tasmania</td><td>654.7627923426741</td><td>247.91508634682842</td><td>1182.5427094138233</td><td>46.957218003637045</td><td>1225.7466943272127</td><td>2.277830912050027</td><td>1654.4454957915325</td><td>10.896212247181818</td><td>5081.844906685248</td><td>null</td><td>null</td><td>null</td><td>null</td><td>null</td><td>null</td><td>null</td><td>null</td><td>null</td><td>null</td><td>null</td><td>TAS</td></tr>\n",
       "</table>\n",
       "only showing top 20 rows\n"
      ],
      "text/plain": [
       "+-------------+--------+-----------+-------+------------+------------------+--------------------+--------------+--------------------+--------------------+------------------+--------------------+-----------+------------------+---------------------------+------------------+-----------------------------+------------------+-------------------------+----------------------+------------------+---------------------+-----------------+------------+-------------+--------------+--------------+--------------+--------------+--------------+--------------+--------------+--------------+----------+-----+\n",
       "|SA2_CODE_2021|postcode|consumer_id|user_id|merchant_abn|      dollar_value|            order_id|order_datetime|                name|                tags|     consumer_name|             address|     gender|     SA2_NAME_2021|Median_tot_prsnl_inc_weekly|Median_rent_weekly|Median_mortgage_repay_monthly|Median_age_persons|Median_tot_hhd_inc_weekly|Average_household_size| Completed_Year_12|Did_Not_Attend_School|          TOT_P_P|Age_0_4_yr_P|Age_5_14_yr_P|Age_15_19_yr_P|Age_20_24_yr_P|Age_25_34_yr_P|Age_35_44_yr_P|Age_45_54_yr_P|Age_55_64_yr_P|Age_65_74_yr_P|Age_75_84_yr_P|Age_85ov_P|state|\n",
       "+-------------+--------+-----------+-------+------------+------------------+--------------------+--------------+--------------------+--------------------+------------------+--------------------+-----------+------------------+---------------------------+------------------+-----------------------------+------------------+-------------------------+----------------------+------------------+---------------------+-----------------+------------+-------------+--------------+--------------+--------------+--------------+--------------+--------------+--------------+--------------+----------+-----+\n",
       "|         null|     852|       1140|   6421| 23338656015|240.79240453805204|c22bbaa1-8e70-49b...|    2021-08-19|         Iaculis LLC|[watch,  clock,  ...|Christopher Powell|880 Brandon Stree...|Undisclosed|Northern Territory|          645.9527090071066|  87.9500782220102|            478.8819373802993|31.990788744449045|       1277.1489375135925|    3.4840981139623093| 709.3371263408235|   37.410346351627226|3169.560259009562|        null|         null|          null|          null|          null|          null|          null|          null|          null|          null|      null|   NT|\n",
       "|         null|    7321|      94215|  11809| 49891706470| 48.86426156234827|5cfef23a-a07c-455...|    2021-05-21|Non Vestibulum In...|[tent and awning ...|        Amy Nguyen|85806 Melton Squares|     Female|          Tasmania|          654.7627923426741|247.91508634682842|           1182.5427094138233|46.957218003637045|       1225.7466943272127|     2.277830912050027|1654.4454957915325|   10.896212247181818|5081.844906685248|        null|         null|          null|          null|          null|          null|          null|          null|          null|          null|      null|  TAS|\n",
       "|         null|    6872|     799687|  24034| 38090089066|118.19708950112054|ece422e2-c9e8-42c...|    2021-04-02|Interdum Feugiat ...|[furniture,  home...|     Angela Little|     337 Carter Walk|     Female|  Western Austraia|          836.7966870108314| 235.5527510544241|            1437.028984063036|42.581815939994776|       1530.0211433587413|    2.4394982812246875|  2478.71725636885|    28.07392873978152| 6548.73302066646|        null|         null|          null|          null|          null|          null|          null|          null|          null|          null|      null|   WA|\n",
       "|         null|    7330|     334995|   4041| 33357097824|24.599565257317405|7fd18add-d03c-479...|    2021-07-29| Sem Ut Incorporated|[hobby,  toy and ...|       Eric Cooper|  137 Brian Turnpike|       Male|          Tasmania|          654.7627923426741|247.91508634682842|           1182.5427094138233|46.957218003637045|       1225.7466943272127|     2.277830912050027|1654.4454957915325|   10.896212247181818|5081.844906685248|        null|         null|          null|          null|          null|          null|          null|          null|          null|          null|      null|  TAS|\n",
       "|         null|     852|       1140|   6421| 48534649627| 269.8021779483706|dcc21448-04c5-42d...|    2021-08-14|Dignissim Maecena...|[opticians,  opti...|Christopher Powell|880 Brandon Stree...|Undisclosed|Northern Territory|          645.9527090071066|  87.9500782220102|            478.8819373802993|31.990788744449045|       1277.1489375135925|    3.4840981139623093| 709.3371263408235|   37.410346351627226|3169.560259009562|        null|         null|          null|          null|          null|          null|          null|          null|          null|          null|      null|   NT|\n",
       "|         null|    7321|      94215|  11809| 49891706470| 48.86426156234827|5cfef23a-a07c-455...|    2021-05-21|Non Vestibulum In...|[tent and awning ...|        Amy Nguyen|85806 Melton Squares|     Female|          Tasmania|          654.7627923426741|247.91508634682842|           1182.5427094138233|46.957218003637045|       1225.7466943272127|     2.277830912050027|1654.4454957915325|   10.896212247181818|5081.844906685248|        null|         null|          null|          null|          null|          null|          null|          null|          null|          null|      null|  TAS|\n",
       "|         null|    6872|     799687|  24034| 89726005175| 58.42108971934746|912a54f6-e059-47f...|    2021-03-27| Est Nunc Consulting|[tent and awning ...|     Angela Little|     337 Carter Walk|     Female|  Western Austraia|          836.7966870108314| 235.5527510544241|            1437.028984063036|42.581815939994776|       1530.0211433587413|    2.4394982812246875|  2478.71725636885|    28.07392873978152| 6548.73302066646|        null|         null|          null|          null|          null|          null|          null|          null|          null|          null|      null|   WA|\n",
       "|         null|    7330|     334995|   4041| 33357097824|24.599565257317405|7fd18add-d03c-479...|    2021-07-29| Sem Ut Incorporated|[hobby,  toy and ...|       Eric Cooper|  137 Brian Turnpike|       Male|          Tasmania|          654.7627923426741|247.91508634682842|           1182.5427094138233|46.957218003637045|       1225.7466943272127|     2.277830912050027|1654.4454957915325|   10.896212247181818|5081.844906685248|        null|         null|          null|          null|          null|          null|          null|          null|          null|          null|      null|  TAS|\n",
       "|         null|     852|       1140|   6421| 82065156333|13.141362673704986|343f78b0-8b73-44f...|    2021-08-15|Nascetur Ridiculu...|[tent and awning ...|Christopher Powell|880 Brandon Stree...|Undisclosed|Northern Territory|          645.9527090071066|  87.9500782220102|            478.8819373802993|31.990788744449045|       1277.1489375135925|    3.4840981139623093| 709.3371263408235|   37.410346351627226|3169.560259009562|        null|         null|          null|          null|          null|          null|          null|          null|          null|          null|      null|   NT|\n",
       "|         null|    7321|      94215|  11809| 49891706470| 48.86426156234827|5cfef23a-a07c-455...|    2021-05-21|Non Vestibulum In...|[tent and awning ...|        Amy Nguyen|85806 Melton Squares|     Female|          Tasmania|          654.7627923426741|247.91508634682842|           1182.5427094138233|46.957218003637045|       1225.7466943272127|     2.277830912050027|1654.4454957915325|   10.896212247181818|5081.844906685248|        null|         null|          null|          null|          null|          null|          null|          null|          null|          null|      null|  TAS|\n",
       "|         null|    6872|     799687|  24034| 19933438190| 6.428574535888197|2a6591b3-bd24-4b0...|    2021-03-13| Dui Nec Corporation|[tent and awning ...|     Angela Little|     337 Carter Walk|     Female|  Western Austraia|          836.7966870108314| 235.5527510544241|            1437.028984063036|42.581815939994776|       1530.0211433587413|    2.4394982812246875|  2478.71725636885|    28.07392873978152| 6548.73302066646|        null|         null|          null|          null|          null|          null|          null|          null|          null|          null|      null|   WA|\n",
       "|         null|    7330|     334995|   4041| 33357097824|24.599565257317405|7fd18add-d03c-479...|    2021-07-29| Sem Ut Incorporated|[hobby,  toy and ...|       Eric Cooper|  137 Brian Turnpike|       Male|          Tasmania|          654.7627923426741|247.91508634682842|           1182.5427094138233|46.957218003637045|       1225.7466943272127|     2.277830912050027|1654.4454957915325|   10.896212247181818|5081.844906685248|        null|         null|          null|          null|          null|          null|          null|          null|          null|          null|      null|  TAS|\n",
       "|         null|     852|       1140|   6421| 44454840859| 99.71730586272048|32c0a3a3-4ca3-408...|    2021-07-15|  Erat Eget Ipsum PC|[cable,  satellit...|Christopher Powell|880 Brandon Stree...|Undisclosed|Northern Territory|          645.9527090071066|  87.9500782220102|            478.8819373802993|31.990788744449045|       1277.1489375135925|    3.4840981139623093| 709.3371263408235|   37.410346351627226|3169.560259009562|        null|         null|          null|          null|          null|          null|          null|          null|          null|          null|      null|   NT|\n",
       "|         null|    7321|      94215|  11809| 49891706470| 48.86426156234827|5cfef23a-a07c-455...|    2021-05-21|Non Vestibulum In...|[tent and awning ...|        Amy Nguyen|85806 Melton Squares|     Female|          Tasmania|          654.7627923426741|247.91508634682842|           1182.5427094138233|46.957218003637045|       1225.7466943272127|     2.277830912050027|1654.4454957915325|   10.896212247181818|5081.844906685248|        null|         null|          null|          null|          null|          null|          null|          null|          null|          null|      null|  TAS|\n",
       "|         null|    6872|     799687|  24034| 80518954462|411.36978530788167|7ca4acbb-3be4-44a...|    2021-03-13|Neque Sed Dictum ...|[computers,  comp...|     Angela Little|     337 Carter Walk|     Female|  Western Austraia|          836.7966870108314| 235.5527510544241|            1437.028984063036|42.581815939994776|       1530.0211433587413|    2.4394982812246875|  2478.71725636885|    28.07392873978152| 6548.73302066646|        null|         null|          null|          null|          null|          null|          null|          null|          null|          null|      null|   WA|\n",
       "|         null|    7330|     334995|   4041| 33357097824|24.599565257317405|7fd18add-d03c-479...|    2021-07-29| Sem Ut Incorporated|[hobby,  toy and ...|       Eric Cooper|  137 Brian Turnpike|       Male|          Tasmania|          654.7627923426741|247.91508634682842|           1182.5427094138233|46.957218003637045|       1225.7466943272127|     2.277830912050027|1654.4454957915325|   10.896212247181818|5081.844906685248|        null|         null|          null|          null|          null|          null|          null|          null|          null|          null|      null|  TAS|\n",
       "|         null|     852|       1140|   6421| 89726005175|18.955709912233143|afa95272-d3d8-44a...|    2021-07-15| Est Nunc Consulting|[tent and awning ...|Christopher Powell|880 Brandon Stree...|Undisclosed|Northern Territory|          645.9527090071066|  87.9500782220102|            478.8819373802993|31.990788744449045|       1277.1489375135925|    3.4840981139623093| 709.3371263408235|   37.410346351627226|3169.560259009562|        null|         null|          null|          null|          null|          null|          null|          null|          null|          null|      null|   NT|\n",
       "|         null|    7321|      94215|  11809| 49891706470| 48.86426156234827|5cfef23a-a07c-455...|    2021-05-21|Non Vestibulum In...|[tent and awning ...|        Amy Nguyen|85806 Melton Squares|     Female|          Tasmania|          654.7627923426741|247.91508634682842|           1182.5427094138233|46.957218003637045|       1225.7466943272127|     2.277830912050027|1654.4454957915325|   10.896212247181818|5081.844906685248|        null|         null|          null|          null|          null|          null|          null|          null|          null|          null|      null|  TAS|\n",
       "|         null|    6872|     799687|  24034| 26844395593| 45.72220487127804|d6d53022-9486-4f7...|    2021-04-27|        Arcu Ac Inc.|[music shops - mu...|     Angela Little|     337 Carter Walk|     Female|  Western Austraia|          836.7966870108314| 235.5527510544241|            1437.028984063036|42.581815939994776|       1530.0211433587413|    2.4394982812246875|  2478.71725636885|    28.07392873978152| 6548.73302066646|        null|         null|          null|          null|          null|          null|          null|          null|          null|          null|      null|   WA|\n",
       "|         null|    7330|     334995|   4041| 33357097824|24.599565257317405|7fd18add-d03c-479...|    2021-07-29| Sem Ut Incorporated|[hobby,  toy and ...|       Eric Cooper|  137 Brian Turnpike|       Male|          Tasmania|          654.7627923426741|247.91508634682842|           1182.5427094138233|46.957218003637045|       1225.7466943272127|     2.277830912050027|1654.4454957915325|   10.896212247181818|5081.844906685248|        null|         null|          null|          null|          null|          null|          null|          null|          null|          null|      null|  TAS|\n",
       "+-------------+--------+-----------+-------+------------+------------------+--------------------+--------------+--------------------+--------------------+------------------+--------------------+-----------+------------------+---------------------------+------------------+-----------------------------+------------------+-------------------------+----------------------+------------------+---------------------+-----------------+------------+-------------+--------------+--------------+--------------+--------------+--------------+--------------+--------------+--------------+----------+-----+\n",
       "only showing top 20 rows"
      ]
     },
     "execution_count": 75,
     "metadata": {},
     "output_type": "execute_result"
    }
   ],
   "source": [
    "columns = [\"Median_tot_prsnl_inc_weekly\", \"Median_rent_weekly\", \"Median_mortgage_repay_monthly\", \"Median_age_persons\", \"Median_tot_hhd_inc_weekly\",\\\n",
    "           \"Average_household_size\", \"Completed_Year_12\", \"Did_Not_Attend_School\", \"TOT_P_P\"]\n",
    "\n",
    "for column in columns:\n",
    "    data = data.withColumn(\n",
    "        column,\n",
    "        F.when( (col('SA2_NAME_2021') == 'Northern Territory'), data.groupBy('state').mean(column).collect()[0][1])\\\n",
    "        .when( (col('SA2_NAME_2021') == 'Australian Capital Territory'), data.groupBy('state').mean(column).collect()[1][1])\\\n",
    "        .when( (col('SA2_NAME_2021') == 'South Australia'), data.groupBy('state').mean(column).collect()[2][1])\\\n",
    "        .when( (col('SA2_NAME_2021') == 'Tasmania'), data.groupBy('state').mean(column).collect()[3][1])\\\n",
    "        .when( (col('SA2_NAME_2021') == 'Western Austraia'), data.groupBy('state').mean(column).collect()[4][1])\\\n",
    "        .when( (col('SA2_NAME_2021') == 'Queensland'), data.groupBy('state').mean(column).collect()[5][1])\\\n",
    "        .when( (col('SA2_NAME_2021') == 'Victoria'), data.groupBy('state').mean(column).collect()[6][1])\\\n",
    "        .when( (col('SA2_NAME_2021') == 'New South Wales'), data.groupBy('state').mean(column).collect()[7][1])\\\n",
    "        .otherwise(col(column))\n",
    "    )\n",
    "data"
   ]
  },
  {
   "cell_type": "code",
   "execution_count": 76,
   "metadata": {},
   "outputs": [
    {
     "name": "stderr",
     "output_type": "stream",
     "text": [
      "                                                                                \r"
     ]
    },
    {
     "data": {
      "text/html": [
       "<table border='1'>\n",
       "<tr><th>SA2_CODE_2021</th><th>postcode</th><th>consumer_id</th><th>user_id</th><th>merchant_abn</th><th>dollar_value</th><th>order_id</th><th>order_datetime</th><th>name</th><th>tags</th><th>consumer_name</th><th>address</th><th>gender</th><th>SA2_NAME_2021</th><th>Median_tot_prsnl_inc_weekly</th><th>Median_rent_weekly</th><th>Median_mortgage_repay_monthly</th><th>Median_age_persons</th><th>Median_tot_hhd_inc_weekly</th><th>Average_household_size</th><th>Completed_Year_12</th><th>Did_Not_Attend_School</th><th>TOT_P_P</th><th>Age_0_4_yr_P</th><th>Age_5_14_yr_P</th><th>Age_15_19_yr_P</th><th>Age_20_24_yr_P</th><th>Age_25_34_yr_P</th><th>Age_35_44_yr_P</th><th>Age_45_54_yr_P</th><th>Age_55_64_yr_P</th><th>Age_65_74_yr_P</th><th>Age_75_84_yr_P</th><th>Age_85ov_P</th><th>state</th></tr>\n",
       "<tr><td>102011033</td><td>2250</td><td>957666</td><td>23534</td><td>29641342749</td><td>228.13576584758118</td><td>8283052a-431c-4f9...</td><td>2021-08-20</td><td>Et Associates</td><td>[computer program...</td><td>Paul Jefferson</td><td>057 Patel Common ...</td><td>Male</td><td>Kariong</td><td>850.0</td><td>450.0</td><td>2080.0</td><td>36.0</td><td>2200.0</td><td>3.0</td><td>2736.0</td><td>12.0</td><td>6485.0</td><td>414</td><td>1009</td><td>519</td><td>403</td><td>756</td><td>936</td><td>968</td><td>804</td><td>418</td><td>195</td><td>74</td><td>NSW</td></tr>\n",
       "<tr><td>102011033</td><td>2250</td><td>957666</td><td>23534</td><td>29641342749</td><td>228.13576584758118</td><td>8283052a-431c-4f9...</td><td>2021-08-20</td><td>Et Associates</td><td>[computer program...</td><td>Paul Jefferson</td><td>057 Patel Common ...</td><td>Male</td><td>Kariong</td><td>850.0</td><td>450.0</td><td>2080.0</td><td>36.0</td><td>2200.0</td><td>3.0</td><td>2736.0</td><td>12.0</td><td>6485.0</td><td>414</td><td>1009</td><td>519</td><td>403</td><td>756</td><td>936</td><td>968</td><td>804</td><td>418</td><td>195</td><td>74</td><td>NSW</td></tr>\n",
       "<tr><td>102011033</td><td>2250</td><td>957666</td><td>23534</td><td>66034737896</td><td>43.57631530803281</td><td>ccd8b43e-88fa-4a9...</td><td>2021-08-19</td><td>Luctus Ut LLC</td><td>[watch,  clock,  ...</td><td>Paul Jefferson</td><td>057 Patel Common ...</td><td>Male</td><td>Kariong</td><td>850.0</td><td>450.0</td><td>2080.0</td><td>36.0</td><td>2200.0</td><td>3.0</td><td>2736.0</td><td>12.0</td><td>6485.0</td><td>414</td><td>1009</td><td>519</td><td>403</td><td>756</td><td>936</td><td>968</td><td>804</td><td>418</td><td>195</td><td>74</td><td>NSW</td></tr>\n",
       "<tr><td>102011033</td><td>2250</td><td>957666</td><td>23534</td><td>66034737896</td><td>43.57631530803281</td><td>ccd8b43e-88fa-4a9...</td><td>2021-08-19</td><td>Luctus Ut LLC</td><td>[watch,  clock,  ...</td><td>Paul Jefferson</td><td>057 Patel Common ...</td><td>Male</td><td>Kariong</td><td>850.0</td><td>450.0</td><td>2080.0</td><td>36.0</td><td>2200.0</td><td>3.0</td><td>2736.0</td><td>12.0</td><td>6485.0</td><td>414</td><td>1009</td><td>519</td><td>403</td><td>756</td><td>936</td><td>968</td><td>804</td><td>418</td><td>195</td><td>74</td><td>NSW</td></tr>\n",
       "<tr><td>102011033</td><td>2250</td><td>957666</td><td>23534</td><td>56945597985</td><td>14.980127758236039</td><td>adf95737-385f-407...</td><td>2021-08-22</td><td>Sem LLP</td><td>[cable,  satellit...</td><td>Paul Jefferson</td><td>057 Patel Common ...</td><td>Male</td><td>Kariong</td><td>850.0</td><td>450.0</td><td>2080.0</td><td>36.0</td><td>2200.0</td><td>3.0</td><td>2736.0</td><td>12.0</td><td>6485.0</td><td>414</td><td>1009</td><td>519</td><td>403</td><td>756</td><td>936</td><td>968</td><td>804</td><td>418</td><td>195</td><td>74</td><td>NSW</td></tr>\n",
       "<tr><td>102011033</td><td>2250</td><td>957666</td><td>23534</td><td>56945597985</td><td>14.980127758236039</td><td>adf95737-385f-407...</td><td>2021-08-22</td><td>Sem LLP</td><td>[cable,  satellit...</td><td>Paul Jefferson</td><td>057 Patel Common ...</td><td>Male</td><td>Kariong</td><td>850.0</td><td>450.0</td><td>2080.0</td><td>36.0</td><td>2200.0</td><td>3.0</td><td>2736.0</td><td>12.0</td><td>6485.0</td><td>414</td><td>1009</td><td>519</td><td>403</td><td>756</td><td>936</td><td>968</td><td>804</td><td>418</td><td>195</td><td>74</td><td>NSW</td></tr>\n",
       "<tr><td>102011033</td><td>2250</td><td>957666</td><td>23534</td><td>60978195146</td><td>3.2940935801059776</td><td>ecfada9b-44ce-42d...</td><td>2021-08-15</td><td>Lobortis Tellus C...</td><td>[shoe shops,  c, ...</td><td>Paul Jefferson</td><td>057 Patel Common ...</td><td>Male</td><td>Kariong</td><td>850.0</td><td>450.0</td><td>2080.0</td><td>36.0</td><td>2200.0</td><td>3.0</td><td>2736.0</td><td>12.0</td><td>6485.0</td><td>414</td><td>1009</td><td>519</td><td>403</td><td>756</td><td>936</td><td>968</td><td>804</td><td>418</td><td>195</td><td>74</td><td>NSW</td></tr>\n",
       "<tr><td>102011033</td><td>2250</td><td>957666</td><td>23534</td><td>60978195146</td><td>3.2940935801059776</td><td>ecfada9b-44ce-42d...</td><td>2021-08-15</td><td>Lobortis Tellus C...</td><td>[shoe shops,  c, ...</td><td>Paul Jefferson</td><td>057 Patel Common ...</td><td>Male</td><td>Kariong</td><td>850.0</td><td>450.0</td><td>2080.0</td><td>36.0</td><td>2200.0</td><td>3.0</td><td>2736.0</td><td>12.0</td><td>6485.0</td><td>414</td><td>1009</td><td>519</td><td>403</td><td>756</td><td>936</td><td>968</td><td>804</td><td>418</td><td>195</td><td>74</td><td>NSW</td></tr>\n",
       "<tr><td>102011033</td><td>2250</td><td>957666</td><td>23534</td><td>68435002949</td><td>433.1880172503183</td><td>ef2e7b0d-9d44-440...</td><td>2021-08-27</td><td>Aliquam Eu Inc.</td><td>[artist supply an...</td><td>Paul Jefferson</td><td>057 Patel Common ...</td><td>Male</td><td>Kariong</td><td>850.0</td><td>450.0</td><td>2080.0</td><td>36.0</td><td>2200.0</td><td>3.0</td><td>2736.0</td><td>12.0</td><td>6485.0</td><td>414</td><td>1009</td><td>519</td><td>403</td><td>756</td><td>936</td><td>968</td><td>804</td><td>418</td><td>195</td><td>74</td><td>NSW</td></tr>\n",
       "<tr><td>102011033</td><td>2250</td><td>957666</td><td>23534</td><td>68435002949</td><td>433.1880172503183</td><td>ef2e7b0d-9d44-440...</td><td>2021-08-27</td><td>Aliquam Eu Inc.</td><td>[artist supply an...</td><td>Paul Jefferson</td><td>057 Patel Common ...</td><td>Male</td><td>Kariong</td><td>850.0</td><td>450.0</td><td>2080.0</td><td>36.0</td><td>2200.0</td><td>3.0</td><td>2736.0</td><td>12.0</td><td>6485.0</td><td>414</td><td>1009</td><td>519</td><td>403</td><td>756</td><td>936</td><td>968</td><td>804</td><td>418</td><td>195</td><td>74</td><td>NSW</td></tr>\n",
       "<tr><td>102011033</td><td>2250</td><td>957666</td><td>23534</td><td>50315283629</td><td>720.2911825182575</td><td>2d9508ae-f5d5-4fe...</td><td>2021-08-13</td><td>Iaculis Aliquet D...</td><td>[lawn and garden ...</td><td>Paul Jefferson</td><td>057 Patel Common ...</td><td>Male</td><td>Kariong</td><td>850.0</td><td>450.0</td><td>2080.0</td><td>36.0</td><td>2200.0</td><td>3.0</td><td>2736.0</td><td>12.0</td><td>6485.0</td><td>414</td><td>1009</td><td>519</td><td>403</td><td>756</td><td>936</td><td>968</td><td>804</td><td>418</td><td>195</td><td>74</td><td>NSW</td></tr>\n",
       "<tr><td>102011033</td><td>2250</td><td>957666</td><td>23534</td><td>50315283629</td><td>720.2911825182575</td><td>2d9508ae-f5d5-4fe...</td><td>2021-08-13</td><td>Iaculis Aliquet D...</td><td>[lawn and garden ...</td><td>Paul Jefferson</td><td>057 Patel Common ...</td><td>Male</td><td>Kariong</td><td>850.0</td><td>450.0</td><td>2080.0</td><td>36.0</td><td>2200.0</td><td>3.0</td><td>2736.0</td><td>12.0</td><td>6485.0</td><td>414</td><td>1009</td><td>519</td><td>403</td><td>756</td><td>936</td><td>968</td><td>804</td><td>418</td><td>195</td><td>74</td><td>NSW</td></tr>\n",
       "<tr><td>102011033</td><td>2250</td><td>957666</td><td>23534</td><td>43061683632</td><td>14.857140980002967</td><td>37ffad90-12a9-4f8...</td><td>2021-07-16</td><td>A Facilisis PC</td><td>[watch,  clock,  ...</td><td>Paul Jefferson</td><td>057 Patel Common ...</td><td>Male</td><td>Kariong</td><td>850.0</td><td>450.0</td><td>2080.0</td><td>36.0</td><td>2200.0</td><td>3.0</td><td>2736.0</td><td>12.0</td><td>6485.0</td><td>414</td><td>1009</td><td>519</td><td>403</td><td>756</td><td>936</td><td>968</td><td>804</td><td>418</td><td>195</td><td>74</td><td>NSW</td></tr>\n",
       "<tr><td>102011033</td><td>2250</td><td>957666</td><td>23534</td><td>43061683632</td><td>14.857140980002967</td><td>37ffad90-12a9-4f8...</td><td>2021-07-16</td><td>A Facilisis PC</td><td>[watch,  clock,  ...</td><td>Paul Jefferson</td><td>057 Patel Common ...</td><td>Male</td><td>Kariong</td><td>850.0</td><td>450.0</td><td>2080.0</td><td>36.0</td><td>2200.0</td><td>3.0</td><td>2736.0</td><td>12.0</td><td>6485.0</td><td>414</td><td>1009</td><td>519</td><td>403</td><td>756</td><td>936</td><td>968</td><td>804</td><td>418</td><td>195</td><td>74</td><td>NSW</td></tr>\n",
       "<tr><td>102011033</td><td>2250</td><td>957666</td><td>23534</td><td>86578477987</td><td>49.283758843633485</td><td>43c69404-b924-474...</td><td>2021-07-16</td><td>Leo In Consulting</td><td>[watch,  clock,  ...</td><td>Paul Jefferson</td><td>057 Patel Common ...</td><td>Male</td><td>Kariong</td><td>850.0</td><td>450.0</td><td>2080.0</td><td>36.0</td><td>2200.0</td><td>3.0</td><td>2736.0</td><td>12.0</td><td>6485.0</td><td>414</td><td>1009</td><td>519</td><td>403</td><td>756</td><td>936</td><td>968</td><td>804</td><td>418</td><td>195</td><td>74</td><td>NSW</td></tr>\n",
       "<tr><td>102011033</td><td>2250</td><td>957666</td><td>23534</td><td>86578477987</td><td>49.283758843633485</td><td>43c69404-b924-474...</td><td>2021-07-16</td><td>Leo In Consulting</td><td>[watch,  clock,  ...</td><td>Paul Jefferson</td><td>057 Patel Common ...</td><td>Male</td><td>Kariong</td><td>850.0</td><td>450.0</td><td>2080.0</td><td>36.0</td><td>2200.0</td><td>3.0</td><td>2736.0</td><td>12.0</td><td>6485.0</td><td>414</td><td>1009</td><td>519</td><td>403</td><td>756</td><td>936</td><td>968</td><td>804</td><td>418</td><td>195</td><td>74</td><td>NSW</td></tr>\n",
       "<tr><td>102011033</td><td>2250</td><td>957666</td><td>23534</td><td>41502716433</td><td>186.74141139636208</td><td>5d623ec2-0cef-44e...</td><td>2021-07-16</td><td>Mi Associates</td><td>[motor vehicle su...</td><td>Paul Jefferson</td><td>057 Patel Common ...</td><td>Male</td><td>Kariong</td><td>850.0</td><td>450.0</td><td>2080.0</td><td>36.0</td><td>2200.0</td><td>3.0</td><td>2736.0</td><td>12.0</td><td>6485.0</td><td>414</td><td>1009</td><td>519</td><td>403</td><td>756</td><td>936</td><td>968</td><td>804</td><td>418</td><td>195</td><td>74</td><td>NSW</td></tr>\n",
       "<tr><td>102011033</td><td>2250</td><td>957666</td><td>23534</td><td>41502716433</td><td>186.74141139636208</td><td>5d623ec2-0cef-44e...</td><td>2021-07-16</td><td>Mi Associates</td><td>[motor vehicle su...</td><td>Paul Jefferson</td><td>057 Patel Common ...</td><td>Male</td><td>Kariong</td><td>850.0</td><td>450.0</td><td>2080.0</td><td>36.0</td><td>2200.0</td><td>3.0</td><td>2736.0</td><td>12.0</td><td>6485.0</td><td>414</td><td>1009</td><td>519</td><td>403</td><td>756</td><td>936</td><td>968</td><td>804</td><td>418</td><td>195</td><td>74</td><td>NSW</td></tr>\n",
       "<tr><td>102011033</td><td>2250</td><td>957666</td><td>23534</td><td>59589609053</td><td>133.8283168460673</td><td>3bc68c46-7626-4ce...</td><td>2021-07-30</td><td>Adipiscing Non LLP</td><td>[antique shops - ...</td><td>Paul Jefferson</td><td>057 Patel Common ...</td><td>Male</td><td>Kariong</td><td>850.0</td><td>450.0</td><td>2080.0</td><td>36.0</td><td>2200.0</td><td>3.0</td><td>2736.0</td><td>12.0</td><td>6485.0</td><td>414</td><td>1009</td><td>519</td><td>403</td><td>756</td><td>936</td><td>968</td><td>804</td><td>418</td><td>195</td><td>74</td><td>NSW</td></tr>\n",
       "<tr><td>102011033</td><td>2250</td><td>957666</td><td>23534</td><td>59589609053</td><td>133.8283168460673</td><td>3bc68c46-7626-4ce...</td><td>2021-07-30</td><td>Adipiscing Non LLP</td><td>[antique shops - ...</td><td>Paul Jefferson</td><td>057 Patel Common ...</td><td>Male</td><td>Kariong</td><td>850.0</td><td>450.0</td><td>2080.0</td><td>36.0</td><td>2200.0</td><td>3.0</td><td>2736.0</td><td>12.0</td><td>6485.0</td><td>414</td><td>1009</td><td>519</td><td>403</td><td>756</td><td>936</td><td>968</td><td>804</td><td>418</td><td>195</td><td>74</td><td>NSW</td></tr>\n",
       "</table>\n",
       "only showing top 20 rows\n"
      ],
      "text/plain": [
       "+-------------+--------+-----------+-------+------------+------------------+--------------------+--------------+--------------------+--------------------+--------------+--------------------+------+-------------+---------------------------+------------------+-----------------------------+------------------+-------------------------+----------------------+-----------------+---------------------+-------+------------+-------------+--------------+--------------+--------------+--------------+--------------+--------------+--------------+--------------+----------+-----+\n",
       "|SA2_CODE_2021|postcode|consumer_id|user_id|merchant_abn|      dollar_value|            order_id|order_datetime|                name|                tags| consumer_name|             address|gender|SA2_NAME_2021|Median_tot_prsnl_inc_weekly|Median_rent_weekly|Median_mortgage_repay_monthly|Median_age_persons|Median_tot_hhd_inc_weekly|Average_household_size|Completed_Year_12|Did_Not_Attend_School|TOT_P_P|Age_0_4_yr_P|Age_5_14_yr_P|Age_15_19_yr_P|Age_20_24_yr_P|Age_25_34_yr_P|Age_35_44_yr_P|Age_45_54_yr_P|Age_55_64_yr_P|Age_65_74_yr_P|Age_75_84_yr_P|Age_85ov_P|state|\n",
       "+-------------+--------+-----------+-------+------------+------------------+--------------------+--------------+--------------------+--------------------+--------------+--------------------+------+-------------+---------------------------+------------------+-----------------------------+------------------+-------------------------+----------------------+-----------------+---------------------+-------+------------+-------------+--------------+--------------+--------------+--------------+--------------+--------------+--------------+--------------+----------+-----+\n",
       "|    102011033|    2250|     957666|  23534| 29641342749|228.13576584758118|8283052a-431c-4f9...|    2021-08-20|       Et Associates|[computer program...|Paul Jefferson|057 Patel Common ...|  Male|      Kariong|                      850.0|             450.0|                       2080.0|              36.0|                   2200.0|                   3.0|           2736.0|                 12.0| 6485.0|         414|         1009|           519|           403|           756|           936|           968|           804|           418|           195|        74|  NSW|\n",
       "|    102011033|    2250|     957666|  23534| 29641342749|228.13576584758118|8283052a-431c-4f9...|    2021-08-20|       Et Associates|[computer program...|Paul Jefferson|057 Patel Common ...|  Male|      Kariong|                      850.0|             450.0|                       2080.0|              36.0|                   2200.0|                   3.0|           2736.0|                 12.0| 6485.0|         414|         1009|           519|           403|           756|           936|           968|           804|           418|           195|        74|  NSW|\n",
       "|    102011033|    2250|     957666|  23534| 66034737896| 43.57631530803281|ccd8b43e-88fa-4a9...|    2021-08-19|       Luctus Ut LLC|[watch,  clock,  ...|Paul Jefferson|057 Patel Common ...|  Male|      Kariong|                      850.0|             450.0|                       2080.0|              36.0|                   2200.0|                   3.0|           2736.0|                 12.0| 6485.0|         414|         1009|           519|           403|           756|           936|           968|           804|           418|           195|        74|  NSW|\n",
       "|    102011033|    2250|     957666|  23534| 66034737896| 43.57631530803281|ccd8b43e-88fa-4a9...|    2021-08-19|       Luctus Ut LLC|[watch,  clock,  ...|Paul Jefferson|057 Patel Common ...|  Male|      Kariong|                      850.0|             450.0|                       2080.0|              36.0|                   2200.0|                   3.0|           2736.0|                 12.0| 6485.0|         414|         1009|           519|           403|           756|           936|           968|           804|           418|           195|        74|  NSW|\n",
       "|    102011033|    2250|     957666|  23534| 56945597985|14.980127758236039|adf95737-385f-407...|    2021-08-22|             Sem LLP|[cable,  satellit...|Paul Jefferson|057 Patel Common ...|  Male|      Kariong|                      850.0|             450.0|                       2080.0|              36.0|                   2200.0|                   3.0|           2736.0|                 12.0| 6485.0|         414|         1009|           519|           403|           756|           936|           968|           804|           418|           195|        74|  NSW|\n",
       "|    102011033|    2250|     957666|  23534| 56945597985|14.980127758236039|adf95737-385f-407...|    2021-08-22|             Sem LLP|[cable,  satellit...|Paul Jefferson|057 Patel Common ...|  Male|      Kariong|                      850.0|             450.0|                       2080.0|              36.0|                   2200.0|                   3.0|           2736.0|                 12.0| 6485.0|         414|         1009|           519|           403|           756|           936|           968|           804|           418|           195|        74|  NSW|\n",
       "|    102011033|    2250|     957666|  23534| 60978195146|3.2940935801059776|ecfada9b-44ce-42d...|    2021-08-15|Lobortis Tellus C...|[shoe shops,  c, ...|Paul Jefferson|057 Patel Common ...|  Male|      Kariong|                      850.0|             450.0|                       2080.0|              36.0|                   2200.0|                   3.0|           2736.0|                 12.0| 6485.0|         414|         1009|           519|           403|           756|           936|           968|           804|           418|           195|        74|  NSW|\n",
       "|    102011033|    2250|     957666|  23534| 60978195146|3.2940935801059776|ecfada9b-44ce-42d...|    2021-08-15|Lobortis Tellus C...|[shoe shops,  c, ...|Paul Jefferson|057 Patel Common ...|  Male|      Kariong|                      850.0|             450.0|                       2080.0|              36.0|                   2200.0|                   3.0|           2736.0|                 12.0| 6485.0|         414|         1009|           519|           403|           756|           936|           968|           804|           418|           195|        74|  NSW|\n",
       "|    102011033|    2250|     957666|  23534| 68435002949| 433.1880172503183|ef2e7b0d-9d44-440...|    2021-08-27|     Aliquam Eu Inc.|[artist supply an...|Paul Jefferson|057 Patel Common ...|  Male|      Kariong|                      850.0|             450.0|                       2080.0|              36.0|                   2200.0|                   3.0|           2736.0|                 12.0| 6485.0|         414|         1009|           519|           403|           756|           936|           968|           804|           418|           195|        74|  NSW|\n",
       "|    102011033|    2250|     957666|  23534| 68435002949| 433.1880172503183|ef2e7b0d-9d44-440...|    2021-08-27|     Aliquam Eu Inc.|[artist supply an...|Paul Jefferson|057 Patel Common ...|  Male|      Kariong|                      850.0|             450.0|                       2080.0|              36.0|                   2200.0|                   3.0|           2736.0|                 12.0| 6485.0|         414|         1009|           519|           403|           756|           936|           968|           804|           418|           195|        74|  NSW|\n",
       "|    102011033|    2250|     957666|  23534| 50315283629| 720.2911825182575|2d9508ae-f5d5-4fe...|    2021-08-13|Iaculis Aliquet D...|[lawn and garden ...|Paul Jefferson|057 Patel Common ...|  Male|      Kariong|                      850.0|             450.0|                       2080.0|              36.0|                   2200.0|                   3.0|           2736.0|                 12.0| 6485.0|         414|         1009|           519|           403|           756|           936|           968|           804|           418|           195|        74|  NSW|\n",
       "|    102011033|    2250|     957666|  23534| 50315283629| 720.2911825182575|2d9508ae-f5d5-4fe...|    2021-08-13|Iaculis Aliquet D...|[lawn and garden ...|Paul Jefferson|057 Patel Common ...|  Male|      Kariong|                      850.0|             450.0|                       2080.0|              36.0|                   2200.0|                   3.0|           2736.0|                 12.0| 6485.0|         414|         1009|           519|           403|           756|           936|           968|           804|           418|           195|        74|  NSW|\n",
       "|    102011033|    2250|     957666|  23534| 43061683632|14.857140980002967|37ffad90-12a9-4f8...|    2021-07-16|      A Facilisis PC|[watch,  clock,  ...|Paul Jefferson|057 Patel Common ...|  Male|      Kariong|                      850.0|             450.0|                       2080.0|              36.0|                   2200.0|                   3.0|           2736.0|                 12.0| 6485.0|         414|         1009|           519|           403|           756|           936|           968|           804|           418|           195|        74|  NSW|\n",
       "|    102011033|    2250|     957666|  23534| 43061683632|14.857140980002967|37ffad90-12a9-4f8...|    2021-07-16|      A Facilisis PC|[watch,  clock,  ...|Paul Jefferson|057 Patel Common ...|  Male|      Kariong|                      850.0|             450.0|                       2080.0|              36.0|                   2200.0|                   3.0|           2736.0|                 12.0| 6485.0|         414|         1009|           519|           403|           756|           936|           968|           804|           418|           195|        74|  NSW|\n",
       "|    102011033|    2250|     957666|  23534| 86578477987|49.283758843633485|43c69404-b924-474...|    2021-07-16|   Leo In Consulting|[watch,  clock,  ...|Paul Jefferson|057 Patel Common ...|  Male|      Kariong|                      850.0|             450.0|                       2080.0|              36.0|                   2200.0|                   3.0|           2736.0|                 12.0| 6485.0|         414|         1009|           519|           403|           756|           936|           968|           804|           418|           195|        74|  NSW|\n",
       "|    102011033|    2250|     957666|  23534| 86578477987|49.283758843633485|43c69404-b924-474...|    2021-07-16|   Leo In Consulting|[watch,  clock,  ...|Paul Jefferson|057 Patel Common ...|  Male|      Kariong|                      850.0|             450.0|                       2080.0|              36.0|                   2200.0|                   3.0|           2736.0|                 12.0| 6485.0|         414|         1009|           519|           403|           756|           936|           968|           804|           418|           195|        74|  NSW|\n",
       "|    102011033|    2250|     957666|  23534| 41502716433|186.74141139636208|5d623ec2-0cef-44e...|    2021-07-16|       Mi Associates|[motor vehicle su...|Paul Jefferson|057 Patel Common ...|  Male|      Kariong|                      850.0|             450.0|                       2080.0|              36.0|                   2200.0|                   3.0|           2736.0|                 12.0| 6485.0|         414|         1009|           519|           403|           756|           936|           968|           804|           418|           195|        74|  NSW|\n",
       "|    102011033|    2250|     957666|  23534| 41502716433|186.74141139636208|5d623ec2-0cef-44e...|    2021-07-16|       Mi Associates|[motor vehicle su...|Paul Jefferson|057 Patel Common ...|  Male|      Kariong|                      850.0|             450.0|                       2080.0|              36.0|                   2200.0|                   3.0|           2736.0|                 12.0| 6485.0|         414|         1009|           519|           403|           756|           936|           968|           804|           418|           195|        74|  NSW|\n",
       "|    102011033|    2250|     957666|  23534| 59589609053| 133.8283168460673|3bc68c46-7626-4ce...|    2021-07-30|  Adipiscing Non LLP|[antique shops - ...|Paul Jefferson|057 Patel Common ...|  Male|      Kariong|                      850.0|             450.0|                       2080.0|              36.0|                   2200.0|                   3.0|           2736.0|                 12.0| 6485.0|         414|         1009|           519|           403|           756|           936|           968|           804|           418|           195|        74|  NSW|\n",
       "|    102011033|    2250|     957666|  23534| 59589609053| 133.8283168460673|3bc68c46-7626-4ce...|    2021-07-30|  Adipiscing Non LLP|[antique shops - ...|Paul Jefferson|057 Patel Common ...|  Male|      Kariong|                      850.0|             450.0|                       2080.0|              36.0|                   2200.0|                   3.0|           2736.0|                 12.0| 6485.0|         414|         1009|           519|           403|           756|           936|           968|           804|           418|           195|        74|  NSW|\n",
       "+-------------+--------+-----------+-------+------------+------------------+--------------------+--------------+--------------------+--------------------+--------------+--------------------+------+-------------+---------------------------+------------------+-----------------------------+------------------+-------------------------+----------------------+-----------------+---------------------+-------+------------+-------------+--------------+--------------+--------------+--------------+--------------+--------------+--------------+--------------+----------+-----+\n",
       "only showing top 20 rows"
      ]
     },
     "execution_count": 76,
     "metadata": {},
     "output_type": "execute_result"
    }
   ],
   "source": [
    "data.na.drop(subset=[\"SA2_CODE_2021\"])"
   ]
  },
  {
   "cell_type": "markdown",
   "metadata": {},
   "source": [
    "## Postcode\n",
    "remove all istances in a null postcode as there is not way to determine the location of the purchase with the postcode."
   ]
  },
  {
   "cell_type": "code",
   "execution_count": 77,
   "metadata": {},
   "outputs": [],
   "source": [
    "data = data.na.drop(subset=[\"postcode\"])"
   ]
  },
  {
   "cell_type": "code",
   "execution_count": 78,
   "metadata": {},
   "outputs": [
    {
     "name": "stderr",
     "output_type": "stream",
     "text": [
      "                                                                                \r"
     ]
    },
    {
     "name": "stdout",
     "output_type": "stream",
     "text": [
      "+-------------+\n",
      "|min(postcode)|\n",
      "+-------------+\n",
      "|         1001|\n",
      "+-------------+\n",
      "\n"
     ]
    },
    {
     "name": "stderr",
     "output_type": "stream",
     "text": [
      "[Stage 2104:=================================>                     (6 + 4) / 10]\r"
     ]
    },
    {
     "name": "stdout",
     "output_type": "stream",
     "text": [
      "+-------------+\n",
      "|max(postcode)|\n",
      "+-------------+\n",
      "|         9999|\n",
      "+-------------+\n",
      "\n"
     ]
    },
    {
     "name": "stderr",
     "output_type": "stream",
     "text": [
      "                                                                                \r"
     ]
    }
   ],
   "source": [
    "print(data.agg({'postcode': 'min'}))\n",
    "print(data.agg({'postcode': 'max'}))"
   ]
  },
  {
   "cell_type": "markdown",
   "metadata": {},
   "source": [
    "According to AusPost, all post between 1000-9999 are valid, thus we will keep all.\n",
    "## ABN\n",
    "All ABNs are 11 digits long, thus we will verify this:"
   ]
  },
  {
   "cell_type": "code",
   "execution_count": 79,
   "metadata": {},
   "outputs": [
    {
     "name": "stdout",
     "output_type": "stream",
     "text": [
      "+-----------------+\n",
      "|min(merchant_abn)|\n",
      "+-----------------+\n",
      "|      10023283211|\n",
      "+-----------------+\n",
      "\n",
      "+-----------------+\n",
      "|max(merchant_abn)|\n",
      "+-----------------+\n",
      "|      99990536339|\n",
      "+-----------------+\n",
      "\n"
     ]
    }
   ],
   "source": [
    "print(data.agg({'merchant_abn': 'min'}))\n",
    "print(data.agg({'merchant_abn': 'max'}))"
   ]
  },
  {
   "cell_type": "markdown",
   "metadata": {},
   "source": [
    "## Dollar Value"
   ]
  },
  {
   "cell_type": "code",
   "execution_count": 80,
   "metadata": {},
   "outputs": [
    {
     "name": "stdout",
     "output_type": "stream",
     "text": [
      "+--------------------+\n",
      "|   min(dollar_value)|\n",
      "+--------------------+\n",
      "|9.756658099412162E-8|\n",
      "+--------------------+\n",
      "\n",
      "+------------------+\n",
      "| max(dollar_value)|\n",
      "+------------------+\n",
      "|105193.88578925544|\n",
      "+------------------+\n",
      "\n"
     ]
    }
   ],
   "source": [
    "print(data.agg({'dollar_value': 'min'}))\n",
    "print(data.agg({'dollar_value': 'max'}))"
   ]
  },
  {
   "cell_type": "markdown",
   "metadata": {},
   "source": [
    "the above minmum dollar value"
   ]
  },
  {
   "cell_type": "code",
   "execution_count": 81,
   "metadata": {},
   "outputs": [
    {
     "data": {
      "text/plain": [
       "13645"
      ]
     },
     "execution_count": 81,
     "metadata": {},
     "output_type": "execute_result"
    }
   ],
   "source": [
    "data.where(col(\"dollar_value\") <= 0.05).count()"
   ]
  },
  {
   "cell_type": "code",
   "execution_count": 82,
   "metadata": {},
   "outputs": [
    {
     "data": {
      "text/plain": [
       "13645"
      ]
     },
     "execution_count": 82,
     "metadata": {},
     "output_type": "execute_result"
    }
   ],
   "source": [
    "data.where(col(\"dollar_value\") <= 0.05).count()"
   ]
  },
  {
   "cell_type": "markdown",
   "metadata": {},
   "source": [
    "All these purchases seem unreasonable due the the limited things you can buy for 5c, thus they will be removed from the dataset."
   ]
  },
  {
   "cell_type": "code",
   "execution_count": 83,
   "metadata": {},
   "outputs": [],
   "source": [
    "data  = data[data['dollar_value'] >= 0.05]"
   ]
  },
  {
   "cell_type": "code",
   "execution_count": 84,
   "metadata": {},
   "outputs": [
    {
     "data": {
      "text/html": [
       "<table border='1'>\n",
       "<tr><th>SA2_CODE_2021</th><th>postcode</th><th>consumer_id</th><th>user_id</th><th>merchant_abn</th><th>dollar_value</th><th>order_id</th><th>order_datetime</th><th>name</th><th>tags</th><th>consumer_name</th><th>address</th><th>gender</th><th>SA2_NAME_2021</th><th>Median_tot_prsnl_inc_weekly</th><th>Median_rent_weekly</th><th>Median_mortgage_repay_monthly</th><th>Median_age_persons</th><th>Median_tot_hhd_inc_weekly</th><th>Average_household_size</th><th>Completed_Year_12</th><th>Did_Not_Attend_School</th><th>TOT_P_P</th><th>Age_0_4_yr_P</th><th>Age_5_14_yr_P</th><th>Age_15_19_yr_P</th><th>Age_20_24_yr_P</th><th>Age_25_34_yr_P</th><th>Age_35_44_yr_P</th><th>Age_45_54_yr_P</th><th>Age_55_64_yr_P</th><th>Age_65_74_yr_P</th><th>Age_75_84_yr_P</th><th>Age_85ov_P</th><th>state</th></tr>\n",
       "<tr><td>null</td><td>1212</td><td>1319595</td><td>23700</td><td>11590404675</td><td>65660.03308418578</td><td>1d8f2322-d8c8-46c...</td><td>2021-08-26</td><td>Arcu Sed PC</td><td>[antique shops - ...</td><td>Angela Harris</td><td>572 Shannon Plaza</td><td>Undisclosed</td><td>New South Wales</td><td>776.6583292533876</td><td>351.68120935335656</td><td>1814.3416669907058</td><td>44.26223298817287</td><td>1625.0275687971643</td><td>2.4792831829350526</td><td>4383.78123400978</td><td>52.53136657119299</td><td>10867.791191028951</td><td>null</td><td>null</td><td>null</td><td>null</td><td>null</td><td>null</td><td>null</td><td>null</td><td>null</td><td>null</td><td>null</td><td>NSW</td></tr>\n",
       "<tr><td>null</td><td>6913</td><td>1380769</td><td>18916</td><td>83199298021</td><td>59223.92657075801</td><td>61fe4fa3-f199-4a1...</td><td>2021-08-08</td><td>Ligula Elit Preti...</td><td>[antique shops - ...</td><td>Tracy Short</td><td>1636 Davis Plains</td><td>Female</td><td>Western Austraia</td><td>836.7966870108314</td><td>235.5527510544241</td><td>1437.028984063036</td><td>42.581815939994776</td><td>1530.0211433587413</td><td>2.4394982812246875</td><td>2478.71725636885</td><td>28.07392873978152</td><td>6548.73302066646</td><td>null</td><td>null</td><td>null</td><td>null</td><td>null</td><td>null</td><td>null</td><td>null</td><td>null</td><td>null</td><td>null</td><td>WA</td></tr>\n",
       "<tr><td>604031097</td><td>7466</td><td>165107</td><td>11702</td><td>53918538787</td><td>77134.2146046811</td><td>8584d8d1-061b-41c...</td><td>2021-07-27</td><td>In Tempus Inc.</td><td>[antique shops - ...</td><td>Ana Robinson</td><td>77844 Garcia Vall...</td><td>Female</td><td>West Coast (Tas.)</td><td>548.0</td><td>160.0</td><td>650.0</td><td>47.0</td><td>958.0</td><td>2.0</td><td>1030.0</td><td>16.0</td><td>4267.0</td><td>208</td><td>462</td><td>172</td><td>200</td><td>521</td><td>454</td><td>629</td><td>726</td><td>576</td><td>254</td><td>59</td><td>TAS</td></tr>\n",
       "<tr><td>604031097</td><td>7466</td><td>165107</td><td>11702</td><td>53918538787</td><td>77134.2146046811</td><td>8584d8d1-061b-41c...</td><td>2021-07-27</td><td>In Tempus Inc.</td><td>[antique shops - ...</td><td>Ana Robinson</td><td>77844 Garcia Vall...</td><td>Female</td><td>West Coast (Tas.)</td><td>548.0</td><td>160.0</td><td>650.0</td><td>47.0</td><td>958.0</td><td>2.0</td><td>1030.0</td><td>16.0</td><td>4267.0</td><td>208</td><td>462</td><td>172</td><td>200</td><td>521</td><td>454</td><td>629</td><td>726</td><td>576</td><td>254</td><td>59</td><td>TAS</td></tr>\n",
       "<tr><td>401051019</td><td>5069</td><td>1277505</td><td>10428</td><td>54860127682</td><td>51618.337208028475</td><td>572fa5c4-72f8-4ad...</td><td>2021-07-17</td><td>Laoreet Posuere E...</td><td>[antique shops - ...</td><td>Richard Jones</td><td>5032 William Glen</td><td>Male</td><td>St Peters - Marden</td><td>954.0</td><td>320.0</td><td>2080.0</td><td>41.0</td><td>1879.0</td><td>2.299999952316284</td><td>8201.0</td><td>77.0</td><td>13515.0</td><td>595</td><td>1453</td><td>769</td><td>856</td><td>1942</td><td>1682</td><td>1725</td><td>1851</td><td>1393</td><td>829</td><td>416</td><td>SA</td></tr>\n",
       "<tr><td>401051019</td><td>5069</td><td>1277505</td><td>10428</td><td>54860127682</td><td>51618.337208028475</td><td>572fa5c4-72f8-4ad...</td><td>2021-07-17</td><td>Laoreet Posuere E...</td><td>[antique shops - ...</td><td>Richard Jones</td><td>5032 William Glen</td><td>Male</td><td>St Peters - Marden</td><td>954.0</td><td>320.0</td><td>2080.0</td><td>41.0</td><td>1879.0</td><td>2.299999952316284</td><td>8201.0</td><td>77.0</td><td>13515.0</td><td>595</td><td>1453</td><td>769</td><td>856</td><td>1942</td><td>1682</td><td>1725</td><td>1851</td><td>1393</td><td>829</td><td>416</td><td>SA</td></tr>\n",
       "<tr><td>401051019</td><td>5069</td><td>1277505</td><td>10428</td><td>54860127682</td><td>51618.337208028475</td><td>572fa5c4-72f8-4ad...</td><td>2021-07-17</td><td>Laoreet Posuere E...</td><td>[antique shops - ...</td><td>Richard Jones</td><td>5032 William Glen</td><td>Male</td><td>St Peters - Marden</td><td>954.0</td><td>320.0</td><td>2080.0</td><td>41.0</td><td>1879.0</td><td>2.299999952316284</td><td>8201.0</td><td>77.0</td><td>13515.0</td><td>595</td><td>1453</td><td>769</td><td>856</td><td>1942</td><td>1682</td><td>1725</td><td>1851</td><td>1393</td><td>829</td><td>416</td><td>SA</td></tr>\n",
       "<tr><td>401051019</td><td>5069</td><td>1277505</td><td>10428</td><td>54860127682</td><td>51618.337208028475</td><td>572fa5c4-72f8-4ad...</td><td>2021-07-17</td><td>Laoreet Posuere E...</td><td>[antique shops - ...</td><td>Richard Jones</td><td>5032 William Glen</td><td>Male</td><td>St Peters - Marden</td><td>954.0</td><td>320.0</td><td>2080.0</td><td>41.0</td><td>1879.0</td><td>2.299999952316284</td><td>8201.0</td><td>77.0</td><td>13515.0</td><td>595</td><td>1453</td><td>769</td><td>856</td><td>1942</td><td>1682</td><td>1725</td><td>1851</td><td>1393</td><td>829</td><td>416</td><td>SA</td></tr>\n",
       "<tr><td>401051019</td><td>5069</td><td>1277505</td><td>10428</td><td>54860127682</td><td>51618.337208028475</td><td>572fa5c4-72f8-4ad...</td><td>2021-07-17</td><td>Laoreet Posuere E...</td><td>[antique shops - ...</td><td>Richard Jones</td><td>5032 William Glen</td><td>Male</td><td>St Peters - Marden</td><td>954.0</td><td>320.0</td><td>2080.0</td><td>41.0</td><td>1879.0</td><td>2.299999952316284</td><td>8201.0</td><td>77.0</td><td>13515.0</td><td>595</td><td>1453</td><td>769</td><td>856</td><td>1942</td><td>1682</td><td>1725</td><td>1851</td><td>1393</td><td>829</td><td>416</td><td>SA</td></tr>\n",
       "<tr><td>401051019</td><td>5069</td><td>1277505</td><td>10428</td><td>54860127682</td><td>51618.337208028475</td><td>572fa5c4-72f8-4ad...</td><td>2021-07-17</td><td>Laoreet Posuere E...</td><td>[antique shops - ...</td><td>Richard Jones</td><td>5032 William Glen</td><td>Male</td><td>St Peters - Marden</td><td>954.0</td><td>320.0</td><td>2080.0</td><td>41.0</td><td>1879.0</td><td>2.299999952316284</td><td>8201.0</td><td>77.0</td><td>13515.0</td><td>595</td><td>1453</td><td>769</td><td>856</td><td>1942</td><td>1682</td><td>1725</td><td>1851</td><td>1393</td><td>829</td><td>416</td><td>SA</td></tr>\n",
       "</table>\n"
      ],
      "text/plain": [
       "+-------------+--------+-----------+-------+------------+------------------+--------------------+--------------+--------------------+--------------------+-------------+--------------------+-----------+------------------+---------------------------+------------------+-----------------------------+------------------+-------------------------+----------------------+-----------------+---------------------+------------------+------------+-------------+--------------+--------------+--------------+--------------+--------------+--------------+--------------+--------------+----------+-----+\n",
       "|SA2_CODE_2021|postcode|consumer_id|user_id|merchant_abn|      dollar_value|            order_id|order_datetime|                name|                tags|consumer_name|             address|     gender|     SA2_NAME_2021|Median_tot_prsnl_inc_weekly|Median_rent_weekly|Median_mortgage_repay_monthly|Median_age_persons|Median_tot_hhd_inc_weekly|Average_household_size|Completed_Year_12|Did_Not_Attend_School|           TOT_P_P|Age_0_4_yr_P|Age_5_14_yr_P|Age_15_19_yr_P|Age_20_24_yr_P|Age_25_34_yr_P|Age_35_44_yr_P|Age_45_54_yr_P|Age_55_64_yr_P|Age_65_74_yr_P|Age_75_84_yr_P|Age_85ov_P|state|\n",
       "+-------------+--------+-----------+-------+------------+------------------+--------------------+--------------+--------------------+--------------------+-------------+--------------------+-----------+------------------+---------------------------+------------------+-----------------------------+------------------+-------------------------+----------------------+-----------------+---------------------+------------------+------------+-------------+--------------+--------------+--------------+--------------+--------------+--------------+--------------+--------------+----------+-----+\n",
       "|         null|    1212|    1319595|  23700| 11590404675| 65660.03308418578|1d8f2322-d8c8-46c...|    2021-08-26|         Arcu Sed PC|[antique shops - ...|Angela Harris|   572 Shannon Plaza|Undisclosed|   New South Wales|          776.6583292533876|351.68120935335656|           1814.3416669907058| 44.26223298817287|       1625.0275687971643|    2.4792831829350526| 4383.78123400978|    52.53136657119299|10867.791191028951|        null|         null|          null|          null|          null|          null|          null|          null|          null|          null|      null|  NSW|\n",
       "|         null|    6913|    1380769|  18916| 83199298021| 59223.92657075801|61fe4fa3-f199-4a1...|    2021-08-08|Ligula Elit Preti...|[antique shops - ...|  Tracy Short|   1636 Davis Plains|     Female|  Western Austraia|          836.7966870108314| 235.5527510544241|            1437.028984063036|42.581815939994776|       1530.0211433587413|    2.4394982812246875| 2478.71725636885|    28.07392873978152|  6548.73302066646|        null|         null|          null|          null|          null|          null|          null|          null|          null|          null|      null|   WA|\n",
       "|    604031097|    7466|     165107|  11702| 53918538787|  77134.2146046811|8584d8d1-061b-41c...|    2021-07-27|      In Tempus Inc.|[antique shops - ...| Ana Robinson|77844 Garcia Vall...|     Female| West Coast (Tas.)|                      548.0|             160.0|                        650.0|              47.0|                    958.0|                   2.0|           1030.0|                 16.0|            4267.0|         208|          462|           172|           200|           521|           454|           629|           726|           576|           254|        59|  TAS|\n",
       "|    604031097|    7466|     165107|  11702| 53918538787|  77134.2146046811|8584d8d1-061b-41c...|    2021-07-27|      In Tempus Inc.|[antique shops - ...| Ana Robinson|77844 Garcia Vall...|     Female| West Coast (Tas.)|                      548.0|             160.0|                        650.0|              47.0|                    958.0|                   2.0|           1030.0|                 16.0|            4267.0|         208|          462|           172|           200|           521|           454|           629|           726|           576|           254|        59|  TAS|\n",
       "|    401051019|    5069|    1277505|  10428| 54860127682|51618.337208028475|572fa5c4-72f8-4ad...|    2021-07-17|Laoreet Posuere E...|[antique shops - ...|Richard Jones|   5032 William Glen|       Male|St Peters - Marden|                      954.0|             320.0|                       2080.0|              41.0|                   1879.0|     2.299999952316284|           8201.0|                 77.0|           13515.0|         595|         1453|           769|           856|          1942|          1682|          1725|          1851|          1393|           829|       416|   SA|\n",
       "|    401051019|    5069|    1277505|  10428| 54860127682|51618.337208028475|572fa5c4-72f8-4ad...|    2021-07-17|Laoreet Posuere E...|[antique shops - ...|Richard Jones|   5032 William Glen|       Male|St Peters - Marden|                      954.0|             320.0|                       2080.0|              41.0|                   1879.0|     2.299999952316284|           8201.0|                 77.0|           13515.0|         595|         1453|           769|           856|          1942|          1682|          1725|          1851|          1393|           829|       416|   SA|\n",
       "|    401051019|    5069|    1277505|  10428| 54860127682|51618.337208028475|572fa5c4-72f8-4ad...|    2021-07-17|Laoreet Posuere E...|[antique shops - ...|Richard Jones|   5032 William Glen|       Male|St Peters - Marden|                      954.0|             320.0|                       2080.0|              41.0|                   1879.0|     2.299999952316284|           8201.0|                 77.0|           13515.0|         595|         1453|           769|           856|          1942|          1682|          1725|          1851|          1393|           829|       416|   SA|\n",
       "|    401051019|    5069|    1277505|  10428| 54860127682|51618.337208028475|572fa5c4-72f8-4ad...|    2021-07-17|Laoreet Posuere E...|[antique shops - ...|Richard Jones|   5032 William Glen|       Male|St Peters - Marden|                      954.0|             320.0|                       2080.0|              41.0|                   1879.0|     2.299999952316284|           8201.0|                 77.0|           13515.0|         595|         1453|           769|           856|          1942|          1682|          1725|          1851|          1393|           829|       416|   SA|\n",
       "|    401051019|    5069|    1277505|  10428| 54860127682|51618.337208028475|572fa5c4-72f8-4ad...|    2021-07-17|Laoreet Posuere E...|[antique shops - ...|Richard Jones|   5032 William Glen|       Male|St Peters - Marden|                      954.0|             320.0|                       2080.0|              41.0|                   1879.0|     2.299999952316284|           8201.0|                 77.0|           13515.0|         595|         1453|           769|           856|          1942|          1682|          1725|          1851|          1393|           829|       416|   SA|\n",
       "|    401051019|    5069|    1277505|  10428| 54860127682|51618.337208028475|572fa5c4-72f8-4ad...|    2021-07-17|Laoreet Posuere E...|[antique shops - ...|Richard Jones|   5032 William Glen|       Male|St Peters - Marden|                      954.0|             320.0|                       2080.0|              41.0|                   1879.0|     2.299999952316284|           8201.0|                 77.0|           13515.0|         595|         1453|           769|           856|          1942|          1682|          1725|          1851|          1393|           829|       416|   SA|\n",
       "+-------------+--------+-----------+-------+------------+------------------+--------------------+--------------+--------------------+--------------------+-------------+--------------------+-----------+------------------+---------------------------+------------------+-----------------------------+------------------+-------------------------+----------------------+-----------------+---------------------+------------------+------------+-------------+--------------+--------------+--------------+--------------+--------------+--------------+--------------+--------------+----------+-----+"
      ]
     },
     "execution_count": 84,
     "metadata": {},
     "output_type": "execute_result"
    }
   ],
   "source": [
    "data.where(col(\"dollar_value\") >= 50000).limit(10)"
   ]
  },
  {
   "cell_type": "markdown",
   "metadata": {},
   "source": [
    "Al instances above $50,000 come from anitque shops or jewelry shops and thus is plausible for the individuals to be spending large amounts of money. "
   ]
  },
  {
   "cell_type": "markdown",
   "metadata": {},
   "source": [
    "## Order Date "
   ]
  },
  {
   "cell_type": "code",
   "execution_count": 85,
   "metadata": {},
   "outputs": [
    {
     "name": "stdout",
     "output_type": "stream",
     "text": [
      "+-------------------+\n",
      "|min(order_datetime)|\n",
      "+-------------------+\n",
      "|         2021-02-28|\n",
      "+-------------------+\n",
      "\n",
      "+-------------------+\n",
      "|max(order_datetime)|\n",
      "+-------------------+\n",
      "|         2021-08-27|\n",
      "+-------------------+\n",
      "\n"
     ]
    }
   ],
   "source": [
    "print(data.agg({'order_datetime': 'min'}))\n",
    "print(data.agg({'order_datetime': 'max'}))"
   ]
  },
  {
   "cell_type": "markdown",
   "metadata": {},
   "source": [
    "Based on the above all values are in 2021."
   ]
  },
  {
   "cell_type": "markdown",
   "metadata": {},
   "source": [
    "## Gender"
   ]
  },
  {
   "cell_type": "code",
   "execution_count": 86,
   "metadata": {},
   "outputs": [
    {
     "name": "stderr",
     "output_type": "stream",
     "text": [
      "                                                                                \r"
     ]
    },
    {
     "data": {
      "text/html": [
       "<table border='1'>\n",
       "<tr><th>gender</th><th>count</th></tr>\n",
       "<tr><td>Undisclosed</td><td>3786857</td></tr>\n",
       "<tr><td>Female</td><td>16928185</td></tr>\n",
       "<tr><td>Male</td><td>17129766</td></tr>\n",
       "</table>\n"
      ],
      "text/plain": [
       "+-----------+--------+\n",
       "|     gender|   count|\n",
       "+-----------+--------+\n",
       "|Undisclosed| 3786857|\n",
       "|     Female|16928185|\n",
       "|       Male|17129766|\n",
       "+-----------+--------+"
      ]
     },
     "execution_count": 86,
     "metadata": {},
     "output_type": "execute_result"
    }
   ],
   "source": [
    "from pyspark.sql.functions import count\n",
    "\n",
    "data.groupBy('gender').count()"
   ]
  },
  {
   "cell_type": "markdown",
   "metadata": {},
   "source": [
    "## Median personal income"
   ]
  },
  {
   "cell_type": "code",
   "execution_count": 87,
   "metadata": {},
   "outputs": [
    {
     "name": "stderr",
     "output_type": "stream",
     "text": [
      "                                                                                \r"
     ]
    },
    {
     "name": "stdout",
     "output_type": "stream",
     "text": [
      "+--------------------------------+\n",
      "|min(Median_tot_prsnl_inc_weekly)|\n",
      "+--------------------------------+\n",
      "|                             0.0|\n",
      "+--------------------------------+\n",
      "\n"
     ]
    },
    {
     "name": "stderr",
     "output_type": "stream",
     "text": [
      "[Stage 2146:============================================>          (8 + 2) / 10]\r"
     ]
    },
    {
     "name": "stdout",
     "output_type": "stream",
     "text": [
      "+--------------------------------+\n",
      "|max(Median_tot_prsnl_inc_weekly)|\n",
      "+--------------------------------+\n",
      "|                         92500.0|\n",
      "+--------------------------------+\n",
      "\n"
     ]
    },
    {
     "name": "stderr",
     "output_type": "stream",
     "text": [
      "                                                                                \r"
     ]
    }
   ],
   "source": [
    "print(data.agg({'Median_tot_prsnl_inc_weekly': 'min'}))\n",
    "print(data.agg({'Median_tot_prsnl_inc_weekly': 'max'}))"
   ]
  },
  {
   "cell_type": "markdown",
   "metadata": {},
   "source": [
    "## Median rent weekly"
   ]
  },
  {
   "cell_type": "code",
   "execution_count": 88,
   "metadata": {},
   "outputs": [
    {
     "name": "stderr",
     "output_type": "stream",
     "text": [
      "                                                                                \r"
     ]
    },
    {
     "name": "stdout",
     "output_type": "stream",
     "text": [
      "+-----------------------+\n",
      "|min(Median_rent_weekly)|\n",
      "+-----------------------+\n",
      "|                    0.0|\n",
      "+-----------------------+\n",
      "\n"
     ]
    },
    {
     "name": "stderr",
     "output_type": "stream",
     "text": [
      "[Stage 2152:============================================>          (8 + 2) / 10]\r"
     ]
    },
    {
     "name": "stdout",
     "output_type": "stream",
     "text": [
      "+-----------------------+\n",
      "|max(Median_rent_weekly)|\n",
      "+-----------------------+\n",
      "|                 1200.0|\n",
      "+-----------------------+\n",
      "\n"
     ]
    },
    {
     "name": "stderr",
     "output_type": "stream",
     "text": [
      "                                                                                \r"
     ]
    }
   ],
   "source": [
    "print(data.agg({'Median_rent_weekly': 'min'}))\n",
    "print(data.agg({'Median_rent_weekly': 'max'}))"
   ]
  },
  {
   "cell_type": "markdown",
   "metadata": {},
   "source": [
    "## Median mortgage monthly"
   ]
  },
  {
   "cell_type": "code",
   "execution_count": 89,
   "metadata": {},
   "outputs": [
    {
     "name": "stderr",
     "output_type": "stream",
     "text": [
      "                                                                                \r"
     ]
    },
    {
     "name": "stdout",
     "output_type": "stream",
     "text": [
      "+-----------------------+\n",
      "|min(Median_rent_weekly)|\n",
      "+-----------------------+\n",
      "|                    0.0|\n",
      "+-----------------------+\n",
      "\n"
     ]
    },
    {
     "name": "stderr",
     "output_type": "stream",
     "text": [
      "[Stage 2158:=================================================>     (9 + 1) / 10]\r"
     ]
    },
    {
     "name": "stdout",
     "output_type": "stream",
     "text": [
      "+-----------------------+\n",
      "|max(Median_rent_weekly)|\n",
      "+-----------------------+\n",
      "|                 1200.0|\n",
      "+-----------------------+\n",
      "\n"
     ]
    },
    {
     "name": "stderr",
     "output_type": "stream",
     "text": [
      "                                                                                \r"
     ]
    }
   ],
   "source": [
    "print(data.agg({'Median_mortgage_repay_monthly': 'min'}))\n",
    "print(data.agg({'Median_mortgage_repay_monthly': 'max'}))"
   ]
  },
  {
   "cell_type": "markdown",
   "metadata": {},
   "source": [
    "## Median age"
   ]
  },
  {
   "cell_type": "code",
   "execution_count": null,
   "metadata": {},
   "outputs": [],
   "source": [
    "print(data.agg({'Median_age_persons': 'min'}))\n",
    "print(data.agg({'Median_age_persons': 'max'}))"
   ]
  },
  {
   "cell_type": "markdown",
   "metadata": {},
   "source": [
    "## Median household income"
   ]
  },
  {
   "cell_type": "code",
   "execution_count": null,
   "metadata": {},
   "outputs": [],
   "source": [
    "print(data.agg({'Median_tot_hhd_inc_weekly': 'min'}))\n",
    "print(data.agg({'Median_tot_hhd_inc_weekly': 'max'}))"
   ]
  },
  {
   "cell_type": "markdown",
   "metadata": {},
   "source": [
    "## Average household size"
   ]
  },
  {
   "cell_type": "code",
   "execution_count": null,
   "metadata": {},
   "outputs": [],
   "source": [
    "print(data.agg({'Average_household_size': 'min'}))\n",
    "print(data.agg({'Average_household_size': 'max'}))"
   ]
  },
  {
   "cell_type": "markdown",
   "metadata": {},
   "source": [
    "## Average household size"
   ]
  },
  {
   "cell_type": "code",
   "execution_count": null,
   "metadata": {},
   "outputs": [],
   "source": [
    "print(data.agg({'Average_household_size': 'min'}))\n",
    "print(data.agg({'Average_household_size': 'max'}))"
   ]
  },
  {
   "cell_type": "markdown",
   "metadata": {},
   "source": [
    "no outliers found"
   ]
  },
  {
   "cell_type": "code",
   "execution_count": 90,
   "metadata": {},
   "outputs": [
    {
     "name": "stderr",
     "output_type": "stream",
     "text": [
      "                                                                                \r"
     ]
    }
   ],
   "source": [
    "data.write.mode('overwrite').parquet('../data/curated/outlier_data.parquet')"
   ]
  },
  {
   "cell_type": "code",
   "execution_count": null,
   "metadata": {},
   "outputs": [],
   "source": []
  }
 ],
 "metadata": {
  "interpreter": {
   "hash": "863906e9a4165d4738736793daf13ef61aad6cfe5622e28d202ed76ed0afc263"
  },
  "kernelspec": {
   "display_name": "Python 3.9.7",
   "language": "python",
   "name": "python3"
  },
  "language_info": {
   "codemirror_mode": {
    "name": "ipython",
    "version": 3
   },
   "file_extension": ".py",
   "mimetype": "text/x-python",
   "name": "python",
   "nbconvert_exporter": "python",
   "pygments_lexer": "ipython3",
   "version": "3.9.7"
  },
  "orig_nbformat": 4
 },
 "nbformat": 4,
 "nbformat_minor": 2
}
