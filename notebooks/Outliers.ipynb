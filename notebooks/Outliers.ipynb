{
 "cells": [
  {
   "cell_type": "markdown",
   "metadata": {},
   "source": [
    "# Outlier Analysis\n",
    "\n",
    "Questions:\n",
    "* If you found NULL values after you joined the datasets, what did you do with them? How many were there?\n",
    "After joining the datasets, there were 750332 null values in the SA2 dataset and 182 in the origninal dataset, these comprised of approximatley 2% of the total dataset. for null values in the SA2 dataset, the postcodes were used to determine which state the purchase came from. then averaging over all the data in that state the other columns were populated.\n",
    "\n",
    "* Was there any missing data that shouldn’t be missing after joining to your external\n",
    "dataset? If anything was missing, how much was there and what did you do about it?\n",
    "there was only 182 rows of missing data once joined, due to the extremely low number and the fact that the whole purchase was null, they were removed.\n",
    "\n",
    "* If you decided to omit outliers, what does the distribution look like prior and after?\n",
    "\n"
   ]
  },
  {
   "cell_type": "code",
   "execution_count": 7,
   "metadata": {},
   "outputs": [],
   "source": [
    "from pyspark.sql import SparkSession, functions as F, DataFrame\n",
    "from pyspark.sql.functions import col\n",
    "\n",
    "spark = (\n",
    "    SparkSession.builder.appName(\"Customer_Analysis\")\n",
    "    .config(\"spark.sql.repl.eagerEval.enabled\", True) \n",
    "    .config(\"spark.sql.parquet.cacheMetadata\", \"true\")\n",
    "    .config(\"spark.sql.session.timeZone\", \"Etc/UTC\")\n",
    "    .config(\"spark.executor.memory\", \"2g\")\n",
    "    .config(\"spark.driver.memory\", \"4g\")\n",
    "    .getOrCreate()\n",
    ")"
   ]
  },
  {
   "cell_type": "code",
   "execution_count": 8,
   "metadata": {},
   "outputs": [],
   "source": [
    "data = spark.read.parquet('../data/curated/final_data.parquet')"
   ]
  },
  {
   "cell_type": "code",
   "execution_count": 112,
   "metadata": {},
   "outputs": [
    {
     "data": {
      "text/html": [
       "<table border='1'>\n",
       "<tr><th>SA2_CODE_2021</th><th>postcode</th><th>consumer_id</th><th>user_id</th><th>merchant_abn</th><th>dollar_value</th><th>order_id</th><th>order_datetime</th><th>name</th><th>tags</th><th>consumer_name</th><th>address</th><th>gender</th><th>SA2_NAME_2021</th><th>Median_tot_prsnl_inc_weekly</th><th>Median_rent_weekly</th><th>Median_mortgage_repay_monthly</th><th>Median_age_persons</th><th>Median_tot_hhd_inc_weekly</th><th>Average_household_size</th><th>Completed Year 12</th><th>Did Not Attend School</th><th>TOT_P_P</th><th>Age_0_4_yr_P</th><th>Age_5_14_yr_P</th><th>Age_15_19_yr_P</th><th>Age_20_24_yr_P</th><th>Age_25_34_yr_P</th><th>Age_35_44_yr_P</th><th>Age_45_54_yr_P</th><th>Age_55_64_yr_P</th><th>Age_65_74_yr_P</th><th>Age_75_84_yr_P</th><th>Age_85ov_P</th></tr>\n",
       "<tr><td>null</td><td>852</td><td>1140</td><td>6421</td><td>23338656015</td><td>240.79240453805204</td><td>c22bbaa1-8e70-49b...</td><td>2021-08-19</td><td>Iaculis LLC</td><td>[watch,  clock,  ...</td><td>Christopher Powell</td><td>880 Brandon Stree...</td><td>Undisclosed</td><td>null</td><td>null</td><td>null</td><td>null</td><td>null</td><td>null</td><td>null</td><td>null</td><td>null</td><td>null</td><td>null</td><td>null</td><td>null</td><td>null</td><td>null</td><td>null</td><td>null</td><td>null</td><td>null</td><td>null</td><td>null</td></tr>\n",
       "<tr><td>null</td><td>7321</td><td>94215</td><td>11809</td><td>49891706470</td><td>48.86426156234827</td><td>5cfef23a-a07c-455...</td><td>2021-05-21</td><td>Non Vestibulum In...</td><td>[tent and awning ...</td><td>Amy Nguyen</td><td>85806 Melton Squares</td><td>Female</td><td>null</td><td>null</td><td>null</td><td>null</td><td>null</td><td>null</td><td>null</td><td>null</td><td>null</td><td>null</td><td>null</td><td>null</td><td>null</td><td>null</td><td>null</td><td>null</td><td>null</td><td>null</td><td>null</td><td>null</td><td>null</td></tr>\n",
       "<tr><td>null</td><td>6872</td><td>799687</td><td>24034</td><td>38090089066</td><td>118.19708950112054</td><td>ece422e2-c9e8-42c...</td><td>2021-04-02</td><td>Interdum Feugiat ...</td><td>[furniture,  home...</td><td>Angela Little</td><td>337 Carter Walk</td><td>Female</td><td>null</td><td>null</td><td>null</td><td>null</td><td>null</td><td>null</td><td>null</td><td>null</td><td>null</td><td>null</td><td>null</td><td>null</td><td>null</td><td>null</td><td>null</td><td>null</td><td>null</td><td>null</td><td>null</td><td>null</td><td>null</td></tr>\n",
       "<tr><td>null</td><td>7330</td><td>334995</td><td>4041</td><td>33357097824</td><td>24.599565257317405</td><td>7fd18add-d03c-479...</td><td>2021-07-29</td><td>Sem Ut Incorporated</td><td>[hobby,  toy and ...</td><td>Eric Cooper</td><td>137 Brian Turnpike</td><td>Male</td><td>null</td><td>null</td><td>null</td><td>null</td><td>null</td><td>null</td><td>null</td><td>null</td><td>null</td><td>null</td><td>null</td><td>null</td><td>null</td><td>null</td><td>null</td><td>null</td><td>null</td><td>null</td><td>null</td><td>null</td><td>null</td></tr>\n",
       "<tr><td>null</td><td>852</td><td>1140</td><td>6421</td><td>48534649627</td><td>269.8021779483706</td><td>dcc21448-04c5-42d...</td><td>2021-08-14</td><td>Dignissim Maecena...</td><td>[opticians,  opti...</td><td>Christopher Powell</td><td>880 Brandon Stree...</td><td>Undisclosed</td><td>null</td><td>null</td><td>null</td><td>null</td><td>null</td><td>null</td><td>null</td><td>null</td><td>null</td><td>null</td><td>null</td><td>null</td><td>null</td><td>null</td><td>null</td><td>null</td><td>null</td><td>null</td><td>null</td><td>null</td><td>null</td></tr>\n",
       "</table>\n"
      ],
      "text/plain": [
       "+-------------+--------+-----------+-------+------------+------------------+--------------------+--------------+--------------------+--------------------+------------------+--------------------+-----------+-------------+---------------------------+------------------+-----------------------------+------------------+-------------------------+----------------------+-----------------+---------------------+-------+------------+-------------+--------------+--------------+--------------+--------------+--------------+--------------+--------------+--------------+----------+\n",
       "|SA2_CODE_2021|postcode|consumer_id|user_id|merchant_abn|      dollar_value|            order_id|order_datetime|                name|                tags|     consumer_name|             address|     gender|SA2_NAME_2021|Median_tot_prsnl_inc_weekly|Median_rent_weekly|Median_mortgage_repay_monthly|Median_age_persons|Median_tot_hhd_inc_weekly|Average_household_size|Completed Year 12|Did Not Attend School|TOT_P_P|Age_0_4_yr_P|Age_5_14_yr_P|Age_15_19_yr_P|Age_20_24_yr_P|Age_25_34_yr_P|Age_35_44_yr_P|Age_45_54_yr_P|Age_55_64_yr_P|Age_65_74_yr_P|Age_75_84_yr_P|Age_85ov_P|\n",
       "+-------------+--------+-----------+-------+------------+------------------+--------------------+--------------+--------------------+--------------------+------------------+--------------------+-----------+-------------+---------------------------+------------------+-----------------------------+------------------+-------------------------+----------------------+-----------------+---------------------+-------+------------+-------------+--------------+--------------+--------------+--------------+--------------+--------------+--------------+--------------+----------+\n",
       "|         null|     852|       1140|   6421| 23338656015|240.79240453805204|c22bbaa1-8e70-49b...|    2021-08-19|         Iaculis LLC|[watch,  clock,  ...|Christopher Powell|880 Brandon Stree...|Undisclosed|         null|                       null|              null|                         null|              null|                     null|                  null|             null|                 null|   null|        null|         null|          null|          null|          null|          null|          null|          null|          null|          null|      null|\n",
       "|         null|    7321|      94215|  11809| 49891706470| 48.86426156234827|5cfef23a-a07c-455...|    2021-05-21|Non Vestibulum In...|[tent and awning ...|        Amy Nguyen|85806 Melton Squares|     Female|         null|                       null|              null|                         null|              null|                     null|                  null|             null|                 null|   null|        null|         null|          null|          null|          null|          null|          null|          null|          null|          null|      null|\n",
       "|         null|    6872|     799687|  24034| 38090089066|118.19708950112054|ece422e2-c9e8-42c...|    2021-04-02|Interdum Feugiat ...|[furniture,  home...|     Angela Little|     337 Carter Walk|     Female|         null|                       null|              null|                         null|              null|                     null|                  null|             null|                 null|   null|        null|         null|          null|          null|          null|          null|          null|          null|          null|          null|      null|\n",
       "|         null|    7330|     334995|   4041| 33357097824|24.599565257317405|7fd18add-d03c-479...|    2021-07-29| Sem Ut Incorporated|[hobby,  toy and ...|       Eric Cooper|  137 Brian Turnpike|       Male|         null|                       null|              null|                         null|              null|                     null|                  null|             null|                 null|   null|        null|         null|          null|          null|          null|          null|          null|          null|          null|          null|      null|\n",
       "|         null|     852|       1140|   6421| 48534649627| 269.8021779483706|dcc21448-04c5-42d...|    2021-08-14|Dignissim Maecena...|[opticians,  opti...|Christopher Powell|880 Brandon Stree...|Undisclosed|         null|                       null|              null|                         null|              null|                     null|                  null|             null|                 null|   null|        null|         null|          null|          null|          null|          null|          null|          null|          null|          null|      null|\n",
       "+-------------+--------+-----------+-------+------------+------------------+--------------------+--------------+--------------------+--------------------+------------------+--------------------+-----------+-------------+---------------------------+------------------+-----------------------------+------------------+-------------------------+----------------------+-----------------+---------------------+-------+------------+-------------+--------------+--------------+--------------+--------------+--------------+--------------+--------------+--------------+----------+"
      ]
     },
     "execution_count": 112,
     "metadata": {},
     "output_type": "execute_result"
    }
   ],
   "source": [
    "data.limit(5)"
   ]
  },
  {
   "cell_type": "code",
   "execution_count": 97,
   "metadata": {},
   "outputs": [
    {
     "name": "stderr",
     "output_type": "stream",
     "text": [
      "                                                                                \r"
     ]
    },
    {
     "data": {
      "text/html": [
       "<table border='1'>\n",
       "<tr><th>SA2_CODE_2021</th><th>postcode</th><th>consumer_id</th><th>user_id</th><th>merchant_abn</th><th>dollar_value</th><th>order_id</th><th>order_datetime</th><th>name</th><th>tags</th><th>consumer_name</th><th>address</th><th>gender</th><th>SA2_NAME_2021</th><th>Median_tot_prsnl_inc_weekly</th><th>Median_rent_weekly</th><th>Median_mortgage_repay_monthly</th><th>Median_age_persons</th><th>Median_tot_hhd_inc_weekly</th><th>Average_household_size</th><th>Completed Year 12</th><th>Did Not Attend School</th><th>TOT_P_P</th><th>Age_0_4_yr_P</th><th>Age_5_14_yr_P</th><th>Age_15_19_yr_P</th><th>Age_20_24_yr_P</th><th>Age_25_34_yr_P</th><th>Age_35_44_yr_P</th><th>Age_45_54_yr_P</th><th>Age_55_64_yr_P</th><th>Age_65_74_yr_P</th><th>Age_75_84_yr_P</th><th>Age_85ov_P</th></tr>\n",
       "<tr><td>750332</td><td>182</td><td>182</td><td>182</td><td>182</td><td>182</td><td>182</td><td>182</td><td>182</td><td>182</td><td>182</td><td>182</td><td>182</td><td>750332</td><td>750333</td><td>750333</td><td>750333</td><td>750333</td><td>750333</td><td>750333</td><td>750333</td><td>750333</td><td>750333</td><td>750333</td><td>750333</td><td>750333</td><td>750333</td><td>750333</td><td>750333</td><td>750333</td><td>750333</td><td>750333</td><td>750333</td><td>750333</td></tr>\n",
       "</table>\n"
      ],
      "text/plain": [
       "+-------------+--------+-----------+-------+------------+------------+--------+--------------+----+----+-------------+-------+------+-------------+---------------------------+------------------+-----------------------------+------------------+-------------------------+----------------------+-----------------+---------------------+-------+------------+-------------+--------------+--------------+--------------+--------------+--------------+--------------+--------------+--------------+----------+\n",
       "|SA2_CODE_2021|postcode|consumer_id|user_id|merchant_abn|dollar_value|order_id|order_datetime|name|tags|consumer_name|address|gender|SA2_NAME_2021|Median_tot_prsnl_inc_weekly|Median_rent_weekly|Median_mortgage_repay_monthly|Median_age_persons|Median_tot_hhd_inc_weekly|Average_household_size|Completed Year 12|Did Not Attend School|TOT_P_P|Age_0_4_yr_P|Age_5_14_yr_P|Age_15_19_yr_P|Age_20_24_yr_P|Age_25_34_yr_P|Age_35_44_yr_P|Age_45_54_yr_P|Age_55_64_yr_P|Age_65_74_yr_P|Age_75_84_yr_P|Age_85ov_P|\n",
       "+-------------+--------+-----------+-------+------------+------------+--------+--------------+----+----+-------------+-------+------+-------------+---------------------------+------------------+-----------------------------+------------------+-------------------------+----------------------+-----------------+---------------------+-------+------------+-------------+--------------+--------------+--------------+--------------+--------------+--------------+--------------+--------------+----------+\n",
       "|       750332|     182|        182|    182|         182|         182|     182|           182| 182| 182|          182|    182|   182|       750332|                     750333|            750333|                       750333|            750333|                   750333|                750333|           750333|               750333| 750333|      750333|       750333|        750333|        750333|        750333|        750333|        750333|        750333|        750333|        750333|    750333|\n",
       "+-------------+--------+-----------+-------+------------+------------+--------+--------------+----+----+-------------+-------+------+-------------+---------------------------+------------------+-----------------------------+------------------+-------------------------+----------------------+-----------------+---------------------+-------+------------+-------------+--------------+--------------+--------------+--------------+--------------+--------------+--------------+--------------+----------+"
      ]
     },
     "execution_count": 97,
     "metadata": {},
     "output_type": "execute_result"
    }
   ],
   "source": [
    "from pyspark.sql.functions import isnan, when, count, col\n",
    "data.select([count(when(col(c).isNull(), c)).alias(c) for c in data.columns])"
   ]
  },
  {
   "cell_type": "markdown",
   "metadata": {},
   "source": [
    "## SA2_CODE_2021 / SA2_NAME_2021"
   ]
  },
  {
   "cell_type": "code",
   "execution_count": 99,
   "metadata": {},
   "outputs": [
    {
     "data": {
      "text/plain": [
       "0.019819309386088536"
      ]
     },
     "execution_count": 99,
     "metadata": {},
     "output_type": "execute_result"
    }
   ],
   "source": [
    "from pyspark.sql.functions import col\n",
    "data.filter(col(\"SA2_CODE_2021\").isNull()).count()/data.count()"
   ]
  },
  {
   "cell_type": "code",
   "execution_count": 9,
   "metadata": {},
   "outputs": [
    {
     "name": "stdout",
     "output_type": "stream",
     "text": [
      "22/09/11 15:42:13 WARN package: Truncated the string representation of a plan since it was too large. This behavior can be adjusted by setting 'spark.sql.debug.maxToStringFields'.\n"
     ]
    },
    {
     "name": "stderr",
     "output_type": "stream",
     "text": [
      "                                                                                \r"
     ]
    },
    {
     "data": {
      "text/html": [
       "<table border='1'>\n",
       "<tr><th>SA2_CODE_2021</th><th>postcode</th><th>consumer_id</th><th>user_id</th><th>merchant_abn</th><th>dollar_value</th><th>order_id</th><th>order_datetime</th><th>name</th><th>tags</th><th>consumer_name</th><th>address</th><th>gender</th><th>SA2_NAME_2021</th><th>Median_tot_prsnl_inc_weekly</th><th>Median_rent_weekly</th><th>Median_mortgage_repay_monthly</th><th>Median_age_persons</th><th>Median_tot_hhd_inc_weekly</th><th>Average_household_size</th><th>Completed Year 12</th><th>Did Not Attend School</th><th>TOT_P_P</th><th>Age_0_4_yr_P</th><th>Age_5_14_yr_P</th><th>Age_15_19_yr_P</th><th>Age_20_24_yr_P</th><th>Age_25_34_yr_P</th><th>Age_35_44_yr_P</th><th>Age_45_54_yr_P</th><th>Age_55_64_yr_P</th><th>Age_65_74_yr_P</th><th>Age_75_84_yr_P</th><th>Age_85ov_P</th><th>state</th></tr>\n",
       "<tr><td>null</td><td>852</td><td>1140</td><td>6421</td><td>23338656015</td><td>240.79240453805204</td><td>c22bbaa1-8e70-49b...</td><td>2021-08-19</td><td>Iaculis LLC</td><td>[watch,  clock,  ...</td><td>Christopher Powell</td><td>880 Brandon Stree...</td><td>Undisclosed</td><td>Northern Territory</td><td>null</td><td>null</td><td>null</td><td>null</td><td>null</td><td>null</td><td>null</td><td>null</td><td>null</td><td>null</td><td>null</td><td>null</td><td>null</td><td>null</td><td>null</td><td>null</td><td>null</td><td>null</td><td>null</td><td>null</td><td>NT</td></tr>\n",
       "<tr><td>null</td><td>7321</td><td>94215</td><td>11809</td><td>49891706470</td><td>48.86426156234827</td><td>5cfef23a-a07c-455...</td><td>2021-05-21</td><td>Non Vestibulum In...</td><td>[tent and awning ...</td><td>Amy Nguyen</td><td>85806 Melton Squares</td><td>Female</td><td>Tasmania</td><td>null</td><td>null</td><td>null</td><td>null</td><td>null</td><td>null</td><td>null</td><td>null</td><td>null</td><td>null</td><td>null</td><td>null</td><td>null</td><td>null</td><td>null</td><td>null</td><td>null</td><td>null</td><td>null</td><td>null</td><td>TAS</td></tr>\n",
       "<tr><td>null</td><td>6872</td><td>799687</td><td>24034</td><td>38090089066</td><td>118.19708950112054</td><td>ece422e2-c9e8-42c...</td><td>2021-04-02</td><td>Interdum Feugiat ...</td><td>[furniture,  home...</td><td>Angela Little</td><td>337 Carter Walk</td><td>Female</td><td>Western Austraia</td><td>null</td><td>null</td><td>null</td><td>null</td><td>null</td><td>null</td><td>null</td><td>null</td><td>null</td><td>null</td><td>null</td><td>null</td><td>null</td><td>null</td><td>null</td><td>null</td><td>null</td><td>null</td><td>null</td><td>null</td><td>WA</td></tr>\n",
       "<tr><td>null</td><td>7330</td><td>334995</td><td>4041</td><td>33357097824</td><td>24.599565257317405</td><td>7fd18add-d03c-479...</td><td>2021-07-29</td><td>Sem Ut Incorporated</td><td>[hobby,  toy and ...</td><td>Eric Cooper</td><td>137 Brian Turnpike</td><td>Male</td><td>Tasmania</td><td>null</td><td>null</td><td>null</td><td>null</td><td>null</td><td>null</td><td>null</td><td>null</td><td>null</td><td>null</td><td>null</td><td>null</td><td>null</td><td>null</td><td>null</td><td>null</td><td>null</td><td>null</td><td>null</td><td>null</td><td>TAS</td></tr>\n",
       "<tr><td>null</td><td>852</td><td>1140</td><td>6421</td><td>48534649627</td><td>269.8021779483706</td><td>dcc21448-04c5-42d...</td><td>2021-08-14</td><td>Dignissim Maecena...</td><td>[opticians,  opti...</td><td>Christopher Powell</td><td>880 Brandon Stree...</td><td>Undisclosed</td><td>Northern Territory</td><td>null</td><td>null</td><td>null</td><td>null</td><td>null</td><td>null</td><td>null</td><td>null</td><td>null</td><td>null</td><td>null</td><td>null</td><td>null</td><td>null</td><td>null</td><td>null</td><td>null</td><td>null</td><td>null</td><td>null</td><td>NT</td></tr>\n",
       "</table>\n"
      ],
      "text/plain": [
       "+-------------+--------+-----------+-------+------------+------------------+--------------------+--------------+--------------------+--------------------+------------------+--------------------+-----------+------------------+---------------------------+------------------+-----------------------------+------------------+-------------------------+----------------------+-----------------+---------------------+-------+------------+-------------+--------------+--------------+--------------+--------------+--------------+--------------+--------------+--------------+----------+-----+\n",
       "|SA2_CODE_2021|postcode|consumer_id|user_id|merchant_abn|      dollar_value|            order_id|order_datetime|                name|                tags|     consumer_name|             address|     gender|     SA2_NAME_2021|Median_tot_prsnl_inc_weekly|Median_rent_weekly|Median_mortgage_repay_monthly|Median_age_persons|Median_tot_hhd_inc_weekly|Average_household_size|Completed Year 12|Did Not Attend School|TOT_P_P|Age_0_4_yr_P|Age_5_14_yr_P|Age_15_19_yr_P|Age_20_24_yr_P|Age_25_34_yr_P|Age_35_44_yr_P|Age_45_54_yr_P|Age_55_64_yr_P|Age_65_74_yr_P|Age_75_84_yr_P|Age_85ov_P|state|\n",
       "+-------------+--------+-----------+-------+------------+------------------+--------------------+--------------+--------------------+--------------------+------------------+--------------------+-----------+------------------+---------------------------+------------------+-----------------------------+------------------+-------------------------+----------------------+-----------------+---------------------+-------+------------+-------------+--------------+--------------+--------------+--------------+--------------+--------------+--------------+--------------+----------+-----+\n",
       "|         null|     852|       1140|   6421| 23338656015|240.79240453805204|c22bbaa1-8e70-49b...|    2021-08-19|         Iaculis LLC|[watch,  clock,  ...|Christopher Powell|880 Brandon Stree...|Undisclosed|Northern Territory|                       null|              null|                         null|              null|                     null|                  null|             null|                 null|   null|        null|         null|          null|          null|          null|          null|          null|          null|          null|          null|      null|   NT|\n",
       "|         null|    7321|      94215|  11809| 49891706470| 48.86426156234827|5cfef23a-a07c-455...|    2021-05-21|Non Vestibulum In...|[tent and awning ...|        Amy Nguyen|85806 Melton Squares|     Female|          Tasmania|                       null|              null|                         null|              null|                     null|                  null|             null|                 null|   null|        null|         null|          null|          null|          null|          null|          null|          null|          null|          null|      null|  TAS|\n",
       "|         null|    6872|     799687|  24034| 38090089066|118.19708950112054|ece422e2-c9e8-42c...|    2021-04-02|Interdum Feugiat ...|[furniture,  home...|     Angela Little|     337 Carter Walk|     Female|  Western Austraia|                       null|              null|                         null|              null|                     null|                  null|             null|                 null|   null|        null|         null|          null|          null|          null|          null|          null|          null|          null|          null|      null|   WA|\n",
       "|         null|    7330|     334995|   4041| 33357097824|24.599565257317405|7fd18add-d03c-479...|    2021-07-29| Sem Ut Incorporated|[hobby,  toy and ...|       Eric Cooper|  137 Brian Turnpike|       Male|          Tasmania|                       null|              null|                         null|              null|                     null|                  null|             null|                 null|   null|        null|         null|          null|          null|          null|          null|          null|          null|          null|          null|      null|  TAS|\n",
       "|         null|     852|       1140|   6421| 48534649627| 269.8021779483706|dcc21448-04c5-42d...|    2021-08-14|Dignissim Maecena...|[opticians,  opti...|Christopher Powell|880 Brandon Stree...|Undisclosed|Northern Territory|                       null|              null|                         null|              null|                     null|                  null|             null|                 null|   null|        null|         null|          null|          null|          null|          null|          null|          null|          null|          null|      null|   NT|\n",
       "+-------------+--------+-----------+-------+------------+------------------+--------------------+--------------+--------------------+--------------------+------------------+--------------------+-----------+------------------+---------------------------+------------------+-----------------------------+------------------+-------------------------+----------------------+-----------------+---------------------+-------+------------+-------------+--------------+--------------+--------------+--------------+--------------+--------------+--------------+--------------+----------+-----+"
      ]
     },
     "execution_count": 9,
     "metadata": {},
     "output_type": "execute_result"
    }
   ],
   "source": [
    "import pyspark.sql.functions as f\n",
    "import pandas as pd\n",
    "data = data.withColumn(\n",
    "    'state',\n",
    "    F.when(((col('postcode') >= 1000) & (col('postcode') <= 1999)) | ((col('postcode') >= 2000) & (col('postcode') <= 2599)) | ((col('postcode') >= 2619) & (col('postcode') < 2899)) | ((col('postcode') >= 2921) & (col('postcode') < 2999)), 'NSW')\\\n",
    "    .when(((col('postcode') >= 200) & (col('postcode') <= 299)) | ((col('postcode') >= 2600) & (col('postcode') <= 2618)) | ((col('postcode') >= 2900) & (col('postcode') < 2920)), 'ACT')\\\n",
    "    .when(((col('postcode') >= 3000) & (col('postcode') <= 3999)) | ((col('postcode') >= 8000) & (col('postcode') <= 8999)), 'VIC')\\\n",
    "    .when(((col('postcode') >= 4000) & (col('postcode') <= 4999)) | ((col('postcode') >= 9000) & (col('postcode') <= 9999)), 'QLD')\\\n",
    "    .when(((col('postcode') >= 5000) & (col('postcode') <= 5999)), 'SA')\\\n",
    "    .when(((col('postcode') >= 6000) & (col('postcode') <= 6999)), 'WA')\\\n",
    "    .when(((col('postcode') >= 7000) & (col('postcode') <= 7999)), 'TAS')\\\n",
    "    .otherwise('NT')\n",
    ")\n",
    "data = data.withColumn(\n",
    "    'SA2_NAME_2021',\n",
    "    F.when( (col('state') == 'VIC') & (col('SA2_NAME_2021').isNull()), 'Victoria')\\\n",
    "    .when( (col('state') == 'NSW') & (col('SA2_NAME_2021').isNull()), 'New South Wales')\\\n",
    "    .when( (col('state') == 'QLD') & (col('SA2_NAME_2021').isNull()), 'Queensland')\\\n",
    "    .when( (col('state') == 'NT') & (col('SA2_NAME_2021').isNull()), 'Northern Territory')\\\n",
    "    .when( (col('state') == 'WA') & (col('SA2_NAME_2021').isNull()), 'Western Austraia')\\\n",
    "    .when( (col('state') == 'SA') & (col('SA2_NAME_2021').isNull()), 'South Australia')\\\n",
    "    .when( (col('state') == 'TAS') & (col('SA2_NAME_2021').isNull()), 'Tasmania')\\\n",
    "    .otherwise('Australian Capital Territory')\n",
    ")\n",
    "data.limit(5)"
   ]
  },
  {
   "cell_type": "code",
   "execution_count": 10,
   "metadata": {},
   "outputs": [],
   "source": [
    "data = data.withColumn(\"Median_tot_prsnl_inc_weekly\", data.Median_tot_prsnl_inc_weekly.cast('float'))\n",
    "data = data.withColumn(\"Median_rent_weekly\", data.Median_rent_weekly.cast('float'))\n",
    "data = data.withColumn(\"Median_mortgage_repay_monthly\",data.Median_mortgage_repay_monthly.cast('float'))\n",
    "data = data.withColumn(\"Median_age_persons\",data.Median_age_persons.cast('float'))\n",
    "data = data.withColumn(\"Median_tot_hhd_inc_weekly\",data.Median_tot_hhd_inc_weekly.cast('float'))\n",
    "data = data.withColumn(\"Average_household_size\",data.Average_household_size.cast('float'))\n",
    "data = data.withColumnRenamed(\"Completed Year 12\", \"Completed_Year_12\")\n",
    "data = data.withColumn(\"Completed_Year_12\",data.Completed_Year_12.cast('float'))\n",
    "data = data.withColumnRenamed(\"Did Not Attend School\", \"Did_Not_Attend_School\")\n",
    "data = data.withColumn(\"Did_Not_Attend_School\",data.Did_Not_Attend_School.cast('float'))\n",
    "data = data.withColumn(\"TOT_P_P\",data.TOT_P_P.cast('float'))\n",
    "data = data.withColumn(\"Age_0_4_yr_P\",data.Age_0_4_yr_P.cast('float'))\n",
    "data = data.withColumn(\"Age_5_14_yr_P\",data.Age_5_14_yr_P.cast('float'))\n",
    "data = data.withColumn(\"Age_15_19_yr_P\",data.Age_15_19_yr_P.cast('float'))\n",
    "data = data.withColumn(\"Age_20_24_yr_P\",data.Age_20_24_yr_P.cast('float'))\n",
    "data = data.withColumn(\"Age_25_34_yr_P\",data.Age_25_34_yr_P.cast('float'))\n",
    "data = data.withColumn(\"Age_35_44_yr_P\",data.Age_35_44_yr_P.cast('float'))\n",
    "data = data.withColumn(\"Age_45_54_yr_P\",data.Age_45_54_yr_P.cast('float'))\n",
    "data = data.withColumn(\"Age_55_64_yr_P\",data.Age_55_64_yr_P.cast('float'))\n",
    "data = data.withColumn(\"Age_65_74_yr_P\",data.Age_65_74_yr_P.cast('float'))\n",
    "data = data.withColumn(\"Age_75_84_yr_P\",data.Age_75_84_yr_P.cast('float'))\n",
    "data = data.withColumn(\"Age_75_84_yr_P\",data.Age_75_84_yr_P.cast('float'))\n",
    "data = data.withColumn(\"Age_75_84_yr_P\",data.Age_75_84_yr_P.cast('float'))\n",
    "data = data.withColumn(\"Age_85ov_P\",data.Age_85ov_P.cast('float'))\n"
   ]
  },
  {
   "cell_type": "code",
   "execution_count": 147,
   "metadata": {},
   "outputs": [
    {
     "name": "stderr",
     "output_type": "stream",
     "text": [
      "                                                                                \r"
     ]
    },
    {
     "data": {
      "text/html": [
       "<table border='1'>\n",
       "<tr><th>state</th><th>avg(consumer_id)</th><th>avg(user_id)</th><th>avg(merchant_abn)</th><th>avg(dollar_value)</th><th>avg(Median_rent_weekly)</th><th>avg(Median_mortgage_repay_monthly)</th><th>avg(Median_age_persons)</th><th>avg(Median_tot_hhd_inc_weekly)</th><th>avg(Average_household_size)</th><th>avg(Completed_Year_12)</th><th>avg(Did_Not_Attend_School)</th><th>avg(TOT_P_P)</th><th>avg(Age_0_4_yr_P)</th><th>avg(Age_5_14_yr_P)</th><th>avg(Age_15_19_yr_P)</th><th>avg(Age_20_24_yr_P)</th><th>avg(Age_25_34_yr_P)</th><th>avg(Age_35_44_yr_P)</th><th>avg(Age_45_54_yr_P)</th><th>avg(Age_55_64_yr_P)</th><th>avg(Age_65_74_yr_P)</th><th>avg(Age_75_84_yr_P)</th><th>avg(Age_85ov_P)</th></tr>\n",
       "<tr><td>NT</td><td>700007.6518392774</td><td>12368.083358220294</td><td>5.645368617969288E10</td><td>149.51633014332364</td><td>87.9500782220102</td><td>478.8819373802993</td><td>31.990788744449045</td><td>1277.1489375135925</td><td>3.4840981139623093</td><td>709.3371263408235</td><td>37.410346351627226</td><td>3169.560259009562</td><td>189.11927628855855</td><td>366.8003339343216</td><td>203.83062654777856</td><td>274.28154311330616</td><td>669.4101639505272</td><td>502.12604617554</td><td>435.1914439853237</td><td>342.297306777604</td><td>125.70409630778082</td><td>42.06529257837986</td><td>17.79855903130985</td></tr>\n",
       "<tr><td>ACT</td><td>757414.1779197967</td><td>11791.032408837731</td><td>5.580714729691582E10</td><td>163.03838550411336</td><td>402.75962734886497</td><td>1949.3786282130754</td><td>35.847500803127446</td><td>2284.063630317043</td><td>2.3944066075994628</td><td>2628.0384505748584</td><td>15.697829519797658</td><td>4344.574722525123</td><td>239.78317368818747</td><td>505.6231499789603</td><td>265.0335458416097</td><td>347.3054418105886</td><td>756.2062386035084</td><td>634.215360321432</td><td>540.4276438729294</td><td>456.12947319364196</td><td>354.1367714729131</td><td>180.13218346598134</td><td>65.95499771504586</td></tr>\n",
       "<tr><td>SA</td><td>758814.4433247212</td><td>11813.756111437275</td><td>5.587278183620381E10</td><td>159.07315739562105</td><td>199.18416140802304</td><td>1069.03480178228</td><td>47.13529300669113</td><td>1226.6664763894582</td><td>2.258507024866534</td><td>2182.486092534747</td><td>28.611025993301595</td><td>6149.016459231163</td><td>308.97961133732844</td><td>716.0268275706521</td><td>314.06660450068756</td><td>293.23685147100554</td><td>678.3452006489837</td><td>683.5231756730539</td><td>779.9096740045158</td><td>935.3453428263774</td><td>835.5851795679263</td><td>440.1321804131087</td><td>164.24808606188628</td></tr>\n",
       "<tr><td>TAS</td><td>716152.2497466155</td><td>11750.990522782971</td><td>5.575075575214775E10</td><td>158.1451704134173</td><td>247.91508634682842</td><td>1182.5427094138233</td><td>46.957218003637045</td><td>1225.7466943272127</td><td>2.277830912050027</td><td>1654.4454957915325</td><td>10.896212247181818</td><td>5081.844906685248</td><td>248.56150697188284</td><td>578.2532956432001</td><td>260.97548927230065</td><td>235.90282385669303</td><td>562.1103254601073</td><td>560.1099960673461</td><td>654.4874437485319</td><td>815.6952620757551</td><td>717.6227201824329</td><td>345.01931698510606</td><td>102.33022732851386</td></tr>\n",
       "<tr><td>WA</td><td>760070.0500151335</td><td>12247.06972745315</td><td>5.592799003636488E10</td><td>160.249466482334</td><td>235.5527510544241</td><td>1437.028984063036</td><td>42.581815939994776</td><td>1530.0211433587413</td><td>2.4394982812246875</td><td>2478.71725636885</td><td>28.07392873978152</td><td>6548.73302066646</td><td>374.6621691528398</td><td>813.4824127179769</td><td>335.70097131695496</td><td>332.4277592342616</td><td>855.2077198837901</td><td>877.2738058527914</td><td>884.7022050086551</td><td>897.2414754612912</td><td>717.4611607539548</td><td>350.85974351244175</td><td>110.15619551797715</td></tr>\n",
       "<tr><td>QLD</td><td>746628.021668531</td><td>12040.489371904825</td><td>5.582572139488198E10</td><td>159.0428476651104</td><td>244.15880563861472</td><td>1314.0752483250237</td><td>41.714496689157386</td><td>1466.238010910226</td><td>2.520670685421044</td><td>2720.037294460769</td><td>30.33145496559106</td><td>7765.427526962527</td><td>439.58056954924746</td><td>1024.785338407404</td><td>445.7255284506005</td><td>409.41527879509994</td><td>929.9685759334338</td><td>936.0585798833365</td><td>1033.8205188239615</td><td>1094.5369516697826</td><td>881.3959722137969</td><td>441.0361307271616</td><td>127.40040478879166</td></tr>\n",
       "<tr><td>VIC</td><td>762374.7597994036</td><td>12229.776857401534</td><td>5.58478263309848E10</td><td>156.3518395435879</td><td>276.0413448062838</td><td>1452.774237045356</td><td>45.21639873221335</td><td>1471.0240264506567</td><td>2.392283172952558</td><td>3932.661585145785</td><td>57.57916776424643</td><td>9672.860644336348</td><td>513.2277276302308</td><td>1153.960691114338</td><td>527.4418103363422</td><td>499.6983871436459</td><td>1193.4942538066878</td><td>1170.5818006432676</td><td>1235.8209612267644</td><td>1337.3127722661827</td><td>1185.39246565005</td><td>624.0616807641218</td><td>231.72313373161808</td></tr>\n",
       "<tr><td>NSW</td><td>750941.615912689</td><td>11867.755331151793</td><td>5.590629894817144E10</td><td>159.11939422487316</td><td>351.68120935335656</td><td>1814.3416669907058</td><td>44.26223298817287</td><td>1625.0275687971643</td><td>2.4792831829350526</td><td>4383.78123400978</td><td>52.53136657119299</td><td>10867.791191028951</td><td>589.9850943527954</td><td>1333.9051728556644</td><td>611.0508426045313</td><td>572.7601993856221</td><td>1324.9165633055868</td><td>1326.75730943634</td><td>1387.2278518599692</td><td>1482.5984677226215</td><td>1289.7086481298677</td><td>696.7499085326247</td><td>252.29505486275033</td></tr>\n",
       "</table>\n"
      ],
      "text/plain": [
       "+-----+-----------------+------------------+--------------------+------------------+-----------------------+----------------------------------+-----------------------+------------------------------+---------------------------+----------------------+--------------------------+------------------+------------------+------------------+-------------------+-------------------+-------------------+-------------------+-------------------+-------------------+-------------------+-------------------+------------------+\n",
       "|state| avg(consumer_id)|      avg(user_id)|   avg(merchant_abn)| avg(dollar_value)|avg(Median_rent_weekly)|avg(Median_mortgage_repay_monthly)|avg(Median_age_persons)|avg(Median_tot_hhd_inc_weekly)|avg(Average_household_size)|avg(Completed_Year_12)|avg(Did_Not_Attend_School)|      avg(TOT_P_P)| avg(Age_0_4_yr_P)|avg(Age_5_14_yr_P)|avg(Age_15_19_yr_P)|avg(Age_20_24_yr_P)|avg(Age_25_34_yr_P)|avg(Age_35_44_yr_P)|avg(Age_45_54_yr_P)|avg(Age_55_64_yr_P)|avg(Age_65_74_yr_P)|avg(Age_75_84_yr_P)|   avg(Age_85ov_P)|\n",
       "+-----+-----------------+------------------+--------------------+------------------+-----------------------+----------------------------------+-----------------------+------------------------------+---------------------------+----------------------+--------------------------+------------------+------------------+------------------+-------------------+-------------------+-------------------+-------------------+-------------------+-------------------+-------------------+-------------------+------------------+\n",
       "|   NT|700007.6518392774|12368.083358220294|5.645368617969288E10|149.51633014332364|       87.9500782220102|                 478.8819373802993|     31.990788744449045|            1277.1489375135925|         3.4840981139623093|     709.3371263408235|        37.410346351627226| 3169.560259009562|189.11927628855855| 366.8003339343216| 203.83062654777856| 274.28154311330616|  669.4101639505272|    502.12604617554|  435.1914439853237|   342.297306777604| 125.70409630778082|  42.06529257837986| 17.79855903130985|\n",
       "|  ACT|757414.1779197967|11791.032408837731|5.580714729691582E10|163.03838550411336|     402.75962734886497|                1949.3786282130754|     35.847500803127446|             2284.063630317043|         2.3944066075994628|    2628.0384505748584|        15.697829519797658| 4344.574722525123|239.78317368818747| 505.6231499789603|  265.0335458416097|  347.3054418105886|  756.2062386035084|   634.215360321432|  540.4276438729294| 456.12947319364196|  354.1367714729131| 180.13218346598134| 65.95499771504586|\n",
       "|   SA|758814.4433247212|11813.756111437275|5.587278183620381E10|159.07315739562105|     199.18416140802304|                  1069.03480178228|      47.13529300669113|            1226.6664763894582|          2.258507024866534|     2182.486092534747|        28.611025993301595| 6149.016459231163|308.97961133732844| 716.0268275706521| 314.06660450068756| 293.23685147100554|  678.3452006489837|  683.5231756730539|  779.9096740045158|  935.3453428263774|  835.5851795679263|  440.1321804131087|164.24808606188628|\n",
       "|  TAS|716152.2497466155|11750.990522782971|5.575075575214775E10| 158.1451704134173|     247.91508634682842|                1182.5427094138233|     46.957218003637045|            1225.7466943272127|          2.277830912050027|    1654.4454957915325|        10.896212247181818| 5081.844906685248|248.56150697188284| 578.2532956432001| 260.97548927230065| 235.90282385669303|  562.1103254601073|  560.1099960673461|  654.4874437485319|  815.6952620757551|  717.6227201824329| 345.01931698510606|102.33022732851386|\n",
       "|   WA|760070.0500151335| 12247.06972745315|5.592799003636488E10|  160.249466482334|      235.5527510544241|                 1437.028984063036|     42.581815939994776|            1530.0211433587413|         2.4394982812246875|      2478.71725636885|         28.07392873978152|  6548.73302066646| 374.6621691528398| 813.4824127179769| 335.70097131695496|  332.4277592342616|  855.2077198837901|  877.2738058527914|  884.7022050086551|  897.2414754612912|  717.4611607539548| 350.85974351244175|110.15619551797715|\n",
       "|  QLD| 746628.021668531|12040.489371904825|5.582572139488198E10| 159.0428476651104|     244.15880563861472|                1314.0752483250237|     41.714496689157386|             1466.238010910226|          2.520670685421044|     2720.037294460769|         30.33145496559106| 7765.427526962527|439.58056954924746| 1024.785338407404|  445.7255284506005| 409.41527879509994|  929.9685759334338|  936.0585798833365| 1033.8205188239615| 1094.5369516697826|  881.3959722137969|  441.0361307271616|127.40040478879166|\n",
       "|  VIC|762374.7597994036|12229.776857401534| 5.58478263309848E10| 156.3518395435879|      276.0413448062838|                 1452.774237045356|      45.21639873221335|            1471.0240264506567|          2.392283172952558|     3932.661585145785|         57.57916776424643| 9672.860644336348| 513.2277276302308| 1153.960691114338|  527.4418103363422|  499.6983871436459| 1193.4942538066878| 1170.5818006432676| 1235.8209612267644| 1337.3127722661827|   1185.39246565005|  624.0616807641218|231.72313373161808|\n",
       "|  NSW| 750941.615912689|11867.755331151793|5.590629894817144E10|159.11939422487316|     351.68120935335656|                1814.3416669907058|      44.26223298817287|            1625.0275687971643|         2.4792831829350526|      4383.78123400978|         52.53136657119299|10867.791191028951| 589.9850943527954|1333.9051728556644|  611.0508426045313|  572.7601993856221| 1324.9165633055868|   1326.75730943634| 1387.2278518599692| 1482.5984677226215| 1289.7086481298677|  696.7499085326247|252.29505486275033|\n",
       "+-----+-----------------+------------------+--------------------+------------------+-----------------------+----------------------------------+-----------------------+------------------------------+---------------------------+----------------------+--------------------------+------------------+------------------+------------------+-------------------+-------------------+-------------------+-------------------+-------------------+-------------------+-------------------+-------------------+------------------+"
      ]
     },
     "execution_count": 147,
     "metadata": {},
     "output_type": "execute_result"
    }
   ],
   "source": [
    "data.groupBy('state').mean()"
   ]
  },
  {
   "cell_type": "code",
   "execution_count": 11,
   "metadata": {},
   "outputs": [
    {
     "name": "stderr",
     "output_type": "stream",
     "text": [
      "                                                                                \r"
     ]
    },
    {
     "data": {
      "text/html": [
       "<table border='1'>\n",
       "<tr><th>SA2_CODE_2021</th><th>postcode</th><th>consumer_id</th><th>user_id</th><th>merchant_abn</th><th>dollar_value</th><th>order_id</th><th>order_datetime</th><th>name</th><th>tags</th><th>consumer_name</th><th>address</th><th>gender</th><th>SA2_NAME_2021</th><th>Median_tot_prsnl_inc_weekly</th><th>Median_rent_weekly</th><th>Median_mortgage_repay_monthly</th><th>Median_age_persons</th><th>Median_tot_hhd_inc_weekly</th><th>Average_household_size</th><th>Completed_Year_12</th><th>Did_Not_Attend_School</th><th>TOT_P_P</th><th>Age_0_4_yr_P</th><th>Age_5_14_yr_P</th><th>Age_15_19_yr_P</th><th>Age_20_24_yr_P</th><th>Age_25_34_yr_P</th><th>Age_35_44_yr_P</th><th>Age_45_54_yr_P</th><th>Age_55_64_yr_P</th><th>Age_65_74_yr_P</th><th>Age_75_84_yr_P</th><th>Age_85ov_P</th><th>state</th></tr>\n",
       "<tr><td>null</td><td>852</td><td>1140</td><td>6421</td><td>23338656015</td><td>240.79240453805204</td><td>c22bbaa1-8e70-49b...</td><td>2021-08-19</td><td>Iaculis LLC</td><td>[watch,  clock,  ...</td><td>Christopher Powell</td><td>880 Brandon Stree...</td><td>Undisclosed</td><td>Northern Territory</td><td>645.9527090071066</td><td>87.9500782220102</td><td>478.8819373802993</td><td>31.990788744449045</td><td>1277.1489375135925</td><td>3.4840981139623093</td><td>709.3371263408235</td><td>37.410346351627226</td><td>3169.560259009562</td><td>null</td><td>366.8003339343216</td><td>203.83062654777856</td><td>274.28154311330616</td><td>669.4101639505272</td><td>502.12604617554</td><td>435.1914439853237</td><td>342.297306777604</td><td>125.70409630778082</td><td>42.06529257837986</td><td>17.79855903130985</td><td>NT</td></tr>\n",
       "<tr><td>null</td><td>7321</td><td>94215</td><td>11809</td><td>49891706470</td><td>48.86426156234827</td><td>5cfef23a-a07c-455...</td><td>2021-05-21</td><td>Non Vestibulum In...</td><td>[tent and awning ...</td><td>Amy Nguyen</td><td>85806 Melton Squares</td><td>Female</td><td>Tasmania</td><td>654.7627923426741</td><td>247.91508634682842</td><td>1182.5427094138233</td><td>46.957218003637045</td><td>1225.7466943272127</td><td>2.277830912050027</td><td>1654.4454957915325</td><td>10.896212247181818</td><td>5081.844906685248</td><td>null</td><td>578.2532956432001</td><td>260.97548927230065</td><td>235.90282385669303</td><td>562.1103254601073</td><td>560.1099960673461</td><td>654.4874437485319</td><td>815.6952620757551</td><td>717.6227201824329</td><td>345.01931698510606</td><td>102.33022732851386</td><td>TAS</td></tr>\n",
       "<tr><td>null</td><td>6872</td><td>799687</td><td>24034</td><td>38090089066</td><td>118.19708950112054</td><td>ece422e2-c9e8-42c...</td><td>2021-04-02</td><td>Interdum Feugiat ...</td><td>[furniture,  home...</td><td>Angela Little</td><td>337 Carter Walk</td><td>Female</td><td>Western Austraia</td><td>836.7966870108314</td><td>235.5527510544241</td><td>1437.028984063036</td><td>42.581815939994776</td><td>1530.0211433587413</td><td>2.4394982812246875</td><td>2478.71725636885</td><td>28.07392873978152</td><td>6548.73302066646</td><td>null</td><td>813.4824127179769</td><td>335.70097131695496</td><td>332.4277592342616</td><td>855.2077198837901</td><td>877.2738058527914</td><td>884.7022050086551</td><td>897.2414754612912</td><td>717.4611607539548</td><td>350.85974351244175</td><td>110.15619551797715</td><td>WA</td></tr>\n",
       "<tr><td>null</td><td>7330</td><td>334995</td><td>4041</td><td>33357097824</td><td>24.599565257317405</td><td>7fd18add-d03c-479...</td><td>2021-07-29</td><td>Sem Ut Incorporated</td><td>[hobby,  toy and ...</td><td>Eric Cooper</td><td>137 Brian Turnpike</td><td>Male</td><td>Tasmania</td><td>654.7627923426741</td><td>247.91508634682842</td><td>1182.5427094138233</td><td>46.957218003637045</td><td>1225.7466943272127</td><td>2.277830912050027</td><td>1654.4454957915325</td><td>10.896212247181818</td><td>5081.844906685248</td><td>null</td><td>578.2532956432001</td><td>260.97548927230065</td><td>235.90282385669303</td><td>562.1103254601073</td><td>560.1099960673461</td><td>654.4874437485319</td><td>815.6952620757551</td><td>717.6227201824329</td><td>345.01931698510606</td><td>102.33022732851386</td><td>TAS</td></tr>\n",
       "<tr><td>null</td><td>852</td><td>1140</td><td>6421</td><td>48534649627</td><td>269.8021779483706</td><td>dcc21448-04c5-42d...</td><td>2021-08-14</td><td>Dignissim Maecena...</td><td>[opticians,  opti...</td><td>Christopher Powell</td><td>880 Brandon Stree...</td><td>Undisclosed</td><td>Northern Territory</td><td>645.9527090071066</td><td>87.9500782220102</td><td>478.8819373802993</td><td>31.990788744449045</td><td>1277.1489375135925</td><td>3.4840981139623093</td><td>709.3371263408235</td><td>37.410346351627226</td><td>3169.560259009562</td><td>null</td><td>366.8003339343216</td><td>203.83062654777856</td><td>274.28154311330616</td><td>669.4101639505272</td><td>502.12604617554</td><td>435.1914439853237</td><td>342.297306777604</td><td>125.70409630778082</td><td>42.06529257837986</td><td>17.79855903130985</td><td>NT</td></tr>\n",
       "<tr><td>null</td><td>7321</td><td>94215</td><td>11809</td><td>49891706470</td><td>48.86426156234827</td><td>5cfef23a-a07c-455...</td><td>2021-05-21</td><td>Non Vestibulum In...</td><td>[tent and awning ...</td><td>Amy Nguyen</td><td>85806 Melton Squares</td><td>Female</td><td>Tasmania</td><td>654.7627923426741</td><td>247.91508634682842</td><td>1182.5427094138233</td><td>46.957218003637045</td><td>1225.7466943272127</td><td>2.277830912050027</td><td>1654.4454957915325</td><td>10.896212247181818</td><td>5081.844906685248</td><td>null</td><td>578.2532956432001</td><td>260.97548927230065</td><td>235.90282385669303</td><td>562.1103254601073</td><td>560.1099960673461</td><td>654.4874437485319</td><td>815.6952620757551</td><td>717.6227201824329</td><td>345.01931698510606</td><td>102.33022732851386</td><td>TAS</td></tr>\n",
       "<tr><td>null</td><td>6872</td><td>799687</td><td>24034</td><td>89726005175</td><td>58.42108971934746</td><td>912a54f6-e059-47f...</td><td>2021-03-27</td><td>Est Nunc Consulting</td><td>[tent and awning ...</td><td>Angela Little</td><td>337 Carter Walk</td><td>Female</td><td>Western Austraia</td><td>836.7966870108314</td><td>235.5527510544241</td><td>1437.028984063036</td><td>42.581815939994776</td><td>1530.0211433587413</td><td>2.4394982812246875</td><td>2478.71725636885</td><td>28.07392873978152</td><td>6548.73302066646</td><td>null</td><td>813.4824127179769</td><td>335.70097131695496</td><td>332.4277592342616</td><td>855.2077198837901</td><td>877.2738058527914</td><td>884.7022050086551</td><td>897.2414754612912</td><td>717.4611607539548</td><td>350.85974351244175</td><td>110.15619551797715</td><td>WA</td></tr>\n",
       "<tr><td>null</td><td>7330</td><td>334995</td><td>4041</td><td>33357097824</td><td>24.599565257317405</td><td>7fd18add-d03c-479...</td><td>2021-07-29</td><td>Sem Ut Incorporated</td><td>[hobby,  toy and ...</td><td>Eric Cooper</td><td>137 Brian Turnpike</td><td>Male</td><td>Tasmania</td><td>654.7627923426741</td><td>247.91508634682842</td><td>1182.5427094138233</td><td>46.957218003637045</td><td>1225.7466943272127</td><td>2.277830912050027</td><td>1654.4454957915325</td><td>10.896212247181818</td><td>5081.844906685248</td><td>null</td><td>578.2532956432001</td><td>260.97548927230065</td><td>235.90282385669303</td><td>562.1103254601073</td><td>560.1099960673461</td><td>654.4874437485319</td><td>815.6952620757551</td><td>717.6227201824329</td><td>345.01931698510606</td><td>102.33022732851386</td><td>TAS</td></tr>\n",
       "<tr><td>null</td><td>852</td><td>1140</td><td>6421</td><td>82065156333</td><td>13.141362673704986</td><td>343f78b0-8b73-44f...</td><td>2021-08-15</td><td>Nascetur Ridiculu...</td><td>[tent and awning ...</td><td>Christopher Powell</td><td>880 Brandon Stree...</td><td>Undisclosed</td><td>Northern Territory</td><td>645.9527090071066</td><td>87.9500782220102</td><td>478.8819373802993</td><td>31.990788744449045</td><td>1277.1489375135925</td><td>3.4840981139623093</td><td>709.3371263408235</td><td>37.410346351627226</td><td>3169.560259009562</td><td>null</td><td>366.8003339343216</td><td>203.83062654777856</td><td>274.28154311330616</td><td>669.4101639505272</td><td>502.12604617554</td><td>435.1914439853237</td><td>342.297306777604</td><td>125.70409630778082</td><td>42.06529257837986</td><td>17.79855903130985</td><td>NT</td></tr>\n",
       "<tr><td>null</td><td>7321</td><td>94215</td><td>11809</td><td>49891706470</td><td>48.86426156234827</td><td>5cfef23a-a07c-455...</td><td>2021-05-21</td><td>Non Vestibulum In...</td><td>[tent and awning ...</td><td>Amy Nguyen</td><td>85806 Melton Squares</td><td>Female</td><td>Tasmania</td><td>654.7627923426741</td><td>247.91508634682842</td><td>1182.5427094138233</td><td>46.957218003637045</td><td>1225.7466943272127</td><td>2.277830912050027</td><td>1654.4454957915325</td><td>10.896212247181818</td><td>5081.844906685248</td><td>null</td><td>578.2532956432001</td><td>260.97548927230065</td><td>235.90282385669303</td><td>562.1103254601073</td><td>560.1099960673461</td><td>654.4874437485319</td><td>815.6952620757551</td><td>717.6227201824329</td><td>345.01931698510606</td><td>102.33022732851386</td><td>TAS</td></tr>\n",
       "<tr><td>null</td><td>6872</td><td>799687</td><td>24034</td><td>19933438190</td><td>6.428574535888197</td><td>2a6591b3-bd24-4b0...</td><td>2021-03-13</td><td>Dui Nec Corporation</td><td>[tent and awning ...</td><td>Angela Little</td><td>337 Carter Walk</td><td>Female</td><td>Western Austraia</td><td>836.7966870108314</td><td>235.5527510544241</td><td>1437.028984063036</td><td>42.581815939994776</td><td>1530.0211433587413</td><td>2.4394982812246875</td><td>2478.71725636885</td><td>28.07392873978152</td><td>6548.73302066646</td><td>null</td><td>813.4824127179769</td><td>335.70097131695496</td><td>332.4277592342616</td><td>855.2077198837901</td><td>877.2738058527914</td><td>884.7022050086551</td><td>897.2414754612912</td><td>717.4611607539548</td><td>350.85974351244175</td><td>110.15619551797715</td><td>WA</td></tr>\n",
       "<tr><td>null</td><td>7330</td><td>334995</td><td>4041</td><td>33357097824</td><td>24.599565257317405</td><td>7fd18add-d03c-479...</td><td>2021-07-29</td><td>Sem Ut Incorporated</td><td>[hobby,  toy and ...</td><td>Eric Cooper</td><td>137 Brian Turnpike</td><td>Male</td><td>Tasmania</td><td>654.7627923426741</td><td>247.91508634682842</td><td>1182.5427094138233</td><td>46.957218003637045</td><td>1225.7466943272127</td><td>2.277830912050027</td><td>1654.4454957915325</td><td>10.896212247181818</td><td>5081.844906685248</td><td>null</td><td>578.2532956432001</td><td>260.97548927230065</td><td>235.90282385669303</td><td>562.1103254601073</td><td>560.1099960673461</td><td>654.4874437485319</td><td>815.6952620757551</td><td>717.6227201824329</td><td>345.01931698510606</td><td>102.33022732851386</td><td>TAS</td></tr>\n",
       "<tr><td>null</td><td>852</td><td>1140</td><td>6421</td><td>44454840859</td><td>99.71730586272048</td><td>32c0a3a3-4ca3-408...</td><td>2021-07-15</td><td>Erat Eget Ipsum PC</td><td>[cable,  satellit...</td><td>Christopher Powell</td><td>880 Brandon Stree...</td><td>Undisclosed</td><td>Northern Territory</td><td>645.9527090071066</td><td>87.9500782220102</td><td>478.8819373802993</td><td>31.990788744449045</td><td>1277.1489375135925</td><td>3.4840981139623093</td><td>709.3371263408235</td><td>37.410346351627226</td><td>3169.560259009562</td><td>null</td><td>366.8003339343216</td><td>203.83062654777856</td><td>274.28154311330616</td><td>669.4101639505272</td><td>502.12604617554</td><td>435.1914439853237</td><td>342.297306777604</td><td>125.70409630778082</td><td>42.06529257837986</td><td>17.79855903130985</td><td>NT</td></tr>\n",
       "<tr><td>null</td><td>7321</td><td>94215</td><td>11809</td><td>49891706470</td><td>48.86426156234827</td><td>5cfef23a-a07c-455...</td><td>2021-05-21</td><td>Non Vestibulum In...</td><td>[tent and awning ...</td><td>Amy Nguyen</td><td>85806 Melton Squares</td><td>Female</td><td>Tasmania</td><td>654.7627923426741</td><td>247.91508634682842</td><td>1182.5427094138233</td><td>46.957218003637045</td><td>1225.7466943272127</td><td>2.277830912050027</td><td>1654.4454957915325</td><td>10.896212247181818</td><td>5081.844906685248</td><td>null</td><td>578.2532956432001</td><td>260.97548927230065</td><td>235.90282385669303</td><td>562.1103254601073</td><td>560.1099960673461</td><td>654.4874437485319</td><td>815.6952620757551</td><td>717.6227201824329</td><td>345.01931698510606</td><td>102.33022732851386</td><td>TAS</td></tr>\n",
       "<tr><td>null</td><td>6872</td><td>799687</td><td>24034</td><td>80518954462</td><td>411.36978530788167</td><td>7ca4acbb-3be4-44a...</td><td>2021-03-13</td><td>Neque Sed Dictum ...</td><td>[computers,  comp...</td><td>Angela Little</td><td>337 Carter Walk</td><td>Female</td><td>Western Austraia</td><td>836.7966870108314</td><td>235.5527510544241</td><td>1437.028984063036</td><td>42.581815939994776</td><td>1530.0211433587413</td><td>2.4394982812246875</td><td>2478.71725636885</td><td>28.07392873978152</td><td>6548.73302066646</td><td>null</td><td>813.4824127179769</td><td>335.70097131695496</td><td>332.4277592342616</td><td>855.2077198837901</td><td>877.2738058527914</td><td>884.7022050086551</td><td>897.2414754612912</td><td>717.4611607539548</td><td>350.85974351244175</td><td>110.15619551797715</td><td>WA</td></tr>\n",
       "<tr><td>null</td><td>7330</td><td>334995</td><td>4041</td><td>33357097824</td><td>24.599565257317405</td><td>7fd18add-d03c-479...</td><td>2021-07-29</td><td>Sem Ut Incorporated</td><td>[hobby,  toy and ...</td><td>Eric Cooper</td><td>137 Brian Turnpike</td><td>Male</td><td>Tasmania</td><td>654.7627923426741</td><td>247.91508634682842</td><td>1182.5427094138233</td><td>46.957218003637045</td><td>1225.7466943272127</td><td>2.277830912050027</td><td>1654.4454957915325</td><td>10.896212247181818</td><td>5081.844906685248</td><td>null</td><td>578.2532956432001</td><td>260.97548927230065</td><td>235.90282385669303</td><td>562.1103254601073</td><td>560.1099960673461</td><td>654.4874437485319</td><td>815.6952620757551</td><td>717.6227201824329</td><td>345.01931698510606</td><td>102.33022732851386</td><td>TAS</td></tr>\n",
       "<tr><td>null</td><td>852</td><td>1140</td><td>6421</td><td>89726005175</td><td>18.955709912233143</td><td>afa95272-d3d8-44a...</td><td>2021-07-15</td><td>Est Nunc Consulting</td><td>[tent and awning ...</td><td>Christopher Powell</td><td>880 Brandon Stree...</td><td>Undisclosed</td><td>Northern Territory</td><td>645.9527090071066</td><td>87.9500782220102</td><td>478.8819373802993</td><td>31.990788744449045</td><td>1277.1489375135925</td><td>3.4840981139623093</td><td>709.3371263408235</td><td>37.410346351627226</td><td>3169.560259009562</td><td>null</td><td>366.8003339343216</td><td>203.83062654777856</td><td>274.28154311330616</td><td>669.4101639505272</td><td>502.12604617554</td><td>435.1914439853237</td><td>342.297306777604</td><td>125.70409630778082</td><td>42.06529257837986</td><td>17.79855903130985</td><td>NT</td></tr>\n",
       "<tr><td>null</td><td>7321</td><td>94215</td><td>11809</td><td>49891706470</td><td>48.86426156234827</td><td>5cfef23a-a07c-455...</td><td>2021-05-21</td><td>Non Vestibulum In...</td><td>[tent and awning ...</td><td>Amy Nguyen</td><td>85806 Melton Squares</td><td>Female</td><td>Tasmania</td><td>654.7627923426741</td><td>247.91508634682842</td><td>1182.5427094138233</td><td>46.957218003637045</td><td>1225.7466943272127</td><td>2.277830912050027</td><td>1654.4454957915325</td><td>10.896212247181818</td><td>5081.844906685248</td><td>null</td><td>578.2532956432001</td><td>260.97548927230065</td><td>235.90282385669303</td><td>562.1103254601073</td><td>560.1099960673461</td><td>654.4874437485319</td><td>815.6952620757551</td><td>717.6227201824329</td><td>345.01931698510606</td><td>102.33022732851386</td><td>TAS</td></tr>\n",
       "<tr><td>null</td><td>6872</td><td>799687</td><td>24034</td><td>26844395593</td><td>45.72220487127804</td><td>d6d53022-9486-4f7...</td><td>2021-04-27</td><td>Arcu Ac Inc.</td><td>[music shops - mu...</td><td>Angela Little</td><td>337 Carter Walk</td><td>Female</td><td>Western Austraia</td><td>836.7966870108314</td><td>235.5527510544241</td><td>1437.028984063036</td><td>42.581815939994776</td><td>1530.0211433587413</td><td>2.4394982812246875</td><td>2478.71725636885</td><td>28.07392873978152</td><td>6548.73302066646</td><td>null</td><td>813.4824127179769</td><td>335.70097131695496</td><td>332.4277592342616</td><td>855.2077198837901</td><td>877.2738058527914</td><td>884.7022050086551</td><td>897.2414754612912</td><td>717.4611607539548</td><td>350.85974351244175</td><td>110.15619551797715</td><td>WA</td></tr>\n",
       "<tr><td>null</td><td>7330</td><td>334995</td><td>4041</td><td>33357097824</td><td>24.599565257317405</td><td>7fd18add-d03c-479...</td><td>2021-07-29</td><td>Sem Ut Incorporated</td><td>[hobby,  toy and ...</td><td>Eric Cooper</td><td>137 Brian Turnpike</td><td>Male</td><td>Tasmania</td><td>654.7627923426741</td><td>247.91508634682842</td><td>1182.5427094138233</td><td>46.957218003637045</td><td>1225.7466943272127</td><td>2.277830912050027</td><td>1654.4454957915325</td><td>10.896212247181818</td><td>5081.844906685248</td><td>null</td><td>578.2532956432001</td><td>260.97548927230065</td><td>235.90282385669303</td><td>562.1103254601073</td><td>560.1099960673461</td><td>654.4874437485319</td><td>815.6952620757551</td><td>717.6227201824329</td><td>345.01931698510606</td><td>102.33022732851386</td><td>TAS</td></tr>\n",
       "</table>\n",
       "only showing top 20 rows\n"
      ],
      "text/plain": [
       "+-------------+--------+-----------+-------+------------+------------------+--------------------+--------------+--------------------+--------------------+------------------+--------------------+-----------+------------------+---------------------------+------------------+-----------------------------+------------------+-------------------------+----------------------+------------------+---------------------+-----------------+------------+-----------------+------------------+------------------+-----------------+-----------------+-----------------+-----------------+------------------+------------------+------------------+-----+\n",
       "|SA2_CODE_2021|postcode|consumer_id|user_id|merchant_abn|      dollar_value|            order_id|order_datetime|                name|                tags|     consumer_name|             address|     gender|     SA2_NAME_2021|Median_tot_prsnl_inc_weekly|Median_rent_weekly|Median_mortgage_repay_monthly|Median_age_persons|Median_tot_hhd_inc_weekly|Average_household_size| Completed_Year_12|Did_Not_Attend_School|          TOT_P_P|Age_0_4_yr_P|    Age_5_14_yr_P|    Age_15_19_yr_P|    Age_20_24_yr_P|   Age_25_34_yr_P|   Age_35_44_yr_P|   Age_45_54_yr_P|   Age_55_64_yr_P|    Age_65_74_yr_P|    Age_75_84_yr_P|        Age_85ov_P|state|\n",
       "+-------------+--------+-----------+-------+------------+------------------+--------------------+--------------+--------------------+--------------------+------------------+--------------------+-----------+------------------+---------------------------+------------------+-----------------------------+------------------+-------------------------+----------------------+------------------+---------------------+-----------------+------------+-----------------+------------------+------------------+-----------------+-----------------+-----------------+-----------------+------------------+------------------+------------------+-----+\n",
       "|         null|     852|       1140|   6421| 23338656015|240.79240453805204|c22bbaa1-8e70-49b...|    2021-08-19|         Iaculis LLC|[watch,  clock,  ...|Christopher Powell|880 Brandon Stree...|Undisclosed|Northern Territory|          645.9527090071066|  87.9500782220102|            478.8819373802993|31.990788744449045|       1277.1489375135925|    3.4840981139623093| 709.3371263408235|   37.410346351627226|3169.560259009562|        null|366.8003339343216|203.83062654777856|274.28154311330616|669.4101639505272|  502.12604617554|435.1914439853237| 342.297306777604|125.70409630778082| 42.06529257837986| 17.79855903130985|   NT|\n",
       "|         null|    7321|      94215|  11809| 49891706470| 48.86426156234827|5cfef23a-a07c-455...|    2021-05-21|Non Vestibulum In...|[tent and awning ...|        Amy Nguyen|85806 Melton Squares|     Female|          Tasmania|          654.7627923426741|247.91508634682842|           1182.5427094138233|46.957218003637045|       1225.7466943272127|     2.277830912050027|1654.4454957915325|   10.896212247181818|5081.844906685248|        null|578.2532956432001|260.97548927230065|235.90282385669303|562.1103254601073|560.1099960673461|654.4874437485319|815.6952620757551| 717.6227201824329|345.01931698510606|102.33022732851386|  TAS|\n",
       "|         null|    6872|     799687|  24034| 38090089066|118.19708950112054|ece422e2-c9e8-42c...|    2021-04-02|Interdum Feugiat ...|[furniture,  home...|     Angela Little|     337 Carter Walk|     Female|  Western Austraia|          836.7966870108314| 235.5527510544241|            1437.028984063036|42.581815939994776|       1530.0211433587413|    2.4394982812246875|  2478.71725636885|    28.07392873978152| 6548.73302066646|        null|813.4824127179769|335.70097131695496| 332.4277592342616|855.2077198837901|877.2738058527914|884.7022050086551|897.2414754612912| 717.4611607539548|350.85974351244175|110.15619551797715|   WA|\n",
       "|         null|    7330|     334995|   4041| 33357097824|24.599565257317405|7fd18add-d03c-479...|    2021-07-29| Sem Ut Incorporated|[hobby,  toy and ...|       Eric Cooper|  137 Brian Turnpike|       Male|          Tasmania|          654.7627923426741|247.91508634682842|           1182.5427094138233|46.957218003637045|       1225.7466943272127|     2.277830912050027|1654.4454957915325|   10.896212247181818|5081.844906685248|        null|578.2532956432001|260.97548927230065|235.90282385669303|562.1103254601073|560.1099960673461|654.4874437485319|815.6952620757551| 717.6227201824329|345.01931698510606|102.33022732851386|  TAS|\n",
       "|         null|     852|       1140|   6421| 48534649627| 269.8021779483706|dcc21448-04c5-42d...|    2021-08-14|Dignissim Maecena...|[opticians,  opti...|Christopher Powell|880 Brandon Stree...|Undisclosed|Northern Territory|          645.9527090071066|  87.9500782220102|            478.8819373802993|31.990788744449045|       1277.1489375135925|    3.4840981139623093| 709.3371263408235|   37.410346351627226|3169.560259009562|        null|366.8003339343216|203.83062654777856|274.28154311330616|669.4101639505272|  502.12604617554|435.1914439853237| 342.297306777604|125.70409630778082| 42.06529257837986| 17.79855903130985|   NT|\n",
       "|         null|    7321|      94215|  11809| 49891706470| 48.86426156234827|5cfef23a-a07c-455...|    2021-05-21|Non Vestibulum In...|[tent and awning ...|        Amy Nguyen|85806 Melton Squares|     Female|          Tasmania|          654.7627923426741|247.91508634682842|           1182.5427094138233|46.957218003637045|       1225.7466943272127|     2.277830912050027|1654.4454957915325|   10.896212247181818|5081.844906685248|        null|578.2532956432001|260.97548927230065|235.90282385669303|562.1103254601073|560.1099960673461|654.4874437485319|815.6952620757551| 717.6227201824329|345.01931698510606|102.33022732851386|  TAS|\n",
       "|         null|    6872|     799687|  24034| 89726005175| 58.42108971934746|912a54f6-e059-47f...|    2021-03-27| Est Nunc Consulting|[tent and awning ...|     Angela Little|     337 Carter Walk|     Female|  Western Austraia|          836.7966870108314| 235.5527510544241|            1437.028984063036|42.581815939994776|       1530.0211433587413|    2.4394982812246875|  2478.71725636885|    28.07392873978152| 6548.73302066646|        null|813.4824127179769|335.70097131695496| 332.4277592342616|855.2077198837901|877.2738058527914|884.7022050086551|897.2414754612912| 717.4611607539548|350.85974351244175|110.15619551797715|   WA|\n",
       "|         null|    7330|     334995|   4041| 33357097824|24.599565257317405|7fd18add-d03c-479...|    2021-07-29| Sem Ut Incorporated|[hobby,  toy and ...|       Eric Cooper|  137 Brian Turnpike|       Male|          Tasmania|          654.7627923426741|247.91508634682842|           1182.5427094138233|46.957218003637045|       1225.7466943272127|     2.277830912050027|1654.4454957915325|   10.896212247181818|5081.844906685248|        null|578.2532956432001|260.97548927230065|235.90282385669303|562.1103254601073|560.1099960673461|654.4874437485319|815.6952620757551| 717.6227201824329|345.01931698510606|102.33022732851386|  TAS|\n",
       "|         null|     852|       1140|   6421| 82065156333|13.141362673704986|343f78b0-8b73-44f...|    2021-08-15|Nascetur Ridiculu...|[tent and awning ...|Christopher Powell|880 Brandon Stree...|Undisclosed|Northern Territory|          645.9527090071066|  87.9500782220102|            478.8819373802993|31.990788744449045|       1277.1489375135925|    3.4840981139623093| 709.3371263408235|   37.410346351627226|3169.560259009562|        null|366.8003339343216|203.83062654777856|274.28154311330616|669.4101639505272|  502.12604617554|435.1914439853237| 342.297306777604|125.70409630778082| 42.06529257837986| 17.79855903130985|   NT|\n",
       "|         null|    7321|      94215|  11809| 49891706470| 48.86426156234827|5cfef23a-a07c-455...|    2021-05-21|Non Vestibulum In...|[tent and awning ...|        Amy Nguyen|85806 Melton Squares|     Female|          Tasmania|          654.7627923426741|247.91508634682842|           1182.5427094138233|46.957218003637045|       1225.7466943272127|     2.277830912050027|1654.4454957915325|   10.896212247181818|5081.844906685248|        null|578.2532956432001|260.97548927230065|235.90282385669303|562.1103254601073|560.1099960673461|654.4874437485319|815.6952620757551| 717.6227201824329|345.01931698510606|102.33022732851386|  TAS|\n",
       "|         null|    6872|     799687|  24034| 19933438190| 6.428574535888197|2a6591b3-bd24-4b0...|    2021-03-13| Dui Nec Corporation|[tent and awning ...|     Angela Little|     337 Carter Walk|     Female|  Western Austraia|          836.7966870108314| 235.5527510544241|            1437.028984063036|42.581815939994776|       1530.0211433587413|    2.4394982812246875|  2478.71725636885|    28.07392873978152| 6548.73302066646|        null|813.4824127179769|335.70097131695496| 332.4277592342616|855.2077198837901|877.2738058527914|884.7022050086551|897.2414754612912| 717.4611607539548|350.85974351244175|110.15619551797715|   WA|\n",
       "|         null|    7330|     334995|   4041| 33357097824|24.599565257317405|7fd18add-d03c-479...|    2021-07-29| Sem Ut Incorporated|[hobby,  toy and ...|       Eric Cooper|  137 Brian Turnpike|       Male|          Tasmania|          654.7627923426741|247.91508634682842|           1182.5427094138233|46.957218003637045|       1225.7466943272127|     2.277830912050027|1654.4454957915325|   10.896212247181818|5081.844906685248|        null|578.2532956432001|260.97548927230065|235.90282385669303|562.1103254601073|560.1099960673461|654.4874437485319|815.6952620757551| 717.6227201824329|345.01931698510606|102.33022732851386|  TAS|\n",
       "|         null|     852|       1140|   6421| 44454840859| 99.71730586272048|32c0a3a3-4ca3-408...|    2021-07-15|  Erat Eget Ipsum PC|[cable,  satellit...|Christopher Powell|880 Brandon Stree...|Undisclosed|Northern Territory|          645.9527090071066|  87.9500782220102|            478.8819373802993|31.990788744449045|       1277.1489375135925|    3.4840981139623093| 709.3371263408235|   37.410346351627226|3169.560259009562|        null|366.8003339343216|203.83062654777856|274.28154311330616|669.4101639505272|  502.12604617554|435.1914439853237| 342.297306777604|125.70409630778082| 42.06529257837986| 17.79855903130985|   NT|\n",
       "|         null|    7321|      94215|  11809| 49891706470| 48.86426156234827|5cfef23a-a07c-455...|    2021-05-21|Non Vestibulum In...|[tent and awning ...|        Amy Nguyen|85806 Melton Squares|     Female|          Tasmania|          654.7627923426741|247.91508634682842|           1182.5427094138233|46.957218003637045|       1225.7466943272127|     2.277830912050027|1654.4454957915325|   10.896212247181818|5081.844906685248|        null|578.2532956432001|260.97548927230065|235.90282385669303|562.1103254601073|560.1099960673461|654.4874437485319|815.6952620757551| 717.6227201824329|345.01931698510606|102.33022732851386|  TAS|\n",
       "|         null|    6872|     799687|  24034| 80518954462|411.36978530788167|7ca4acbb-3be4-44a...|    2021-03-13|Neque Sed Dictum ...|[computers,  comp...|     Angela Little|     337 Carter Walk|     Female|  Western Austraia|          836.7966870108314| 235.5527510544241|            1437.028984063036|42.581815939994776|       1530.0211433587413|    2.4394982812246875|  2478.71725636885|    28.07392873978152| 6548.73302066646|        null|813.4824127179769|335.70097131695496| 332.4277592342616|855.2077198837901|877.2738058527914|884.7022050086551|897.2414754612912| 717.4611607539548|350.85974351244175|110.15619551797715|   WA|\n",
       "|         null|    7330|     334995|   4041| 33357097824|24.599565257317405|7fd18add-d03c-479...|    2021-07-29| Sem Ut Incorporated|[hobby,  toy and ...|       Eric Cooper|  137 Brian Turnpike|       Male|          Tasmania|          654.7627923426741|247.91508634682842|           1182.5427094138233|46.957218003637045|       1225.7466943272127|     2.277830912050027|1654.4454957915325|   10.896212247181818|5081.844906685248|        null|578.2532956432001|260.97548927230065|235.90282385669303|562.1103254601073|560.1099960673461|654.4874437485319|815.6952620757551| 717.6227201824329|345.01931698510606|102.33022732851386|  TAS|\n",
       "|         null|     852|       1140|   6421| 89726005175|18.955709912233143|afa95272-d3d8-44a...|    2021-07-15| Est Nunc Consulting|[tent and awning ...|Christopher Powell|880 Brandon Stree...|Undisclosed|Northern Territory|          645.9527090071066|  87.9500782220102|            478.8819373802993|31.990788744449045|       1277.1489375135925|    3.4840981139623093| 709.3371263408235|   37.410346351627226|3169.560259009562|        null|366.8003339343216|203.83062654777856|274.28154311330616|669.4101639505272|  502.12604617554|435.1914439853237| 342.297306777604|125.70409630778082| 42.06529257837986| 17.79855903130985|   NT|\n",
       "|         null|    7321|      94215|  11809| 49891706470| 48.86426156234827|5cfef23a-a07c-455...|    2021-05-21|Non Vestibulum In...|[tent and awning ...|        Amy Nguyen|85806 Melton Squares|     Female|          Tasmania|          654.7627923426741|247.91508634682842|           1182.5427094138233|46.957218003637045|       1225.7466943272127|     2.277830912050027|1654.4454957915325|   10.896212247181818|5081.844906685248|        null|578.2532956432001|260.97548927230065|235.90282385669303|562.1103254601073|560.1099960673461|654.4874437485319|815.6952620757551| 717.6227201824329|345.01931698510606|102.33022732851386|  TAS|\n",
       "|         null|    6872|     799687|  24034| 26844395593| 45.72220487127804|d6d53022-9486-4f7...|    2021-04-27|        Arcu Ac Inc.|[music shops - mu...|     Angela Little|     337 Carter Walk|     Female|  Western Austraia|          836.7966870108314| 235.5527510544241|            1437.028984063036|42.581815939994776|       1530.0211433587413|    2.4394982812246875|  2478.71725636885|    28.07392873978152| 6548.73302066646|        null|813.4824127179769|335.70097131695496| 332.4277592342616|855.2077198837901|877.2738058527914|884.7022050086551|897.2414754612912| 717.4611607539548|350.85974351244175|110.15619551797715|   WA|\n",
       "|         null|    7330|     334995|   4041| 33357097824|24.599565257317405|7fd18add-d03c-479...|    2021-07-29| Sem Ut Incorporated|[hobby,  toy and ...|       Eric Cooper|  137 Brian Turnpike|       Male|          Tasmania|          654.7627923426741|247.91508634682842|           1182.5427094138233|46.957218003637045|       1225.7466943272127|     2.277830912050027|1654.4454957915325|   10.896212247181818|5081.844906685248|        null|578.2532956432001|260.97548927230065|235.90282385669303|562.1103254601073|560.1099960673461|654.4874437485319|815.6952620757551| 717.6227201824329|345.01931698510606|102.33022732851386|  TAS|\n",
       "+-------------+--------+-----------+-------+------------+------------------+--------------------+--------------+--------------------+--------------------+------------------+--------------------+-----------+------------------+---------------------------+------------------+-----------------------------+------------------+-------------------------+----------------------+------------------+---------------------+-----------------+------------+-----------------+------------------+------------------+-----------------+-----------------+-----------------+-----------------+------------------+------------------+------------------+-----+\n",
       "only showing top 20 rows"
      ]
     },
     "execution_count": 11,
     "metadata": {},
     "output_type": "execute_result"
    }
   ],
   "source": [
    "columns = [\"Median_tot_prsnl_inc_weekly\", \"Median_rent_weekly\", \"Median_mortgage_repay_monthly\", \"Median_age_persons\", \"Median_tot_hhd_inc_weekly\",\\\n",
    "           \"Average_household_size\", \"Completed_Year_12\", \"Did_Not_Attend_School\", \"TOT_P_P\", \"Age_5_14_yr_P\", \"Age_15_19_yr_P\", \"Age_20_24_yr_P\",\\\n",
    "           \"Age_25_34_yr_P\", \"Age_35_44_yr_P\", \"Age_45_54_yr_P\", \"Age_55_64_yr_P\", \"Age_65_74_yr_P\", \"Age_75_84_yr_P\", \"Age_85ov_P\"]\n",
    "\n",
    "for column in columns:\n",
    "    data = data.withColumn(\n",
    "        column,\n",
    "        F.when( (col('SA2_NAME_2021') == 'Northern Territory'), data.groupBy('state').mean(column).collect()[0][1])\\\n",
    "        .when( (col('SA2_NAME_2021') == 'Australian Capital Territory'), data.groupBy('state').mean(column).collect()[1][1])\\\n",
    "        .when( (col('SA2_NAME_2021') == 'South Australia'), data.groupBy('state').mean(column).collect()[2][1])\\\n",
    "        .when( (col('SA2_NAME_2021') == 'Tasmania'), data.groupBy('state').mean(column).collect()[3][1])\\\n",
    "        .when( (col('SA2_NAME_2021') == 'Western Austraia'), data.groupBy('state').mean(column).collect()[4][1])\\\n",
    "        .when( (col('SA2_NAME_2021') == 'Queensland'), data.groupBy('state').mean(column).collect()[5][1])\\\n",
    "        .when( (col('SA2_NAME_2021') == 'Victoria'), data.groupBy('state').mean(column).collect()[6][1])\\\n",
    "        .otherwise(data.groupBy('state').mean(column).collect()[7][1])\n",
    "    )\n",
    "data"
   ]
  },
  {
   "cell_type": "markdown",
   "metadata": {},
   "source": [
    "## Postcode\n",
    "remove all istances in a null postcode as there is not way to determine the location of the purchase with the postcode."
   ]
  },
  {
   "cell_type": "code",
   "execution_count": 12,
   "metadata": {},
   "outputs": [],
   "source": [
    "data = data.na.drop(subset=[\"postcode\"])"
   ]
  },
  {
   "cell_type": "code",
   "execution_count": 13,
   "metadata": {},
   "outputs": [
    {
     "name": "stderr",
     "output_type": "stream",
     "text": [
      "                                                                                \r"
     ]
    },
    {
     "name": "stdout",
     "output_type": "stream",
     "text": [
      "+-------------+\n",
      "|min(postcode)|\n",
      "+-------------+\n",
      "|         1001|\n",
      "+-------------+\n",
      "\n"
     ]
    },
    {
     "name": "stderr",
     "output_type": "stream",
     "text": [
      "[Stage 469:============================================>           (8 + 2) / 10]\r"
     ]
    },
    {
     "name": "stdout",
     "output_type": "stream",
     "text": [
      "+-------------+\n",
      "|max(postcode)|\n",
      "+-------------+\n",
      "|         9999|\n",
      "+-------------+\n",
      "\n"
     ]
    },
    {
     "name": "stderr",
     "output_type": "stream",
     "text": [
      "                                                                                \r"
     ]
    }
   ],
   "source": [
    "print(data.agg({'postcode': 'min'}))\n",
    "print(data.agg({'postcode': 'max'}))"
   ]
  },
  {
   "cell_type": "markdown",
   "metadata": {},
   "source": [
    "According to AusPost, all post between 1000-9999 are valid, thus we will keep all.\n",
    "## ABN\n",
    "All ABNs are 11 digits long, thus we will verify this:"
   ]
  },
  {
   "cell_type": "code",
   "execution_count": 14,
   "metadata": {},
   "outputs": [
    {
     "name": "stderr",
     "output_type": "stream",
     "text": [
      "                                                                                \r"
     ]
    },
    {
     "name": "stdout",
     "output_type": "stream",
     "text": [
      "+-----------------+\n",
      "|min(merchant_abn)|\n",
      "+-----------------+\n",
      "|      10023283211|\n",
      "+-----------------+\n",
      "\n"
     ]
    },
    {
     "name": "stderr",
     "output_type": "stream",
     "text": [
      "[Stage 475:============================================>           (8 + 2) / 10]\r"
     ]
    },
    {
     "name": "stdout",
     "output_type": "stream",
     "text": [
      "+-----------------+\n",
      "|max(merchant_abn)|\n",
      "+-----------------+\n",
      "|      99990536339|\n",
      "+-----------------+\n",
      "\n"
     ]
    },
    {
     "name": "stderr",
     "output_type": "stream",
     "text": [
      "                                                                                \r"
     ]
    }
   ],
   "source": [
    "print(data.agg({'merchant_abn': 'min'}))\n",
    "print(data.agg({'merchant_abn': 'max'}))"
   ]
  },
  {
   "cell_type": "markdown",
   "metadata": {},
   "source": [
    "## Dollar Value"
   ]
  },
  {
   "cell_type": "code",
   "execution_count": 48,
   "metadata": {},
   "outputs": [
    {
     "name": "stderr",
     "output_type": "stream",
     "text": [
      "                                                                                \r"
     ]
    },
    {
     "name": "stdout",
     "output_type": "stream",
     "text": [
      "+--------------------+\n",
      "|   min(dollar_value)|\n",
      "+--------------------+\n",
      "|9.756658099412162E-8|\n",
      "+--------------------+\n",
      "\n"
     ]
    },
    {
     "name": "stderr",
     "output_type": "stream",
     "text": [
      "[Stage 122:=======================================>                (7 + 3) / 10]\r"
     ]
    },
    {
     "name": "stdout",
     "output_type": "stream",
     "text": [
      "+------------------+\n",
      "| max(dollar_value)|\n",
      "+------------------+\n",
      "|105193.88578925544|\n",
      "+------------------+\n",
      "\n"
     ]
    },
    {
     "name": "stderr",
     "output_type": "stream",
     "text": [
      "                                                                                \r"
     ]
    }
   ],
   "source": [
    "print(data.agg({'dollar_value': 'min'}))\n",
    "print(data.agg({'dollar_value': 'max'}))"
   ]
  },
  {
   "cell_type": "markdown",
   "metadata": {},
   "source": [
    "the above minmum dollar value"
   ]
  },
  {
   "cell_type": "code",
   "execution_count": 71,
   "metadata": {},
   "outputs": [
    {
     "name": "stderr",
     "output_type": "stream",
     "text": [
      "                                                                                \r"
     ]
    },
    {
     "data": {
      "text/html": [
       "<table border='1'>\n",
       "<tr><th>SA2_CODE_2021</th><th>postcode</th><th>consumer_id</th><th>user_id</th><th>merchant_abn</th><th>dollar_value</th><th>order_id</th><th>order_datetime</th><th>name</th><th>tags</th><th>consumer_name</th><th>address</th><th>gender</th><th>SA2_NAME_2021</th><th>Median_tot_prsnl_inc_weekly</th><th>Median_rent_weekly</th><th>Median_mortgage_repay_monthly</th><th>Median_age_persons</th><th>Median_tot_hhd_inc_weekly</th><th>Average_household_size</th><th>Completed Year 12</th><th>Did Not Attend School</th><th>TOT_P_P</th><th>Age_0_4_yr_P</th><th>Age_5_14_yr_P</th><th>Age_15_19_yr_P</th><th>Age_20_24_yr_P</th><th>Age_25_34_yr_P</th><th>Age_35_44_yr_P</th><th>Age_45_54_yr_P</th><th>Age_55_64_yr_P</th><th>Age_65_74_yr_P</th><th>Age_75_84_yr_P</th><th>Age_85ov_P</th></tr>\n",
       "<tr><td>null</td><td>5005</td><td>35789</td><td>9327</td><td>85139489422</td><td>0.002359119240645712</td><td>e30b6907-d82e-456...</td><td>2021-07-23</td><td>Ut Institute</td><td>[cable,  satellit...</td><td>Brianna Peters</td><td>118 Wagner Loop S...</td><td>Female</td><td>null</td><td>null</td><td>null</td><td>null</td><td>null</td><td>null</td><td>null</td><td>null</td><td>null</td><td>null</td><td>null</td><td>null</td><td>null</td><td>null</td><td>null</td><td>null</td><td>null</td><td>null</td><td>null</td><td>null</td><td>null</td></tr>\n",
       "<tr><td>null</td><td>6980</td><td>63528</td><td>11753</td><td>98269572896</td><td>0.04146230443737651</td><td>b770d9f6-6f81-443...</td><td>2021-04-10</td><td>Eget Laoreet Posu...</td><td>[furniture,  home...</td><td>Steven Lane</td><td>84534 Melinda For...</td><td>Male</td><td>null</td><td>null</td><td>null</td><td>null</td><td>null</td><td>null</td><td>null</td><td>null</td><td>null</td><td>null</td><td>null</td><td>null</td><td>null</td><td>null</td><td>null</td><td>null</td><td>null</td><td>null</td><td>null</td><td>null</td><td>null</td></tr>\n",
       "<tr><td>null</td><td>6900</td><td>867075</td><td>3889</td><td>49536733338</td><td>0.03565006025930135</td><td>7c71001f-5bcc-43a...</td><td>2021-06-28</td><td>Duis A Ltd</td><td>[stationery,  off...</td><td>Mary Leonard MD</td><td>367 Michael Courts</td><td>Female</td><td>null</td><td>null</td><td>null</td><td>null</td><td>null</td><td>null</td><td>null</td><td>null</td><td>null</td><td>null</td><td>null</td><td>null</td><td>null</td><td>null</td><td>null</td><td>null</td><td>null</td><td>null</td><td>null</td><td>null</td><td>null</td></tr>\n",
       "<tr><td>null</td><td>6944</td><td>976661</td><td>8878</td><td>40590483301</td><td>0.003797908334501...</td><td>212f7cfa-8b71-420...</td><td>2021-07-27</td><td>Donec Tempus Corp...</td><td>[cable,  satellit...</td><td>Robert Williams</td><td>1695 Kendra Harbors</td><td>Male</td><td>null</td><td>null</td><td>null</td><td>null</td><td>null</td><td>null</td><td>null</td><td>null</td><td>null</td><td>null</td><td>null</td><td>null</td><td>null</td><td>null</td><td>null</td><td>null</td><td>null</td><td>null</td><td>null</td><td>null</td><td>null</td></tr>\n",
       "<tr><td>null</td><td>1173</td><td>172938</td><td>23735</td><td>45629217853</td><td>0.034259091137831287</td><td>082a0a8b-e662-483...</td><td>2021-05-27</td><td>Lacus Consulting</td><td>[gift,  card,  no...</td><td>Lisa Lopez</td><td>05080 April Spring</td><td>Female</td><td>null</td><td>null</td><td>null</td><td>null</td><td>null</td><td>null</td><td>null</td><td>null</td><td>null</td><td>null</td><td>null</td><td>null</td><td>null</td><td>null</td><td>null</td><td>null</td><td>null</td><td>null</td><td>null</td><td>null</td><td>null</td></tr>\n",
       "<tr><td>null</td><td>1335</td><td>1094971</td><td>13524</td><td>70038202360</td><td>0.008066279230355394</td><td>d8cc3f9f-78d8-454...</td><td>2021-07-04</td><td>Varius Orci Insti...</td><td>[tent and awning ...</td><td>John Myers</td><td>1658 Alfred Tunnel</td><td>Male</td><td>null</td><td>null</td><td>null</td><td>null</td><td>null</td><td>null</td><td>null</td><td>null</td><td>null</td><td>null</td><td>null</td><td>null</td><td>null</td><td>null</td><td>null</td><td>null</td><td>null</td><td>null</td><td>null</td><td>null</td><td>null</td></tr>\n",
       "<tr><td>null</td><td>3402</td><td>337063</td><td>19598</td><td>17324645993</td><td>0.028403696461256386</td><td>2f0dfa31-9efd-4ec...</td><td>2021-06-18</td><td>Eget Metus In Cor...</td><td>[tent and awning ...</td><td>William Bailey</td><td>269 Trevino Vista</td><td>Male</td><td>null</td><td>null</td><td>null</td><td>null</td><td>null</td><td>null</td><td>null</td><td>null</td><td>null</td><td>null</td><td>null</td><td>null</td><td>null</td><td>null</td><td>null</td><td>null</td><td>null</td><td>null</td><td>null</td><td>null</td><td>null</td></tr>\n",
       "<tr><td>null</td><td>1480</td><td>348279</td><td>22079</td><td>63290521567</td><td>0.019027178794988053</td><td>438f67ed-5158-4e9...</td><td>2021-03-18</td><td>Vehicula Pellente...</td><td>[artist supply an...</td><td>Caitlin Henry</td><td>6656 Craig Juncti...</td><td>Undisclosed</td><td>null</td><td>null</td><td>null</td><td>null</td><td>null</td><td>null</td><td>null</td><td>null</td><td>null</td><td>null</td><td>null</td><td>null</td><td>null</td><td>null</td><td>null</td><td>null</td><td>null</td><td>null</td><td>null</td><td>null</td><td>null</td></tr>\n",
       "<tr><td>null</td><td>1700</td><td>1323531</td><td>17223</td><td>47086412084</td><td>0.03531825399883669</td><td>794a7e02-2b0f-496...</td><td>2021-03-19</td><td>Eros Limited</td><td>[digital goods: b...</td><td>Danielle Wilson</td><td>487 Victoria Plaz...</td><td>Female</td><td>null</td><td>null</td><td>null</td><td>null</td><td>null</td><td>null</td><td>null</td><td>null</td><td>null</td><td>null</td><td>null</td><td>null</td><td>null</td><td>null</td><td>null</td><td>null</td><td>null</td><td>null</td><td>null</td><td>null</td><td>null</td></tr>\n",
       "<tr><td>null</td><td>1227</td><td>1370566</td><td>23927</td><td>29521780474</td><td>0.017035451448531396</td><td>68182197-5f63-4e1...</td><td>2021-05-23</td><td>At Sem Corp.</td><td>[cable,  satellit...</td><td>George King</td><td>2225 Carpenter Fo...</td><td>Male</td><td>null</td><td>null</td><td>null</td><td>null</td><td>null</td><td>null</td><td>null</td><td>null</td><td>null</td><td>null</td><td>null</td><td>null</td><td>null</td><td>null</td><td>null</td><td>null</td><td>null</td><td>null</td><td>null</td><td>null</td><td>null</td></tr>\n",
       "</table>\n"
      ],
      "text/plain": [
       "+-------------+--------+-----------+-------+------------+--------------------+--------------------+--------------+--------------------+--------------------+---------------+--------------------+-----------+-------------+---------------------------+------------------+-----------------------------+------------------+-------------------------+----------------------+-----------------+---------------------+-------+------------+-------------+--------------+--------------+--------------+--------------+--------------+--------------+--------------+--------------+----------+\n",
       "|SA2_CODE_2021|postcode|consumer_id|user_id|merchant_abn|        dollar_value|            order_id|order_datetime|                name|                tags|  consumer_name|             address|     gender|SA2_NAME_2021|Median_tot_prsnl_inc_weekly|Median_rent_weekly|Median_mortgage_repay_monthly|Median_age_persons|Median_tot_hhd_inc_weekly|Average_household_size|Completed Year 12|Did Not Attend School|TOT_P_P|Age_0_4_yr_P|Age_5_14_yr_P|Age_15_19_yr_P|Age_20_24_yr_P|Age_25_34_yr_P|Age_35_44_yr_P|Age_45_54_yr_P|Age_55_64_yr_P|Age_65_74_yr_P|Age_75_84_yr_P|Age_85ov_P|\n",
       "+-------------+--------+-----------+-------+------------+--------------------+--------------------+--------------+--------------------+--------------------+---------------+--------------------+-----------+-------------+---------------------------+------------------+-----------------------------+------------------+-------------------------+----------------------+-----------------+---------------------+-------+------------+-------------+--------------+--------------+--------------+--------------+--------------+--------------+--------------+--------------+----------+\n",
       "|         null|    5005|      35789|   9327| 85139489422|0.002359119240645712|e30b6907-d82e-456...|    2021-07-23|        Ut Institute|[cable,  satellit...| Brianna Peters|118 Wagner Loop S...|     Female|         null|                       null|              null|                         null|              null|                     null|                  null|             null|                 null|   null|        null|         null|          null|          null|          null|          null|          null|          null|          null|          null|      null|\n",
       "|         null|    6980|      63528|  11753| 98269572896| 0.04146230443737651|b770d9f6-6f81-443...|    2021-04-10|Eget Laoreet Posu...|[furniture,  home...|    Steven Lane|84534 Melinda For...|       Male|         null|                       null|              null|                         null|              null|                     null|                  null|             null|                 null|   null|        null|         null|          null|          null|          null|          null|          null|          null|          null|          null|      null|\n",
       "|         null|    6900|     867075|   3889| 49536733338| 0.03565006025930135|7c71001f-5bcc-43a...|    2021-06-28|          Duis A Ltd|[stationery,  off...|Mary Leonard MD|  367 Michael Courts|     Female|         null|                       null|              null|                         null|              null|                     null|                  null|             null|                 null|   null|        null|         null|          null|          null|          null|          null|          null|          null|          null|          null|      null|\n",
       "|         null|    6944|     976661|   8878| 40590483301|0.003797908334501...|212f7cfa-8b71-420...|    2021-07-27|Donec Tempus Corp...|[cable,  satellit...|Robert Williams| 1695 Kendra Harbors|       Male|         null|                       null|              null|                         null|              null|                     null|                  null|             null|                 null|   null|        null|         null|          null|          null|          null|          null|          null|          null|          null|          null|      null|\n",
       "|         null|    1173|     172938|  23735| 45629217853|0.034259091137831287|082a0a8b-e662-483...|    2021-05-27|    Lacus Consulting|[gift,  card,  no...|     Lisa Lopez|  05080 April Spring|     Female|         null|                       null|              null|                         null|              null|                     null|                  null|             null|                 null|   null|        null|         null|          null|          null|          null|          null|          null|          null|          null|          null|      null|\n",
       "|         null|    1335|    1094971|  13524| 70038202360|0.008066279230355394|d8cc3f9f-78d8-454...|    2021-07-04|Varius Orci Insti...|[tent and awning ...|     John Myers|  1658 Alfred Tunnel|       Male|         null|                       null|              null|                         null|              null|                     null|                  null|             null|                 null|   null|        null|         null|          null|          null|          null|          null|          null|          null|          null|          null|      null|\n",
       "|         null|    3402|     337063|  19598| 17324645993|0.028403696461256386|2f0dfa31-9efd-4ec...|    2021-06-18|Eget Metus In Cor...|[tent and awning ...| William Bailey|   269 Trevino Vista|       Male|         null|                       null|              null|                         null|              null|                     null|                  null|             null|                 null|   null|        null|         null|          null|          null|          null|          null|          null|          null|          null|          null|      null|\n",
       "|         null|    1480|     348279|  22079| 63290521567|0.019027178794988053|438f67ed-5158-4e9...|    2021-03-18|Vehicula Pellente...|[artist supply an...|  Caitlin Henry|6656 Craig Juncti...|Undisclosed|         null|                       null|              null|                         null|              null|                     null|                  null|             null|                 null|   null|        null|         null|          null|          null|          null|          null|          null|          null|          null|          null|      null|\n",
       "|         null|    1700|    1323531|  17223| 47086412084| 0.03531825399883669|794a7e02-2b0f-496...|    2021-03-19|        Eros Limited|[digital goods: b...|Danielle Wilson|487 Victoria Plaz...|     Female|         null|                       null|              null|                         null|              null|                     null|                  null|             null|                 null|   null|        null|         null|          null|          null|          null|          null|          null|          null|          null|          null|      null|\n",
       "|         null|    1227|    1370566|  23927| 29521780474|0.017035451448531396|68182197-5f63-4e1...|    2021-05-23|        At Sem Corp.|[cable,  satellit...|    George King|2225 Carpenter Fo...|       Male|         null|                       null|              null|                         null|              null|                     null|                  null|             null|                 null|   null|        null|         null|          null|          null|          null|          null|          null|          null|          null|          null|      null|\n",
       "+-------------+--------+-----------+-------+------------+--------------------+--------------------+--------------+--------------------+--------------------+---------------+--------------------+-----------+-------------+---------------------------+------------------+-----------------------------+------------------+-------------------------+----------------------+-----------------+---------------------+-------+------------+-------------+--------------+--------------+--------------+--------------+--------------+--------------+--------------+--------------+----------+"
      ]
     },
     "execution_count": 71,
     "metadata": {},
     "output_type": "execute_result"
    }
   ],
   "source": [
    "data.where(col(\"dollar_value\") <= 0.05).limit(10)"
   ]
  },
  {
   "cell_type": "code",
   "execution_count": null,
   "metadata": {},
   "outputs": [],
   "source": [
    "data.where(col(\"dollar_value\") <= 0.05).count()"
   ]
  },
  {
   "cell_type": "markdown",
   "metadata": {},
   "source": [
    "All these purchases seem unreasonable due the the limited things you can buy for 5c, thus they will be removed from the dataset."
   ]
  },
  {
   "cell_type": "code",
   "execution_count": 15,
   "metadata": {},
   "outputs": [],
   "source": [
    "data  = data[data['dollar_value'] >= 0.05]"
   ]
  },
  {
   "cell_type": "code",
   "execution_count": 73,
   "metadata": {},
   "outputs": [
    {
     "data": {
      "text/html": [
       "<table border='1'>\n",
       "<tr><th>SA2_CODE_2021</th><th>postcode</th><th>consumer_id</th><th>user_id</th><th>merchant_abn</th><th>dollar_value</th><th>order_id</th><th>order_datetime</th><th>name</th><th>tags</th><th>consumer_name</th><th>address</th><th>gender</th><th>SA2_NAME_2021</th><th>Median_tot_prsnl_inc_weekly</th><th>Median_rent_weekly</th><th>Median_mortgage_repay_monthly</th><th>Median_age_persons</th><th>Median_tot_hhd_inc_weekly</th><th>Average_household_size</th><th>Completed Year 12</th><th>Did Not Attend School</th><th>TOT_P_P</th><th>Age_0_4_yr_P</th><th>Age_5_14_yr_P</th><th>Age_15_19_yr_P</th><th>Age_20_24_yr_P</th><th>Age_25_34_yr_P</th><th>Age_35_44_yr_P</th><th>Age_45_54_yr_P</th><th>Age_55_64_yr_P</th><th>Age_65_74_yr_P</th><th>Age_75_84_yr_P</th><th>Age_85ov_P</th></tr>\n",
       "<tr><td>null</td><td>1212</td><td>1319595</td><td>23700</td><td>11590404675</td><td>65660.03308418578</td><td>1d8f2322-d8c8-46c...</td><td>2021-08-26</td><td>Arcu Sed PC</td><td>[antique shops - ...</td><td>Angela Harris</td><td>572 Shannon Plaza</td><td>Undisclosed</td><td>null</td><td>null</td><td>null</td><td>null</td><td>null</td><td>null</td><td>null</td><td>null</td><td>null</td><td>null</td><td>null</td><td>null</td><td>null</td><td>null</td><td>null</td><td>null</td><td>null</td><td>null</td><td>null</td><td>null</td><td>null</td></tr>\n",
       "<tr><td>null</td><td>6913</td><td>1380769</td><td>18916</td><td>83199298021</td><td>59223.92657075801</td><td>61fe4fa3-f199-4a1...</td><td>2021-08-08</td><td>Ligula Elit Preti...</td><td>[antique shops - ...</td><td>Tracy Short</td><td>1636 Davis Plains</td><td>Female</td><td>null</td><td>null</td><td>null</td><td>null</td><td>null</td><td>null</td><td>null</td><td>null</td><td>null</td><td>null</td><td>null</td><td>null</td><td>null</td><td>null</td><td>null</td><td>null</td><td>null</td><td>null</td><td>null</td><td>null</td><td>null</td></tr>\n",
       "<tr><td>604031097</td><td>7466</td><td>165107</td><td>11702</td><td>53918538787</td><td>77134.2146046811</td><td>8584d8d1-061b-41c...</td><td>2021-07-27</td><td>In Tempus Inc.</td><td>[antique shops - ...</td><td>Ana Robinson</td><td>77844 Garcia Vall...</td><td>Female</td><td>West Coast (Tas.)</td><td>548</td><td>160</td><td>650</td><td>47</td><td>958</td><td>2</td><td>1030</td><td>16</td><td>4267</td><td>208</td><td>462</td><td>172</td><td>200</td><td>521</td><td>454</td><td>629</td><td>726</td><td>576</td><td>254</td><td>59</td></tr>\n",
       "<tr><td>604031097</td><td>7466</td><td>165107</td><td>11702</td><td>53918538787</td><td>77134.2146046811</td><td>8584d8d1-061b-41c...</td><td>2021-07-27</td><td>In Tempus Inc.</td><td>[antique shops - ...</td><td>Ana Robinson</td><td>77844 Garcia Vall...</td><td>Female</td><td>West Coast (Tas.)</td><td>548</td><td>160</td><td>650</td><td>47</td><td>958</td><td>2</td><td>1030</td><td>16</td><td>4267</td><td>208</td><td>462</td><td>172</td><td>200</td><td>521</td><td>454</td><td>629</td><td>726</td><td>576</td><td>254</td><td>59</td></tr>\n",
       "<tr><td>401051019</td><td>5069</td><td>1277505</td><td>10428</td><td>54860127682</td><td>51618.337208028475</td><td>572fa5c4-72f8-4ad...</td><td>2021-07-17</td><td>Laoreet Posuere E...</td><td>[antique shops - ...</td><td>Richard Jones</td><td>5032 William Glen</td><td>Male</td><td>St Peters - Marden</td><td>954</td><td>320</td><td>2080</td><td>41</td><td>1879</td><td>2.3</td><td>8201</td><td>77</td><td>13515</td><td>595</td><td>1453</td><td>769</td><td>856</td><td>1942</td><td>1682</td><td>1725</td><td>1851</td><td>1393</td><td>829</td><td>416</td></tr>\n",
       "<tr><td>401051019</td><td>5069</td><td>1277505</td><td>10428</td><td>54860127682</td><td>51618.337208028475</td><td>572fa5c4-72f8-4ad...</td><td>2021-07-17</td><td>Laoreet Posuere E...</td><td>[antique shops - ...</td><td>Richard Jones</td><td>5032 William Glen</td><td>Male</td><td>St Peters - Marden</td><td>954</td><td>320</td><td>2080</td><td>41</td><td>1879</td><td>2.3</td><td>8201</td><td>77</td><td>13515</td><td>595</td><td>1453</td><td>769</td><td>856</td><td>1942</td><td>1682</td><td>1725</td><td>1851</td><td>1393</td><td>829</td><td>416</td></tr>\n",
       "<tr><td>401051019</td><td>5069</td><td>1277505</td><td>10428</td><td>54860127682</td><td>51618.337208028475</td><td>572fa5c4-72f8-4ad...</td><td>2021-07-17</td><td>Laoreet Posuere E...</td><td>[antique shops - ...</td><td>Richard Jones</td><td>5032 William Glen</td><td>Male</td><td>St Peters - Marden</td><td>954</td><td>320</td><td>2080</td><td>41</td><td>1879</td><td>2.3</td><td>8201</td><td>77</td><td>13515</td><td>595</td><td>1453</td><td>769</td><td>856</td><td>1942</td><td>1682</td><td>1725</td><td>1851</td><td>1393</td><td>829</td><td>416</td></tr>\n",
       "<tr><td>401051019</td><td>5069</td><td>1277505</td><td>10428</td><td>54860127682</td><td>51618.337208028475</td><td>572fa5c4-72f8-4ad...</td><td>2021-07-17</td><td>Laoreet Posuere E...</td><td>[antique shops - ...</td><td>Richard Jones</td><td>5032 William Glen</td><td>Male</td><td>St Peters - Marden</td><td>954</td><td>320</td><td>2080</td><td>41</td><td>1879</td><td>2.3</td><td>8201</td><td>77</td><td>13515</td><td>595</td><td>1453</td><td>769</td><td>856</td><td>1942</td><td>1682</td><td>1725</td><td>1851</td><td>1393</td><td>829</td><td>416</td></tr>\n",
       "<tr><td>401051019</td><td>5069</td><td>1277505</td><td>10428</td><td>54860127682</td><td>51618.337208028475</td><td>572fa5c4-72f8-4ad...</td><td>2021-07-17</td><td>Laoreet Posuere E...</td><td>[antique shops - ...</td><td>Richard Jones</td><td>5032 William Glen</td><td>Male</td><td>St Peters - Marden</td><td>954</td><td>320</td><td>2080</td><td>41</td><td>1879</td><td>2.3</td><td>8201</td><td>77</td><td>13515</td><td>595</td><td>1453</td><td>769</td><td>856</td><td>1942</td><td>1682</td><td>1725</td><td>1851</td><td>1393</td><td>829</td><td>416</td></tr>\n",
       "<tr><td>401051019</td><td>5069</td><td>1277505</td><td>10428</td><td>54860127682</td><td>51618.337208028475</td><td>572fa5c4-72f8-4ad...</td><td>2021-07-17</td><td>Laoreet Posuere E...</td><td>[antique shops - ...</td><td>Richard Jones</td><td>5032 William Glen</td><td>Male</td><td>St Peters - Marden</td><td>954</td><td>320</td><td>2080</td><td>41</td><td>1879</td><td>2.3</td><td>8201</td><td>77</td><td>13515</td><td>595</td><td>1453</td><td>769</td><td>856</td><td>1942</td><td>1682</td><td>1725</td><td>1851</td><td>1393</td><td>829</td><td>416</td></tr>\n",
       "</table>\n"
      ],
      "text/plain": [
       "+-------------+--------+-----------+-------+------------+------------------+--------------------+--------------+--------------------+--------------------+-------------+--------------------+-----------+------------------+---------------------------+------------------+-----------------------------+------------------+-------------------------+----------------------+-----------------+---------------------+-------+------------+-------------+--------------+--------------+--------------+--------------+--------------+--------------+--------------+--------------+----------+\n",
       "|SA2_CODE_2021|postcode|consumer_id|user_id|merchant_abn|      dollar_value|            order_id|order_datetime|                name|                tags|consumer_name|             address|     gender|     SA2_NAME_2021|Median_tot_prsnl_inc_weekly|Median_rent_weekly|Median_mortgage_repay_monthly|Median_age_persons|Median_tot_hhd_inc_weekly|Average_household_size|Completed Year 12|Did Not Attend School|TOT_P_P|Age_0_4_yr_P|Age_5_14_yr_P|Age_15_19_yr_P|Age_20_24_yr_P|Age_25_34_yr_P|Age_35_44_yr_P|Age_45_54_yr_P|Age_55_64_yr_P|Age_65_74_yr_P|Age_75_84_yr_P|Age_85ov_P|\n",
       "+-------------+--------+-----------+-------+------------+------------------+--------------------+--------------+--------------------+--------------------+-------------+--------------------+-----------+------------------+---------------------------+------------------+-----------------------------+------------------+-------------------------+----------------------+-----------------+---------------------+-------+------------+-------------+--------------+--------------+--------------+--------------+--------------+--------------+--------------+--------------+----------+\n",
       "|         null|    1212|    1319595|  23700| 11590404675| 65660.03308418578|1d8f2322-d8c8-46c...|    2021-08-26|         Arcu Sed PC|[antique shops - ...|Angela Harris|   572 Shannon Plaza|Undisclosed|              null|                       null|              null|                         null|              null|                     null|                  null|             null|                 null|   null|        null|         null|          null|          null|          null|          null|          null|          null|          null|          null|      null|\n",
       "|         null|    6913|    1380769|  18916| 83199298021| 59223.92657075801|61fe4fa3-f199-4a1...|    2021-08-08|Ligula Elit Preti...|[antique shops - ...|  Tracy Short|   1636 Davis Plains|     Female|              null|                       null|              null|                         null|              null|                     null|                  null|             null|                 null|   null|        null|         null|          null|          null|          null|          null|          null|          null|          null|          null|      null|\n",
       "|    604031097|    7466|     165107|  11702| 53918538787|  77134.2146046811|8584d8d1-061b-41c...|    2021-07-27|      In Tempus Inc.|[antique shops - ...| Ana Robinson|77844 Garcia Vall...|     Female| West Coast (Tas.)|                        548|               160|                          650|                47|                      958|                     2|             1030|                   16|   4267|         208|          462|           172|           200|           521|           454|           629|           726|           576|           254|        59|\n",
       "|    604031097|    7466|     165107|  11702| 53918538787|  77134.2146046811|8584d8d1-061b-41c...|    2021-07-27|      In Tempus Inc.|[antique shops - ...| Ana Robinson|77844 Garcia Vall...|     Female| West Coast (Tas.)|                        548|               160|                          650|                47|                      958|                     2|             1030|                   16|   4267|         208|          462|           172|           200|           521|           454|           629|           726|           576|           254|        59|\n",
       "|    401051019|    5069|    1277505|  10428| 54860127682|51618.337208028475|572fa5c4-72f8-4ad...|    2021-07-17|Laoreet Posuere E...|[antique shops - ...|Richard Jones|   5032 William Glen|       Male|St Peters - Marden|                        954|               320|                         2080|                41|                     1879|                   2.3|             8201|                   77|  13515|         595|         1453|           769|           856|          1942|          1682|          1725|          1851|          1393|           829|       416|\n",
       "|    401051019|    5069|    1277505|  10428| 54860127682|51618.337208028475|572fa5c4-72f8-4ad...|    2021-07-17|Laoreet Posuere E...|[antique shops - ...|Richard Jones|   5032 William Glen|       Male|St Peters - Marden|                        954|               320|                         2080|                41|                     1879|                   2.3|             8201|                   77|  13515|         595|         1453|           769|           856|          1942|          1682|          1725|          1851|          1393|           829|       416|\n",
       "|    401051019|    5069|    1277505|  10428| 54860127682|51618.337208028475|572fa5c4-72f8-4ad...|    2021-07-17|Laoreet Posuere E...|[antique shops - ...|Richard Jones|   5032 William Glen|       Male|St Peters - Marden|                        954|               320|                         2080|                41|                     1879|                   2.3|             8201|                   77|  13515|         595|         1453|           769|           856|          1942|          1682|          1725|          1851|          1393|           829|       416|\n",
       "|    401051019|    5069|    1277505|  10428| 54860127682|51618.337208028475|572fa5c4-72f8-4ad...|    2021-07-17|Laoreet Posuere E...|[antique shops - ...|Richard Jones|   5032 William Glen|       Male|St Peters - Marden|                        954|               320|                         2080|                41|                     1879|                   2.3|             8201|                   77|  13515|         595|         1453|           769|           856|          1942|          1682|          1725|          1851|          1393|           829|       416|\n",
       "|    401051019|    5069|    1277505|  10428| 54860127682|51618.337208028475|572fa5c4-72f8-4ad...|    2021-07-17|Laoreet Posuere E...|[antique shops - ...|Richard Jones|   5032 William Glen|       Male|St Peters - Marden|                        954|               320|                         2080|                41|                     1879|                   2.3|             8201|                   77|  13515|         595|         1453|           769|           856|          1942|          1682|          1725|          1851|          1393|           829|       416|\n",
       "|    401051019|    5069|    1277505|  10428| 54860127682|51618.337208028475|572fa5c4-72f8-4ad...|    2021-07-17|Laoreet Posuere E...|[antique shops - ...|Richard Jones|   5032 William Glen|       Male|St Peters - Marden|                        954|               320|                         2080|                41|                     1879|                   2.3|             8201|                   77|  13515|         595|         1453|           769|           856|          1942|          1682|          1725|          1851|          1393|           829|       416|\n",
       "+-------------+--------+-----------+-------+------------+------------------+--------------------+--------------+--------------------+--------------------+-------------+--------------------+-----------+------------------+---------------------------+------------------+-----------------------------+------------------+-------------------------+----------------------+-----------------+---------------------+-------+------------+-------------+--------------+--------------+--------------+--------------+--------------+--------------+--------------+--------------+----------+"
      ]
     },
     "execution_count": 73,
     "metadata": {},
     "output_type": "execute_result"
    }
   ],
   "source": [
    "data.where(col(\"dollar_value\") >= 50000).limit(10)"
   ]
  },
  {
   "cell_type": "markdown",
   "metadata": {},
   "source": [
    "Al instances above $50,000 come from anitque shops or jewelry shops and thus is plausible for the individuals to be spending large amounts of money. "
   ]
  },
  {
   "cell_type": "markdown",
   "metadata": {},
   "source": [
    "## Order Date "
   ]
  },
  {
   "cell_type": "code",
   "execution_count": 74,
   "metadata": {},
   "outputs": [
    {
     "name": "stderr",
     "output_type": "stream",
     "text": [
      "                                                                                \r"
     ]
    },
    {
     "name": "stdout",
     "output_type": "stream",
     "text": [
      "+-------------------+\n",
      "|min(order_datetime)|\n",
      "+-------------------+\n",
      "|         2021-02-28|\n",
      "+-------------------+\n",
      "\n",
      "+-------------------+\n",
      "|max(order_datetime)|\n",
      "+-------------------+\n",
      "|         2021-08-27|\n",
      "+-------------------+\n",
      "\n"
     ]
    }
   ],
   "source": [
    "print(data.agg({'order_datetime': 'min'}))\n",
    "print(data.agg({'order_datetime': 'max'}))"
   ]
  },
  {
   "cell_type": "markdown",
   "metadata": {},
   "source": [
    "Based on the above all values are in 2021."
   ]
  },
  {
   "cell_type": "markdown",
   "metadata": {},
   "source": [
    "## Gender"
   ]
  },
  {
   "cell_type": "code",
   "execution_count": 82,
   "metadata": {},
   "outputs": [
    {
     "name": "stderr",
     "output_type": "stream",
     "text": [
      "                                                                                \r"
     ]
    },
    {
     "data": {
      "text/html": [
       "<table border='1'>\n",
       "<tr><th>gender</th><th>count</th></tr>\n",
       "<tr><td>Undisclosed</td><td>3786857</td></tr>\n",
       "<tr><td>Female</td><td>16928185</td></tr>\n",
       "<tr><td>Male</td><td>17129766</td></tr>\n",
       "</table>\n"
      ],
      "text/plain": [
       "+-----------+--------+\n",
       "|     gender|   count|\n",
       "+-----------+--------+\n",
       "|Undisclosed| 3786857|\n",
       "|     Female|16928185|\n",
       "|       Male|17129766|\n",
       "+-----------+--------+"
      ]
     },
     "execution_count": 82,
     "metadata": {},
     "output_type": "execute_result"
    },
    {
     "name": "stdout",
     "output_type": "stream",
     "text": [
      "22/09/10 10:44:49 WARN HeartbeatReceiver: Removing executor driver with no recent heartbeats: 961283 ms exceeds timeout 120000 ms\n",
      "22/09/10 10:44:49 WARN SparkContext: Killing executors is not supported by current scheduler.\n"
     ]
    }
   ],
   "source": [
    "from pyspark.sql.functions import count\n",
    "\n",
    "data.groupBy('gender').count()"
   ]
  },
  {
   "cell_type": "markdown",
   "metadata": {},
   "source": [
    "no outliers found"
   ]
  },
  {
   "cell_type": "code",
   "execution_count": 19,
   "metadata": {},
   "outputs": [
    {
     "name": "stderr",
     "output_type": "stream",
     "text": [
      "                                                                                \r"
     ]
    }
   ],
   "source": [
    "data.write.mode('overwrite').parquet('../data/curated/outlier_data.parquet')"
   ]
  }
 ],
 "metadata": {
  "interpreter": {
   "hash": "863906e9a4165d4738736793daf13ef61aad6cfe5622e28d202ed76ed0afc263"
  },
  "kernelspec": {
   "display_name": "Python 3.9.7",
   "language": "python",
   "name": "python3"
  },
  "language_info": {
   "codemirror_mode": {
    "name": "ipython",
    "version": 3
   },
   "file_extension": ".py",
   "mimetype": "text/x-python",
   "name": "python",
   "nbconvert_exporter": "python",
   "pygments_lexer": "ipython3",
   "version": "3.9.7"
  },
  "orig_nbformat": 4
 },
 "nbformat": 4,
 "nbformat_minor": 2
}
