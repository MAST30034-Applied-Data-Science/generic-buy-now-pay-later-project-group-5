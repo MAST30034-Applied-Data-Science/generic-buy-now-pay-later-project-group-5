{
 "cells": [
  {
   "cell_type": "markdown",
   "metadata": {},
   "source": [
    "Extract selected columns\n"
   ]
  },
  {
   "cell_type": "code",
   "execution_count": 22,
   "metadata": {},
   "outputs": [],
   "source": [
    "from functools import reduce \n",
    "from pyspark.sql import DataFrame\n",
    "from pyspark.sql import SparkSession\n",
    "from zipfile import ZipFile\n",
    "from pyspark import SparkFiles\n",
    "\n",
    "# Create a spark session (which will run spark jobs)\n",
    "spark = (\n",
    "    SparkSession.builder.appName(\"MAST30034 Tutorial 1\")\n",
    "    .config(\"spark.sql.repl.eagerEval.enabled\", True) \n",
    "    .config(\"spark.sql.parquet.cacheMetadata\", \"true\")\n",
    "    .config(\"spark.sql.session.timeZone\", \"Etc/UTC\")\n",
    "    .config(\"spark.executor.memory\", \"2g\")\n",
    "    .config(\"spark.driver.memory\", \"4g\")\n",
    "    .getOrCreate()\n",
    ")"
   ]
  },
  {
   "cell_type": "code",
   "execution_count": 24,
   "metadata": {},
   "outputs": [],
   "source": [
    "# unzip zip file\n",
    "ZipFile('../data/tables/AUS_2021.zip').extractall('../data/tables')"
   ]
  },
  {
   "cell_type": "code",
   "execution_count": 17,
   "metadata": {},
   "outputs": [
    {
     "data": {
      "text/html": [
       "<table border='1'>\n",
       "<tr><th>_c0</th></tr>\n",
       "<tr><td>PK\u0003\u0004\u0014\u0000\u0000\u0000\\b\u0000�V�T��...</td></tr>\n",
       "<tr><td>\u0000 \u0000\u0000\u0000\u0000\u0000\u0001\u0000\u0018\u0000S$�\u0001dq...</td></tr>\n",
       "<tr><td>���\u0004w</td></tr>\n",
       "<tr><td>\u0010\u001c�;\u001c���5���\\t��\u0004...</td></tr>\n",
       "<tr><td>Q�ۖ��d\u001dLk�\u0015��&#x27;r$㫢...</td></tr>\n",
       "<tr><td>��m]�\u0018?��o�����*\u0013...</td></tr>\n",
       "<tr><td>��b��8�\u0015��[�|����...</td></tr>\n",
       "<tr><td>��\u001c2���\u0005�&gt;������1...</td></tr>\n",
       "<tr><td>&#x27;V\u0015��0t\u001f\u0000��?/&amp;3</td></tr>\n",
       "<tr><td>5�Ll��[G ��l�j�1X...</td></tr>\n",
       "<tr><td>A4�B�w&gt;�����͉�SC�...</td></tr>\n",
       "<tr><td>�՘}%�����</td></tr>\n",
       "<tr><td>4~�aN�Ч\u0013\\f\u0014g�΍�...</td></tr>\n",
       "<tr><td>&amp;)���B��\u0001���\u0004�i�E...</td></tr>\n",
       "<tr><td>\\f\\f\u001f\\f\u000e\u001c����@�OE...</td></tr>\n",
       "<tr><td>\u00178_J��\u001c�\u0010����_\u001c�\u0004...</td></tr>\n",
       "<tr><td>}_\u0011\\a��2gh\u000f���Ly�...</td></tr>\n",
       "<tr><td>\\�������M�2�����v...</td></tr>\n",
       "<tr><td>u\\vf_�\u001fJf_\u001f�\u001an��\\...</td></tr>\n",
       "<tr><td>u����7+v\u0006\\v�A�3\u0003�...</td></tr>\n",
       "</table>\n",
       "only showing top 20 rows\n"
      ],
      "text/plain": [
       "+---------------------+\n",
       "|                  _c0|\n",
       "+---------------------+\n",
       "| PK\u0003\u0004\u0014\u0000\u0000\u0000\\b\u0000�V�T��...|\n",
       "| \u0000 \u0000\u0000\u0000\u0000\u0000\u0001\u0000\u0018\u0000S$�\u0001dq...|\n",
       "|                ���\u0004w|\n",
       "| \u0010\n",
       "�;\n",
       "���5���\\t��\u0004...|\n",
       "|Q�ۖ��d\n",
       "Lk�\u0015��'r$㫢...|\n",
       "| ��m]�\u0018?��o�����*\u0013...|\n",
       "| ��b��8�\u0015��[�|����...|\n",
       "| ��\n",
       "2���\u0005�>������1...|\n",
       "|      'V\u0015��0t\u001f\u0000��?/&3|\n",
       "| 5�Ll��[G ��l�j�1X...|\n",
       "| A4�B�w>�����͉�SC�...|\n",
       "|            �՘}%�����|\n",
       "| 4~�aN�Ч\u0013\\f\u0014g�΍�...|\n",
       "| &)���B��\u0001���\u0004�i�E...|\n",
       "| \\f\\f\u001f\\f\u000e\n",
       "����@�OE...|\n",
       "| \u00178_J��\n",
       "�\u0010����_\n",
       "�\u0004...|\n",
       "| }_\u0011\\a��2gh\u000f���Ly�...|\n",
       "| \\�������M�2�����v...|\n",
       "| u\\vf_�\u001fJf_\u001f�\u001an��\\...|\n",
       "| u����7+v\u0006\\v�A�3\u0003�...|\n",
       "+---------------------+\n",
       "only showing top 20 rows"
      ]
     },
     "execution_count": 17,
     "metadata": {},
     "output_type": "execute_result"
    }
   ],
   "source": [
    "# income_file = spark.read.csv('../data/tables/AUS_2021.csv')\n",
    "# income_file"
   ]
  },
  {
   "cell_type": "code",
   "execution_count": null,
   "metadata": {},
   "outputs": [],
   "source": []
  },
  {
   "cell_type": "code",
   "execution_count": null,
   "metadata": {},
   "outputs": [],
   "source": []
  }
 ],
 "metadata": {
  "kernelspec": {
   "display_name": "Python 3.7.4 64-bit",
   "language": "python",
   "name": "python3"
  },
  "language_info": {
   "codemirror_mode": {
    "name": "ipython",
    "version": 3
   },
   "file_extension": ".py",
   "mimetype": "text/x-python",
   "name": "python",
   "nbconvert_exporter": "python",
   "pygments_lexer": "ipython3",
   "version": "3.7.4"
  },
  "orig_nbformat": 4,
  "vscode": {
   "interpreter": {
    "hash": "aee8b7b246df8f9039afb4144a1f6fd8d2ca17a180786b69acc140d282b71a49"
   }
  }
 },
 "nbformat": 4,
 "nbformat_minor": 2
}
