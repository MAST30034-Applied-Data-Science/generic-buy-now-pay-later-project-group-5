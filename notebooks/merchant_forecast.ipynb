{
 "cells": [
  {
   "cell_type": "markdown",
   "metadata": {},
   "source": [
    "# MAST30034 Applied Data Science Project 2\n",
    "## Merchant Forecast Notebook\n",
    "\n",
    "This notebook forecasts future performances of each merchant, as features to feed into the final ranking model\n",
    "\n",
    "**Key Performance Indicators:**\n",
    "1. Average Take Amount (Take Rate * Dollar Value)\n",
    "2. Transaction Volume\n",
    "3. Average Transaction Amount"
   ]
  },
  {
   "cell_type": "code",
   "execution_count": 2,
   "metadata": {},
   "outputs": [],
   "source": [
    "# Import Libraries\n",
    "# !pip3 install tqdm\n",
    "# !pip3 install pyramid-arima\n",
    "\n",
    "from pyspark.sql import SparkSession, functions as F, DataFrame\n",
    "import matplotlib.pyplot as plt\n",
    "import pandas as pd\n",
    "import numpy as np\n",
    "\n",
    "from tqdm import tqdm\n",
    "import warnings\n",
    "\n",
    "import statsmodels.api as sm\n",
    "from statsmodels.tools.sm_exceptions import ConvergenceWarning\n",
    "import pmdarima as pm\n",
    "\n",
    "# Filter out some warnings\n",
    "warnings.simplefilter('ignore', ConvergenceWarning)\n",
    "warnings.simplefilter('ignore', UserWarning)\n",
    "warnings.simplefilter('ignore', RuntimeWarning)\n",
    "\n",
    "# Create spark session\n",
    "spark = (\n",
    "    SparkSession.builder.appName(\"Merchant Foreast\")\n",
    "    .config(\"spark.sql.repl.eagerEval.enabled\", True) \n",
    "    .config(\"spark.sql.parquet.cacheMetadata\", \"true\")\n",
    "    .config(\"spark.sql.session.timeZone\", \"Etc/UTC\")\n",
    "    .config(\"spark.executor.memory\", \"2g\")\n",
    "    .config(\"spark.driver.memory\", \"4g\")\n",
    "    .getOrCreate()\n",
    ")"
   ]
  },
  {
   "cell_type": "code",
   "execution_count": 3,
   "metadata": {},
   "outputs": [
    {
     "name": "stderr",
     "output_type": "stream",
     "text": [
      "                                                                                \r"
     ]
    }
   ],
   "source": [
    "# Read in preprocessed data\n",
    "cleaned_data = spark.read.parquet('../data/curated/cleaned_data.parquet/')\n",
    "cleaned_data = cleaned_data.withColumn(\"take_amt\", F.col(\"take rate\")*F.col(\"dollar_value\"))\n",
    "\n",
    "# Group Data and transform into time series data\n",
    "ts = cleaned_data.groupBy(['merchant_abn', 'order_datetime']).agg(\n",
    "    F.mean(\"take_amt\").alias(\"mean_take_amt\"),\n",
    "    F.count(\"*\").alias(\"transaction_count\"),\n",
    "    F.avg(\"dollar_value\").alias(\"avg_transaction_amt\")\n",
    ")\n",
    "ts_pd = ts.toPandas()\n",
    "ts_pd = ts_pd.sort_values(by=['order_datetime','merchant_abn'])\n",
    "ts_pd['order_datetime'] = pd.to_datetime(ts_pd['order_datetime'])\n",
    "\n",
    "# Get the ABN's of all merchants in a set\n",
    "merchants = sorted(set(ts_pd['merchant_abn']))"
   ]
  },
  {
   "cell_type": "markdown",
   "metadata": {},
   "source": [
    "### **1. Determine Model for Forecasting**\n",
    "\n",
    "As we have time series data in hand, we will use SARIMAX (Seasonal Auto-Regressive Integrated Moving Average), an autoregressive model that uses past data to forecast future data, using lagged values $(p)$, moving average $(q)$, differencing $(d)$, and seasonality $(P,D,Q,s)$.\n",
    "\n",
    "The `SARIMAX` model takes a few hyperparameters $SARIMA(p,d,q)x(P,D,Q,s)$:\n",
    "- We set $s=7$, since the granularity of the data is daily, and the closest period is a week (7 days)\n",
    "- We use a stepwise algorithm (using AIC as selection criterion) to figure out the rest\n",
    "\n",
    "Code adapted from: https://www.machinelearningplus.com/time-series/arima-model-time-series-forecasting-python/\n"
   ]
  },
  {
   "cell_type": "code",
   "execution_count": 4,
   "metadata": {},
   "outputs": [],
   "source": [
    "# Use one merchant as an example to determine model\n",
    "test_data = ts_pd.loc[ts_pd['merchant_abn']==10142254217]\n",
    "test_data = test_data.set_index('order_datetime')"
   ]
  },
  {
   "cell_type": "markdown",
   "metadata": {},
   "source": [
    "#### 1.1 Average Take Amount (take rate * dollar value)\n",
    "\n",
    "From the output, `SARIMA(1,0,0)x(2,1,0,7)` is the best model, hence we use it in our final forecasting model"
   ]
  },
  {
   "cell_type": "code",
   "execution_count": 5,
   "metadata": {},
   "outputs": [
    {
     "data": {
      "text/html": [
       "<table class=\"simpletable\">\n",
       "<caption>SARIMAX Results</caption>\n",
       "<tr>\n",
       "  <th>Dep. Variable:</th>                 <td>y</td>               <th>  No. Observations:  </th>    <td>538</td>   \n",
       "</tr>\n",
       "<tr>\n",
       "  <th>Model:</th>           <td>SARIMAX(1, 0, 0)x(2, 1, 0, 7)</td> <th>  Log Likelihood     </th> <td>-3153.089</td>\n",
       "</tr>\n",
       "<tr>\n",
       "  <th>Date:</th>                  <td>Sun, 02 Oct 2022</td>        <th>  AIC                </th> <td>6314.179</td> \n",
       "</tr>\n",
       "<tr>\n",
       "  <th>Time:</th>                      <td>15:11:58</td>            <th>  BIC                </th> <td>6331.278</td> \n",
       "</tr>\n",
       "<tr>\n",
       "  <th>Sample:</th>                        <td>0</td>               <th>  HQIC               </th> <td>6320.871</td> \n",
       "</tr>\n",
       "<tr>\n",
       "  <th></th>                            <td> - 538</td>             <th>                     </th>     <td> </td>    \n",
       "</tr>\n",
       "<tr>\n",
       "  <th>Covariance Type:</th>              <td>opg</td>              <th>                     </th>     <td> </td>    \n",
       "</tr>\n",
       "</table>\n",
       "<table class=\"simpletable\">\n",
       "<tr>\n",
       "      <td></td>        <th>coef</th>     <th>std err</th>      <th>z</th>      <th>P>|z|</th>  <th>[0.025</th>    <th>0.975]</th>  \n",
       "</tr>\n",
       "<tr>\n",
       "  <th>ar.L1</th>    <td>   -0.0836</td> <td>    0.047</td> <td>   -1.763</td> <td> 0.078</td> <td>   -0.177</td> <td>    0.009</td>\n",
       "</tr>\n",
       "<tr>\n",
       "  <th>ar.S.L7</th>  <td>   -0.6781</td> <td>    0.034</td> <td>  -19.865</td> <td> 0.000</td> <td>   -0.745</td> <td>   -0.611</td>\n",
       "</tr>\n",
       "<tr>\n",
       "  <th>ar.S.L14</th> <td>   -0.3832</td> <td>    0.035</td> <td>  -10.813</td> <td> 0.000</td> <td>   -0.453</td> <td>   -0.314</td>\n",
       "</tr>\n",
       "<tr>\n",
       "  <th>sigma2</th>   <td> 8353.5343</td> <td>  421.484</td> <td>   19.819</td> <td> 0.000</td> <td> 7527.442</td> <td> 9179.627</td>\n",
       "</tr>\n",
       "</table>\n",
       "<table class=\"simpletable\">\n",
       "<tr>\n",
       "  <th>Ljung-Box (L1) (Q):</th>     <td>0.00</td> <th>  Jarque-Bera (JB):  </th> <td>43.95</td>\n",
       "</tr>\n",
       "<tr>\n",
       "  <th>Prob(Q):</th>                <td>0.98</td> <th>  Prob(JB):          </th> <td>0.00</td> \n",
       "</tr>\n",
       "<tr>\n",
       "  <th>Heteroskedasticity (H):</th> <td>0.79</td> <th>  Skew:              </th> <td>0.44</td> \n",
       "</tr>\n",
       "<tr>\n",
       "  <th>Prob(H) (two-sided):</th>    <td>0.11</td> <th>  Kurtosis:          </th> <td>4.10</td> \n",
       "</tr>\n",
       "</table><br/><br/>Warnings:<br/>[1] Covariance matrix calculated using the outer product of gradients (complex-step)."
      ],
      "text/plain": [
       "<class 'statsmodels.iolib.summary.Summary'>\n",
       "\"\"\"\n",
       "                                     SARIMAX Results                                     \n",
       "=========================================================================================\n",
       "Dep. Variable:                                 y   No. Observations:                  538\n",
       "Model:             SARIMAX(1, 0, 0)x(2, 1, 0, 7)   Log Likelihood               -3153.089\n",
       "Date:                           Sun, 02 Oct 2022   AIC                           6314.179\n",
       "Time:                                   15:11:58   BIC                           6331.278\n",
       "Sample:                                        0   HQIC                          6320.871\n",
       "                                           - 538                                         \n",
       "Covariance Type:                             opg                                         \n",
       "==============================================================================\n",
       "                 coef    std err          z      P>|z|      [0.025      0.975]\n",
       "------------------------------------------------------------------------------\n",
       "ar.L1         -0.0836      0.047     -1.763      0.078      -0.177       0.009\n",
       "ar.S.L7       -0.6781      0.034    -19.865      0.000      -0.745      -0.611\n",
       "ar.S.L14      -0.3832      0.035    -10.813      0.000      -0.453      -0.314\n",
       "sigma2      8353.5343    421.484     19.819      0.000    7527.442    9179.627\n",
       "===================================================================================\n",
       "Ljung-Box (L1) (Q):                   0.00   Jarque-Bera (JB):                43.95\n",
       "Prob(Q):                              0.98   Prob(JB):                         0.00\n",
       "Heteroskedasticity (H):               0.79   Skew:                             0.44\n",
       "Prob(H) (two-sided):                  0.11   Kurtosis:                         4.10\n",
       "===================================================================================\n",
       "\n",
       "Warnings:\n",
       "[1] Covariance matrix calculated using the outer product of gradients (complex-step).\n",
       "\"\"\""
      ]
     },
     "execution_count": 5,
     "metadata": {},
     "output_type": "execute_result"
    }
   ],
   "source": [
    "# Seasonal - fit stepwise auto-ARIMA\n",
    "smodel_take_amt = pm.auto_arima(test_data['mean_take_amt'], start_p=1, start_q=1,\n",
    "                         test='adf',\n",
    "                         max_p=3, max_q=3, m=7,\n",
    "                         start_P=0, seasonal=True,\n",
    "                         d=None, D=1,\n",
    "                         error_action='ignore',  \n",
    "                         suppress_warnings=True, \n",
    "                         stepwise=True)\n",
    "\n",
    "smodel_take_amt.summary()"
   ]
  },
  {
   "cell_type": "markdown",
   "metadata": {},
   "source": [
    "#### 1.2 Transaction Volume \n",
    "\n",
    "From the output, `SARIMA(1,0,1)x(2,1,0,7)` is the best model, hence we use it in our final forecasting model"
   ]
  },
  {
   "cell_type": "code",
   "execution_count": 6,
   "metadata": {},
   "outputs": [
    {
     "data": {
      "text/html": [
       "<table class=\"simpletable\">\n",
       "<caption>SARIMAX Results</caption>\n",
       "<tr>\n",
       "  <th>Dep. Variable:</th>                  <td>y</td>               <th>  No. Observations:  </th>    <td>538</td>   \n",
       "</tr>\n",
       "<tr>\n",
       "  <th>Model:</th>           <td>SARIMAX(1, 0, 1)x(2, 1, [], 7)</td> <th>  Log Likelihood     </th> <td>-1392.128</td>\n",
       "</tr>\n",
       "<tr>\n",
       "  <th>Date:</th>                   <td>Sun, 02 Oct 2022</td>        <th>  AIC                </th> <td>2794.257</td> \n",
       "</tr>\n",
       "<tr>\n",
       "  <th>Time:</th>                       <td>15:12:33</td>            <th>  BIC                </th> <td>2815.630</td> \n",
       "</tr>\n",
       "<tr>\n",
       "  <th>Sample:</th>                         <td>0</td>               <th>  HQIC               </th> <td>2802.622</td> \n",
       "</tr>\n",
       "<tr>\n",
       "  <th></th>                             <td> - 538</td>             <th>                     </th>     <td> </td>    \n",
       "</tr>\n",
       "<tr>\n",
       "  <th>Covariance Type:</th>               <td>opg</td>              <th>                     </th>     <td> </td>    \n",
       "</tr>\n",
       "</table>\n",
       "<table class=\"simpletable\">\n",
       "<tr>\n",
       "      <td></td>        <th>coef</th>     <th>std err</th>      <th>z</th>      <th>P>|z|</th>  <th>[0.025</th>    <th>0.975]</th>  \n",
       "</tr>\n",
       "<tr>\n",
       "  <th>ar.L1</th>    <td>    0.8020</td> <td>    0.107</td> <td>    7.519</td> <td> 0.000</td> <td>    0.593</td> <td>    1.011</td>\n",
       "</tr>\n",
       "<tr>\n",
       "  <th>ma.L1</th>    <td>   -0.6930</td> <td>    0.125</td> <td>   -5.561</td> <td> 0.000</td> <td>   -0.937</td> <td>   -0.449</td>\n",
       "</tr>\n",
       "<tr>\n",
       "  <th>ar.S.L7</th>  <td>   -0.6674</td> <td>    0.042</td> <td>  -15.937</td> <td> 0.000</td> <td>   -0.750</td> <td>   -0.585</td>\n",
       "</tr>\n",
       "<tr>\n",
       "  <th>ar.S.L14</th> <td>   -0.3312</td> <td>    0.040</td> <td>   -8.322</td> <td> 0.000</td> <td>   -0.409</td> <td>   -0.253</td>\n",
       "</tr>\n",
       "<tr>\n",
       "  <th>sigma2</th>   <td>   11.0110</td> <td>    0.618</td> <td>   17.822</td> <td> 0.000</td> <td>    9.800</td> <td>   12.222</td>\n",
       "</tr>\n",
       "</table>\n",
       "<table class=\"simpletable\">\n",
       "<tr>\n",
       "  <th>Ljung-Box (L1) (Q):</th>     <td>0.05</td> <th>  Jarque-Bera (JB):  </th> <td>26.62</td>\n",
       "</tr>\n",
       "<tr>\n",
       "  <th>Prob(Q):</th>                <td>0.83</td> <th>  Prob(JB):          </th> <td>0.00</td> \n",
       "</tr>\n",
       "<tr>\n",
       "  <th>Heteroskedasticity (H):</th> <td>1.11</td> <th>  Skew:              </th> <td>0.49</td> \n",
       "</tr>\n",
       "<tr>\n",
       "  <th>Prob(H) (two-sided):</th>    <td>0.48</td> <th>  Kurtosis:          </th> <td>3.48</td> \n",
       "</tr>\n",
       "</table><br/><br/>Warnings:<br/>[1] Covariance matrix calculated using the outer product of gradients (complex-step)."
      ],
      "text/plain": [
       "<class 'statsmodels.iolib.summary.Summary'>\n",
       "\"\"\"\n",
       "                                     SARIMAX Results                                      \n",
       "==========================================================================================\n",
       "Dep. Variable:                                  y   No. Observations:                  538\n",
       "Model:             SARIMAX(1, 0, 1)x(2, 1, [], 7)   Log Likelihood               -1392.128\n",
       "Date:                            Sun, 02 Oct 2022   AIC                           2794.257\n",
       "Time:                                    15:12:33   BIC                           2815.630\n",
       "Sample:                                         0   HQIC                          2802.622\n",
       "                                            - 538                                         \n",
       "Covariance Type:                              opg                                         \n",
       "==============================================================================\n",
       "                 coef    std err          z      P>|z|      [0.025      0.975]\n",
       "------------------------------------------------------------------------------\n",
       "ar.L1          0.8020      0.107      7.519      0.000       0.593       1.011\n",
       "ma.L1         -0.6930      0.125     -5.561      0.000      -0.937      -0.449\n",
       "ar.S.L7       -0.6674      0.042    -15.937      0.000      -0.750      -0.585\n",
       "ar.S.L14      -0.3312      0.040     -8.322      0.000      -0.409      -0.253\n",
       "sigma2        11.0110      0.618     17.822      0.000       9.800      12.222\n",
       "===================================================================================\n",
       "Ljung-Box (L1) (Q):                   0.05   Jarque-Bera (JB):                26.62\n",
       "Prob(Q):                              0.83   Prob(JB):                         0.00\n",
       "Heteroskedasticity (H):               1.11   Skew:                             0.49\n",
       "Prob(H) (two-sided):                  0.48   Kurtosis:                         3.48\n",
       "===================================================================================\n",
       "\n",
       "Warnings:\n",
       "[1] Covariance matrix calculated using the outer product of gradients (complex-step).\n",
       "\"\"\""
      ]
     },
     "execution_count": 6,
     "metadata": {},
     "output_type": "execute_result"
    }
   ],
   "source": [
    "# Seasonal - fit stepwise auto-ARIMA\n",
    "smodel_transaction_count = pm.auto_arima(test_data['transaction_count'], start_p=1, start_q=1,\n",
    "                         test='adf',\n",
    "                         max_p=3, max_q=3, m=7,\n",
    "                         start_P=0, seasonal=True,\n",
    "                         d=None, D=1,\n",
    "                         error_action='ignore',  \n",
    "                         suppress_warnings=True, \n",
    "                         stepwise=True)\n",
    "\n",
    "smodel_transaction_count.summary()"
   ]
  },
  {
   "cell_type": "markdown",
   "metadata": {},
   "source": [
    "#### 1.3 Average Transaction Amount \n",
    "\n",
    "From the output, `SARIMA(1,0,0)x(2,1,0,7)` is the best model, hence we use it in our final forecasting model"
   ]
  },
  {
   "cell_type": "code",
   "execution_count": 7,
   "metadata": {},
   "outputs": [
    {
     "data": {
      "text/html": [
       "<table class=\"simpletable\">\n",
       "<caption>SARIMAX Results</caption>\n",
       "<tr>\n",
       "  <th>Dep. Variable:</th>                 <td>y</td>               <th>  No. Observations:  </th>    <td>538</td>   \n",
       "</tr>\n",
       "<tr>\n",
       "  <th>Model:</th>           <td>SARIMAX(1, 0, 0)x(2, 1, 0, 7)</td> <th>  Log Likelihood     </th> <td>-2388.540</td>\n",
       "</tr>\n",
       "<tr>\n",
       "  <th>Date:</th>                  <td>Sun, 02 Oct 2022</td>        <th>  AIC                </th> <td>4785.080</td> \n",
       "</tr>\n",
       "<tr>\n",
       "  <th>Time:</th>                      <td>15:12:48</td>            <th>  BIC                </th> <td>4802.179</td> \n",
       "</tr>\n",
       "<tr>\n",
       "  <th>Sample:</th>                        <td>0</td>               <th>  HQIC               </th> <td>4791.773</td> \n",
       "</tr>\n",
       "<tr>\n",
       "  <th></th>                            <td> - 538</td>             <th>                     </th>     <td> </td>    \n",
       "</tr>\n",
       "<tr>\n",
       "  <th>Covariance Type:</th>              <td>opg</td>              <th>                     </th>     <td> </td>    \n",
       "</tr>\n",
       "</table>\n",
       "<table class=\"simpletable\">\n",
       "<tr>\n",
       "      <td></td>        <th>coef</th>     <th>std err</th>      <th>z</th>      <th>P>|z|</th>  <th>[0.025</th>    <th>0.975]</th>  \n",
       "</tr>\n",
       "<tr>\n",
       "  <th>ar.L1</th>    <td>   -0.0836</td> <td>    0.047</td> <td>   -1.764</td> <td> 0.078</td> <td>   -0.177</td> <td>    0.009</td>\n",
       "</tr>\n",
       "<tr>\n",
       "  <th>ar.S.L7</th>  <td>   -0.6781</td> <td>    0.034</td> <td>  -19.868</td> <td> 0.000</td> <td>   -0.745</td> <td>   -0.611</td>\n",
       "</tr>\n",
       "<tr>\n",
       "  <th>ar.S.L14</th> <td>   -0.3832</td> <td>    0.035</td> <td>  -10.813</td> <td> 0.000</td> <td>   -0.453</td> <td>   -0.314</td>\n",
       "</tr>\n",
       "<tr>\n",
       "  <th>sigma2</th>   <td>  469.0397</td> <td>   23.663</td> <td>   19.821</td> <td> 0.000</td> <td>  422.660</td> <td>  515.419</td>\n",
       "</tr>\n",
       "</table>\n",
       "<table class=\"simpletable\">\n",
       "<tr>\n",
       "  <th>Ljung-Box (L1) (Q):</th>     <td>0.00</td> <th>  Jarque-Bera (JB):  </th> <td>43.94</td>\n",
       "</tr>\n",
       "<tr>\n",
       "  <th>Prob(Q):</th>                <td>0.98</td> <th>  Prob(JB):          </th> <td>0.00</td> \n",
       "</tr>\n",
       "<tr>\n",
       "  <th>Heteroskedasticity (H):</th> <td>0.79</td> <th>  Skew:              </th> <td>0.44</td> \n",
       "</tr>\n",
       "<tr>\n",
       "  <th>Prob(H) (two-sided):</th>    <td>0.11</td> <th>  Kurtosis:          </th> <td>4.10</td> \n",
       "</tr>\n",
       "</table><br/><br/>Warnings:<br/>[1] Covariance matrix calculated using the outer product of gradients (complex-step)."
      ],
      "text/plain": [
       "<class 'statsmodels.iolib.summary.Summary'>\n",
       "\"\"\"\n",
       "                                     SARIMAX Results                                     \n",
       "=========================================================================================\n",
       "Dep. Variable:                                 y   No. Observations:                  538\n",
       "Model:             SARIMAX(1, 0, 0)x(2, 1, 0, 7)   Log Likelihood               -2388.540\n",
       "Date:                           Sun, 02 Oct 2022   AIC                           4785.080\n",
       "Time:                                   15:12:48   BIC                           4802.179\n",
       "Sample:                                        0   HQIC                          4791.773\n",
       "                                           - 538                                         \n",
       "Covariance Type:                             opg                                         \n",
       "==============================================================================\n",
       "                 coef    std err          z      P>|z|      [0.025      0.975]\n",
       "------------------------------------------------------------------------------\n",
       "ar.L1         -0.0836      0.047     -1.764      0.078      -0.177       0.009\n",
       "ar.S.L7       -0.6781      0.034    -19.868      0.000      -0.745      -0.611\n",
       "ar.S.L14      -0.3832      0.035    -10.813      0.000      -0.453      -0.314\n",
       "sigma2       469.0397     23.663     19.821      0.000     422.660     515.419\n",
       "===================================================================================\n",
       "Ljung-Box (L1) (Q):                   0.00   Jarque-Bera (JB):                43.94\n",
       "Prob(Q):                              0.98   Prob(JB):                         0.00\n",
       "Heteroskedasticity (H):               0.79   Skew:                             0.44\n",
       "Prob(H) (two-sided):                  0.11   Kurtosis:                         4.10\n",
       "===================================================================================\n",
       "\n",
       "Warnings:\n",
       "[1] Covariance matrix calculated using the outer product of gradients (complex-step).\n",
       "\"\"\""
      ]
     },
     "execution_count": 7,
     "metadata": {},
     "output_type": "execute_result"
    }
   ],
   "source": [
    "# Seasonal - fit stepwise auto-ARIMA\n",
    "smodel_avg_transaction_amt = pm.auto_arima(test_data['avg_transaction_amt'], start_p=1, start_q=1,\n",
    "                         test='adf',\n",
    "                         max_p=3, max_q=3, m=7,\n",
    "                         start_P=0, seasonal=True,\n",
    "                         d=None, D=1,\n",
    "                         error_action='ignore',  \n",
    "                         suppress_warnings=True, \n",
    "                         stepwise=True)\n",
    "\n",
    "smodel_avg_transaction_amt.summary()"
   ]
  },
  {
   "cell_type": "markdown",
   "metadata": {},
   "source": [
    "### **2. Deploy Model for Forecasting**\n",
    "\n",
    "- For merchants with insufficient amount of data, a time series model cannot be built, hence we take the average of their data as our forecast\n",
    "- For the rest, we build 3 `SARIMA` models for each merchant on 3 key performance indicators\n",
    "    - We generate forecast for the next year (365 days, since we have about $\\leq$ 2 years of data) and average it"
   ]
  },
  {
   "cell_type": "code",
   "execution_count": 8,
   "metadata": {},
   "outputs": [
    {
     "name": "stderr",
     "output_type": "stream",
     "text": [
      "100%|██████████| 4422/4422 [00:28<00:00, 157.07it/s]\n"
     ]
    }
   ],
   "source": [
    "static_merchant = []\n",
    "for merchant in tqdm(merchants):\n",
    "    \n",
    "    merchant_data = ts_pd.loc[ts_pd['merchant_abn']==merchant]\n",
    "    merchant_data = merchant_data.set_index('order_datetime')\n",
    "    merchant_data = merchant_data.asfreq('D').fillna(0)\n",
    "\n",
    "    if(len(set(merchant_data['mean_take_amt'])) <= 4 or len(set(merchant_data['transaction_count'])) <=4 or len(set(merchant_data['avg_transaction_amt'])) <= 4 ):\n",
    "        static_merchant.append(merchant)"
   ]
  },
  {
   "cell_type": "code",
   "execution_count": 12,
   "metadata": {},
   "outputs": [
    {
     "name": "stderr",
     "output_type": "stream",
     "text": [
      "100%|██████████| 4422/4422 [1:09:55<00:00,  1.05it/s]\n"
     ]
    }
   ],
   "source": [
    "forecast = []\n",
    "\n",
    "for merchant in tqdm(merchants):\n",
    "\n",
    "    merchant_data = ts_pd.loc[ts_pd['merchant_abn']==merchant]\n",
    "    merchant_data = merchant_data.set_index('order_datetime')\n",
    "    merchant_data = merchant_data.asfreq('D').fillna(0)\n",
    "\n",
    "    if(merchant in static_merchant):\n",
    "        forecast.append([merchant, np.mean(merchant_data['mean_take_amt']), \n",
    "                                    np.mean(merchant_data['transaction_count']), \n",
    "                                    np.mean(merchant_data['avg_transaction_amt'])])\n",
    "        continue\n",
    "\n",
    "    take_amt = sm.tsa.ARIMA(merchant_data['mean_take_amt'],order=(1,0,0) , seasonal_order=(2, 1, 0, 7))\n",
    "    take_amt_fit = take_amt.fit()\n",
    "\n",
    "    transaction_count = sm.tsa.ARIMA(merchant_data['transaction_count'],order=(1,0,1) , seasonal_order=(2, 1, 0, 7))\n",
    "    transaction_count_fit = transaction_count.fit()\n",
    "\n",
    "    transaction_amt = sm.tsa.ARIMA(merchant_data['avg_transaction_amt'],order=(1,0,0) , seasonal_order=(2, 1, 0, 7))\n",
    "    transaction_amt_fit = transaction_amt.fit()\n",
    "\n",
    "    take_amt_forecast = np.mean(take_amt_fit.get_forecast(steps = 365).predicted_mean)\n",
    "    transaction_count_forecast = np.mean(transaction_count_fit.get_forecast(steps = 365).predicted_mean)\n",
    "    transaction_amt_forecast = np.mean(transaction_amt_fit.get_forecast(steps = 365).predicted_mean)\n",
    "\n",
    "    forecast.append([merchant, take_amt_forecast, transaction_count_forecast, transaction_amt_forecast])"
   ]
  },
  {
   "cell_type": "markdown",
   "metadata": {},
   "source": [
    "### **3. Output Forecast Results**"
   ]
  },
  {
   "cell_type": "code",
   "execution_count": 13,
   "metadata": {},
   "outputs": [],
   "source": [
    "pd.DataFrame(forecast, columns = ['merchant_abn', 'mean_take_amt', 'transaction_count', 'avg_transaction_amt']).to_csv('../data/curated/future_predictions.csv')"
   ]
  }
 ],
 "metadata": {
  "kernelspec": {
   "display_name": "Python 3.8.2 64-bit",
   "language": "python",
   "name": "python3"
  },
  "language_info": {
   "codemirror_mode": {
    "name": "ipython",
    "version": 3
   },
   "file_extension": ".py",
   "mimetype": "text/x-python",
   "name": "python",
   "nbconvert_exporter": "python",
   "pygments_lexer": "ipython3",
   "version": "3.8.2"
  },
  "orig_nbformat": 4,
  "vscode": {
   "interpreter": {
    "hash": "31f2aee4e71d21fbe5cf8b01ff0e069b9275f58929596ceb00d14d90e3e16cd6"
   }
  }
 },
 "nbformat": 4,
 "nbformat_minor": 2
}
