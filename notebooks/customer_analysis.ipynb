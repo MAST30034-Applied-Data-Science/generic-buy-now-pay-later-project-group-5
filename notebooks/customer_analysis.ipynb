{
 "cells": [
  {
   "cell_type": "markdown",
   "metadata": {},
   "source": [
    "# MAST30034 Applied Data Science Project 2"
   ]
  },
  {
   "cell_type": "markdown",
   "metadata": {},
   "source": [
    "## Customer Analysis Notebook"
   ]
  },
  {
   "cell_type": "code",
   "execution_count": 2,
   "metadata": {},
   "outputs": [],
   "source": [
    "from pyspark.sql import SparkSession, functions as F, DataFrame\n",
    "import matplotlib.pyplot as plt\n",
    "from turtle import title"
   ]
  },
  {
   "cell_type": "code",
   "execution_count": 3,
   "metadata": {},
   "outputs": [
    {
     "name": "stdout",
     "output_type": "stream",
     "text": [
      "22/09/04 17:48:25 WARN Utils: Your hostname, Yis-MacBook-Air.local resolves to a loopback address: 127.0.0.1; using 172.16.33.143 instead (on interface en0)\n",
      "22/09/04 17:48:25 WARN Utils: Set SPARK_LOCAL_IP if you need to bind to another address\n"
     ]
    },
    {
     "name": "stderr",
     "output_type": "stream",
     "text": [
      "Setting default log level to \"WARN\".\n",
      "To adjust logging level use sc.setLogLevel(newLevel). For SparkR, use setLogLevel(newLevel).\n"
     ]
    },
    {
     "name": "stdout",
     "output_type": "stream",
     "text": [
      "22/09/04 17:48:27 WARN NativeCodeLoader: Unable to load native-hadoop library for your platform... using builtin-java classes where applicable\n"
     ]
    }
   ],
   "source": [
    "spark = (\n",
    "    SparkSession.builder.appName(\"Customer_Analysis\")\n",
    "    .config(\"spark.sql.repl.eagerEval.enabled\", True) \n",
    "    .config(\"spark.sql.parquet.cacheMetadata\", \"true\")\n",
    "    .config(\"spark.sql.session.timeZone\", \"Etc/UTC\")\n",
    "    .config(\"spark.executor.memory\", \"2g\")\n",
    "    .config(\"spark.driver.memory\", \"4g\")\n",
    "    .getOrCreate()\n",
    ")"
   ]
  },
  {
   "cell_type": "code",
   "execution_count": 4,
   "metadata": {},
   "outputs": [
    {
     "name": "stderr",
     "output_type": "stream",
     "text": [
      "                                                                                \r"
     ]
    }
   ],
   "source": [
    "joined_data = spark.read.parquet('../data/curated/joined_data.parquet')"
   ]
  },
  {
   "cell_type": "code",
   "execution_count": 5,
   "metadata": {},
   "outputs": [
    {
     "name": "stderr",
     "output_type": "stream",
     "text": [
      "                                                                                \r"
     ]
    },
    {
     "data": {
      "text/html": [
       "<table border='1'>\n",
       "<tr><th>summary</th><th>consumer_id</th><th>user_id</th><th>merchant_abn</th><th>dollar_value</th><th>order_id</th><th>name</th><th>tags</th><th>consumer_name</th><th>address</th><th>state</th><th>postcode</th><th>gender</th></tr>\n",
       "<tr><td>count</td><td>3494038</td><td>3494038</td><td>3494038</td><td>3494038</td><td>3494038</td><td>3494038</td><td>3494038</td><td>3494038</td><td>3494038</td><td>3494038</td><td>3494038</td><td>3494038</td></tr>\n",
       "<tr><td>mean</td><td>753374.5329690175</td><td>12038.032943545548</td><td>5.585243624644211E10</td><td>158.60763205130544</td><td>null</td><td>null</td><td>null</td><td>null</td><td>null</td><td>null</td><td>4043.94900227187</td><td>null</td></tr>\n",
       "<tr><td>stddev</td><td>435461.1406722774</td><td>6951.607246286599</td><td>2.523671447353531...</td><td>467.64218536055904</td><td>null</td><td>null</td><td>null</td><td>null</td><td>null</td><td>null</td><td>1780.2537222397223</td><td>null</td></tr>\n",
       "<tr><td>min</td><td>30</td><td>1</td><td>10023283211</td><td>9.756658099412162E-8</td><td>000000f8-6795-4d2...</td><td>A Aliquet Ltd</td><td>((Artist supply a...</td><td>Aaron Adkins</td><td>000 Barnes Missio...</td><td>ACT</td><td>1001</td><td>Female</td></tr>\n",
       "<tr><td>max</td><td>1499867</td><td>24081</td><td>99990536339</td><td>105193.88578925544</td><td>fffffb2e-6809-44b...</td><td>Vulputate Velit Inc.</td><td>[[watch, clock, a...</td><td>Zoe Randall</td><td>99994 Krystal Views</td><td>WA</td><td>9999</td><td>Undisclosed</td></tr>\n",
       "</table>\n"
      ],
      "text/plain": [
       "+-------+-----------------+------------------+--------------------+--------------------+--------------------+--------------------+--------------------+-------------+--------------------+-------+------------------+-----------+\n",
       "|summary|      consumer_id|           user_id|        merchant_abn|        dollar_value|            order_id|                name|                tags|consumer_name|             address|  state|          postcode|     gender|\n",
       "+-------+-----------------+------------------+--------------------+--------------------+--------------------+--------------------+--------------------+-------------+--------------------+-------+------------------+-----------+\n",
       "|  count|          3494038|           3494038|             3494038|             3494038|             3494038|             3494038|             3494038|      3494038|             3494038|3494038|           3494038|    3494038|\n",
       "|   mean|753374.5329690175|12038.032943545548|5.585243624644211E10|  158.60763205130544|                null|                null|                null|         null|                null|   null|  4043.94900227187|       null|\n",
       "| stddev|435461.1406722774| 6951.607246286599|2.523671447353531...|  467.64218536055904|                null|                null|                null|         null|                null|   null|1780.2537222397223|       null|\n",
       "|    min|               30|                 1|         10023283211|9.756658099412162E-8|000000f8-6795-4d2...|       A Aliquet Ltd|((Artist supply a...| Aaron Adkins|000 Barnes Missio...|    ACT|              1001|     Female|\n",
       "|    max|          1499867|             24081|         99990536339|  105193.88578925544|fffffb2e-6809-44b...|Vulputate Velit Inc.|[[watch, clock, a...|  Zoe Randall| 99994 Krystal Views|     WA|              9999|Undisclosed|\n",
       "+-------+-----------------+------------------+--------------------+--------------------+--------------------+--------------------+--------------------+-------------+--------------------+-------+------------------+-----------+"
      ]
     },
     "execution_count": 5,
     "metadata": {},
     "output_type": "execute_result"
    }
   ],
   "source": [
    "#joined_data.describe()"
   ]
  },
  {
   "cell_type": "markdown",
   "metadata": {},
   "source": [
    "### Aggregate Data"
   ]
  },
  {
   "cell_type": "code",
   "execution_count": 12,
   "metadata": {},
   "outputs": [
    {
     "name": "stderr",
     "output_type": "stream",
     "text": [
      "                                                                                \r"
     ]
    }
   ],
   "source": [
    "# By State\n",
    "transaction_by_state = joined_data \\\n",
    "                    .groupBy(\"state\") \\\n",
    "                    .agg(\n",
    "                        F.mean(\"dollar_value\").alias(\"mean_amount\"),\n",
    "                        F.sum(\"dollar_value\").alias(\"total_amount\"),\n",
    "                        F.count(\"order_id\").alias(\"order_volume\")\n",
    "                    ) \\\n",
    "                    .orderBy(\"state\") \\\n",
    "                    .toPandas()\n",
    "\n",
    "# By Postcode\n",
    "transaction_by_postcode = joined_data \\\n",
    "                    .groupBy(\"postcode\") \\\n",
    "                    .agg(\n",
    "                        F.mean(\"dollar_value\").alias(\"mean_amount\"),\n",
    "                        F.sum(\"dollar_value\").alias(\"total_amount\"),\n",
    "                        F.count(\"order_id\").alias(\"order_volume\")\n",
    "                    ) \\\n",
    "                    .orderBy(\"postcode\") \\\n",
    "                    .toPandas()"
   ]
  },
  {
   "cell_type": "code",
   "execution_count": 20,
   "metadata": {},
   "outputs": [
    {
     "name": "stderr",
     "output_type": "stream",
     "text": [
      "                                                                                \r"
     ]
    }
   ],
   "source": [
    "# By Merchant\n",
    "transaction_by_merchant = joined_data \\\n",
    "                    .groupBy(\"merchant_abn\") \\\n",
    "                    .agg(\n",
    "                        F.mean(\"dollar_value\").alias(\"mean_amount\"),\n",
    "                        F.sum(\"dollar_value\").alias(\"total_amount\"),\n",
    "                        F.count(\"order_id\").alias(\"order_volume\")\n",
    "                    ) \\\n",
    "                    .orderBy(\"merchant_abn\") \\\n",
    "                    .toPandas()"
   ]
  },
  {
   "cell_type": "code",
   "execution_count": 22,
   "metadata": {},
   "outputs": [
    {
     "data": {
      "text/html": [
       "<div>\n",
       "<style scoped>\n",
       "    .dataframe tbody tr th:only-of-type {\n",
       "        vertical-align: middle;\n",
       "    }\n",
       "\n",
       "    .dataframe tbody tr th {\n",
       "        vertical-align: top;\n",
       "    }\n",
       "\n",
       "    .dataframe thead th {\n",
       "        text-align: right;\n",
       "    }\n",
       "</style>\n",
       "<table border=\"1\" class=\"dataframe\">\n",
       "  <thead>\n",
       "    <tr style=\"text-align: right;\">\n",
       "      <th></th>\n",
       "      <th>merchant_abn</th>\n",
       "      <th>mean_amount</th>\n",
       "      <th>total_amount</th>\n",
       "      <th>order_volume</th>\n",
       "    </tr>\n",
       "  </thead>\n",
       "  <tbody>\n",
       "    <tr>\n",
       "      <th>1330</th>\n",
       "      <td>39150153670</td>\n",
       "      <td>38089.939272</td>\n",
       "      <td>3.808994e+04</td>\n",
       "      <td>1</td>\n",
       "    </tr>\n",
       "    <tr>\n",
       "      <th>1348</th>\n",
       "      <td>39580029434</td>\n",
       "      <td>2670.486173</td>\n",
       "      <td>2.670486e+03</td>\n",
       "      <td>1</td>\n",
       "    </tr>\n",
       "    <tr>\n",
       "      <th>585</th>\n",
       "      <td>22853038342</td>\n",
       "      <td>14491.665724</td>\n",
       "      <td>1.449167e+04</td>\n",
       "      <td>1</td>\n",
       "    </tr>\n",
       "    <tr>\n",
       "      <th>586</th>\n",
       "      <td>22883189698</td>\n",
       "      <td>2374.805238</td>\n",
       "      <td>2.374805e+03</td>\n",
       "      <td>1</td>\n",
       "    </tr>\n",
       "    <tr>\n",
       "      <th>1862</th>\n",
       "      <td>51267358936</td>\n",
       "      <td>3771.568249</td>\n",
       "      <td>3.771568e+03</td>\n",
       "      <td>1</td>\n",
       "    </tr>\n",
       "    <tr>\n",
       "      <th>...</th>\n",
       "      <td>...</td>\n",
       "      <td>...</td>\n",
       "      <td>...</td>\n",
       "      <td>...</td>\n",
       "    </tr>\n",
       "    <tr>\n",
       "      <th>1675</th>\n",
       "      <td>46804135891</td>\n",
       "      <td>30.017340</td>\n",
       "      <td>1.800530e+06</td>\n",
       "      <td>59983</td>\n",
       "    </tr>\n",
       "    <tr>\n",
       "      <th>1807</th>\n",
       "      <td>49891706470</td>\n",
       "      <td>28.942933</td>\n",
       "      <td>1.840481e+06</td>\n",
       "      <td>63590</td>\n",
       "    </tr>\n",
       "    <tr>\n",
       "      <th>2412</th>\n",
       "      <td>64203420245</td>\n",
       "      <td>28.846971</td>\n",
       "      <td>1.930641e+06</td>\n",
       "      <td>66927</td>\n",
       "    </tr>\n",
       "    <tr>\n",
       "      <th>3407</th>\n",
       "      <td>86578477987</td>\n",
       "      <td>35.116332</td>\n",
       "      <td>2.451541e+06</td>\n",
       "      <td>69812</td>\n",
       "    </tr>\n",
       "    <tr>\n",
       "      <th>668</th>\n",
       "      <td>24852446429</td>\n",
       "      <td>30.043424</td>\n",
       "      <td>2.227810e+06</td>\n",
       "      <td>74153</td>\n",
       "    </tr>\n",
       "  </tbody>\n",
       "</table>\n",
       "<p>3981 rows × 4 columns</p>\n",
       "</div>"
      ],
      "text/plain": [
       "      merchant_abn   mean_amount  total_amount  order_volume\n",
       "1330   39150153670  38089.939272  3.808994e+04             1\n",
       "1348   39580029434   2670.486173  2.670486e+03             1\n",
       "585    22853038342  14491.665724  1.449167e+04             1\n",
       "586    22883189698   2374.805238  2.374805e+03             1\n",
       "1862   51267358936   3771.568249  3.771568e+03             1\n",
       "...            ...           ...           ...           ...\n",
       "1675   46804135891     30.017340  1.800530e+06         59983\n",
       "1807   49891706470     28.942933  1.840481e+06         63590\n",
       "2412   64203420245     28.846971  1.930641e+06         66927\n",
       "3407   86578477987     35.116332  2.451541e+06         69812\n",
       "668    24852446429     30.043424  2.227810e+06         74153\n",
       "\n",
       "[3981 rows x 4 columns]"
      ]
     },
     "execution_count": 22,
     "metadata": {},
     "output_type": "execute_result"
    }
   ],
   "source": [
    "transaction_by_merchant"
   ]
  },
  {
   "cell_type": "markdown",
   "metadata": {},
   "source": [
    "### Transaction By State"
   ]
  },
  {
   "cell_type": "code",
   "execution_count": 17,
   "metadata": {},
   "outputs": [
    {
     "data": {
      "text/plain": [
       "<AxesSubplot:title={'center':'Average Amount($)'}, ylabel='state'>"
      ]
     },
     "execution_count": 17,
     "metadata": {},
     "output_type": "execute_result"
    },
    {
     "data": {
      "image/png": "[encoded data removed]",
      "text/plain": [
       "<Figure size 432x288 with 1 Axes>"
      ]
     },
     "metadata": {
      "needs_background": "light"
     },
     "output_type": "display_data"
    },
    {
     "data": {
      "image/png": "[encoded data removed]",
      "text/plain": [
       "<Figure size 432x288 with 1 Axes>"
      ]
     },
     "metadata": {
      "needs_background": "light"
     },
     "output_type": "display_data"
    },
    {
     "data": {
      "image/png": "[encoded data removed]",
      "text/plain": [
       "<Figure size 432x288 with 1 Axes>"
      ]
     },
     "metadata": {
      "needs_background": "light"
     },
     "output_type": "display_data"
    }
   ],
   "source": [
    "transaction_by_state = transaction_by_state.sort_values(by='order_volume')\n",
    "transaction_by_state.plot(x='state', y='order_volume', kind=\"barh\", title='Volume')\n",
    "transaction_by_state = transaction_by_state.sort_values(by='total_amount')\n",
    "transaction_by_state.plot(x='state', y='total_amount', kind=\"barh\", title='Total Amount($)')\n",
    "transaction_by_state = transaction_by_state.sort_values(by='mean_amount')\n",
    "transaction_by_state.plot(x='state', y='mean_amount', kind=\"barh\", xlim=[157,161], title='Average Amount($)')"
   ]
  },
  {
   "cell_type": "markdown",
   "metadata": {},
   "source": [
    "### Transaction Volume By Postcode (Top 10)"
   ]
  },
  {
   "cell_type": "code",
   "execution_count": 29,
   "metadata": {},
   "outputs": [
    {
     "data": {
      "text/plain": [
       "<AxesSubplot:ylabel='postcode'>"
      ]
     },
     "execution_count": 29,
     "metadata": {},
     "output_type": "execute_result"
    },
    {
     "data": {
      "image/png": "[encoded data removed]",
      "text/plain": [
       "<Figure size 432x288 with 1 Axes>"
      ]
     },
     "metadata": {
      "needs_background": "light"
     },
     "output_type": "display_data"
    }
   ],
   "source": [
    "transaction_by_postcode = transaction_by_postcode.sort_values(by='order_volume', ascending=False)\n",
    "transaction_by_postcode[:10].plot(x='postcode', y='order_volume', kind=\"barh\")"
   ]
  },
  {
   "cell_type": "markdown",
   "metadata": {},
   "source": [
    "### Transaction Volume By Merchant (Top 10)"
   ]
  },
  {
   "cell_type": "code",
   "execution_count": 30,
   "metadata": {},
   "outputs": [
    {
     "data": {
      "text/plain": [
       "<AxesSubplot:ylabel='merchant_abn'>"
      ]
     },
     "execution_count": 30,
     "metadata": {},
     "output_type": "execute_result"
    },
    {
     "data": {
      "image/png": "[encoded data removed]",
      "text/plain": [
       "<Figure size 432x288 with 1 Axes>"
      ]
     },
     "metadata": {
      "needs_background": "light"
     },
     "output_type": "display_data"
    }
   ],
   "source": [
    "transaction_by_merchant = transaction_by_merchant.sort_values(by='order_volume', ascending=False)\n",
    "transaction_by_merchant[:10].plot(x='merchant_abn', y='order_volume', kind=\"barh\")"
   ]
  },
  {
   "cell_type": "markdown",
   "metadata": {},
   "source": [
    "### Geospatial Visualisation (Need ABS SA2 Data)"
   ]
  },
  {
   "cell_type": "code",
   "execution_count": null,
   "metadata": {},
   "outputs": [],
   "source": []
  }
 ],
 "metadata": {
  "kernelspec": {
   "display_name": "Python 3.9.6 64-bit",
   "language": "python",
   "name": "python3"
  },
  "language_info": {
   "codemirror_mode": {
    "name": "ipython",
    "version": 3
   },
   "file_extension": ".py",
   "mimetype": "text/x-python",
   "name": "python",
   "nbconvert_exporter": "python",
   "pygments_lexer": "ipython3",
   "version": "3.9.6"
  },
  "orig_nbformat": 4,
  "vscode": {
   "interpreter": {
    "hash": "aee8b7b246df8f9039afb4144a1f6fd8d2ca17a180786b69acc140d282b71a49"
   }
  }
 },
 "nbformat": 4,
 "nbformat_minor": 2
}
