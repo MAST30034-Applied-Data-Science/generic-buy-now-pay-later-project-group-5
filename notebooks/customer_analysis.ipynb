{
 "cells": [
  {
   "cell_type": "markdown",
   "metadata": {},
   "source": [
    "# MAST30034 Applied Data Science Project 2"
   ]
  },
  {
   "cell_type": "markdown",
   "metadata": {},
   "source": [
    "## Customer Analysis Notebook"
   ]
  },
  {
   "cell_type": "code",
   "execution_count": 1,
   "metadata": {},
   "outputs": [],
   "source": [
    "from pyspark.sql import SparkSession, functions as F, DataFrame\n",
    "import matplotlib.pyplot as plt\n",
    "from turtle import title"
   ]
  },
  {
   "cell_type": "code",
   "execution_count": 2,
   "metadata": {},
   "outputs": [
    {
     "name": "stdout",
     "output_type": "stream",
     "text": [
      "22/09/11 19:05:26 WARN Utils: Your hostname, Yis-MacBook-Air.local resolves to a loopback address: 127.0.0.1; using 172.16.32.216 instead (on interface en0)\n",
      "22/09/11 19:05:26 WARN Utils: Set SPARK_LOCAL_IP if you need to bind to another address\n"
     ]
    },
    {
     "name": "stderr",
     "output_type": "stream",
     "text": [
      "Setting default log level to \"WARN\".\n",
      "To adjust logging level use sc.setLogLevel(newLevel). For SparkR, use setLogLevel(newLevel).\n"
     ]
    },
    {
     "name": "stdout",
     "output_type": "stream",
     "text": [
      "22/09/11 19:05:27 WARN NativeCodeLoader: Unable to load native-hadoop library for your platform... using builtin-java classes where applicable\n"
     ]
    }
   ],
   "source": [
    "spark = (\n",
    "    SparkSession.builder.appName(\"Customer_Analysis\")\n",
    "    .config(\"spark.sql.repl.eagerEval.enabled\", True) \n",
    "    .config(\"spark.sql.parquet.cacheMetadata\", \"true\")\n",
    "    .config(\"spark.sql.session.timeZone\", \"Etc/UTC\")\n",
    "    .config(\"spark.executor.memory\", \"2g\")\n",
    "    .config(\"spark.driver.memory\", \"4g\")\n",
    "    .getOrCreate()\n",
    ")"
   ]
  },
  {
   "cell_type": "code",
   "execution_count": 3,
   "metadata": {},
   "outputs": [
    {
     "name": "stderr",
     "output_type": "stream",
     "text": [
      "                                                                                \r"
     ]
    }
   ],
   "source": [
    "joined_data = spark.read.parquet('../data/curated/joined_data.parquet')"
   ]
  },
  {
   "cell_type": "code",
   "execution_count": 4,
   "metadata": {},
   "outputs": [],
   "source": [
    "#joined_data.describe()"
   ]
  },
  {
   "cell_type": "markdown",
   "metadata": {},
   "source": [
    "### Aggregate Data"
   ]
  },
  {
   "cell_type": "code",
   "execution_count": 5,
   "metadata": {},
   "outputs": [
    {
     "name": "stderr",
     "output_type": "stream",
     "text": [
      "                                                                                \r"
     ]
    }
   ],
   "source": [
    "# By State\n",
    "transaction_by_state = joined_data \\\n",
    "                    .groupBy(\"state\") \\\n",
    "                    .agg(\n",
    "                        F.mean(\"dollar_value\").alias(\"mean_amount\"),\n",
    "                        F.sum(\"dollar_value\").alias(\"total_amount\"),\n",
    "                        F.count(\"order_id\").alias(\"order_volume\")\n",
    "                    ) \\\n",
    "                    .orderBy(\"state\") \\\n",
    "                    .toPandas()\n",
    "\n",
    "# By Postcode\n",
    "transaction_by_postcode = joined_data \\\n",
    "                    .groupBy(\"postcode\") \\\n",
    "                    .agg(\n",
    "                        F.mean(\"dollar_value\").alias(\"mean_amount\"),\n",
    "                        F.sum(\"dollar_value\").alias(\"total_amount\"),\n",
    "                        F.count(\"order_id\").alias(\"order_volume\")\n",
    "                    ) \\\n",
    "                    .orderBy(\"postcode\") \\\n",
    "                    .toPandas()"
   ]
  },
  {
   "cell_type": "code",
   "execution_count": 6,
   "metadata": {},
   "outputs": [
    {
     "name": "stderr",
     "output_type": "stream",
     "text": [
      "                                                                                \r"
     ]
    }
   ],
   "source": [
    "# By Merchant\n",
    "transaction_by_merchant = joined_data \\\n",
    "                    .groupBy(\"merchant_abn\") \\\n",
    "                    .agg(\n",
    "                        F.mean(\"dollar_value\").alias(\"mean_amount\"),\n",
    "                        F.sum(\"dollar_value\").alias(\"total_amount\"),\n",
    "                        F.count(\"order_id\").alias(\"order_volume\")\n",
    "                    ) \\\n",
    "                    .orderBy(\"merchant_abn\") \\\n",
    "                    .toPandas()"
   ]
  },
  {
   "cell_type": "code",
   "execution_count": 7,
   "metadata": {},
   "outputs": [
    {
     "data": {
      "text/html": [
       "<div>\n",
       "<style scoped>\n",
       "    .dataframe tbody tr th:only-of-type {\n",
       "        vertical-align: middle;\n",
       "    }\n",
       "\n",
       "    .dataframe tbody tr th {\n",
       "        vertical-align: top;\n",
       "    }\n",
       "\n",
       "    .dataframe thead th {\n",
       "        text-align: right;\n",
       "    }\n",
       "</style>\n",
       "<table border=\"1\" class=\"dataframe\">\n",
       "  <thead>\n",
       "    <tr style=\"text-align: right;\">\n",
       "      <th></th>\n",
       "      <th>merchant_abn</th>\n",
       "      <th>mean_amount</th>\n",
       "      <th>total_amount</th>\n",
       "      <th>order_volume</th>\n",
       "    </tr>\n",
       "  </thead>\n",
       "  <tbody>\n",
       "    <tr>\n",
       "      <th>0</th>\n",
       "      <td>10023283211</td>\n",
       "      <td>208.750594</td>\n",
       "      <td>172219.240413</td>\n",
       "      <td>825</td>\n",
       "    </tr>\n",
       "    <tr>\n",
       "      <th>1</th>\n",
       "      <td>10142254217</td>\n",
       "      <td>40.039770</td>\n",
       "      <td>30870.662772</td>\n",
       "      <td>771</td>\n",
       "    </tr>\n",
       "    <tr>\n",
       "      <th>2</th>\n",
       "      <td>10187291046</td>\n",
       "      <td>110.326191</td>\n",
       "      <td>9708.704810</td>\n",
       "      <td>88</td>\n",
       "    </tr>\n",
       "    <tr>\n",
       "      <th>3</th>\n",
       "      <td>10192359162</td>\n",
       "      <td>451.143208</td>\n",
       "      <td>48272.323259</td>\n",
       "      <td>107</td>\n",
       "    </tr>\n",
       "    <tr>\n",
       "      <th>4</th>\n",
       "      <td>10206519221</td>\n",
       "      <td>38.234392</td>\n",
       "      <td>92986.040503</td>\n",
       "      <td>2432</td>\n",
       "    </tr>\n",
       "    <tr>\n",
       "      <th>...</th>\n",
       "      <td>...</td>\n",
       "      <td>...</td>\n",
       "      <td>...</td>\n",
       "      <td>...</td>\n",
       "    </tr>\n",
       "    <tr>\n",
       "      <th>4354</th>\n",
       "      <td>99938978285</td>\n",
       "      <td>30.029723</td>\n",
       "      <td>132971.614185</td>\n",
       "      <td>4428</td>\n",
       "    </tr>\n",
       "    <tr>\n",
       "      <th>4355</th>\n",
       "      <td>99974311662</td>\n",
       "      <td>319.209608</td>\n",
       "      <td>10533.917066</td>\n",
       "      <td>33</td>\n",
       "    </tr>\n",
       "    <tr>\n",
       "      <th>4356</th>\n",
       "      <td>99976658299</td>\n",
       "      <td>150.166184</td>\n",
       "      <td>907904.749365</td>\n",
       "      <td>6046</td>\n",
       "    </tr>\n",
       "    <tr>\n",
       "      <th>4357</th>\n",
       "      <td>99987905597</td>\n",
       "      <td>353.519570</td>\n",
       "      <td>15908.380664</td>\n",
       "      <td>45</td>\n",
       "    </tr>\n",
       "    <tr>\n",
       "      <th>4358</th>\n",
       "      <td>99990536339</td>\n",
       "      <td>1799.601053</td>\n",
       "      <td>17996.010526</td>\n",
       "      <td>10</td>\n",
       "    </tr>\n",
       "  </tbody>\n",
       "</table>\n",
       "<p>4359 rows × 4 columns</p>\n",
       "</div>"
      ],
      "text/plain": [
       "      merchant_abn  mean_amount   total_amount  order_volume\n",
       "0      10023283211   208.750594  172219.240413           825\n",
       "1      10142254217    40.039770   30870.662772           771\n",
       "2      10187291046   110.326191    9708.704810            88\n",
       "3      10192359162   451.143208   48272.323259           107\n",
       "4      10206519221    38.234392   92986.040503          2432\n",
       "...            ...          ...            ...           ...\n",
       "4354   99938978285    30.029723  132971.614185          4428\n",
       "4355   99974311662   319.209608   10533.917066            33\n",
       "4356   99976658299   150.166184  907904.749365          6046\n",
       "4357   99987905597   353.519570   15908.380664            45\n",
       "4358   99990536339  1799.601053   17996.010526            10\n",
       "\n",
       "[4359 rows x 4 columns]"
      ]
     },
     "execution_count": 7,
     "metadata": {},
     "output_type": "execute_result"
    }
   ],
   "source": [
    "transaction_by_merchant"
   ]
  },
  {
   "cell_type": "markdown",
   "metadata": {},
   "source": [
    "### Transaction By State"
   ]
  },
  {
   "cell_type": "code",
   "execution_count": 13,
   "metadata": {},
   "outputs": [
    {
     "data": {
      "text/plain": [
       "<AxesSubplot:title={'center':'Average Amount($)'}, ylabel='state'>"
      ]
     },
     "execution_count": 13,
     "metadata": {},
     "output_type": "execute_result"
    },
    {
     "data": {
      "image/png": "[encoded data removed]",
      "text/plain": [
       "<Figure size 432x288 with 1 Axes>"
      ]
     },
     "metadata": {
      "needs_background": "light"
     },
     "output_type": "display_data"
    },
    {
     "data": {
      "image/png": "[encoded data removed]",
      "text/plain": [
       "<Figure size 432x288 with 1 Axes>"
      ]
     },
     "metadata": {
      "needs_background": "light"
     },
     "output_type": "display_data"
    },
    {
     "data": {
      "image/png": "[encoded data removed]",
      "text/plain": [
       "<Figure size 432x288 with 1 Axes>"
      ]
     },
     "metadata": {
      "needs_background": "light"
     },
     "output_type": "display_data"
    }
   ],
   "source": [
    "transaction_by_state = transaction_by_state.sort_values(by='order_volume')\n",
    "transaction_by_state.plot(x='state', y='order_volume', kind=\"barh\", title='Volume')\n",
    "transaction_by_state = transaction_by_state.sort_values(by='total_amount')\n",
    "transaction_by_state.plot(x='state', y='total_amount', kind=\"barh\", title='Total Amount($)')\n",
    "transaction_by_state = transaction_by_state.sort_values(by='mean_amount')\n",
    "transaction_by_state.plot(x='state', y='mean_amount', kind=\"barh\", xlim=[160,170], title='Average Amount($)')"
   ]
  },
  {
   "cell_type": "markdown",
   "metadata": {},
   "source": [
    "### Transaction Volume By Postcode (Top 10)"
   ]
  },
  {
   "cell_type": "code",
   "execution_count": 9,
   "metadata": {},
   "outputs": [
    {
     "data": {
      "text/plain": [
       "<AxesSubplot:ylabel='postcode'>"
      ]
     },
     "execution_count": 9,
     "metadata": {},
     "output_type": "execute_result"
    },
    {
     "data": {
      "image/png": "[encoded data removed]",
      "text/plain": [
       "<Figure size 432x288 with 1 Axes>"
      ]
     },
     "metadata": {
      "needs_background": "light"
     },
     "output_type": "display_data"
    }
   ],
   "source": [
    "transaction_by_postcode = transaction_by_postcode.sort_values(by='order_volume', ascending=False)\n",
    "transaction_by_postcode[:10].plot(x='postcode', y='order_volume', kind=\"barh\")"
   ]
  },
  {
   "cell_type": "markdown",
   "metadata": {},
   "source": [
    "### Transaction Volume By Merchant (Top 10)"
   ]
  },
  {
   "cell_type": "code",
   "execution_count": 10,
   "metadata": {},
   "outputs": [
    {
     "data": {
      "text/plain": [
       "<AxesSubplot:ylabel='merchant_abn'>"
      ]
     },
     "execution_count": 10,
     "metadata": {},
     "output_type": "execute_result"
    },
    {
     "data": {
      "image/png": "[encoded data removed]",
      "text/plain": [
       "<Figure size 432x288 with 1 Axes>"
      ]
     },
     "metadata": {
      "needs_background": "light"
     },
     "output_type": "display_data"
    }
   ],
   "source": [
    "transaction_by_merchant = transaction_by_merchant.sort_values(by='order_volume', ascending=False)\n",
    "transaction_by_merchant[:10].plot(x='merchant_abn', y='order_volume', kind=\"barh\")"
   ]
  },
  {
   "cell_type": "markdown",
   "metadata": {},
   "source": [
    "### Geospatial Visualisation (Need ABS SA2 Data)"
   ]
  },
  {
   "cell_type": "markdown",
   "metadata": {},
   "source": [
    "### Distribution of dollar value"
   ]
  },
  {
   "cell_type": "code",
   "execution_count": 14,
   "metadata": {},
   "outputs": [
    {
     "ename": "ValueError",
     "evalue": "Cannot convert column into bool: please use '&' for 'and', '|' for 'or', '~' for 'not' when building DataFrame boolean expressions.",
     "output_type": "error",
     "traceback": [
      "\u001b[0;31m---------------------------------------------------------------------------\u001b[0m",
      "\u001b[0;31mValueError\u001b[0m                                Traceback (most recent call last)",
      "\u001b[1;32m/Users/yixiangchee/Downloads/MAST30034/A2/generic-buy-now-pay-later-project-group-5/notebooks/customer_analysis.ipynb Cell 19\u001b[0m in \u001b[0;36m<cell line: 3>\u001b[0;34m()\u001b[0m\n\u001b[1;32m      <a href='vscode-notebook-cell:/Users/yixiangchee/Downloads/MAST30034/A2/generic-buy-now-pay-later-project-group-5/notebooks/customer_analysis.ipynb#X24sZmlsZQ%3D%3D?line=0'>1</a>\u001b[0m \u001b[39mimport\u001b[39;00m \u001b[39mseaborn\u001b[39;00m \u001b[39mas\u001b[39;00m \u001b[39msns\u001b[39;00m\n\u001b[1;32m      <a href='vscode-notebook-cell:/Users/yixiangchee/Downloads/MAST30034/A2/generic-buy-now-pay-later-project-group-5/notebooks/customer_analysis.ipynb#X24sZmlsZQ%3D%3D?line=1'>2</a>\u001b[0m less_than_2000 \u001b[39m=\u001b[39m joined_data[ joined_data[\u001b[39m'\u001b[39m\u001b[39mdollar_value\u001b[39m\u001b[39m'\u001b[39m] \u001b[39m<\u001b[39m \u001b[39m2000\u001b[39m ]\n\u001b[0;32m----> <a href='vscode-notebook-cell:/Users/yixiangchee/Downloads/MAST30034/A2/generic-buy-now-pay-later-project-group-5/notebooks/customer_analysis.ipynb#X24sZmlsZQ%3D%3D?line=2'>3</a>\u001b[0m sns\u001b[39m.\u001b[39;49mdisplot(less_than_2000, x\u001b[39m=\u001b[39;49m\u001b[39m\"\u001b[39;49m\u001b[39mdollar_value\u001b[39;49m\u001b[39m\"\u001b[39;49m, kind\u001b[39m=\u001b[39;49m\u001b[39m\"\u001b[39;49m\u001b[39mkde\u001b[39;49m\u001b[39m\"\u001b[39;49m, cut \u001b[39m=\u001b[39;49m \u001b[39m0\u001b[39;49m)\n",
      "File \u001b[0;32m~/Library/Python/3.8/lib/python/site-packages/seaborn/distributions.py:2194\u001b[0m, in \u001b[0;36mdisplot\u001b[0;34m(data, x, y, hue, row, col, weights, kind, rug, rug_kws, log_scale, legend, palette, hue_order, hue_norm, color, col_wrap, row_order, col_order, height, aspect, facet_kws, **kwargs)\u001b[0m\n\u001b[1;32m   2180\u001b[0m \u001b[39mdef\u001b[39;00m \u001b[39mdisplot\u001b[39m(\n\u001b[1;32m   2181\u001b[0m     data\u001b[39m=\u001b[39m\u001b[39mNone\u001b[39;00m, \u001b[39m*\u001b[39m,\n\u001b[1;32m   2182\u001b[0m     \u001b[39m# Vector variables\u001b[39;00m\n\u001b[0;32m   (...)\u001b[0m\n\u001b[1;32m   2191\u001b[0m     \u001b[39m*\u001b[39m\u001b[39m*\u001b[39mkwargs,\n\u001b[1;32m   2192\u001b[0m ):\n\u001b[0;32m-> 2194\u001b[0m     p \u001b[39m=\u001b[39m _DistributionFacetPlotter(\n\u001b[1;32m   2195\u001b[0m         data\u001b[39m=\u001b[39;49mdata,\n\u001b[1;32m   2196\u001b[0m         variables\u001b[39m=\u001b[39;49m_DistributionFacetPlotter\u001b[39m.\u001b[39;49mget_semantics(\u001b[39mlocals\u001b[39;49m())\n\u001b[1;32m   2197\u001b[0m     )\n\u001b[1;32m   2199\u001b[0m     p\u001b[39m.\u001b[39mmap_hue(palette\u001b[39m=\u001b[39mpalette, order\u001b[39m=\u001b[39mhue_order, norm\u001b[39m=\u001b[39mhue_norm)\n\u001b[1;32m   2201\u001b[0m     _check_argument(\u001b[39m\"\u001b[39m\u001b[39mkind\u001b[39m\u001b[39m\"\u001b[39m, [\u001b[39m\"\u001b[39m\u001b[39mhist\u001b[39m\u001b[39m\"\u001b[39m, \u001b[39m\"\u001b[39m\u001b[39mkde\u001b[39m\u001b[39m\"\u001b[39m, \u001b[39m\"\u001b[39m\u001b[39mecdf\u001b[39m\u001b[39m\"\u001b[39m], kind)\n",
      "File \u001b[0;32m~/Library/Python/3.8/lib/python/site-packages/seaborn/distributions.py:111\u001b[0m, in \u001b[0;36m_DistributionPlotter.__init__\u001b[0;34m(self, data, variables)\u001b[0m\n\u001b[1;32m    105\u001b[0m \u001b[39mdef\u001b[39;00m \u001b[39m__init__\u001b[39m(\n\u001b[1;32m    106\u001b[0m     \u001b[39mself\u001b[39m,\n\u001b[1;32m    107\u001b[0m     data\u001b[39m=\u001b[39m\u001b[39mNone\u001b[39;00m,\n\u001b[1;32m    108\u001b[0m     variables\u001b[39m=\u001b[39m{},\n\u001b[1;32m    109\u001b[0m ):\n\u001b[0;32m--> 111\u001b[0m     \u001b[39msuper\u001b[39;49m()\u001b[39m.\u001b[39;49m\u001b[39m__init__\u001b[39;49m(data\u001b[39m=\u001b[39;49mdata, variables\u001b[39m=\u001b[39;49mvariables)\n",
      "File \u001b[0;32m~/Library/Python/3.8/lib/python/site-packages/seaborn/_core.py:605\u001b[0m, in \u001b[0;36mVectorPlotter.__init__\u001b[0;34m(self, data, variables)\u001b[0m\n\u001b[1;32m    603\u001b[0m \u001b[39mdef\u001b[39;00m \u001b[39m__init__\u001b[39m(\u001b[39mself\u001b[39m, data\u001b[39m=\u001b[39m\u001b[39mNone\u001b[39;00m, variables\u001b[39m=\u001b[39m{}):\n\u001b[0;32m--> 605\u001b[0m     \u001b[39mself\u001b[39;49m\u001b[39m.\u001b[39;49massign_variables(data, variables)\n\u001b[1;32m    607\u001b[0m     \u001b[39mfor\u001b[39;00m var, \u001b[39mcls\u001b[39m \u001b[39min\u001b[39;00m \u001b[39mself\u001b[39m\u001b[39m.\u001b[39m_semantic_mappings\u001b[39m.\u001b[39mitems():\n\u001b[1;32m    608\u001b[0m \n\u001b[1;32m    609\u001b[0m         \u001b[39m# Create the mapping function\u001b[39;00m\n\u001b[1;32m    610\u001b[0m         map_func \u001b[39m=\u001b[39m partial(\u001b[39mcls\u001b[39m\u001b[39m.\u001b[39mmap, plotter\u001b[39m=\u001b[39m\u001b[39mself\u001b[39m)\n",
      "File \u001b[0;32m~/Library/Python/3.8/lib/python/site-packages/seaborn/_core.py:668\u001b[0m, in \u001b[0;36mVectorPlotter.assign_variables\u001b[0;34m(self, data, variables)\u001b[0m\n\u001b[1;32m    666\u001b[0m \u001b[39melse\u001b[39;00m:\n\u001b[1;32m    667\u001b[0m     \u001b[39mself\u001b[39m\u001b[39m.\u001b[39minput_format \u001b[39m=\u001b[39m \u001b[39m\"\u001b[39m\u001b[39mlong\u001b[39m\u001b[39m\"\u001b[39m\n\u001b[0;32m--> 668\u001b[0m     plot_data, variables \u001b[39m=\u001b[39m \u001b[39mself\u001b[39;49m\u001b[39m.\u001b[39;49m_assign_variables_longform(\n\u001b[1;32m    669\u001b[0m         data, \u001b[39m*\u001b[39;49m\u001b[39m*\u001b[39;49mvariables,\n\u001b[1;32m    670\u001b[0m     )\n\u001b[1;32m    672\u001b[0m \u001b[39mself\u001b[39m\u001b[39m.\u001b[39mplot_data \u001b[39m=\u001b[39m plot_data\n\u001b[1;32m    673\u001b[0m \u001b[39mself\u001b[39m\u001b[39m.\u001b[39mvariables \u001b[39m=\u001b[39m variables\n",
      "File \u001b[0;32m~/Library/Python/3.8/lib/python/site-packages/seaborn/_core.py:882\u001b[0m, in \u001b[0;36mVectorPlotter._assign_variables_longform\u001b[0;34m(self, data, **kwargs)\u001b[0m\n\u001b[1;32m    873\u001b[0m \u001b[39mfor\u001b[39;00m key, val \u001b[39min\u001b[39;00m kwargs\u001b[39m.\u001b[39mitems():\n\u001b[1;32m    874\u001b[0m \n\u001b[1;32m    875\u001b[0m     \u001b[39m# First try to treat the argument as a key for the data collection.\u001b[39;00m\n\u001b[0;32m   (...)\u001b[0m\n\u001b[1;32m    878\u001b[0m     \u001b[39m# taking from the main data object. Only allow strings to reference\u001b[39;00m\n\u001b[1;32m    879\u001b[0m     \u001b[39m# fields in the index, because otherwise there is too much ambiguity.\u001b[39;00m\n\u001b[1;32m    880\u001b[0m     \u001b[39mtry\u001b[39;00m:\n\u001b[1;32m    881\u001b[0m         val_as_data_key \u001b[39m=\u001b[39m (\n\u001b[0;32m--> 882\u001b[0m             val \u001b[39min\u001b[39;49;00m data\n\u001b[1;32m    883\u001b[0m             \u001b[39mor\u001b[39;00m (\u001b[39misinstance\u001b[39m(val, (\u001b[39mstr\u001b[39m, \u001b[39mbytes\u001b[39m)) \u001b[39mand\u001b[39;00m val \u001b[39min\u001b[39;00m index)\n\u001b[1;32m    884\u001b[0m         )\n\u001b[1;32m    885\u001b[0m     \u001b[39mexcept\u001b[39;00m (\u001b[39mKeyError\u001b[39;00m, \u001b[39mTypeError\u001b[39;00m):\n\u001b[1;32m    886\u001b[0m         val_as_data_key \u001b[39m=\u001b[39m \u001b[39mFalse\u001b[39;00m\n",
      "File \u001b[0;32m~/Library/Python/3.8/lib/python/site-packages/pyspark/sql/column.py:1044\u001b[0m, in \u001b[0;36mColumn.__nonzero__\u001b[0;34m(self)\u001b[0m\n\u001b[1;32m   1043\u001b[0m \u001b[39mdef\u001b[39;00m \u001b[39m__nonzero__\u001b[39m(\u001b[39mself\u001b[39m) \u001b[39m-\u001b[39m\u001b[39m>\u001b[39m \u001b[39mNone\u001b[39;00m:\n\u001b[0;32m-> 1044\u001b[0m     \u001b[39mraise\u001b[39;00m \u001b[39mValueError\u001b[39;00m(\n\u001b[1;32m   1045\u001b[0m         \u001b[39m\"\u001b[39m\u001b[39mCannot convert column into bool: please use \u001b[39m\u001b[39m'\u001b[39m\u001b[39m&\u001b[39m\u001b[39m'\u001b[39m\u001b[39m for \u001b[39m\u001b[39m'\u001b[39m\u001b[39mand\u001b[39m\u001b[39m'\u001b[39m\u001b[39m, \u001b[39m\u001b[39m'\u001b[39m\u001b[39m|\u001b[39m\u001b[39m'\u001b[39m\u001b[39m for \u001b[39m\u001b[39m'\u001b[39m\u001b[39mor\u001b[39m\u001b[39m'\u001b[39m\u001b[39m, \u001b[39m\u001b[39m\"\u001b[39m\n\u001b[1;32m   1046\u001b[0m         \u001b[39m\"\u001b[39m\u001b[39m'\u001b[39m\u001b[39m~\u001b[39m\u001b[39m'\u001b[39m\u001b[39m for \u001b[39m\u001b[39m'\u001b[39m\u001b[39mnot\u001b[39m\u001b[39m'\u001b[39m\u001b[39m when building DataFrame boolean expressions.\u001b[39m\u001b[39m\"\u001b[39m\n\u001b[1;32m   1047\u001b[0m     )\n",
      "\u001b[0;31mValueError\u001b[0m: Cannot convert column into bool: please use '&' for 'and', '|' for 'or', '~' for 'not' when building DataFrame boolean expressions."
     ]
    }
   ],
   "source": [
    "import seaborn as sns\n",
    "less_than_2000 = joined_data[ joined_data['dollar_value'] < 2000 ]\n",
    "sns.displot(less_than_2000, x=\"dollar_value\", kind=\"kde\", cut = 0)"
   ]
  },
  {
   "cell_type": "markdown",
   "metadata": {},
   "source": [
    "### Time of year\n",
    "(All instances are from 2021)"
   ]
  },
  {
   "cell_type": "code",
   "execution_count": null,
   "metadata": {},
   "outputs": [],
   "source": [
    "import pyspark.sql.functions as F\n",
    "joined_data = spark.read.parquet('../data/curated/joined_data.parquet')\n",
    "joined_data = joined_data.withColumn('date', F.regexp_replace('order_datetime', r'(\\d{4})-', ''))\n",
    "joined_data = joined_data.withColumn('year', F.regexp_replace('order_datetime', r'(-\\d{2}-\\d{2})', ''))\n",
    "\n",
    "joined_data.groupBy(\"date\").sum('dollar_value')\n",
    "\n",
    "date_df = joined_data[['date', 'dollar_value']] \\\n",
    "                .groupby('date') \\\n",
    "                .agg(\n",
    "                    {\n",
    "                        'dollar_value': 'sum', \n",
    "                        'date': 'count'\n",
    "                    }\n",
    "                )\n",
    "date_df = date_df.withColumn('avg_dollar_value', date_df['sum(dollar_value)'] / date_df['count(date)'])\n",
    "date_df.drop('sum(dollar_value)', 'count(date)')\n",
    "date_df = date_df.toPandas()\n",
    "\n",
    "date_df = date_df.sort_values(by = ['date'])\n",
    "x = date_df['date']\n",
    "y = date_df['avg_dollar_value']\n",
    "\n",
    "# plotting\n",
    "import matplotlib.pyplot as plt\n",
    "from matplotlib import pyplot\n",
    "import pandas as pd\n",
    "fig, ax = plt.subplots(figsize=(12,8))\n",
    "time_df = pd.DataFrame({\"date\": x, \"avg_dollar_value\":y})\n",
    "time_df.plot(kind='scatter', x= 'date', y= 'avg_dollar_value', fontsize = 12, ax=ax, legend = False) \n",
    "ax.set_title('Average Dollar Value throughout the year', fontsize = 20)\n",
    "ax.set_xlabel(\"Date\", fontsize = 15)\n",
    "xticks = ax.get_xticks()\n",
    "ax.set_xticks(xticks[::len(xticks) // 10])\n",
    "ax.set_ylabel(\"Average Amount\", fontsize = 15)"
   ]
  },
  {
   "cell_type": "markdown",
   "metadata": {},
   "source": [
    "### Day of the week"
   ]
  },
  {
   "cell_type": "code",
   "execution_count": null,
   "metadata": {},
   "outputs": [],
   "source": [
    "joined_data = pd.read_parquet('../data/curated/joined_data.parquet')\n",
    "joined_data['order_datetime'] = pd.to_datetime(joined_data['order_datetime'])\n",
    "joined_data['day_of_week'] = joined_data['order_datetime'].dt.day_name()\n",
    "\n",
    "date_df = joined_data[['day_of_week', 'dollar_value']] \\\n",
    "                .groupby('day_of_week') \\\n",
    "                .agg(\n",
    "                    {\n",
    "                        'dollar_value': 'sum', \n",
    "                        'day_of_week': 'count'\n",
    "                    }\n",
    "                )\n",
    "\n",
    "date_df['avg_dollar_value'] = date_df['dollar_value']/date_df['day_of_week']\n",
    "date_df = date_df.drop(columns = ['dollar_value', 'day_of_week'])\n",
    "#date_df = date_df.drop('day_of_week_count')\n",
    "#date_df.rename(columns = {'day_of_week':'count'})\n",
    "#date_df['count'] = date_df['day_of_week']\n",
    "#date_df.drop('day_of_week')\n",
    "#date_df\n",
    "date_df = date_df.reset_index()\n",
    "dotw = [ 'Monday', 'Tuesday', 'Wednesday', 'Thursday', 'Friday', 'Saturday', 'Sunday']\n",
    "date_df['Date'] = pd.Categorical(date_df['day_of_week'], categories=dotw, ordered=True)\n",
    "date_df = date_df.sort_values('Date')\n",
    "\n",
    "x = date_df['day_of_week']\n",
    "y = date_df['avg_dollar_value']\n",
    "\n",
    "# plotting\n",
    "import matplotlib.pyplot as plt\n",
    "from matplotlib import pyplot\n",
    "import pandas as pd\n",
    "fig, ax = plt.subplots(figsize=(12,8))\n",
    "time_df = pd.DataFrame({\"day_of_week\": x, \"avg_dollar_value\":y})\n",
    "time_df.plot(kind='bar', x= 'day_of_week', y= 'avg_dollar_value', fontsize = 12, ax=ax, legend = False) \n",
    "ax.set_title('Average Dollar Value throughout the year', fontsize = 20)\n",
    "ax.set_xlabel(\"Date\", fontsize = 15)\n",
    "xticks = ax.get_xticks()\n",
    "ax.set_ylabel(\"Average Amount\", fontsize = 15)"
   ]
  }
 ],
 "metadata": {
  "kernelspec": {
   "display_name": "Python 3.8.2 64-bit",
   "language": "python",
   "name": "python3"
  },
  "language_info": {
   "codemirror_mode": {
    "name": "ipython",
    "version": 3
   },
   "file_extension": ".py",
   "mimetype": "text/x-python",
   "name": "python",
   "nbconvert_exporter": "python",
   "pygments_lexer": "ipython3",
   "version": "3.8.2"
  },
  "orig_nbformat": 4,
  "vscode": {
   "interpreter": {
    "hash": "31f2aee4e71d21fbe5cf8b01ff0e069b9275f58929596ceb00d14d90e3e16cd6"
   }
  }
 },
 "nbformat": 4,
 "nbformat_minor": 2
}
