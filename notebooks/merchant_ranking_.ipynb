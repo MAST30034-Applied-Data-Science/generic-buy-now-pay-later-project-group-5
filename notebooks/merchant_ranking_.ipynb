{
 "cells": [
  {
   "cell_type": "markdown",
   "id": "6a83405c",
   "metadata": {},
   "source": [
    "<h1>Ranking Merchants<h1>"
   ]
  },
  {
   "cell_type": "code",
   "execution_count": null,
   "id": "e6426497",
   "metadata": {},
   "outputs": [],
   "source": [
    "import pandas as pd\n",
    "import seaborn as sns\n",
    "import matplotlib as plt\n",
    "\n",
    "from pyspark.sql import SparkSession, functions as F\n",
    "\n",
    "spark = (\n",
    "    SparkSession.builder.appName(\"Ranking Merchants\")\n",
    "    .config(\"spark.sql.repl.eagerEval.enabled\", True) \n",
    "    .config(\"spark.sql.parquet.cacheMetadata\", \"true\")\n",
    "    .config(\"spark.sql.session.timeZone\", \"Etc/UTC\")\n",
    "    .config(\"spark.executor.memory\", \"2g\")\n",
    "    .config(\"spark.driver.memory\", \"4g\")\n",
    "    .getOrCreate()\n",
    ")"
   ]
  },
  {
   "cell_type": "code",
   "execution_count": null,
   "id": "33a8b2d2",
   "metadata": {},
   "outputs": [],
   "source": [
    "ranking_properties = spark.read.csv('../data/curated/merchant_ranking_properties.csv/', header = True).toPandas().set_index('merchant_abn')"
   ]
  },
  {
   "cell_type": "code",
   "execution_count": null,
   "id": "3c303ad8",
   "metadata": {},
   "outputs": [],
   "source": [
    "ranking_properties"
   ]
  },
  {
   "cell_type": "code",
   "execution_count": null,
   "id": "9af1722b",
   "metadata": {},
   "outputs": [],
   "source": [
    "#sns.heatmap(ranking_properties.corr())\n",
    "\n",
    "#plt.title('Pearson Correlation Metric')\n",
    "#plt.savefig('../plots/weather_correlation.png', bbox_inches='tight')\n",
    "#plt.show()"
   ]
  }
 ],
 "metadata": {
  "kernelspec": {
   "display_name": "Python 3 (ipykernel)",
   "language": "python",
   "name": "python3"
  },
  "language_info": {
   "codemirror_mode": {
    "name": "ipython",
    "version": 3
   },
   "file_extension": ".py",
   "mimetype": "text/x-python",
   "name": "python",
   "nbconvert_exporter": "python",
   "pygments_lexer": "ipython3",
   "version": "3.10.6"
  }
 },
 "nbformat": 4,
 "nbformat_minor": 5
}
