{
 "cells": [
  {
   "cell_type": "code",
   "execution_count": 1,
   "metadata": {},
   "outputs": [
    {
     "name": "stdout",
     "output_type": "stream",
     "text": [
      "22/09/02 10:56:09 WARN Utils: Your hostname, DESKTOP-EMCMOU9 resolves to a loopback address: 127.0.1.1; using 172.26.43.126 instead (on interface eth0)\n",
      "22/09/02 10:56:09 WARN Utils: Set SPARK_LOCAL_IP if you need to bind to another address\n"
     ]
    },
    {
     "name": "stderr",
     "output_type": "stream",
     "text": [
      "Setting default log level to \"WARN\".\n",
      "To adjust logging level use sc.setLogLevel(newLevel). For SparkR, use setLogLevel(newLevel).\n"
     ]
    },
    {
     "name": "stdout",
     "output_type": "stream",
     "text": [
      "22/09/02 10:56:12 WARN NativeCodeLoader: Unable to load native-hadoop library for your platform... using builtin-java classes where applicable\n"
     ]
    }
   ],
   "source": [
    "from functools import reduce \n",
    "from pyspark.sql import DataFrame\n",
    "from pyspark.sql import functions as f\n",
    "from pyspark.sql import SparkSession\n",
    "\n",
    "# Create a spark session (which will run spark jobs)\n",
    "spark = (\n",
    "    SparkSession.builder.appName(\"MAST30034 Project 2 - Preprocessing\")\n",
    "    .config(\"spark.sql.repl.eagerEval.enabled\", True) \n",
    "    .config(\"spark.sql.parquet.cacheMetadata\", \"true\")\n",
    "    .config(\"spark.sql.session.timeZone\", \"Etc/UTC\")\n",
    "    .config(\"spark.executor.memory\", \"2g\")\n",
    "    .config(\"spark.driver.memory\", \"4g\")\n",
    "    .getOrCreate()\n",
    ")"
   ]
  },
  {
   "cell_type": "code",
   "execution_count": 3,
   "metadata": {
    "collapsed": true
   },
   "outputs": [
    {
     "name": "stderr",
     "output_type": "stream",
     "text": [
      "                                                                                \r"
     ]
    },
    {
     "data": {
      "text/html": [
       "<table border='1'>\n",
       "<tr><th>user_id</th><th>merchant_abn</th><th>dollar_value</th><th>order_id</th></tr>\n",
       "<tr><td>1</td><td>28000487688</td><td>133.22689421562643</td><td>0c37b3f7-c7f1-48c...</td></tr>\n",
       "<tr><td>18485</td><td>62191208634</td><td>79.13140006851712</td><td>9e18b913-0465-4fd...</td></tr>\n",
       "<tr><td>1</td><td>83690644458</td><td>30.441348317517228</td><td>40a2ff69-ea34-465...</td></tr>\n",
       "<tr><td>18488</td><td>39649557865</td><td>962.8133405407585</td><td>f4c1a5ae-5b76-40d...</td></tr>\n",
       "<tr><td>2</td><td>80779820715</td><td>48.12397733548124</td><td>cd09bdd6-f56d-489...</td></tr>\n",
       "<tr><td>18489</td><td>43186523025</td><td>98.14878546968934</td><td>9008a98e-1b02-4de...</td></tr>\n",
       "<tr><td>3</td><td>29566626791</td><td>46.33087226118639</td><td>26b7574e-81c2-455...</td></tr>\n",
       "<tr><td>18490</td><td>93558142492</td><td>232.83335268750145</td><td>2bda0665-796f-4f2...</td></tr>\n",
       "<tr><td>3</td><td>32361057556</td><td>87.34942171371054</td><td>633a7656-2fcc-4b8...</td></tr>\n",
       "<tr><td>18491</td><td>64974914166</td><td>130.12601873970038</td><td>4bc15338-83eb-43d...</td></tr>\n",
       "<tr><td>5</td><td>83177825742</td><td>66.66426160206629</td><td>43e3b3fe-791b-47f...</td></tr>\n",
       "<tr><td>18493</td><td>43186523025</td><td>69.75645555605993</td><td>6c494428-b293-459...</td></tr>\n",
       "<tr><td>6</td><td>21772962346</td><td>113.04510652600983</td><td>000ca5ac-3247-4ef...</td></tr>\n",
       "<tr><td>18493</td><td>67979471799</td><td>53.03432496202065</td><td>dd61feff-5aa3-43d...</td></tr>\n",
       "<tr><td>7</td><td>66079287213</td><td>89.93535555889761</td><td>50a5619d-0647-487...</td></tr>\n",
       "<tr><td>18494</td><td>49891706470</td><td>21.995368431723854</td><td>faac27e9-c054-44d...</td></tr>\n",
       "<tr><td>11</td><td>98269572896</td><td>129.46280909485031</td><td>8f5d0cab-8055-435...</td></tr>\n",
       "<tr><td>18495</td><td>66667026714</td><td>48.3228941934147</td><td>ca150cbf-6e34-489...</td></tr>\n",
       "<tr><td>11</td><td>20692490685</td><td>196.93916081228323</td><td>09bc8dd6-419f-4cb...</td></tr>\n",
       "<tr><td>18496</td><td>60956456424</td><td>82.30827454121753</td><td>d9df2270-6fb9-46e...</td></tr>\n",
       "</table>\n",
       "only showing top 20 rows\n"
      ],
      "text/plain": [
       "+-------+------------+------------------+--------------------+\n",
       "|user_id|merchant_abn|      dollar_value|            order_id|\n",
       "+-------+------------+------------------+--------------------+\n",
       "|      1| 28000487688|133.22689421562643|0c37b3f7-c7f1-48c...|\n",
       "|  18485| 62191208634| 79.13140006851712|9e18b913-0465-4fd...|\n",
       "|      1| 83690644458|30.441348317517228|40a2ff69-ea34-465...|\n",
       "|  18488| 39649557865| 962.8133405407585|f4c1a5ae-5b76-40d...|\n",
       "|      2| 80779820715| 48.12397733548124|cd09bdd6-f56d-489...|\n",
       "|  18489| 43186523025| 98.14878546968934|9008a98e-1b02-4de...|\n",
       "|      3| 29566626791| 46.33087226118639|26b7574e-81c2-455...|\n",
       "|  18490| 93558142492|232.83335268750145|2bda0665-796f-4f2...|\n",
       "|      3| 32361057556| 87.34942171371054|633a7656-2fcc-4b8...|\n",
       "|  18491| 64974914166|130.12601873970038|4bc15338-83eb-43d...|\n",
       "|      5| 83177825742| 66.66426160206629|43e3b3fe-791b-47f...|\n",
       "|  18493| 43186523025| 69.75645555605993|6c494428-b293-459...|\n",
       "|      6| 21772962346|113.04510652600983|000ca5ac-3247-4ef...|\n",
       "|  18493| 67979471799| 53.03432496202065|dd61feff-5aa3-43d...|\n",
       "|      7| 66079287213| 89.93535555889761|50a5619d-0647-487...|\n",
       "|  18494| 49891706470|21.995368431723854|faac27e9-c054-44d...|\n",
       "|     11| 98269572896|129.46280909485031|8f5d0cab-8055-435...|\n",
       "|  18495| 66667026714|  48.3228941934147|ca150cbf-6e34-489...|\n",
       "|     11| 20692490685|196.93916081228323|09bc8dd6-419f-4cb...|\n",
       "|  18496| 60956456424| 82.30827454121753|d9df2270-6fb9-46e...|\n",
       "+-------+------------+------------------+--------------------+\n",
       "only showing top 20 rows"
      ]
     },
     "execution_count": 3,
     "metadata": {},
     "output_type": "execute_result"
    }
   ],
   "source": [
    "# Transaction data\n",
    "spark.read.parquet('data/tables/transactions_20210228_20210827_snapshot/order_datetime=2021-02-28')"
   ]
  },
  {
   "cell_type": "code",
   "execution_count": null,
   "metadata": {},
   "outputs": [
    {
     "data": {
      "text/html": [
       "<table border='1'>\n",
       "<tr><th>name</th><th>tags</th><th>merchant_abn</th></tr>\n",
       "<tr><td>Felis Limited</td><td>((furniture, home...</td><td>10023283211</td></tr>\n",
       "<tr><td>Arcu Ac Orci Corp...</td><td>([cable, satellit...</td><td>10142254217</td></tr>\n",
       "<tr><td>Nunc Sed Company</td><td>([jewelry, watch,...</td><td>10165489824</td></tr>\n",
       "<tr><td>Ultricies Digniss...</td><td>([wAtch, clock, a...</td><td>10187291046</td></tr>\n",
       "<tr><td>Enim Condimentum PC</td><td>([music shops - m...</td><td>10192359162</td></tr>\n",
       "<tr><td>Fusce Company</td><td>[(gift, card, nov...</td><td>10206519221</td></tr>\n",
       "<tr><td>Aliquam Enim Inco...</td><td>[(computers, comP...</td><td>10255988167</td></tr>\n",
       "<tr><td>Ipsum Primis Ltd</td><td>[[watch, clock, a...</td><td>10264435225</td></tr>\n",
       "<tr><td>Pede Ultrices Ind...</td><td>([computer progra...</td><td>10279061213</td></tr>\n",
       "<tr><td>Nunc Inc.</td><td>[(furniture, home...</td><td>10323485998</td></tr>\n",
       "<tr><td>Facilisis Facilis...</td><td>([computers, comp...</td><td>10342410215</td></tr>\n",
       "<tr><td>Odio Institute</td><td>((equipment, tool...</td><td>10346855916</td></tr>\n",
       "<tr><td>Rutrum Justo Ltd</td><td>([music shops - m...</td><td>10364012396</td></tr>\n",
       "<tr><td>Tellus Foundation</td><td>[[artist supply a...</td><td>10385011947</td></tr>\n",
       "<tr><td>Sed Et Company</td><td>([florists suppli...</td><td>10385163239</td></tr>\n",
       "<tr><td>Id Ltd</td><td>([computers, comp...</td><td>10385250025</td></tr>\n",
       "<tr><td>Consequat Foundation</td><td>[[antique shops -...</td><td>10404542215</td></tr>\n",
       "<tr><td>Sit Amet Nulla Corp.</td><td>[[motor vehicle s...</td><td>10430380319</td></tr>\n",
       "<tr><td>Massa Vestibulum ...</td><td>[(moTor vehicle s...</td><td>10441711491</td></tr>\n",
       "<tr><td>Ut Consulting</td><td>([gift, card, nov...</td><td>10462560289</td></tr>\n",
       "</table>\n",
       "only showing top 20 rows\n"
      ],
      "text/plain": [
       "+--------------------+--------------------+------------+\n",
       "|                name|                tags|merchant_abn|\n",
       "+--------------------+--------------------+------------+\n",
       "|       Felis Limited|((furniture, home...| 10023283211|\n",
       "|Arcu Ac Orci Corp...|([cable, satellit...| 10142254217|\n",
       "|    Nunc Sed Company|([jewelry, watch,...| 10165489824|\n",
       "|Ultricies Digniss...|([wAtch, clock, a...| 10187291046|\n",
       "| Enim Condimentum PC|([music shops - m...| 10192359162|\n",
       "|       Fusce Company|[(gift, card, nov...| 10206519221|\n",
       "|Aliquam Enim Inco...|[(computers, comP...| 10255988167|\n",
       "|    Ipsum Primis Ltd|[[watch, clock, a...| 10264435225|\n",
       "|Pede Ultrices Ind...|([computer progra...| 10279061213|\n",
       "|           Nunc Inc.|[(furniture, home...| 10323485998|\n",
       "|Facilisis Facilis...|([computers, comp...| 10342410215|\n",
       "|      Odio Institute|((equipment, tool...| 10346855916|\n",
       "|    Rutrum Justo Ltd|([music shops - m...| 10364012396|\n",
       "|   Tellus Foundation|[[artist supply a...| 10385011947|\n",
       "|      Sed Et Company|([florists suppli...| 10385163239|\n",
       "|              Id Ltd|([computers, comp...| 10385250025|\n",
       "|Consequat Foundation|[[antique shops -...| 10404542215|\n",
       "|Sit Amet Nulla Corp.|[[motor vehicle s...| 10430380319|\n",
       "|Massa Vestibulum ...|[(moTor vehicle s...| 10441711491|\n",
       "|       Ut Consulting|([gift, card, nov...| 10462560289|\n",
       "+--------------------+--------------------+------------+\n",
       "only showing top 20 rows"
      ]
     },
     "execution_count": 4,
     "metadata": {},
     "output_type": "execute_result"
    }
   ],
   "source": [
    "# Merchant data\n",
    "tbl_merchant = spark.read.parquet('data/tables/tbl_merchants.parquet')"
   ]
  },
  {
   "cell_type": "markdown",
   "metadata": {},
   "source": [
    "Clean `tags` column from merchant data."
   ]
  },
  {
   "cell_type": "code",
   "execution_count": null,
   "metadata": {},
   "outputs": [],
   "source": [
    "# Convert tags to lowercase, remove unwanted characters, and split text into array\n",
    "tbl_merchants = tbl_merchants.withColumn('tags', f.lower(f.col('tags')))\n",
    "tbl_merchants = tbl_merchants.withColumn('tags', f.regexp_replace('tags', r'[\\(\\)\\[\\]]', ''))\n",
    "tbl_merchants = tbl_merchants.withColumn('tags', f.split(f.col('tags'), ','))\n",
    "\n",
    "tbl_merchants.limit(10)"
   ]
  },
  {
   "cell_type": "code",
   "execution_count": null,
   "metadata": {},
   "outputs": [
    {
     "data": {
      "text/html": [
       "<div>\n",
       "<style scoped>\n",
       "    .dataframe tbody tr th:only-of-type {\n",
       "        vertical-align: middle;\n",
       "    }\n",
       "\n",
       "    .dataframe tbody tr th {\n",
       "        vertical-align: top;\n",
       "    }\n",
       "\n",
       "    .dataframe thead th {\n",
       "        text-align: right;\n",
       "    }\n",
       "</style>\n",
       "<table border=\"1\" class=\"dataframe\">\n",
       "  <thead>\n",
       "    <tr style=\"text-align: right;\">\n",
       "      <th></th>\n",
       "      <th>name</th>\n",
       "      <th>address</th>\n",
       "      <th>state</th>\n",
       "      <th>postcode</th>\n",
       "      <th>gender</th>\n",
       "      <th>consumer_id</th>\n",
       "    </tr>\n",
       "  </thead>\n",
       "  <tbody>\n",
       "    <tr>\n",
       "      <th>0</th>\n",
       "      <td>Yolanda Williams</td>\n",
       "      <td>413 Haney Gardens Apt. 742</td>\n",
       "      <td>WA</td>\n",
       "      <td>6935</td>\n",
       "      <td>Female</td>\n",
       "      <td>1195503</td>\n",
       "    </tr>\n",
       "    <tr>\n",
       "      <th>1</th>\n",
       "      <td>Mary Smith</td>\n",
       "      <td>3764 Amber Oval</td>\n",
       "      <td>NSW</td>\n",
       "      <td>2782</td>\n",
       "      <td>Female</td>\n",
       "      <td>179208</td>\n",
       "    </tr>\n",
       "    <tr>\n",
       "      <th>2</th>\n",
       "      <td>Jill Jones MD</td>\n",
       "      <td>40693 Henry Greens</td>\n",
       "      <td>NT</td>\n",
       "      <td>862</td>\n",
       "      <td>Female</td>\n",
       "      <td>1194530</td>\n",
       "    </tr>\n",
       "    <tr>\n",
       "      <th>3</th>\n",
       "      <td>Lindsay Jimenez</td>\n",
       "      <td>00653 Davenport Crossroad</td>\n",
       "      <td>NSW</td>\n",
       "      <td>2780</td>\n",
       "      <td>Female</td>\n",
       "      <td>154128</td>\n",
       "    </tr>\n",
       "    <tr>\n",
       "      <th>4</th>\n",
       "      <td>Rebecca Blanchard</td>\n",
       "      <td>9271 Michael Manors Suite 651</td>\n",
       "      <td>WA</td>\n",
       "      <td>6355</td>\n",
       "      <td>Female</td>\n",
       "      <td>712975</td>\n",
       "    </tr>\n",
       "    <tr>\n",
       "      <th>...</th>\n",
       "      <td>...</td>\n",
       "      <td>...</td>\n",
       "      <td>...</td>\n",
       "      <td>...</td>\n",
       "      <td>...</td>\n",
       "      <td>...</td>\n",
       "    </tr>\n",
       "    <tr>\n",
       "      <th>499994</th>\n",
       "      <td>Jessica Avila</td>\n",
       "      <td>508 Miranda Overpass Apt. 218</td>\n",
       "      <td>QLD</td>\n",
       "      <td>4400</td>\n",
       "      <td>Female</td>\n",
       "      <td>1385608</td>\n",
       "    </tr>\n",
       "    <tr>\n",
       "      <th>499995</th>\n",
       "      <td>Steven Thornton</td>\n",
       "      <td>7913 Schwartz Mission Suite 483</td>\n",
       "      <td>VIC</td>\n",
       "      <td>3097</td>\n",
       "      <td>Undisclosed</td>\n",
       "      <td>1466964</td>\n",
       "    </tr>\n",
       "    <tr>\n",
       "      <th>499996</th>\n",
       "      <td>Christy Smith</td>\n",
       "      <td>5681 Zachary Mountain Apt. 060</td>\n",
       "      <td>NSW</td>\n",
       "      <td>2756</td>\n",
       "      <td>Undisclosed</td>\n",
       "      <td>1253484</td>\n",
       "    </tr>\n",
       "    <tr>\n",
       "      <th>499997</th>\n",
       "      <td>Donna Sutton</td>\n",
       "      <td>54140 Jacob Point</td>\n",
       "      <td>VIC</td>\n",
       "      <td>3989</td>\n",
       "      <td>Female</td>\n",
       "      <td>175005</td>\n",
       "    </tr>\n",
       "    <tr>\n",
       "      <th>499998</th>\n",
       "      <td>Hannah Wilkins</td>\n",
       "      <td>61055 Long Valley</td>\n",
       "      <td>NSW</td>\n",
       "      <td>1755</td>\n",
       "      <td>Female</td>\n",
       "      <td>746835</td>\n",
       "    </tr>\n",
       "  </tbody>\n",
       "</table>\n",
       "<p>499999 rows × 6 columns</p>\n",
       "</div>"
      ],
      "text/plain": [
       "                     name                          address state  postcode  \\\n",
       "0        Yolanda Williams       413 Haney Gardens Apt. 742    WA      6935   \n",
       "1              Mary Smith                  3764 Amber Oval   NSW      2782   \n",
       "2           Jill Jones MD               40693 Henry Greens    NT       862   \n",
       "3         Lindsay Jimenez        00653 Davenport Crossroad   NSW      2780   \n",
       "4       Rebecca Blanchard    9271 Michael Manors Suite 651    WA      6355   \n",
       "...                   ...                              ...   ...       ...   \n",
       "499994      Jessica Avila    508 Miranda Overpass Apt. 218   QLD      4400   \n",
       "499995    Steven Thornton  7913 Schwartz Mission Suite 483   VIC      3097   \n",
       "499996      Christy Smith   5681 Zachary Mountain Apt. 060   NSW      2756   \n",
       "499997       Donna Sutton                54140 Jacob Point   VIC      3989   \n",
       "499998     Hannah Wilkins                61055 Long Valley   NSW      1755   \n",
       "\n",
       "             gender  consumer_id  \n",
       "0            Female      1195503  \n",
       "1            Female       179208  \n",
       "2            Female      1194530  \n",
       "3            Female       154128  \n",
       "4            Female       712975  \n",
       "...             ...          ...  \n",
       "499994       Female      1385608  \n",
       "499995  Undisclosed      1466964  \n",
       "499996  Undisclosed      1253484  \n",
       "499997       Female       175005  \n",
       "499998       Female       746835  \n",
       "\n",
       "[499999 rows x 6 columns]"
      ]
     },
     "execution_count": 6,
     "metadata": {},
     "output_type": "execute_result"
    }
   ],
   "source": [
    "# Consumer data\n",
    "import pandas as pd\n",
    "pd.read_csv(\"data/tables/tbl_consumer.csv\", '|')"
   ]
  },
  {
   "cell_type": "code",
   "execution_count": 3,
   "metadata": {
    "collapsed": true
   },
   "outputs": [
    {
     "name": "stderr",
     "output_type": "stream",
     "text": [
      "                                                                                \r"
     ]
    },
    {
     "data": {
      "text/html": [
       "<table border='1'>\n",
       "<tr><th>user_id</th><th>consumer_id</th></tr>\n",
       "<tr><td>1</td><td>1195503</td></tr>\n",
       "<tr><td>2</td><td>179208</td></tr>\n",
       "<tr><td>3</td><td>1194530</td></tr>\n",
       "<tr><td>4</td><td>154128</td></tr>\n",
       "<tr><td>5</td><td>712975</td></tr>\n",
       "<tr><td>6</td><td>407340</td></tr>\n",
       "<tr><td>7</td><td>511685</td></tr>\n",
       "<tr><td>8</td><td>448088</td></tr>\n",
       "<tr><td>9</td><td>650435</td></tr>\n",
       "<tr><td>10</td><td>1058499</td></tr>\n",
       "<tr><td>11</td><td>428325</td></tr>\n",
       "<tr><td>12</td><td>1494640</td></tr>\n",
       "<tr><td>13</td><td>1146717</td></tr>\n",
       "<tr><td>14</td><td>1343547</td></tr>\n",
       "<tr><td>15</td><td>1463076</td></tr>\n",
       "<tr><td>16</td><td>1356405</td></tr>\n",
       "<tr><td>17</td><td>1331093</td></tr>\n",
       "<tr><td>18</td><td>80965</td></tr>\n",
       "<tr><td>19</td><td>1226530</td></tr>\n",
       "<tr><td>20</td><td>1390367</td></tr>\n",
       "</table>\n",
       "only showing top 20 rows\n"
      ],
      "text/plain": [
       "+-------+-----------+\n",
       "|user_id|consumer_id|\n",
       "+-------+-----------+\n",
       "|      1|    1195503|\n",
       "|      2|     179208|\n",
       "|      3|    1194530|\n",
       "|      4|     154128|\n",
       "|      5|     712975|\n",
       "|      6|     407340|\n",
       "|      7|     511685|\n",
       "|      8|     448088|\n",
       "|      9|     650435|\n",
       "|     10|    1058499|\n",
       "|     11|     428325|\n",
       "|     12|    1494640|\n",
       "|     13|    1146717|\n",
       "|     14|    1343547|\n",
       "|     15|    1463076|\n",
       "|     16|    1356405|\n",
       "|     17|    1331093|\n",
       "|     18|      80965|\n",
       "|     19|    1226530|\n",
       "|     20|    1390367|\n",
       "+-------+-----------+\n",
       "only showing top 20 rows"
      ]
     },
     "execution_count": 3,
     "metadata": {},
     "output_type": "execute_result"
    }
   ],
   "source": [
    "# Consumer mapping table\n",
    "spark.read.parquet('data/tables/consumer_user_details.parquet')"
   ]
  }
 ],
 "metadata": {
  "interpreter": {
   "hash": "863906e9a4165d4738736793daf13ef61aad6cfe5622e28d202ed76ed0afc263"
  },
  "kernelspec": {
   "display_name": "Python 3 (ipykernel)",
   "language": "python",
   "name": "python3"
  },
  "language_info": {
   "codemirror_mode": {
    "name": "ipython",
    "version": 3
   },
   "file_extension": ".py",
   "mimetype": "text/x-python",
   "name": "python",
   "nbconvert_exporter": "python",
   "pygments_lexer": "ipython3",
   "version": "3.8.10"
  }
 },
 "nbformat": 4,
 "nbformat_minor": 2
}
